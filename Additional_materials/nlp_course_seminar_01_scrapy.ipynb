{
  "nbformat": 4,
  "nbformat_minor": 0,
  "metadata": {
    "colab": {
      "provenance": []
    },
    "kernelspec": {
      "name": "python3",
      "display_name": "Python 3"
    },
    "language_info": {
      "name": "python"
    }
  },
  "cells": [
    {
      "cell_type": "code",
      "source": [
        "!pip install scrapy crochet"
      ],
      "metadata": {
        "colab": {
          "base_uri": "https://localhost:8080/",
          "height": 0
        },
        "id": "L8d0nQrYTNTF",
        "outputId": "af6ebeef-d820-4e0c-8941-6dd9e78bc0c2"
      },
      "execution_count": 1,
      "outputs": [
        {
          "output_type": "stream",
          "name": "stdout",
          "text": [
            "Looking in indexes: https://pypi.org/simple, https://us-python.pkg.dev/colab-wheels/public/simple/\n",
            "Requirement already satisfied: scrapy in /usr/local/lib/python3.8/dist-packages (2.8.0)\n",
            "Requirement already satisfied: crochet in /usr/local/lib/python3.8/dist-packages (2.0.0)\n",
            "Requirement already satisfied: itemloaders>=1.0.1 in /usr/local/lib/python3.8/dist-packages (from scrapy) (1.0.6)\n",
            "Requirement already satisfied: zope.interface>=5.1.0 in /usr/local/lib/python3.8/dist-packages (from scrapy) (5.5.2)\n",
            "Requirement already satisfied: PyDispatcher>=2.0.5 in /usr/local/lib/python3.8/dist-packages (from scrapy) (2.0.7)\n",
            "Requirement already satisfied: Twisted>=18.9.0 in /usr/local/lib/python3.8/dist-packages (from scrapy) (22.10.0)\n",
            "Requirement already satisfied: service-identity>=18.1.0 in /usr/local/lib/python3.8/dist-packages (from scrapy) (21.1.0)\n",
            "Requirement already satisfied: cryptography>=3.4.6 in /usr/local/lib/python3.8/dist-packages (from scrapy) (39.0.1)\n",
            "Requirement already satisfied: w3lib>=1.17.0 in /usr/local/lib/python3.8/dist-packages (from scrapy) (2.1.1)\n",
            "Requirement already satisfied: lxml>=4.3.0 in /usr/local/lib/python3.8/dist-packages (from scrapy) (4.9.2)\n",
            "Requirement already satisfied: pyOpenSSL>=21.0.0 in /usr/local/lib/python3.8/dist-packages (from scrapy) (23.0.0)\n",
            "Requirement already satisfied: tldextract in /usr/local/lib/python3.8/dist-packages (from scrapy) (3.4.0)\n",
            "Requirement already satisfied: queuelib>=1.4.2 in /usr/local/lib/python3.8/dist-packages (from scrapy) (1.6.2)\n",
            "Requirement already satisfied: packaging in /usr/local/lib/python3.8/dist-packages (from scrapy) (23.0)\n",
            "Requirement already satisfied: cssselect>=0.9.1 in /usr/local/lib/python3.8/dist-packages (from scrapy) (1.2.0)\n",
            "Requirement already satisfied: protego>=0.1.15 in /usr/local/lib/python3.8/dist-packages (from scrapy) (0.2.1)\n",
            "Requirement already satisfied: itemadapter>=0.1.0 in /usr/local/lib/python3.8/dist-packages (from scrapy) (0.7.0)\n",
            "Requirement already satisfied: setuptools in /usr/local/lib/python3.8/dist-packages (from scrapy) (57.4.0)\n",
            "Requirement already satisfied: parsel>=1.5.0 in /usr/local/lib/python3.8/dist-packages (from scrapy) (1.7.0)\n",
            "Requirement already satisfied: wrapt in /usr/local/lib/python3.8/dist-packages (from crochet) (1.14.1)\n",
            "Requirement already satisfied: cffi>=1.12 in /usr/local/lib/python3.8/dist-packages (from cryptography>=3.4.6->scrapy) (1.15.1)\n",
            "Requirement already satisfied: jmespath>=0.9.5 in /usr/local/lib/python3.8/dist-packages (from itemloaders>=1.0.1->scrapy) (1.0.1)\n",
            "Requirement already satisfied: six in /usr/local/lib/python3.8/dist-packages (from protego>=0.1.15->scrapy) (1.15.0)\n",
            "Requirement already satisfied: attrs>=19.1.0 in /usr/local/lib/python3.8/dist-packages (from service-identity>=18.1.0->scrapy) (22.2.0)\n",
            "Requirement already satisfied: pyasn1 in /usr/local/lib/python3.8/dist-packages (from service-identity>=18.1.0->scrapy) (0.4.8)\n",
            "Requirement already satisfied: pyasn1-modules in /usr/local/lib/python3.8/dist-packages (from service-identity>=18.1.0->scrapy) (0.2.8)\n",
            "Requirement already satisfied: typing-extensions>=3.6.5 in /usr/local/lib/python3.8/dist-packages (from Twisted>=18.9.0->scrapy) (4.5.0)\n",
            "Requirement already satisfied: constantly>=15.1 in /usr/local/lib/python3.8/dist-packages (from Twisted>=18.9.0->scrapy) (15.1.0)\n",
            "Requirement already satisfied: hyperlink>=17.1.1 in /usr/local/lib/python3.8/dist-packages (from Twisted>=18.9.0->scrapy) (21.0.0)\n",
            "Requirement already satisfied: Automat>=0.8.0 in /usr/local/lib/python3.8/dist-packages (from Twisted>=18.9.0->scrapy) (22.10.0)\n",
            "Requirement already satisfied: incremental>=21.3.0 in /usr/local/lib/python3.8/dist-packages (from Twisted>=18.9.0->scrapy) (22.10.0)\n",
            "Requirement already satisfied: requests-file>=1.4 in /usr/local/lib/python3.8/dist-packages (from tldextract->scrapy) (1.5.1)\n",
            "Requirement already satisfied: idna in /usr/local/lib/python3.8/dist-packages (from tldextract->scrapy) (2.10)\n",
            "Requirement already satisfied: requests>=2.1.0 in /usr/local/lib/python3.8/dist-packages (from tldextract->scrapy) (2.25.1)\n",
            "Requirement already satisfied: filelock>=3.0.8 in /usr/local/lib/python3.8/dist-packages (from tldextract->scrapy) (3.9.0)\n",
            "Requirement already satisfied: pycparser in /usr/local/lib/python3.8/dist-packages (from cffi>=1.12->cryptography>=3.4.6->scrapy) (2.21)\n",
            "Requirement already satisfied: certifi>=2017.4.17 in /usr/local/lib/python3.8/dist-packages (from requests>=2.1.0->tldextract->scrapy) (2022.12.7)\n",
            "Requirement already satisfied: urllib3<1.27,>=1.21.1 in /usr/local/lib/python3.8/dist-packages (from requests>=2.1.0->tldextract->scrapy) (1.24.3)\n",
            "Requirement already satisfied: chardet<5,>=3.0.2 in /usr/local/lib/python3.8/dist-packages (from requests>=2.1.0->tldextract->scrapy) (4.0.0)\n"
          ]
        }
      ]
    },
    {
      "cell_type": "code",
      "execution_count": 2,
      "metadata": {
        "id": "A6ZAlQJ2Rm9q"
      },
      "outputs": [],
      "source": [
        "import scrapy\n",
        "from scrapy.loader import ItemLoader\n",
        "from scrapy.crawler import CrawlerRunner\n",
        "from dateutil.parser import parse\n",
        "\n",
        "from datetime import datetime\n",
        "\n",
        "import pandas as pd"
      ]
    },
    {
      "cell_type": "markdown",
      "source": [
        "[Scrapy](https://docs.scrapy.org/en/latest/) - фреймворк для парсинга сайтов. \n",
        "\n",
        "Более мощный и функциональный инструмент, чем связка requests + bs4"
      ],
      "metadata": {
        "id": "rmNOuHEWSnDN"
      }
    },
    {
      "cell_type": "markdown",
      "source": [
        "### Попробуем в этот раз спарсить vc.ru"
      ],
      "metadata": {
        "id": "mOhx6OvJTSRV"
      }
    },
    {
      "cell_type": "markdown",
      "source": [
        "Дл начала познакомимся с понятием sitemap. \n",
        "\n",
        "Sitemap - это XML-файл с информацией для поисковых систем (таких как Google, Яндекс, Bing, Поиск@Mail.Ru) о страницах веб-сайта, которые подлежат индексации. \n",
        "\n",
        "У vc.ru sitemap можно найти по ссылке https://vc.ru/sitemap.xml \n",
        "\n",
        "![image.png](data:image/png;base64,iVBORw0KGgoAAAANSUhEUgAAAm8AAAFICAYAAAAGdxmbAAAAAXNSR0IArs4c6QAAAARnQU1BAACxjwv8YQUAAAAJcEhZcwAADsMAAA7DAcdvqGQAAHu9SURBVHhe7b1/bBVXmuf95f0nI+2McDfpwWbCMFcOqx1aRsLTKLFHjTKWaARkYLBFJ7G1LTLZNVEyO7OKGGV5IZDQ5nVaQbzJvJukzSppul/5kg6xGejQFiCRrHv7mlemLwre8UhL0B0Ggs0EhNHOSPNfvec5darqVN2qunUNhnvN9yMVuOrcOnXOqV/fep5zzrPAUYAQQgghhNQF/4f5nxBCCCGE1AEUb4QQQgghdQTFGyGEEEJIHUHxRgghhBBSR1C8EUIIIYTUERRvhBBCCCF1BMUbIYQQQkgdQfFGCCGEEFJHULwRQgghhNQRFG+EEEIIIXUExRshhBBCSB1Rg+JtGmf+/A386M9/iRtmS+1y92W9MfQOfnTgglmrMYr7ceh7C9zl/xkzG+cW3R6LfoaLXttabfObt4/gP/5tjV4VxTP4ve0F/JNZDTFVwH/8vTP4jVmtSXQZa7h964B7c33+Hf7m947h2JRZrTXSrvM46vG6ui/36wV8tOgN/HhoGjj/M/XMewdnrpskQjJQX5Y3ucjrQtTNE1p3ofe0g86XOs2GuWfxsm+Yv1wW5prMX5X5p789ht97++/MWoRqXzpV8pvRm3h1ezt+16zb/NP/p67Yd1fij8x6fXEDx7Yfwd8UzSpJ4O/w67cexYt/ttisz0/SrvNqSb1fHyDl96sI6iP4PbNkvxfC+4UFbBMWbTZ/ar6BxUvMn4RkILN4+/TTT/HOO+/ELpKWRPWWpUas/XAvXv1wA2r/MVhPZa0jNj+q2rMRi1eY9VpHfan/WL24/7jVrIf4O3z0MrDhiRq/Qpra8d++eg7/bZ6Lj7nin/72f+FHf72kTgV6RlKv8wTq7rqK3q/y8XIR+MVz+ErV46uvVgJ/msUy6u438W6H2a8DG0bOlgm/hmWNwJJHsdCse1w8YKxyhCSwwFGYv1P5+uuvkc/nzVqY7u5ufOtb3zJrAXIBjkyuxraQuBF32ACKx80qclh/6wdQt4RrWVtX0luxcxNe3bHK/VubmE/gilnzsX4jIvFw74z+285TyjCZW42Z3nHcUb9fjxMY6QeWndqLZ78T3Q9YeGg7XuxSN5Q+5gRWnAJG4sqUWNbIMWXD5nAbRI+ZpR7udqB14q+wVr7Qrv8SP24ZR4OpRyLi+vwvu7HkTQdP64fuGD79Xjv+90tTeK7tLI78X8DvP96Dv/tFJ779Zhf+8b/04H//4SA63+nGozoD4ObfdmH46g70/qc2s8XddgZd+J33euBa+/uw5vQu/Dv9t8Ic1+N35Hh/Ju06e8Qt9eM/WIaWl6/gR7Lh6WW4MNCO3xU3x3eu4Jf6VwEb1IPzv/3ZTfX1e9H9vc1fr8RX//nb+ut/F/6terBexF/ob5Dfwn89vwVbLIOf/GaVeqBHt3u4eaiXVNwLSix+o0v0sWLXNfKgLwBdv42/mExIe2kxfvkesF/qa1IEaZNfr3kOf1nphSrH/dObZsVrG7e8ksemt/SfeFW9pLy83Hr/q7viE24fe9/Q+XhdHeMPr+Av3lK//4Uq+5+q8+Ola4uEfU4exYmv1rrCx+z74vob2GSObZc1rR6pRK6RsjzVOTmBizHtIO1/1lwbHlZ5NeYcvR65PlLLGsk31Db/C0vfVdfCy+6+4f3Cbeen3U2bK0LnMeYeEGKv81lcV9Fz4ZG0b7htrqu2+WfVNv+q8hQhJXXy6nIX15WHuRZC9+vAvzHHN+uqvrH7hnDL+sdWG6c+J8ow78kV4XcLIT4i3rLy3//7f3fefvvt0CLbyplyTj//uvPmW0WzbjH+0/jtFtOfvJ287/MnnWmz6hPN01r/4i1Vjm/+1Pniq5PO+9983Xn/kym9Tf4vp+gckd/6f6t9/ePJ+tvO6a/0ik9cWd1jer912+LIuE5yf2/VIbR/Sj2EYN9wnhX5TZ8zsLbP+Xv159//DZz8MVP36UEnv9Zdl+36N3qb+1uPr491OgN/UzBrLnqb2vcXv3HXQ/mq8v2Pv+x0/kfZiVJInaRdQ0t5u8Zx/v/OO0uWDDvD12Vt2hnuzTvvmOMLN44NO0v+7/9p1iL85rSzpPfXzg2z6qH3WRLkE5eH+xvvuFH+p/POktPOebMWRsoY2e/6r53/YMoh9XGPa/JIS7OOI+X5D8ekcWPyjyXL78rb0yVpu10OF39d6qHaVP52z5mpW0I7hfIx+/rnILRf1vpG0HnY+0lbWnWSayO6bp2H4HqQ/WKOL78vu+7Syuq2afy16pbNv1ZT62+tm3abdZvH3BthgusvIMv5cOuadP3EtUHideW1jdpH76vPRcI5UZTV0ewbrFeuj11G/bdqp/PWtmSi9Q7KXg36XRL3ziMPPVX1eXviiSfwyCOPmDXov2VbCLEILRrA5Y3b478YxETcf8J0Sr83XPy8BOg833AXsYhNTqlvW5eFh77nWvaQQ7u2qlnozqJmP23du40bfsfRBrT2eRazVVixcwa3MnYqXXjoGddCZtx/M1fEBD6NiydnsOyleDdrpXos7vorrF8xjsOmfVMtbjatu9D5UhGj31uAURQiFrA+rDLrv/PSC4HlLAt/WjDWPPWNu7QT//uqsUSqOi96fBh/9+8X4MjfRkz/3/kBXr21N7IYa2IGNrzbbiwCi/H7fwhM/KPdj2SW/PVK3yrwu08sxoa/vxPqG/e7f7YFX32VZHVLcZcVL+IvVDn/2N6vaSFaPv0XXFVn9R//4FFg9O+AqTuYePrfYGlaGh7F0qf/Gf84BZX+22j5h8uqjDdx9dPfxu/HlCuMtNW/4i++cy87jt/Ar0f+Fb98+azfp0esdL/8B88KE/T/2lDW30+sTkFfoPB+wqM44Vk+mpqxwdR71vWY+hf88q//rXX+vo0//uvItfP0MjzrWYZa1+Irz9JSxr/iashlpuoycBOvrrGtpUJKWacu45efWnUs47fwX183x5drAqb+ej83T7ftxHJnl2eWba6vuytYlTJQIv46fxDXlWqbZ0y7hc6pMNvryhB3vxrEErjqH/6tvi6Wmm3pLMaW15dh4k+98ojF8LewQe7rKli5Yy+2bbyknvkc0EDCVCXeomItKuY0SzbgxVvb0XxyIL6vm06XF3YLJrVIuTcXpbhBQ4IgUz+0C/hICaRg301YZlIeFFnqsXBzA+6UEp6yKfzOH3YCX5bUK3/u+Xf/ydGDHdbi5fBo1ZBY9pZ6fTDJiwbByyRCfOduEWHqP/Uivqo+Kf4Y1/EbERd/uFD9Li3NFavijvn1PyzBs3/wL/h10RN2lfmj/+z22dmvxLt+mdyTjuLiXvP6ApklUZAE/NPfFtRLchkumH0uqJdaVuamHsn80Rr1sn3ronkBu32YQi5qEVSqLr7ws5iTsooL0bSbt4TKk0B6m38bf6m3twOvSz2jnfKTr/P5cl0Jcffr7/7+b+vz/+M/6PDLcPUf/jWbCDP9/dw6rMXvq/1afr/yW8lGuuAcPrkc26r4wCUPB1WPNl21apXu3yaL/B2P25Ff+pcljw5dhWeVOFlfhTVLW+2O3yzLb3GuAVfWzcKSd30KM2jAInNT3BgaLe9X53H9lyj057Aiq7UrFtcKd+VzI2qVkLH7vlWqh/R7G8EmvPjhM2idPIGPzpuEShT3Y/izLqx9ZwhrHu/Bmag1bA559M+G0Pv/DuJ3PNF4l5a3NPSDNmI182n6N9igrVrp/Obn6gpY3xx6gEtfld+Ls0rIl/ofRr/+DVMF/Pjv417qIsL+Gb/++b9g6ROLsfQP1N+jMC+DtDSodfXi+Lm6WdZ8W9UV+OXovwBa2Hl4lofkaQ60FfH8sjLrYjKuaCy3cBqry+vVj+CVl19QbukgHu1XZ5FgDUmsh/RJUiIiZAmSc//W/wrOn5ybt34rwyASsar9c0hIRPsryfXSUmH0ZVlZtdXnJn5crbXKWMh2zcLKla3NF2PLgCt6Quc77To3VH9dJd2vD+i6SrpfW5fgVSUm/Wsl9tqR/m3qvksZzS7PkE2xz4Mk3KmS5HnPAXEkjqrFmyAWtzJ3aQy+ydeywIkAsa0ucnF67j8vTQsaz31oW++WbED7zhJGvP1NmnYn2tvVkmmkjs5vBsUWd5/DpeVoDQ3fDtJ+1HIJzRNmYIWiYlkTWLljE5Z5v3/vUWw7lTMp6fVwByx8A+u1K1qJ477VmFmXoZ564EAR3/4/3QEI/+4/FfA77zVlmrdNBiWI1Wz4vWHgF+1VzPcmgyLM/HCy/Psh/L45/pzSuhL/VcnvVfIgLXuBt+PFv76JTSYtZCHwLStH1NW4MmOHYnmxx7nLXOJEYMC/4kdvQbs7xU078dZN64s8LQ0q7Z+xVF446qXSotKQyQ1jXi7e8p0b2OC55XzB53ae/5Fx89iWlz96Zhngu7ECEftH/7kj1N7R/ZKQ/Db4bS6d86N1sM7TnwInfBdmWj1SEAvIL347cDd+RwmuX8S7wcMoMbPd2s8s/nWlX+TJo4yTyyoiaSVaLNdgtmlsvo2/VAIpOBeyZJuPLLXNjeD1llUji7HfvwfSrvO7u66S7tf7f12l3a/S5ovxS//aUXVMGLgUxf3oc/fzXK4Vr1XDxQMpXY8IUSyQjm/mbxJCRpuOYpE3upPMS+QBqx+sGdwyIaKj0GzUS/0/fudf8KI10oxkpKbaTgTIWVzdbrkm9WhD9eJX5cPbMvq50qjDOiftOq8n0q4r3q+kDpmV5Y2Qh560Tu26rwtfBPWPDAgxfxr+6R//GTD9DKW/17wWbkLq4I15Au9XUodQvBFCSCzfxl/+4lHf5afdXy//dsjdRgghDwK6TQkhhBBC6gha3gghhBBC6giKN0IIIYSQOmKeiDd3TpzkOeUIIYQQQuYH89/yJjP6U9QRQgghZJ4wpwMWPv30U1y+fNmshWlubsbTT0ssoHL0hLSlNfdmgkIRbzIZbi3MUi1xX1tuov1WMNkvIYQQQkg1zKl4+/rrr5HP581amO7ubh1iK4rEchuZXB0RW+IWHUDxuFlFDus9ASTiTAK4Czs3WYJPJtmVQPMRrN+4UQu88FRBnlKGydxqzPSO4476vYT5Gul3445KNIjwfhKEfjte1AHv5ZgTWHEKGIktk0KX9zZaOfkvIYQQQmbBnE8VMjo6igsXwmGjJCbqmjVrzJqHEWgrImJHEMHzeUuqJS7RWpdkeYvmaa1rAdmvxNzEoyi0jANKnLWXBlDIeSLNxgg2LfyMYNzsic+EKA3aAjeOBiMGCSGEEEKyMud93iQG6iOPPGLWoP8ui4sqYmZRSiw3CUiv44HOIvh8Ahc/LwUxSWURS9nklN83buGh7xnXZg7tUcEmQs+PPyrWvdu44QfXb0BrnycUV2FFXOD9JRvw4q1NwDq1f4Z4qIQQQgghHnMu3qJiLSrmNFrMbEfzyYF4MaPT9+LVWy2Y1ILpHZyJCqJZIG7QV3W+ZsnUL+4CPlJCL9h3E5aZlMxosXoCkDxSrImEEEIIIVHuy2hTcZNK/zZZ5O94GrH2w726f1ny6NBVeFYJpvVx1qwkxGp3/GZZfotzDbiybhaWvOtTmEEDFhk36I2h0fJ+dR5KpBX6c1hhu0bFatdyCc0TdJkSQgghpHrmvM+bhzfqVEaZViLafy06QCB50IEhMkjA7cNmVqy00HaFN/BAtuv+bW1Ff3QovG0mPchvNVonLwF90q/N9HkzSdqFavd342hTQgghhNwl9028PRwkDFAghBBCCLlHzP9JegkhhBBC5hEUb4QQQgghdQTdpoQQQgghdQQtb4QQQgghdQTFGyGEEEJIHTF/xZsdBeF+RDG4lkfXgv0YM6t1xbn9WPD9PKbNaoi0tFqj2rLqc7YAXUfqonYuNXY+po90YcEP7/VVP4b9C7qQv2ZW5wJz7hfIcjftqSfcDuaLlGmEvOfOR+fNRkIIucfMX/H2nR/oCAjbDjWYDQ+aaeS/vwD7z5nVEGlpc8/Ymd3oe6Ub0aitQlparXHvyvpgz0ca1dZxbsTVPOCxbgw5DpyxPrNhdtwYuwT4ofSAlTsk6sp2tG42GwghZA6YN+JNJuudewubzON2b0Jz1QzX8jiwpw8dT5p1m7S0WmM2ZTUv8KHn6kGaKurpfMwjxJr246E429wFfNYLNLfN9fUzD587hJC7Yl6IN3m4Hj65HNsyxwmdxpk/D9wbZeG4tCskSA8e3Kvw7MRyXG5JdomUxNJh3DGe5UZbPxY0oecosLvNuGqMWygtTRj7oeQjbiQvzXbNuhYi73jhNMGkp7iFpn81BORfQJtZt4mm6bJG8pLy2W5HWU8uTwLiCvzhWGjfUNtZlqMkS1JsPSRfvyzJ5bQtbJXOhxCqo98eco72I6/3t8+Z1wb2ObS3K8SFp/IZM/vKEufKja2j7Gvn67WN2d7UPQzsaS/PN7qfdV6lDbqO5BOuOa+N3DSdv0X4/IfbVtKSr2V7ezt2m63pmH2s60EfX9dF0tLORxbc58QINunIKmWcn8CVnWuqmJC7wnPH7uqhluAZU/m5Qwh5yJCpQuqXKef08687b75VNOvlTH/ydiTd3ef9T6bMuuN88ZaVx1cnnfe/+bpzZNxdjafoHFG/sfNwrg46nao5sa/gro/1Odg6qI7mMeUMboXTN2ZWQySnFfapPNHpDF4N1jvzJlc5hne8WNx8w+WwKTh96FP/xhGXJtuCskTXdVkTj5WC1EO1nV9/q+2m8p2hOkbXXeLKKnW3yxpHUrsnnw85vt/+imBdyuCef11G3S7R9goI5RO9dvR6XNuXnytp8/hryiW+vcqx83HLH6zb15xOs85xav5SD+u3+vqw6hDk67ZdUI/kdivH2jd0z7nbK56PsvvUI+YeDyHPkbed01+Z1RDuMyb8DKnw3Bn/qfPmN5Py86hUJkLIw0L9Wt60dWwAlzduD8UxrcwUbh3Pod36kl75VA6YnNJfwdKH5c7OTRWCxkuA/O1oPjkQ+XruQ+E1Yxd5LIfOoyWU3LW7ojP/Lrofc/9uW9uH4S9NrnIMbVVJsiY0ovtjB87H8X2kpo8cwO59HfFWt9i0NryQB4Z+ZWw0586q3+wwZRvD2T2dGDw4yz5nWwfxgucOfHJXYpnjiC9rI3Itw+hZei8HJEzj7LFhDHc3GQuRa3nyzwdU/Z83pfDbxSNsJQ3vJ9jXTge6thZRsqx9Secq93inayGMsUamY1u6FqB9D1AsWe20r4Bd5nzIMdyyuvVP63NnW+UWLO3BcOQe6LQsh22vGZe1XEf2+a+KNuy6OoiitIHKuBC6btLORwraAnYCOLU33uImnD+NIpZjZWarW/pz5+LnJSw89EwFK17Sc4cQ8rBRv+JtyQa86D3I7sdo0hDSB8UIxw83YLHZet/xOl07HTirX5jVjNCTFzGCl1uI5LTG73YBx86qX6jXv3SeXxu3//0kuawiDtQHCt7Fy66YqFrgxKEEwVU3X3/xRFcK00deRg8GMWX2mcp3mpQspJyP54bcMqw969Yx4tZOYuyH7UoMFvw6FPaZhLvhWh4vd6tyeu2jRFU1tbwrtnaqY4UF76zRg502AeuS+rq5YmvZS/f73q+R5w4h5IFT533eGrH2w71YjxNVfIk2YdHmEgr+Q3kaZ95TX70bW/XDcHHbcizsH03uHKwtfhW+ymMRS1DEuuGTlmYzjfzBOMHUhl36BTwceXml9Hk79wF6WhKsEWlpSjDuaBnC2WtjODthW0va0KGO3/OTNIFkrD0ZBYbPRMn9vRYH4T5WqWU1aIEjQsLLpyJJ58NY816psvyK0peq3C05lYMwhg+i9bCROqELHV6dMtRRWyudAvoilq7GXGvQfj7TKE0oGfp4zl1V7Xpgj/tnOm677D5jzvG5/eE+b9dKGEYrcqacYz/pUesZ0FZquaZkRa7ZuD5vSdeO2r50CF0HhzA01jqrcxOPZeWKfhyqZ0BhcjX+JNU6HyX9uSNWuDu9p/0pR8qY9XOHEDIfmRcDFmR4/raNl3DYesjq0aeL3sDh3hmgX4k76QSs00XwbUJDr3oo647BAyiusDoki0Xv1DdQbAk6Dgdf3+rLt+USmif2VnCrxtP2/CDgu9zCVrK0tMBN14ShLVO+OyvkolJLOwJXVzpJIlBIS3NpW6tekkvbgYj7rO21KQxOBJ3jq+scHk/jczuUIOlBk+S3tIQdoakd0soadgsu0C94r7xG1EYGJtid65POh66jkla6PGax90tC8nNd3LLPAeTydj2E3Wj38lTVCdx/Fc5VaMCKOidju8Ku1SdfCJXXdSE3ovuVvuC6Uu3aldES2PaaEohePQ7mMGWfDznW1qAeBx4fRLSWsagPgnfz0C5uOSelV1QbbzVpqcg5bkfR61agBGyhReqa4brzBrO0KZnoXV9lwjD4OLQtcBfz44ARXWG8AQnqmXIcuLLOfX64gwwqPHe+8wNsO3QbI+aZE+wn3N1zhxAy/1jgiH+D1Cwyeu7A41P3djoLeXHJizeuX1laWq1RT2VNQ0Z+ijB1IsJLmC91nC+IBazlJtpv/cCf240QQu43FG81zpyIN1JbpIk3QgghJMK8cJsSQgghhDws0PJGCCGEEFJH0PJGCCGEEFJHULwRQgghhNQR81e82XEC7/skvncDg1ATkow7HYc/jUbd3udpAe8JISSd+Sve9Czpe7HtUIPZcI+Ql0XNhKYJz/MVDQMVmgcuOoeVN8+VXux5saJzh1UTtSE8t1p4/rP0sqYRCnYeipIQmcvNSg/tYy1+mWSEp789WsegrNWG1kpr89TzkUZqWdPaPJ3kdq29svpcL+IyrAly5+o+50cUIaSGmTfiTU/KW2df3pnQM6v/LHbmdQm5JJP2ypgTiSCA7peDl6USZ03HuoJwTFuG0OS/oNVLVCaCNWmFfbvR7qeZeKjefjJ5amrUBA8RPDJJrLdvAWgLXt6pZU1D1UMmH/bylAliwy/9SLgqE6rKC43lhmjq8+vqTmKsyvrKELrMfrqO/sz8IjCqmSjWIq3NU89HGqo8MsGwH3KqC0NLPbGd3uYeItLihH3QruoaUGv+bx5gWYW0ezl5gtw6J+U+J4SQMtSDtO754q3XnTefP+lMm3Wb6U/edt58q2jWDF+ddN7/ptrHWyL76vz89Led01/J1qJzxN7HW0zess+RT0y+apuXx5FxnVx2zPc/Ua9Gn2je3jEN4z8t31bGlKPEhtM3Fv1bcNeBPkeJmHLG+hxsHVS/KqewD05nPi4lQjQPWVeXV/y+0fJlJ1yegtOHTkeJt2SuDjpKvMXX2yP2N24Z48svx1Xtuc/eI63N09ICpvKdalu4PnqbdRz3NyavjG1efg6j7Wbqo/PKUlazLXLN3Iuypt3L7n3yU+cLs2YTe5+X3VfhfePv8+h2b3H3leO8r+5zna8q5xdyXPW3fz+n3ufleYfSM93nhBDiOHVueXP7v4xgU3WBmnVQ+73a3SLL+hXj+MzrQ2PiFm7z0/8Ka5dIgsQ6VOuncsBmK33HKr2bcKX3JtonVmNh/wkUctuxficwc2XazMruhrdx83TD5Lj9dsQ948Ys9NKW6dwsxDU0sRyXW+yQORGuncXQ0T50aMtSCaWjnSbGpGdJKqAvIXC3BJjv3NIRzOBvub7aJwbxboYJgqdLRT92p3a5HcyhkO/E8Jd2pE1DqKzVMIazezrR9V27PMMmrFKcmy4b078awvC+jrucIDetzas7HzYSE9WLQSoWtKYvd+gg8hJ3tao2t1HlKXoxSPW5PoDc2CA6dVzUB1XWyvfyjaFRzBz6XhWRDcw9axYJP+XHFk28z91we+592IBW/54NIirc6b2ERRMq/fg4RkprtMv2Tmmqwn3u9nHT9TPHlOdDiCz3OSGEKOpXvGk3wwAub9weElDZEMFkOjmrZaTfiCxhSRMa1EP58Cz6uyz0Xyw5tNvBo6/fxJ2da/yXg7xUVnjC7vwErigxWDHItRacmwCJl1jmUhJ3VQ9ao3EtvRfzVc9dWI52n0UF2mPdGLJdZnafp3N2X7lyd5z30nY+7latEEdcWYM+Zu4SF5vSdbv5cSw1bkB+Kacuq46PmSGupY24CLtbUTDu1myY48btk9bmFc6HDqDvDMUEoC/p9pFIG3HHjG1zW4DvsePjWu0j51JHdog5ZmpZjWs9NmTXLMqa6V6+gM96gea28iMm48UadReJc6xFlnAX9zn8e1mJu26rvGn3uSr/ZH/k93Gk3ueEEOJSv+JNP+S2o/nkQNUPuYsHTuDKzqQvYO9r/Rlgt/vQr4mvYP2CMxa60AtOrCNuX6LgJZtDbuswetqsF7NtbTGIcNN9m1LiZrqB4cUeY3hyly+WZPHCdjXmWoE97aGXtm2JcYkrqxDuZ+eUhYkS4eYG5U8LE9b43S5kC69uEPGiDlS4J2Gp0to82/mII/d4pxJe7Si94rX1NEoTQGuuMb3NLQEu1q/OvOlvKHVV5WmVQPgSM9WruyrP8FZVzozXThyzLmuWe1k+ckLCqDI3hn6uyh1Y18KDGurtPieEkIA6d5s2Yu2HSnzhRBUjQKdxYxJYmGtyV9XDstDv/hnGzVse+L5VTljyKBYev1ndaFPZp380+MLXx2xwrQg6v0u4qNPEUqCEpf6RhYxwNe6YZ20LnbaOxIuhji1KxliuwLGf9IRcg9oCUkG4CdNHDmC3fqlX4MkO9Cnp5Ls0VdkO2C7OxLJWwnXdVRJuQrSOaWjXnfrh7ISblGlBZIRmWptXPh+CLlPE9esKUsvFfO4D9Hgu50ptnkgbOkTQ+a5yJY4Peq7zLGU1ltLIKNS7K2vavazui/duV7ZaRbhRmgFWNBkXrFju1HoZCfc5mrBo8wxuVWOVS7vPTX6Xx9xjyKAMsfiHSLrPCSEkwrwYbSp9VLZtvITD1le7HrFmXCXoVy8EcZ3odPWwfimHO73qK1+2tdxEs/1Fbs8bJfufXI4ttgt0yQa07yxhxPtNFqufWBZOfQPFFrNPyzgaTpk+NiptyyGYtAHcemk7Wje7u2nkS3wdsN7qk+OhX6rq/91trntML+aFKi44GUHobdcjCz03ln5xqv+P9qDJ208tehSnFlnBNs/FZbVAAm3YpUcXmn31qMPAHZdW1jS0eFT/B24/WTzXnxFRZgnVMZUxfNCtS4N2a3/XBey5cJuU8AiOm2Vai7Q2Tz0faYgFTVXWL6faJRCc6W2eRttrU+g65rVpWBw/yLLG3cs4fxpFLMfKJWbdIvk+V3l1u/1P9bZFo1h0yPoEqXSfm+fEFXFf6t9kGAmadp9Lfn2rAfPcOWz6yvmk3OeEEBKFsU0JITWMWKPlo4bWKEII8aB4I4QQQgipI+aF25QQQggh5GGB4o0QQgghpI6geCOEEEIIqSMo3gghhBBC6og6FG/urOnVTKgpYWkyDfUnhBBCCKlx6k+8XS/iMjKEk8qCzPWUeXJfQgghhJAHT02KNz3xZsLktxfz48DG1uxB6BVuoOkgsHRNIpN00jpICCGEkArU3Dxv4uIcmVyNbR9uiBFoElB+AitCQsydxLN43Kwih/VeugiilnHckb8323lKPjFhqCTeqRdP0N5XseyUO0moCMtjWI6G3nEdUH79xksY6Z3BwkPb8WJXo07Xs70bvO2C1G3yKQk67R3bKqsglsB1t9E6wVnWCSGEEBJPDYk3I8JWWAIqgiucnvHFkEYEz+ct6UGc5TfvPVouCJO2l4nEYH2xFmdQAmsNbrW4Ae635UZ1uJvyMoTz0cK0v8EXZ7JeyAXiTmNEY4MRi4QQQgghNrXhNtUuwwFc3rg9RYRJYGmYIM8WOhi0xC+8hy7H8xO4Ait+qbbS3cYNL+D0zjXGMqaEWDRYtgjCpP0UCw8941vVVj6Vw53SlLviIfERb4l1Tu2fJW4qIYQQQh4qakO8acGyHc0nB5IFiwgqXzRZ6H2lT1sLJrVgegdnLLE0a8SFqvP1liyuzAv4aF1Ju1jdfTZhmUnJjBayJwDJI82aSAghhJCHkhoasNCItR/uxXqciBkBOo0z790ut3KFWIVnlWBav3MGt7KKN7HaHb9ZPtrUWPOqmY5Ec30KM2jAIiPybgyNlver85E6KaH3lFUnsdq1XELzBF2mhBBCCImnhsSbi4wM3bbxEg7bFrjzp1HEcqyMsXzpkam+m/INjGBTIHw8F+a6EnB8HIflb1sYLtmA9p2We9Q7pljzTuVwRVyXXlqWKUV0fjMotrj7HC4tR+tmk2a40ztg8nTdxH5ZxeK2DlifycJHCCGEkIeVmhttWo47kOHWS/VvjYodoEAIIYQQUgU1Z3krx3Wn0o1ICCGEEFIX4o0QQgghhHjUgduUEEIIIYR40PJGCCGEEFJHULwRQgghhNQR80S8yYjUjNN5EEIIIYTUMfPf8iZzvVHUEUIIIWSeMKcDFj799FNcvnzZrIVpbm7G008/bdbCyMS78YHeZ0Fi8PkHgA46fxPtfsB7QgghhJDqmFPx9vXXXyOfz5u1MN3d3fjWt75l1gJkItuRydURseVO1Fs8blaRw3pPAIk4kwgKgsQj9QXfBXykA8NHsH6jRWLvjP7bzlPKMJlbjZnecdxRv5eQXSP90DFLZb658H4SbN6beFeOOYEVp4CR2DIpdHlvo3WCkRQIIYQQUj1zPlXI6OgoLlwIB5tftWoV1qxZY9Y8jEBbERE7ggiez1tSLXGJ1roky1s0T2tdC8h+JeYmHkWhZRxQ4qy9NJAQHcEINi38jGDc7IlPWR/FoqhQ0xa4cTQYMUgIIYQQkpU57/P2xBNP4JFHHjFr0H/LthAiZkysz1iBZgLF/2jRz3DRbLpbLn5eAnSeJnapWMomp/y+cQsPfc+4NnNojwo2EXreftq6dxs3/GD4DWjt84TiKqyIC5QvsVNvbQIkdqodw5UQQgghpAJzLt6iYi0q5jRazGxH88mBeDGj0/fi1VstmNSC6R2ciQqiWSBu0Fd1vmbJ1C/uAj5SQi/YdxOWmZTMaLF6ApA8UqyJhBBCCCFR7stoU3GTSv82WeTveNwYptK/LHl06Co8qwTT+jhrVhJitTt+syy/xbkGXFk3C0ve9SnMoAGLjBv0xtBoeb86DyXSCv05rLBdo2K1a7mE5gm6TAkhhBBSPXPe583DG3Uqo0wrEe2/Fh0gkDzowBAZJOD2YTMrVlpou8IbeCDbdf+2tqI/OhTeNpMe5LcarZOXgD7p12b6vJkk7UK1+7txtCkhhBBC7pL7Jt4eDhIGKBBCCCGE3CPm/yS9hBBCCCHzCIo3QgghhJA6gm5TQgghhJA6gpY3QgghhJA6guKNEEIIIaSOmL/izY6CcD+iGFzLo2vBfoyZ1bri3H4s+H4e02Y1RFparVFtWfU5W4CuI3VRO5d6Oh9VMPbDBVigzoUs+8+ZjVUjIfbewEfnzaqeDNs8AxLnjiSEkPpj/oq37/xAR0DYdqjBbHjQTCP//aQXU1ra3DN2Zjf6XulGNGqrkJZWa9y7sj7Y85FGeR1rt6zV0PaaA8eZwuBWs2E2XC/iMlbjT7zJr73ILKdyZgMhhMwP5o14k8l6597CJvO43ZvQXDXDtTwO7OlDx5Nm3SYtrdaYTVkf68aQ42DouXqQpop6Oh9zhbamxUdGuZgfBza2Zghxd3fcn2cNIYQkMy/Em0Q8OHxyObZljhPquld8t2rUpWK7W9Ty4yHPSbUKz04sx+UWyzUToXSkq8z9M623NaHnKLC7zXMPdSF/LT1NEHfS/nNj2G/yXBByzbpWF+944TTBpKe42aZ/NQTkX0CbWbeJpumyRvKS8tluR9v9VV6eBMQV+MOxWNeZPqZK84iue8TWQ/L1y5JcTttqVel8CKE6+u0h52g/8np/+5x5bWCfQ3u7Qty3Kp8xs68sca7c2PORVlbJ1z+eWkLnLnrtyBKUKXwew/VPwi1P+fGlfSWt60jebQOrrlW5rP3QcnERSi5gsj+H9q4qhLjdtUIt4Xs6+RmxuOuvKoTxI4SQOUamCqlfppzTz7/uvPlW0ayXM/3J25F0d5/3P5ky647zxVtWHl+ddN7/5uvOkXF3NZ6ic0T9xs7DuTrodKrmxL6Cuz7W52DroDqax5QzuBVO35hZDZGcVtin8kSnM3g1WO/Mm1zlGN7xYnHzDZfDpuD0oU/9G0dcmmwLyhJd12VNPFYKUg/Vdn79rbabyneG6hhdd4krq9TdLmscSe2efD7k+H77K4J1KYN7/nUZdbtE2ysglE/02tHrcW0fd66SyxpFzo/3O32u/HaMlFOOP5vzqNB11/uGyxVuE6udQucyuS76Pv7mT50vzHoUSQ/djzbjP3XefP6kM21WNbLNzk/f9287p7+SlcrPFaFSmQghZK6oX8ubto4N4PLG7aE4ppWZwq3j4S/0lU/lgMkp/RV9Y+wS7uzcVCFovATI347mkwORr+8+FF4zdpHHcug8WkLJXbsrOvPvovsx9++2tX0Y/tLkKsfY045kC1cjuj924Hwc3w9s+sgB7N7XEW91i01rwwt5YOhXxlpy7qz6zQ5TtjGc3dOJwYOz7HO2dRAveO7AJ3clljmO+LI2ItcyjJ6l93JAwjTOHhvGcHeTsUgtQFO3WvfOB1T9nzel8NvFI2zpCu8n2NdOB7q2FlGyrF1p5yqZsLWvfQ9QLCW1xXBwPHVdtR7tQVNGi5tN43NDKLTIvk0Y2jKFXbaL128Tq50q4lrAtGU9MSbwBXzWCzS3Zb/ybly5jYWHvhfkt6QVzZtncEu6REjfOfWMWF/huSIWuFdPASNlVjtCCJlb6le86c7IRkDd9/4n0vfNCMcPN8x5H5tETJ8tx+nAWf2CruZlK0IECS/R5LTG73YBx86qXyhpIJ3n11YnJ+49yWV1O8E7eBcvuwImxt1aPUp4XHXz9RdPdKUwfeRl9GAQU2afqXynSclC2rlKZuyH7UrwFfxyFvaZBIV8BEALf7lu2lHM20KrDbv0Pu8Cr7jCr9oBEZ1bOyPidLY0Yu2He7Ft4yUcTujrhvMTuLJzzX2PJ6z7vq0D1t/aW+FjjxBC7i113ufNfbBX1/+kCYs2l1Dw+7GpL/v3SlhoOjovbluOhf2jyYMStMXvBHBqL16spn+NtgQlWT7S0mymkT8YJ5jcl21hn2U90aT0eTv3AXpaotYhQ1qaEow7WoZw9toYzk5Y1jJVhg51/J6fpAkkYwmKK08aEyX399fyeLl7WG/ySSurQaxBztVBdHr5VCTpfBhr3itVll9R+lKVuyWnchDG8EG0HjZSJ3Shw6tTah2TyjqN0oQSUY+bkZZ6sIP7p3sdFUMiNH7Qhmu5FaEZzt+zIpZbfKVvWzsKGPr4XQxOtFct+pIIrFzRAUNy/95Ga3c11neV37Jv4E7v6UAMnj+N4vEcVogI01Y4+xlRjt/PNtEaSAghc8e8GLCwcof5MrcscPqreJF6wPbOAP1K3EmnY50ugm8TGnoHTGfkARRXbAqEmFj0Tn0DxZags3IwYOECPtIdpmf3pd32/CDgu9zCVrK0tMBNF3ZFuR3EZbu7yEsz5KZKJEkECmlpLm1rW9GztB2ITMvR9tqUfmEHZUpy52an8bkd6NMuPJXf0hJ2jPWZFCGtrJEBAkuH0OW7dD3xEe7sbwuNpPOh66iklS6PWbIIFMnPdXHLPgeQy9v1EHaj3ctTVafgu40znI/Ysirh9UpfcO2otuvyrX2SJufQHM8svns5MtCj6VgX3s0wIleux6buVuP+Vcc4OIiiatvKbuvK50Mj0//oAUOWBU5EF5ZjZZzVzRuQsK4EHB/HYfnb+8hTeW07dFu7PN3fKAHoD4SIPiOs/RTybBnBpgdrdSeEPNQsUF/djG1aw8iovwOPT93b6Szk5Xwwh6m4fmVpabVGPZU1DRmVKcLU2VXep21O6ihiqQmlV5xA7MtxRDTGlaFmkf5wA7j1Et2WhJCHC4q3GmdOxBupLdLE25wgVsl29V8g3rTV7FhX/QthQgh5CJgXblNCSDW0YddYnzU3nIx+bbVctYQQQmoZWt4IIYQQQuoIWt4IIYQQQuoIijdCCCGEkDpi/oo3O25hXQWRnofB7wm5Z7gRF/yIBnV7n7tzxQXTEBFCSHbmr3iTOaFu7cW2Qw1mwz1CXhY1E5Damx/LXaLzaYXmgYtOjCtTQ3hpofnYwnlWF7UhPLdaeJ6u9LKmEQqSHoqSEJnLzUoPB1YPFr9MJmi6uz1ax6Cs1YbWSmvz1PORRmpZ09o8neR2rb2y+kjoKqzGn3hTg8zVfc6PKEJIDTNvxJuelLfOvrwzoSM6xIcFkpBLMmmvjDmRCALofjl4WSpxpqd+kDS1TG0ZQpP/glYvUT2nl5tW2Lcb7X6aiYfq7ZdHhagJHiJ43Okn3H0LQFvw8k4taxqqHjL5sJdn357orP2RcFUmVJUXGktHVpC4oSbdnRpDlfWVIXSZ/XQd/agJIjBkDrQpDG7VG7KT1uap5yMNVR6ZYNir49UuDC31xHZ6m3uISIsT9kG7qmtArfm/eYBlFdLu5Yv5ccBEQ5lXpNznhBBShnqQ1j1fvPW68+bzJ51ps24z/cnbzptvFc2a4auTzvvfVPt4S2RfnZ+f/rZz+ivZWnSO2Pt4i8lb9jnyiclXbfPyODKuk8uO+f4n6tXoE83bO6Zh/Kfl28qYcpTYcPrGon8L7jrQ5ygRU85Yn4Otg+pX5RT2wenMx6VEiOYh6+ryit83Wr7shMtTcPrQ6SjxlszVQUeJt/h6e8T+xi1jfPnluKo999l7pLV5WlrAVL5TbQvXR2+zjuP+xuSVsc3Lz2G03Ux9dF5Zymq2Ra6Ze1HWtHvZvU9+6nxh1mxi7/Oy+yq8b/x9Ht3uLe6+cpz31X2u81Xl/EKOq/727+fU+7w871B6pvucEEIcp84tb27/l6pD1eig9nu1u0WW9SvG8ZnXh0Z9ARcmV2Obn/5XJuD1Kjwr66dywGYrfUcQU/FK7020T6zGwv4TKOS2Y/1OYObKtPtVbcJquXm6oXfcfjvinnFjpXppy3RuFn5YIKuvT5RrZzF0tA8d2rJUQuloJ3I6FqZnSSqgD8VI7FMXCTDfuaUjmOPLcn21TwxmC41UKvqxO7XL7WAOhXxCcPJQWathDGf3dKLru3Z5hq0wT/GWnEpM/2oIw/s67nKC3LQ2r+582EhMVC8+qVjQmr7coQPMS6zRqtrcRpWniFa3PPpcH0BubBCdR1U5q7x2bO6urJXv5RtDo5g59L0qYomae9YsEg7Lj1eaeJ+74fbc+7ABrf49G8QwvdN7CYsmVPrxcYyU1miX7Z3SVIX73O3jputnjinPhxBZ7nNCCFHUr3jTboYBXN64PSSgsiGCyXRyVstIvxFZwpImNOg4iNX3d1nov1hyaLeD1l+/iTs71/gvB3mprPCE3fkJXFFi0O/Dk4QWnJuAdXEds8Vd1YPWscgM/d6L+aoVBimCdp9FBdpj3RiyXWZ2n6dzdl+5cnec99J2Pu5WrRBHXFmDPmbuEhcT1XW7FfPvWgHa3YD8Uk5dVnF/+m66jIiL0I/HmRVz3Lh90tq8wvnQAfSdoZgA9CXdPhJpI+6YsW1uC/A9dnxcq33kXOrIDjHHTC2rca3HTuo7i7Jmupcv4LNeoLmt/IjJuILQu88lzrEWWcJd3Ofw72Ul7uyA+Gn3uSr/ZH/k93Gk3ueEEOJSv+JNP+S2o/nkQNUPuYsHTuDKzqQvYO9r/Rlgt/vQr4mvYP2CMxa60AtOrCPhUEciHnNbh9HTZr2YbWuLQYRbpZBIbmB4sccYntzliyVZvLBdjblWYE976KVtW2Jc4soqhPvZOWVhokS4uUH508KENX63C17o9UyIeFEHujfxPNPaPNv5iCP3eKcSXu2QOKRu3adRmgBac43pbW4JcLF+deZNf0OpqypPqwTCl5ipXt1VeYa3qnJmvHbimHVZs9zL8pETEkaVuTH0c1XuwLoWHtRQb/c5IYQE1LnbtBFrP1TiCyeqGAE6jRuTwMJck7uqHpaFfvfPMG7e8sD3rXLCkkex8PjN6kabyj79o8EXvj5mg2tF0PldwkWdJpYCJSz1jyxkhKtxx4QCcGvrSLwY6tiiZIzlChz7SU/INagtIBWEmzB95AB265d6BZ7sQJ+STr5LU5XtgO3iTCxrJVzXXSXhJkTrmIZ23akfzk64SZkWREZoprV55fMh6DJFXL+uILVczOc+QI/ncq7U5om0oUMEne8qV+L4oOc6z1JWYymNjEK9u7Km3cvqvnjvdmWrVYQbpRlgRZNxwYrlTq2XkXCfowmLNs/gVjVWubT73OR3ecw9hgzKEIt/iKT7nBBCIsyL0abSR2Xbxks4bH216xFrxlWCfvVCENeJTlcP65dyuNOrvvJlW8tNNNtf5Pa8UbL/yeXYYrtAl2xA+84SRrzfZLH6iWXh1DdQbDH7tIyj4ZTpY6PSthyCSRvArZe2o3Wzu5tGvsTXAeutPjke+qWq/rdjVHovVHHByQhCb7seWei5sfSLU/1/tAdN3n5q0aM4tcgKtnkuLqsFEmjDLj260OyrRx0G7ri0sqahxaP6P3D7yeK5/oyIMkuojqmM4YNuXRq0W/u7LmDPhdukhEdw3CzTWqS1eer5SEMsaKqyfjnVLoHgTG/zNNpem0LXMa9Nw+L4QZY17l7G+dMoYjlWLjHrFsn3ucqr2+1/qrctGsWiQ9YnSKX73Dwnroj7Uv8mw0jQtPtc8utbDZjnzmHTV84n5T4nhJAojG1KCKlhxBotHzW0RhFCiAfFGyGEEEJIHTEv3KaEEEIIIQ8LFG+EEEIIIXUExRshhBBCSB1B8UYIIYQQUkfUoXhzZ02vZkJNCUuTaag/IYQQQkiNU3/i7XoRl5EhnFQWZK6nzJP7EkIIIYQ8eGpSvOmJNxMmv72YHwc2tmYPQq9wA00HgaVrEpmkk9ZBQgghhFSg5uZ5ExfnyORqbPtwQ4xAk4DyE1gREmLuJJ7F42YVOaz30kUQtYzjjvy92c5T8okJQyXxTr14gva+imWn3ElCRVgew3I09I7rgPLrN17CSO8MFh7ajhe7GnW6nu3d4G0XpG6TT0nQae/YVlkFsQSuu43WCc6yTgghhJB4aki8GRG2whJQEVzh9IwvhjQieD5vSQ/iLL9579FyQZi0vUwkBuuLtTiDElhrcKvFDXC/LTeqw92UlyGcjxam/Q2+OJP1Qi4QdxojGhuMWCSEEEIIsakNt6l2GQ7g8sbtKSJMAkvDBHm20MGgJX7hPXQ5np/AFVjxS7WV7jZueAGnd64xljElxKLBskUQJu2nWHjoGd+qtvKpHO6UptwVD4mPeEusc2r/LHFTCSGEEPJQURviTQuW7Wg+OZAsWERQ+aLJQu8rfdpaMKkF0zs4Y4mlWSMuVJ2vt2RxZV7AR+tK2sXq7rMJy0xKZrSQPQFIHmnWREIIIYQ8lNTQgIVGrP1wL9bjRMwI0Gmcee92uZUrxCo8qwTT+p0zuJVVvInV7vjN8tGmxppXzXQkmutTmEEDFhmRd2NotLxfnY/USQm9p6w6idWu5RKaJ+gyJYQQQkg8NSTeXGRk6LaNl3DYtsCdP40ilmNljOVLj0z13ZRvYASbAuHjuTDXlYDj4zgsf9vCcMkGtO+03KPeMcWadyqHK+K69NKyTCmi85tBscXd53BpOVo3mzTDnd4Bk6frJvbLKha3dcD6TBY+QgghhDys1Nxo03LcgQy3Xqp/a1TsAAVCCCGEkCqoOctbOa47lW5EQgghhJC6EG+EEEIIIcSjDtymhBBCCCHEg5Y3QgghhJA6guKNEEIIIaSOmCfiTUakZpzOgxBCCCGkjpn/ljeZ642ijhBCCCHzhDkdsPDpp5/i8uXLZi1Mc3Mznn76abMWRibejQ/0PgsSg88/AHTQ+Zto9wPeE0IIIYRUx5yKt6+//hr5fN6shenu7sa3vvUtsxYgE9mOTK6OiC13ot7icbOKHNZ7AkjEmURQECQeqS/4LuAjHRg+gvUbLRJ7Z/Tfdp5Shsncasz0juOO+r2E7Brph45ZKvPNhfeTYPPexLtyzAmsOAWMxJZJoct7G60TjKRACCGEkOqZ86lCRkdHceFCONj8qlWrsGbNGrPmYQTaiojYEUTwfN6SaolLtNYlWd6ieVrrWkD2KzE38SgKLeOAEmftpYGE6AhGsGnhZwTjZk98yvooFkWFmrbAjaPBiEFCCCGEkKzMeZ+3J554Ao888ohZg/5btoUQMWNifcYKNBMo/keLfoaLZtPdcvHzEqDzNLFLxVI2OeX3jVt46HvGtZlDe1SwidDz9tPWvdu44QfDb0BrnycUV2FFXKB8iZ16axMgsVPtGK6EEEIIIRWYc/EWFWtRMafRYmY7mk8OxIsZnb4Xr95qwaQWTO/gTFQQzQJxg76q8zVLpn5xF/CREnrBvpuwzKRkRovVE4DkkWJNJIQQQgiJcl9Gm4qbVPq3ySJ/x+PGMJX+ZcmjQ1fhWSWY1sdZs5IQq93xm2X5Lc414Mq6WVjyrk9hBg1YZNygN4ZGy/vVeSiRVujPYYXtGhWrXcslNE/QZUoIIYSQ6pnzPm8e3qhTGWVaiWj/tegAgeRBB4bIIAG3D5tZsdJC2xXewAPZrvu3tRX90aHwtpn0IL/VaJ28BPRJvzbT580kaReq3d+No00JIYQQcpfcN/H2cJAwQIEQQggh5B4x/yfpJYQQQgiZR1C8EUIIIYTUEXSbEkIIIYTUEbS8EUIIIYTUERRvhBBCCCF1xPwVb3YUhPsRxeBaHl0L9mPMrNYV5/ZjwffzmDarIdLSao1qy6rP2QJ0HamL2rkk1bHKuoz98P7XW465QJVRlv3nzMaqkTB6b+Cj82b1ft/nhBBSA8xf8fadH+gICNsONZgND5pp5L+f9NJKS5t7xs7sRt8r3YhGbRXS0mqNe1fWB3s+0qin8xGl7TUHjjOFwa1mw2y4XsRlrMafeBNc19x9Tgghc8+8EW8yWe/cf3nLPG73JjRXzXAtjwN7+tDxpFm3SUurNWZT1se6MeQ4GHquTqRQWh3rrS4ppN3LF/PjwMbWDGHs7g6ZiPvHQ3VkkSWEPFTMC/EmD9rDJ5djW+Y4oa7rxXe3RMNx6dijQXrwEF+FZyeW43KL5baJUDrSVeYamtbbmtBzFNjd5rmOupC/lp4miKtp/7kx7Dd5Lgi5Zl0LkXe8cJpg0lNcidO/GgLyL6DNrNtE03RZI3lF3W+2a6y8PAmIK/CHY7FuNX1MleYRXfeIrYfk65cluZy2ha3S+RBCdfTbQ87RfuT1/vY589rAPof2doW4PFU+Y2ZfWeJcmuV1jJ7/cF3K0iPnrjVXSriukii/ntz2cveVdtl/xHXf2uezGgtm+r18AZP9ObR3ZReokp9/ny+KhMNLvM+BlTtSYi0TQsiDRqYKqV+mnNPPv+68+VbRrJcz/cnbkXR3n/c/mTLrjvPFW1YeX5103v/m686RcXc1nqJzRP3GzsO5Ouh0qubEvoK7PtbnYOugOprHlDO4FU7fmFkNkZxW2KfyRKczeDVY78ybXOUY3vFicfMNl8Om4PShT/0bR1yabAvKEl3XZU08VgpSD9V2fv2ttpvKd4bqGF13iSur1N0uaxxJ7Z58PuT4fvsrgnUpg3v+dRl1u0TbKyCUT/Ta0etxbZ90rlyk/YMyu3Wwy6rPjzlG6nWVipVvpJxunmrd1Ed+U55vcptnuZdD95xF+X0eua8V+jfPn3SmZSXTfW7y8PYhhJAaoX4tb/qreQCXN24PxTGtzBRuHQ9/va98KgdMTmnr242xS7izc1OFoPESIN98mYesdn0ovGbsIo/l0Hm0hJK7dld05t9F92Pu321r+zD8pclVjrGnPcVq0ojujx04H8f3kZo+cgC793XEW91i09rwQh4Y+pWxUJw7q36zw5RtDGf3dGLw4Cz7Y20dxAueO/DJXYlljiO+rI3ItQyjZ+m97Jg/jbPHhjHc3WSsVQvQ1K3WvfMBVf/nTSn8dvEIW8HC+wn2tdOBrq1FlCxrX9q5ikdde0f7sMNyo8q1g4mSbzVLvK5SkWuqgFZpg6VD6Lq6K1SmTt8yGD52Kpnu5Qv4rBdobst8VeDGZIMqZ5Df4rblWHj8ZhX3uVjg9mLbxks4PN+6SxBC6pr6FW9LNuBFT0Ddd9eG9H0zL5sPN8x5/5tETD8nx+nAWS0Kwu69dESIIBAbIZLTGr/bBRw7qwWA7jy/NrucmBuSy+p2kHfwLl52RVOMu7V6lEC76ubrL57oSmH6yMvowSCmzD5T+U6TkoW0c/Wg6ETn1uGQwJw1We7l8xO4snPNfY8Z7LtxbzFeMSGkdqjzPm+NWPvhXqzHifJ+a4k0YdHmEgp+/5ZpnHmvhIWmE7T+Ou8fTf7K1laCE8CpvXixir43riUIKJbirEBpaTbTyB+ME0xt2KUEQWFf9GVa3kfJ59wH6GmJWocMaWlKMO5oGcLZa2M4O2FZy1QZOtTxe36SJpBMv6+48qThWYuu5fFy97De5JNWVkPjc0Nwrg6i07I6pZN0Pow175Uqy68ofanK3ZJTOQhj+CBaDxupE7rQ4dUpQx3LySG3dTcO+FZH99rp3NJhymATd115lsKoVVe2t6sqDGHo4CCKbVn6ymUh7V6We/R2yIpWmUYsXjGDYj4QgzLY4c7OFqxUf1e8z+WYf/4GRrDpwX6gEUJIDPNiwILv2rC+2vWItUXqq7l3BuhXLwTplKzT5SWxCQ296itfd1QeQHHFpkCIiRXg1DdQbInryHwBH7VcQvPE3oruljjanh8EfJdb2EqWlha46ZowtGUKu4xgcjuLy3Z3aUfBT0sn7mXtkZbm0ra2FT1L1Qs8MmVF22tTGJwQN65Xprt/sTc+twN9R3vQJPktLWHHWJ9JEdLKGhkgIC4+36XrCZPwwAS7Y33S+dB1VNJKl8csWTrkS36ui1v2OYBc3q6HsBvtXp6qOgXfbVz5fMRjuTd1vqquLYXQaNSk6yoZaTc3H/1bJeTfzRdVubNYfCu3uRB3L+P8aRSxHCtjLF/J97k76KB10mxTy8jk6mAgROp9Lha32XTJIISQ+8MCR3w4pGaREXsHHp+6t1NAyCjMgzlMxfUrS0urNeqprGnIaFMRpk64/5gmcx1dYVV6xcko4OsFsYAN4NZLs/tgIoSQ+QjFW40zJ+KN1BZp4i0rOg8ZQDBUpXuVEEJIvTEv3KaEPJSIYPNcrUt70DpG4UYIIQ8DtLwRQgghhNQRtLwRQgghhNQRFG+EEEIIIXXE/BVv53/mTwFQX/EJ52Hwe0LuGe78a35s4bq9z90JgBn8nhAyG+avePvOD/Dqrb3YdqjBbLhHyMsi84TAc403d5a7RMNAheaBi06MGwrabs/HFs6zuqgN4bnV0oKkVxOyKhQIPhQlIRrsPUgP7WMtfpnszv5ldQzKWm1orbQ2Tz0faaSWNa3N00lu19orq8/1Ii5jNf7EmzZkru5zfkQRQmqYeSPe9GSddfblnQkd0eFnuGhWbSTkkkyuKmNOJIIAul8OXpZKnDUd6wrCMW0ZQpP/glYvUZkI1qQV9u1Gu59m4qF6++VRIWqChwgemXnf27cAtAUv79SypqHqIZMPe3n27WmPvPQj4apMqCovNJaOrCBxQ026OweaKusrMq2Gu03X0Y+aIAJD5kubwuBWvSE7aW2eej7SUOXRU4C4+zlXuzC01BPb6W3uISItTtgH7aquAbXm/+YBllVIu5clSgJMNJR5Rcp9TgghZagHad3zxVuvO28+f9KZNus205+87bz5VtGsGb466bz/TbWPt0T21fn56W87p7+SrUXniL2Pt5i8ZZ8jn5h81TYvjyPjOrnsmO9/ol6NPtG8vWMaxn9avq2MKUeJDadvLPq34K4DfY4SMeWM9TnYOqh+VU5hH5zOfFxKhGgesq4ur/h9o+XLTrg8BacPnY4Sb8lcHXSUeIuvt0fsb9wyxpdfjqvac5+9R1qbp6UFTOU71bZwffQ26zjub0xeGdu8/BxG283UR+eVpaxmW+SauRdlTbuX3fvkp84XZs0m9j4vu6/C+8bf59Ht3uLuK8d5X93nOl9Vzi/kuOpv/35Ovc/L8w6lZ7rPCSHEcerc8jbL+IM6EPZe7W6RZf2KcXzm9aFRX8AFCaPjp3sBqVfhWVk/lQM2W+lW+JwrvTfRPrEaC/tPoJDbjvU7gZkr0+5XtQmr5ebphudy++2Ie8aNleqlLdO5WYhraGI5LrdYfX2iXDuLoaN96NCWpRJKRzuR03N+eZakAvpQjA0kLgHmQzEvLddX+8Qg3s0wQfB0qejH7tQut4M5FPKdGP6y5P7AJlTWahjD2T2d6PquXZ5h9CxNctNlY/pXQxje1zH7CXI1aW1e3fmwkZionY+ra04hFrSmL3dAiTEdd7WqNrdR5Smi1S2PPtcHkBsbROdRVc4qrx2buytr5Xv5xtAoZg59T8cmzYa5Z82y7dDtIKZx4n3uhuhy78MGtPr37A/8497pvYRFEyr9+DhGSmu0y/ZOaarCfe72cdP1M8eU50OILPc5IYQo6le8aTfDbOMPimAynZzVMtJvRJawpAkN6qF8eBb9XRb6L5Yc2u2g9ddv4s7ONf7LQV4qKzxhd34CV5QY9PvwJKEF5yZgXVzHbHFXySStkRn6vRfz1eSQSdp9FhVoj3VjyHaZ2X2eztl95crdcd5L2/m4W7VCHHFlDfqYuUtcTFTX7VbMv2tNROsG5Jdy6rKK+9N302VEXITdrSgYd2s2zHHj9klr8wrnQwfQd+Im2i3p9pFIG3HHjG1zW4DvseOYWu0j51JHdog5ZmpZjWs9NmTXLMqa6V6+gM96gea28iMm4wpC7z6X+KdaZAl3cZ/Dv5eVuLOD5afd56r8k/2R38eRep8TQohL/Yo3/ZDbjuaTA1U/5C4eOIErO5O+gL2v9WeA3e5Dvya+gvULzljoQi84sY64fYmCl2wOua3D6GmzXsy2tcUgwk33bUqJm+kGhhd7jOHJXb5YksUL29WYawX2tIde2rYlxiWurEK4n51TFiZKhJsbPD0tTFjjd7vQaf7OhIgXdaDC3YSl8klr82znI47c451KeLVDYpa6dZ9GaQJozTWmt7klwMX61Zk3/Q2lrqo8rRIIX2KmenVX5RneqsqZ8dqJY9ZlzXIvy0dOSBhV5sbQz1W5A+taeFBDvd3nhBASUOdu00as/VCJL5yoYgToNG5MAgtzTe6qelgW+t0/w7h5ywPft8oJSx7FwuM3qxttKvv0jwZf+PqYDa4VQed3CRd1mlgKlLDUP7KQEa7GHRMKzq2tI/FiqGOLkjGWK3DsJz0h16C2gFQQbsL0kQPYrV/qFXiyA31KOvkuTVW2A7aLM7GslXBdd5WEmxCtYxradad+ODvhJmVaEBmhmdbmlc+HoMsUcf26gtRyMZ/7AD2ey7lSmyfShg4RdL6rXInjg57rPEtZjaU0Mgr17sqadi+r++K925WtVhFulGaAFU3GBSuWO7VeRsJ9jiYs2jyDW9VY5dLuc5Pf5TH3GDIoQyz+IZLuc0IIiTAvRptKH5VtGy/hsPXVrkesGVcJ+tULQVwnOl09rF/K4U6v+sqXbS030Wx/kdvzRsn+J5dji+0CXbIB7TtLGPF+k8XqJ5aFU99AscXs0zKOhlOmj41K23IIJm0At17ajtbN7m4a+RJfB6y3+uR46Jeq+n93m+se04t5oYoLTkYQetv1yELPjaVfnOr/oz1o8vZTix7FqUVWsM1zcVktkEAbdunRhWbfSJD0tLKmocWj+j9w+8niuf6MiDJLqI6pjOGDbl0atFv7uy5gz4XbpIRHcNws01qktXnq+UhDLGiqsn451S6B4Exv8zTaXptC1zGvTcPi+EGWNe5exvnTKGI5Vi4x6xbJ97nKq9vtf6q3LRrFokPWJ0il+9w8J66I+1L/JsNI0LT7XPLrWw2Y585h01fOJ+U+J4SQKIxtSgipYcQaLR81tEYRQogHxRshhBBCSB0xL9ymhBBCCCEPCxRvhBBCCCF1BMUbIYQQQkgdQfFGCCGEEFJH1KF4c2dNr2ZCTQlLk2moPyGEEEJIjVN/4u16EZeRIZxUFmSup8yT+xJCCCGEPHhqUrzpiTcTJr+9mB8HNrZmD0KvcANNB4GlaxKZpJPWQUIIIYRUoObmeRMX58jkamz7cEOMQJOA8hNYERJi7iSexeNmFTms99JFELWM4478vdnOU/KJCUMl8U69eIL2voplp9xJQkVYHsNyNPSO64Dy6zdewkjvDBYe2o4Xuxp1up7t3eBtF6Ruk09J0Gnv2FZZBbEErruN1gnOsk4IIYSQeGpIvBkRtsISUBFc4fSML4Y0Ing+b0kP4iy/ee/RckGYtL1MJAbri7U4gxJYa3CrxQ1wvy03qsPdlJchnI8Wpv0NvjiT9UIuEHcaIxobjFgkhBBCCLGpDbepdhkO4PLG7SkiTAJLwwR5ttDBoCV+4T10OZ6fwBVY8Uu1le42bngBp3euMZYxJcSiwbJFECbtp1h46BnfqrbyqRzulKbcFQ+Jj3hLrHNq/yxxUwkhhBDyUFEb4k0Llu1oPjmQLFhEUPmiyULvK33aWjCpBdM7OGOJpVkjLlSdr7dkcWVewEfrStrF6u6zCctMSma0kD0BSB5p1kRCCCGEPJTU0ICFRqz9cC/W40TMCNBpnHnvdrmVK8QqPKsE0/qdM7iVVbyJ1e74zfLRpsaaV810JJrrU5hBAxYZkXdjaLS8X52P1EkJvaesOonVruUSmifoMiWEEEJIPDUk3lxkZOi2jZdw2LbAnT+NIpZjZYzlS49M9d2Ub2AEmwLh47kw15WA4+M4LH/bwnDJBrTvtNyj3jHFmncqhyviuvTSskwpovObQbHF3edwaTlaN5s0w53eAZOn6yb2yyoWt3XA+kwWPkIIIYQ8rNTcaNNy3IEMt16qf2tU7AAFQgghhJAqqDnLWzmuO5VuREIIIYSQuhBvhBBCCCHEow7cpoQQQgghxIOWN0IIIYSQOoLijRBCCCGkjpgn4k1GpGaczoMQQgghpI6Z/5Y3meuNoo4QQggh84Q5HbDw6aef4vLly2YtTHNzM55++mmzFkYm3o0P9D4LEoPPPwB00PmbaPcD3hNCCCGEVMecirevv/4a+XzerIXp7u7Gt771LbMWIBPZjkyujogtd6Le4nGzihzWewJIxJlEUBAkHqkv+C7gIx0YPoL1Gy0Se2f033aeUobJ3GrM9I7jjvq9hOwa6YeOWSrzzYX3k2Dz3sS7cswJrDgFjMSWSaHLexutE4ykQAghhJDqmfOpQkZHR3HhQjjY/KpVq7BmzRqz5mEE2oqI2BFE8HzekmqJS7TWJVneonla61pA9isxN/EoCi3jgBJn7aWBhOgIRrBp4WcE42ZPfMr6KBZFhZq2wI2jwYhBQgghhJCszHmftyeeeAKPPPKIWYP+W7aFEDFjYn3GCjQTKP5Hi36Gi2bT3XLx8xKg8zSxS8VSNjnl941beOh7xrWZQ3tUsInQ8/bT1r3buOEHw29Aa58nFFdhRVygfImdemsTILFT7RiuhBBCCCEVmHPxFhVrUTGn0WJmO5pPDsSLGZ2+F6/easGkFkzv4ExUEM0CcYO+qvM1S6Z+cRfwkRJ6wb6bsMykZEaL1ROA5JFiTSSEEEIIiXJfRpuKm1T6t8kif8fjxjCV/mXJo0NX4VklmNbHWbOSEKvd8Ztl+S3ONeDKullY8q5PYQYNWGTcoDeGRsv71XkokVboz2GF7RoVq13LJTRP0GVKCCGEkOqZ8z5vHt6oUxllWolo/7XoAIHkQQeGyCABtw+bWbHSQtsV3sAD2a77t7UV/dGh8LaZ9CC/1WidvAT0Sb820+fNJGkXqt3fjaNNCSGEEHKX3Dfx9nCQMECBEEIIIeQeMf8n6SWEEEIImUdQvBFCCCGE1BF0mxJCCCGE1BG0vBFCCCGE1BEUb4QQQgghdcT8FW92FIT7EcXgWh5dC/ZjzKzWFef2Y8H385g2qyHS0mqNasuqz9kCdB2pi9q51NP5iKMu2nwa+e8vwAJVzgULupC/ZjZXi56M25pL8n4/kwgh85b5K96+8wMdAWHboQaz4UHjvhD2nzOrIdLS5p6xM7vR90o3olFbhbS0WuPelfXBno806ul81C+N6P7YgeMU0Ge2zIYbY5cAP8yeouaeSYSQemXeiDeZrHfuv2ZlHrd7E5qrZriWx4E9feh40qzbpKXVGrMp62PdGHIcDD1XJ1Kons5HEvXW5hVIfu5cwGe9QHPb3NdTJg3/8VDd2mIJIbNgXog3eXgdPrkc2zLHCZ3GmT837gtZouG4tLsjSA8ejKvw7MRyXG55Ax+dN5silI50GXdLYLmZ1tua0HMU2N0WdsekpQljP5R8xrDf5Lkg5Jq13TvRNMGkp7jZpn81BORfQJtZt4mm6bJG8pLy2S4wWU8uTwLiCvzhWGjfUNupNI/oukdsPSRfvyzJ5bQtbJXOhxCqo98eco72I6/3t8+Z1wb2ObS3K8SVqPIZM/vKEudWTDpXyW0euT68sprj5fV+qm7nXFemly5t0HVkzNrXrn/lerj5uovdtklt7hLON1z/Std5HOXXvntuZd9K5yobqc+d8xO4snNNFZN1z/aZBKzckRIXmhAyP5GpQuqXKef08687b75VNOvlTH/ydiTd3ef9T6bMuuN88ZaVx1cnnfe/+bpzZNxdjafoHFG/sfNwrg46nao5sa/gro/1Odg6qI7mMeUMboXTN2ZWQySnFfapPNHpDF4N1jvzJlc5hne8WNx8w+WwKTh96FP/xhGXJtuCskTXdVkTj5WC1EO1nV9/q+2m8p2hOkbXXeLKKnW3yxpHUrsnnw85vt/+imBdyuCef11G3S7R9goI5RO9dvR6XNuXn6vkNnfrYJdV/1aOYY4nae71pfK1jumWP6i/Xi9rc5fUepTdA0Jc20bPVWS94nWehNUGoTbNeq6Szl+l546kv+2c/sqsRpibZ5LZ5/mTzrRZJ4TMX+rX8qa/RAdweeP2UBzTykzh1vEc2rsCd8bKp3LA5JT+0pV+Knd2bqoQNF4C5Juv3dAXch8Krxm7yGM5dB4toeSu3RWd+XfR/Zj7d9vaPgx/aXKVY+xpT7EYmL47H8f3kZo+cgC793XEW91i09rwQh4Y+pX56j93Vv1mhynbGM7u6cTgwVn2x9o6iBc8d+CTuxLLHEd8WRuRaxlGz9J72Tl+GmePDWO4u0lbbGRp6lbr3vmAqv/zphR+u3iErUfh/QT72ulA19YiSpa1L76OaW2urr2jfdhhuSfl2sFEyViigrTOOMvrvgJ2mfPR+N0udPr7VVOPjPfAtbMYOuqeKzdfsXwOB/WveJ0nIdd/Aa1yvpYOoevqLqueaecqhSzPnfOnUcRyrMxsdbsXzySxwO3Fto2XcHi+de0ghJRRv+JtyQa86Amo++4ukL5v5gH+4QYsNlvvO6b/kON04Kx+6YXde+mIEEHwAguRnCYvchw7q1/kuvP82rj97yfJZW17TdrGwbt42RUFMe7W6lEv/atuvv7iiZUUpo+8jB4MYsrsM5XvNClZSDtX95e7q0cKSrx7eXqLJx7v7joXOtG51RKDd0OG587Fz0tY9tL9fy74btxbjK1MyHynzvu8NWLth3uxHifK+4gk0oRFm0so+H1GpnHmvRIWbmzVD9vFbcuxsH80+ctVf3mfAE7txYvWl3JlxBIEFEtxVqC0NJtp5A/GCaY27FIvt8K+6AuqvN+Pz7kP0NOSYHFIS1Mv0h0tQzh7bQxnJyxrmSpDhzp+z0/SBJLpWxRXnjQ8q8+1PF7uHtabfNLKamh8bgjO1UHLelSJpPNhrHmvVFl+RelLVe6WnMpBGMMH0XrYSJ3QhQ6vTol1TGvzHHJbd+OAb3V0r53OLR2mDNkZ+0kPYParqh5ZeSyH1qM9eLmihTTpOk+6ruT6b1fJQxg6OIhiW7WWuyRSnjvq+VCYXI0/qWAlC3OXzyT5/Z+/gRFserAfk4SQ+8a8GLDguwusL2E9CmyR+hLtnQH61UNWOvrqdHnwbkJDr/py1p1/B1BcsSkQYvJlfeobKLbEdQ6+gI9aLqF5Ym9FF0Ycbc8PAr7LLWw9SEsL3HRNGNoy5Vsk3A7Yst1d2hG4utJJEoFCWppL29pW9CxVL8XIlBVtr01hcELcW16Z7v5l2fjcDvSpF3uT5Le0hB1j9uQNaWUNd4DXbjPfvSgvddkeHphgd6JPOh+6jkpa6fKYpbzzfTmSn+v6k30OIJePTkKxG+1enqo6Bd9tnH4+ktvcchnq7aquLYXsozz9srrXlbdf5XokkdbmSpQpcR20tyzBtTO761yO59ZZ/1Z9dLybL6o2zmK1866ddnVWPHdu+X5xz52L+XHAiK4oc/NMEovbbLqPEELqmQWO+CdIzSIj9A48PnVvp1aQUZgHc5iK61eWllZr1FNZ05BRmiJMHbtPluEB1FHEUtOXOzK5g4mFWOVbbqL91g+Cud0IIWQOoHirceZEvJHaIk28PQAo3gghpLaZF25TQgghhJCHBVreCCGEEELqCFreCCGEEELqCIo3QgghhJA6Yv6Kt/M/84fV11fMv3kY/J6Qe4Y7p5kfW7hu73N3Ul0GlCeEzIb5K96+8wO8emsvth1qMBvuEfKyyDwh8FzjzZ3lLtEwUKH5saITmIaCttvzsYXzrG42+/DcauH5z9LLmkYo8HooSkJkLjcrPRysPVj8MskIT397tI5BWasNrZXW5qnnI43Usqa1eTrJ7Vp7ZfW5XsRlWJPgztV9zo8oQkgNM2/Em54As86+vDOhIzr8DBfNqo2EKpJJe2XMiUQQQPfLwctSibOmY11BGKMtQ2jyX9DqJdoGFExaYd9utPtpJh6qt18eFaImeIjgkdnsvX0LQFvw8k4taxqqHjIpq5dn3572yEs/Eq7KTG/hhcbSkRUk3qZJdyd3VWV9RWJdutt0Hf2oCSIwmlB6ZQqDW/WG7KS1eer5SEOVR8fldPdzrnZhaKknttPb3ENEWpywD9pVXQNqzf/NAyyrkHYvp02CW9ek3OeEEFKGepDWPV+89brz5vMnnWmzbjP9ydvOm28VzZrhq5PO+99U+3hLZF+dn5/+tnP6K9ladI7Y+3iLyVv2OfKJyVdt8/I4Mq6Ty475/ifq1egTzds7pmH8p+XbyphylNhw+saifwvuOtDnKBFTzlifg62D6lflFPbB6czHpUSI5iHr6vKK3zdavuyEy1Nw+tDpKPGWzNVBR4m3+Hp7xP7GLWN8+eW4qj332XuktXlaWsBUvlNtC9dHb7OO4/7G5JWxzcvPYbTdTH10XlnKarZFrpl7Uda0e9m9T37qfGHWbGLv87L7Krxv/H0e3e4t7r5ynPfVfa7zVeX8Qo6r/vbv59T7vDzvUHqm+5wQQhynzi1vs4zpp4NL79XuFlnWrxjHZ14fGhObcJuf7gV5XoVnZf1UDthspVshaa703kT7xGos7D+BQm471u8EZq5Mm5nX3bBabp5uKBy33464Z9xYqV7aMp2bhbiGJpbjcovV1yfKtbMYOtqHDm1ZKqF0tBM5HQvTsyQV0IdibHBuCTAfinlpub7aJwbxboYJgqdLRT/mpXa5HcyhkO/E8Jcl9wc2obJWwxjO7ulE13ft8njhi+LcdNmY/tUQhvd13OUEuWltXt35sJFYop2Pq2tOIRY0mTxXiTEdd7WqNrdR5Smi1S2PPtcHkBsbROdRVc4qrx2buytr5Xv5xtAoZg59r4roBeaeNcu2Q7eD+KGJ97kb9sq9DxvQ6t+zQdSEO72XsGhCpR8fx0hpjXbZ3ilNVbjP3T5uun7mmPJ8CJHlPieEEEX9ijftZphtTD8RTKaTs1pG+o3IEpY0oUE9lA/Por/LQv/FkkO7HbT++k3c2bnGfznIS2WFJ+zOT+CKEoMVA1lrwbkJWBfXMVvcVT1oHYvM0O+9mK967sJytPssKtAe68aQ7TKz+zyds/vKlbvjvJe283G3aoU44soa9DFzF7sPnofrdivm37UCtLuByqWcuqzi/vTddBkRF2F3KwpVRRMwx43bJ63NK5wPHUDfGYoJQF/S7SORNuKOGdvmtgDfY8fHtdpHzqWO7BBzzNSyGtd6bMiuWZQ10718AZ/1As1t5UdMxhWE3n0uMUW1yBLu4j6Hfy8rcddtlTftPlfln+yP/D6O1PucEEJc6le86YfcdjSfHKj6IXfxwAlc2Zn0Bex9rT8D7HYf+jXxFaxfcMZCF3rBiXXE7UsUvGRzyG0dRk+b9WK2rS0GEW66b1NK3Ew3MLzYYwxP7vLFkixe2K7GXKsOZm6/tG1LjEtcWYVwPzunLEyUCDc3KH9amLDG73ah0/ydCREv6kCFexKWKq3Ns52POHKPdyrh1Y7SK15bT6M0AbTmGtPb3BLgYv3qzJv+hlJXVZ5WCYQvMVO9uqvyDG9V5cx47cQx67JmuZflIyckjCpzY+jnqtyBdS08qKHe7nNCCAmoc7dpI9Z+qMQXTlQxAnQaNyaBhbkmd1U9LAv97p9h3Lzlge9b5YQlj2Lh8ZvVjTaVffpHgy98fcwG14qg87uEizpNLAVKWOofWcgIV+OOeda20GnrSLwY6tiiZIzlChz7SU/INagtIBWEmzB95AB265d6BZ7sQJ+STr5LU5XtgO3iTCxrJVzXXSXhJkTrmIZ23akfzk64SZkWREZoprV55fMh6DJFXL+uILVczOc+QI/ncq7U5om0oUMEne8qV+L4oOc6z1JWYymNjEK9u7Km3cvqvnjvdmWrVYQbpRlgRZNxwYrlTq2XkXCfowmLNs/gVjVWubT73OR3ecw9hgzKEIt/iKT7nBBCIsyL0abSR2Xbxks4bH216xFrxlWCfvVCENeJTlcP65dyuNOrvvJlW8tNNNtf5Pa8UbL/yeXYYrtAl2xA+84SRrzfZLH6iWXh1DdQbDH7tIyj4ZTpY6PSthyCSRvArZe2o3Wzu5tGvsTXAeutPjke+qWq/t/d5rrH9GJeqOKCkxGE3nY9stBzY+kXp/r/aA+avP3UokdxapEVbPNcXFYLJNCGXXp0odlXjzoM3HFpZU1Di0f1f+D2k8Vz/RkRZZZQHVMZwwfdujRot/Z3XcCeC7dJCY/guFmmtUhr89TzkYZY0FRl/XKqXQLBmd7mabS9NoWuY16bhsXxgyxr3L2M86dRxHKsXGLWLZLvc5VXt9v/VG9bNIpFh6xPkEr3uXlOXBH3pf5NhpGgafe55Ne3GjDPncOmr5xPyn1OCCFRGNuUEFLDiDVaPmpojSKEEA+KN0IIIYSQOmJeuE0JIYQQQh4WKN4IIYQQQuoIijdCCCGEkDqC4o0QQgghpI6oQ/HmzppezYSaEpYm01B/QgghhJAap/7E2/UiLiNDOKksyFxPmSf3JYQQQgh58NSkeNMTbyZMfnsxPw5sbM0ehF7hBpoOAkvXJDJJJ62DhBBCCKlAzc3zJi7OkcnV2PbhhhiBJgHlJ7AiJMTcSTyLx80qcljvpYsgahnHHfl7s52n5BMThkrinXrxBO19FctOuZOEirA8huVo6B3XAeXXb7yEkd4ZLDy0HS92Nep0Pdu7wdsuSN0mn5Kg096xrbIKYglcdxutE5xlnRBCCCHx1JB4MyJshSWgIrjC6RlfDGlE8Hzekh7EWX7z3qPlgjBpe5lIDNYXa3EGJbDW4FaLG+B+W25Uh7spL0M4Hy1M+xt8cSbrhVwg7jRGNDYYsUgIIYQQYlMbblPtMhzA5Y3bU0SYBJaGCfJsoYNBS/zCe+hyPD+BK7Dil2or3W3c8AJO71xjLGNKiEWDZYsgTNpPsfDQM75VbeVTOdwpTbkrHhIf8ZZY59T+WeKmEkIIIeShojbEmxYs29F8ciBZsIig8kWThd5X+rS1YFILpndwxhJLs0ZcqDpfb8niyryAj9aVtIvV3WcTlpmUzGghewKQPNKsiYQQQgh5KKmhAQuNWPvhXqzHiZgRoNM4897tcitXiFV4Vgmm9TtncCureBOr3fGb5aNNjTWvmulINNenMIMGLDIi78bQaHm/Oh+pkxJ6T1l1EqtdyyU0T9BlSgghhJB4aki8ucjI0G0bL+GwbYE7fxpFLMfKGMuXHpnquynfwAg2BcLHc2GuKwHHx3FY/raF4ZINaN9puUe9Y4o171QOV8R16aVlmVJE5zeDYou7z+HScrRuNmmGO70DJk/XTeyXVSxu64D1mSx8hBBCCHlYqbnRpuW4AxluvVT/1qjYAQqEEEIIIVVQc5a3clx3Kt2IhBBCCCF1Id4IIYQQQohHHbhNCSGEEEKIBy1vhBBCCCF1BMUbIYQQQkgdMU/Em4xIzTidByGEEEJIHTP/LW8y1xtFHSGEEELmCXM6YOHTTz/F5cuXzVqY5uZmPP3002YtjEy8Gx/ofRYkBp9/AOig8zfR7ge8J4QQQgipjjkVb19//TXy+bxZC9Pd3Y1vfetbZi1AJrIdmVwdEVvuRL3F42YVOaz3BJCIM4mgIEg8Ul/wXcBHOjB8BOs3WiT2zui/7TylDJO51ZjpHccd9XsJ2TXSDx2zVOabC+8nwea9iXflmBNYcQoYiS2TQpf3NlonGEmBEEIIIdUz51OFjI6O4sKFcLD5VatWYc2aNWbNwwi0FRGxI4jg+bwl1RKXaK1LsrxF87TWtYDsV2Ju4lEUWsYBJc7aSwMJ0RGMYNPCzwjGzZ74lPVRLIoKNW2BG0eDEYOEEEIIIVmZ8z5vTzzxBB555BGzBv23bAshYsbE+owVaCZQ/I8W/QwXzaa75eLnJUDnaWKXiqVscsrvG7fw0PeMazOH9qhgE6Hn7aete7dxww+G34DWPk8orsKKuED5Ejv11iZAYqfaMVwJIYQQQiow5+ItKtaiYk6jxcx2NJ8ciBczOn0vXr3VgkktmN7BmaggmgXiBn1V52uWTP3iLuAjJfSCfTdhmUnJjBarJwDJI8WaSAghhBAS5b6MNhU3qfRvk0X+jseNYSr9y5JHh67Cs0owrY+zZiUhVrvjN8vyW5xrwJV1s7DkXZ/CDBqwyLhBbwyNlver81AirdCfwwrbNSpWu5ZLaJ6gy5QQQggh1TPnfd48vFGnMsq0EtH+a9EBAsmDDgyRQQJuHzazYqWFtiu8gQeyXfdvayv6o0PhbTPpQX6r0Tp5CeiTfm2mz5tJ0i5Uu78bR5sSQggh5C65b+Lt4SBhgAIhhBBCyD1i/k/SSwghhBAyj6B4I4QQQgipI+g2JYQQQgipI2h5I4QQQgipIyjeCCGEEELqiPkr3uwoCPcjisG1PLoW7MeYWa0rzu3Hgu/nMW1WQ6Sl1RrVllWfswXoOlIXtXOpp/NB7gPTyH9/ARao63jBgi7kr5nN1aInDg/mvZTpkLzn50fnzUZCSM0wf8Xbd36gIyBsO9RgNjxo3Ifs/nNmNURa2twzdmY3+l7pRjRqq5CWVmvcu7I+2PORRs2fDxGXWkjIEv2YGcN+Py3SvkZIx4qQUJ5q+WH2T6TpI13BfhHRO/bD2eWZWta0Os4Jjej+2IHjFNBntsyGG2OXAD8kILByh0SP2Y7WzWYDIaSmmDfiTSbrnXsLm8zjdm9Cc9UM6kV0YE8fOp406zZpabXGbMr6WDeGHAdDz9WDNFXU/PlQwqUNKKg2lXFQhX270e6LIhHE7eonbpqIDbR5wkelvTKErqtu2lQe6HnFElpP7jL7uPv17TmQzcKkRF/TsS5MmX2ntgyhySuPSmtHwcqzPaPQSitrWh0fPGJN+/FQnM32Aj7rBZrb5vo+mIfPT0IeFOohU/d88dbrzpvPn3SmzbrN9CdvO2++VTRrHlPO6efVPt80S3Tfr04673tpann/E/X49zBpR8bNusfVQacTfc5gvlNG7+qlb8xNmrK2BUunM3g1PU0o7JN8Co76qjZpfY56ORqmnMGt9n52mmDStw6qv+KR43fm41OjabqskbykfPZvZD25PAmM9TnYVwjtG2o7leYRXfeIrYfk65cluZzesQSdv7WPuwTnQwjV0W8POUfB+Q/OmdcG9jm0tyvk2lH5FKxjx52TaB11WUPnwz3fiefD/q2+XlPSMpSnItL+Xr7234I5N7H5mnsp9tpJSwvhtkVwbr17JX5faadZ1dEuTzV1DGGuDeu61udN51XpuvKQ7eHrNMA878qeg4bxnyakufuVPeu8/Lxn5L14fhJCqqLOxVuFh5KiXLy5+9gPFC3+vN9kergUnSPRh5L3MvQewNEHufor/DKxSU5zX75hMee/DOQYMUImwLywQuWwcV8M8TnEpUVfEOH14IVTJeYl59ffaruoWIuuu8SVVeqe9DLzSGr35PMRJ6DcdSmDe/51GXW7RNsrIJRP9NqJFShxdYzkH9kvuazlyLnz62vKEy5f9NiVsa9V3SamfvpvdX61OCw7l+Hferj3gbvEnZdy7LZxz40rfOLOR9L2ypTVK2Mdy/HKqP4MPTvc7ZKHzlOXM668SXWIeVaFkOfh287pr8xqiDjxNkfPT0JIVdSv21R3sB3A5Y3bQ3FMKzOFW8dzaO8KXAQrn8oBk1M6eL30/bizc1OFoPESIH87mk8ORILo96HwWpv752M5dB4toeSu3RWd+XfR/Zj7d9vaPgx/aXKVY+xpR3nfIg/TH+bj+D5S00cOYPe+DpgSh4hPa8MLeWDoV8b1cu6s+s0OU7YxnN3TicGDs+yPtXUQL3juQHGTJZQ5jviyNiLXMoyepfdyQMI0zh4bxnB3k9+nqalbrXvnA6r+z5tS+O3i4faji99PsK+dDnRtLaJkuduynI/pXw0B+RfMbyqVNdw3q30PUCzZ7dSHHZ47WbuXd/n52vVIuvakr1n7xCDejbikpZ9Z05c79PlVd1054ursbg3awtD2mu2KtPuShetRNphD9087gNxVB7ti3c2uq7No3WNCqK+cWmJdqgllrVjHWNqw6+ogiqpuC1R2hdD1n3ZdpaAHbZ0ATu3VMZljOX8aRSzHyszh/Oby+UkIyUr9irclG/Ci9wC4H6NJQ0jfDSMcP9yAxWbrfcf02XKcDpzVL5lq+tfIyx3BSyFEclrjd7uAY2f1C1J3nl8bt//9JLms3gv/XbzsvoSr6ZSeiHqRmv5O/hJ5eccxfeRl9GAw6H+V7zQpWahwPro/UBLG/U3Xd+2XdHJZx37YrsSg1+dL+qfpzRnwOsh7iyfqAkT46L5mlgBpzLUC6kPjwONTfhlKXw6j83FL3sjABJVUiMkzQARrpyU0lejxy6IW/5g55LYq8d5Wwg5nyBU810pKqLQi54sfEW5NGNoyVdbvsfG5IauOMcIvpqyZ6liJrZ3qrIWF+6zRg7Y2AeuS+roBFz8vYdlL9/sZViPPT0LqmDofsNCItR/uxXqcqOILrgmLNpdQ8B9m0zjzXgkLN7bqh8jituVY2D+a3KlWW/wqfM3GIpagqHXDIy3NRr1sDsYJJvcFVtg3HHnoGytJ3NQS5z5AT0vCV3xamhKMO1qGcPbaGM5OWNYyVYYOdfyen6QJJGMlqXaqi4mS+/trebzcPaw3+aSV1aBfxFcH0enlU5Gk82GseXZn+ozISxwtOZWDMIYPovWwkTqhCx1enSqdj327cfaH0d+klXUapQkl7TxRoQdCuH/eLdrqFBFumic70KdkiS8u9TGDdW3pioiheNy2a81Vuvca0bFFCWTLWjn2kx4M++tyLcYLt0oklrVCHV2S7gG1fekQug4OYWisdVbXWDyWlSv6kaueZYXJ1fiTVCtZlAf1/CSEhFBflfOCaN82vf7NoNOsXvx0t89F+XaDdOC10oO+GbJfQv+QaL+guH5Cpi+RNLt6dYb7pySk2X19ZIn2YbLTyvvWJPV5S+7TlZ5miPZR8zHH88sU10crpjyhPj5RzD5efvJbv55pZbX3k8Vu72g53SWUT+K5Kt/X3S/ocxT0fbL6IUXzy1v1CKXJYrfbvTwf1m/MPu7idoi/2z5u5fVwF/+YiW0aPVfu4pUnfA/Y+1UmtK91f5TdO3rJUuf0sibX0cPsH7re3W32ve2WW8oTXEOx15WXX2iJbyPpmxbtqxbf78z0JbaegbIE/djm4PlJCKmKBfKPuuFJjSKWDHHD3NPpLMTlczBXbh0R0tJqjXoqaxrSL2upuPdirE5Z6hjjwiMkFbGAtdxE+60f+HO7EULqB4q3GmdOxBupLdLEW0WS+20RQgiZn8zfCAuEzHNE2C9Y0ISelgKFGyGEPETQ8kYIIYQQUkfQ8kYIIYQQUkdQvBFCCCGE1BHzV7zp2cXfcJf7Ponv3cDgzYQkM40zf/4GPjpvVuv2Pk8LFE8IIenMX/GmZxffi22HGsyGe4S8LGompIuZhFdHVygPAxUK8ROdFFSml/DSQiGOwnlWF7UhHKooHFIovaxpuB3zzRITJSFUT5Me2sdagjIF5Ykti90+1U4qnDARa6V6JJJ4rsrrGRvGKYG08qReO2nIyFlvv7JrJ+36yMj1Ii7Dmlh2ru5zfkQRQmqYeSPebgy9U3df3pnQM5L/DBfNqo2EXJIpImTMiXN1EOh+OXhZqhe+nule0tQytWUITf4LWr1E9bxgblph3260+2nh8EdTeVSImuAhYqhdZe3tKzEog5d3alnTUPVohxfGqYC+Pe2hl74IELueXlgiPxamRFaQuKEm3Q1zJCKiCaVXpjC4Vf88RDCDvsmjqnnkTDvs6zPrhgr1SCbtXFn1lGWsD7sPlgstaaM4YR+UR+Wr1vzfpF47aaiySpQALyTX1S4MLfXEZvr1YZN2L1/MjwNmNv95Rcp9TgghUeaFeBP3w+GTy7Eta4B6/aA0rhZZIpY0yc9P87++5Utcra8rAcfHcdhLNy8Z2eejIZOv2ubl4bt3IscMu0tM3no5gStmq0ZiuJ4CRmKsABL2yZ8iQgcz98JjqRelhNF6xRMdEvdyGNhz1rxIJZxWMKeYBLv3Q1BFyBybUYd0ssJlSdB6DPtB05PLWgEJUu/HDpUQXHbYKgmGr4RZ1ZP0uuHEkgKV6ziiV9PmXDMWpBhBo2OYthSwa63Z4JFaDxfX2hUVNNnP1XSpaIXgSkNCTNmxUqUdgWEds7bStSOIEFP1j1jk3OD5QYguCZQ/rK6CsyJSK1wfHun38gVM9oeDoqdj31eyhMVR/H3ubZf7cAbFFi/d3VeE5Y/Vfa7zVc+NiyI01d/+/Zx6n4ePOdJvNgop9zkhhESpc/Hm9n8ZwabqAhzroPZ7tbtFlvUrxvGZJbIk3t82P/2vsHaJJEiMQLV+SgmZzVa69ZK50nsT7ROrsbD/BAq57Vi/E5i5oh7e8kBvuYTmCS/PTWjoHTDCTl4wbqw/L22Zzs1CXEMTy3FZvUh8MRjl2lkMHe1Dh345llA62mkCcHtWpgL6EgJeS4D5zi0dwUvfcn21Twzi3QxziNnCQYuQgzkU8p0Y/lKJ3SihslaDiAwrVqQIgK05lCz3XzXu2Fh02VqBX5W7Yiui2u3l7lYUfJGWRKQeVVB2rvT5dcvZlOnYCjtAuz7XB5AbG0TnUXXdVHnt2NhCX1tEv9yhA96LSK18fVS+l28MjWLm0PeqiAhg7lmzbDt0O4jJmXifAyt3ePdhA1r9ezaIRHCn9xIWTah09RE3UlqjXbZ3SlMV7nNXuOn6mWPK8yFElvucEEIU9Sve9BfuAC5v3B4SUNkIf5HLF7AWWcKSJjRoy1r1X8AL/RdLxDpw/Sbu7FzjvxzkpbLCE3bnJ3BFicGKwaG14NwErFNlLnMpibuqB61jEWuR92K+mmRlcl+kZQLtsW4M2S4z28IS6n9VLpa8l7a4GuPtdXFlNZYcP99wvy4X1+1WzL8bDtB+tAeltYErrjWrOzaV3RjCuybPKQxORF2cruUusKQJqnyviMswzWInJNRDoQPoO0PxAegVsefKK4ssqtHavbazBbhY1bqbyttWzqWO7BBzzNRrx7jWYy2eJX0uJSpIuH1cYq+PTPfyBXzWCzS3lR8xGVcQevf54d4ZV2QJd3Gfw7+Xlbjrtsqbdp9rq2Hk93Gk3ueEEOJSv+JNP+S2o/nkQNUPuYsHTuDKzqQvYO9r/Rn1Dncf+jXxFaxfcMZCF3rBiXXE7UsUvGRzyG0dRk+b9WK2rS0GEQO6b1OK27HxuR3o0xYZg7j/PLGgFs8V2phrBfa0h17a5S7XuLIK4X52TlmYKBE8CSGgtlquOFPvTO7YVPqwwz9OI3It5S7OMsQteFS1+VIjQNt2a2HZpP4OhF9KPSqQ5VzhyRcwuNVYyCwBLtavzrzpbyht+1hOXQm70S4xU722VtfH8FbVfhmvnThyj3cqkdiO0ivedTGN0gTQmmtMvz6y3MvykRMSRpW5MfRzVe7AuhYe1FBv9zkhhATUudu0EWs/VOILJ6oYATqNG5PAwlyTu6oelgW774mPm7c88H2rnLDkUSw8frO60aayT/9o8IWvj9ngWhF0fpdwUaeJpSDS502QEa7GHfOsbaHT1pF4MdSxpRPY1+GLoLGf9GDYXhcLSCUxoND9mPRLvQJPdijJY7kCVdkO2K7BxLJWwnXdxQoeOebRIZz1xNqs3bEWuj+e6aeliXNxSpmUQLPdqRFRK4MHRFhKp3+3vin1MGh3Yszo3qznyhWQlUWW1+cucL8qUXnQc8dWvnb072P6vDV+t0sPDvHbX5fHrFe6PtRxk+9ldV+8d7uy1SrCjdIMsKLJuGDFcqfWy0i4z9GERZtncKsaq1zafW7yuzzmHkP6zoX6vAlJ9zkhhESYFwMWpI/Kto2XcNj6atcj1oyrBP3qhSCuE52uHtYv5XCnV33ly7aWm2i2v8jteaNk/5PLscV2gS7ZgPadJYx4v8li9RPLwqlvBJ2fW8bRcMr0sVFpWw7BpA3g1kvb0brZ3U0jX+LrgPVWnxwP/VJV/+9uM9YeWcwLVVxwMoLQ265HFnpuLP3iVP8by5D3G20h0iIr2Oa5uKwWSKANu/ToQrOvHnUYuOPSypqGFo/q/8DtJ4vn+lPHHGsNrF36mJXcloIRH0pM9RwN8nYtZI3oPjiIol9OEZzJrsyspNcjhbRz5YlIb7EtaRVoe20KXce8soRFZeq1k4ZY+1SF2r3yqF0KfnnSrw+PuHsZ50+jiOVYGWN1S77PVV7dbv9TvW3RKBYdsj5BKt3n5jlxRdyX+jcZRoKm3eeSX99qwDx3Dpu+cj4p9zkhhERhbFNCSA0j1mj5qKE1ihBCPCjeCCGEEELqiHnhNiWEEEIIeVigeCOEEEIIqSMo3gghhBBC6giKN0IIIYSQOqIOxZs7a3o1E2q68QQZ9JkQQggh9U/9ibfrRVxGhnBSWZC5njJP7ksIIYQQ8uCpSfGmJ95MmPz2Yn4c2NiaPQi9wg00HQSWrklkkk5aBwkhhBBSgZqb501cnCOTq7Htww0xAk0Cyk9gRUiIuZN4Fo+bVeSw3ksXQdQyjjvy92Y7T8knJgyVxDv14gna+yqWnXInCRVheQzL0dA7rgPKr994CSO9M1h4aDte7GrU6Xq2d4O3XZC6TT4lQae9Y1tlFcQSuO42Wic4yzohhBBC4qkh8WZE2ApLQEVwhdMzvhjSiOD5vCU9iLP85r1HywVh0vYykRisL9biDEpgrcGtFjfA/bbcqA53U16GcD5amPY3+OJM1gu5QNxpjGhsMGKREEIIIcSmNtym2mU4gMsbt6eIMAksDRPk2UIHg5b4hffQ5Xh+AldgxS/VVrrbuOEFnN65xljGlBCLBssWQZi0n2LhoWd8q9rKp3K4U5pyVzwkPuItsc6p/bPETSWEEELIQ0VtiDctWLaj+eRAsmARQeWLJgu9r/Rpa8GkFkzv4IwllmaNuFB1vt6SxZV5AR+tK2kXq7vPJiwzKZnRQvYEIHmkWRMJIYQQ8lBSQwMWGrH2w71YjxMxI0Cncea92+VWrhCr8KwSTOt3zuBWVvEmVrvjN8tHmxprXjXTkWiuT2EGDVhkRN6NodHyfnU+Uicl9J6y6iRWu5ZLaJ6gy5QQQggh8dSQeHORkaHbNl7CYdsCd/40iliOlTGWLz0y1XdTvoERbAqEj+fCXFcCjo/jsPxtC8MlG9C+03KPescUa96pHK6I69JLyzKliM5vBsUWd5/DpeVo3WzSDHd6B0yerpvYL6tY3NYB6zNZ+AghhBDysFJzo03LcQcy3Hqp/q1RsQMUCCGEEEKqoOYsb+W47lS6EQkhhBBC6kK8EUIIIYQQjzpwmxJCCCGEEA9a3gghhBBC6giKN0IIIYSQOmKeiDcZkZpxOg9CCCGEkLoF+P8BFHVUKq0wIWUAAAAASUVORK5CYII=)"
      ],
      "metadata": {
        "id": "jqE8FM1imP1W"
      }
    },
    {
      "cell_type": "markdown",
      "source": [
        "В целом можно, например, используя этот sitemap как отправную точку, спарсить 100 статей vc.ru, скажем, начиная с 2022-02-01"
      ],
      "metadata": {
        "id": "V7TH4QkemtEW"
      }
    },
    {
      "cell_type": "markdown",
      "source": [
        "Будем сохранять текст статьи, название и дату публикации. Для этого определим класс, в который будем загружать полученные данные"
      ],
      "metadata": {
        "id": "XntlMvmrnWT-"
      }
    },
    {
      "cell_type": "code",
      "source": [
        "class Article(scrapy.Item):\n",
        "    text = scrapy.Field()\n",
        "    title = scrapy.Field()\n",
        "    publication_date = scrapy.Field()"
      ],
      "metadata": {
        "id": "JCvy04kURpqL"
      },
      "execution_count": 3,
      "outputs": []
    },
    {
      "cell_type": "markdown",
      "source": [
        "Для получения отдельных элементов на странице, кроме различных html и css-селекторов, как мы это делали в bs4, используя классы html-элементов, можно использовать xpath-селекторы.\n",
        "\n",
        "Xpath — это язык запросов к элементам xml или xhtml документа. Подробно об xpath-запросах можно почитать в:\n",
        "- [XPath примеры - шпаргалка для разбора страниц](https://xn--80afqpaigicolm.xn--p1ai/theory/xpath-example/)\n",
        "- [Примеры xpath-запросов к html](https://habr.com/ru/post/114772/)\n",
        "- [Scrapy Selectors](https://docs.scrapy.org/en/latest/topics/selectors.html)\n"
      ],
      "metadata": {
        "id": "YULGRtQinfPF"
      }
    },
    {
      "cell_type": "code",
      "source": [
        "class Config:\n",
        "    \"\"\"Класс для конфигурации xpath-запросов\n",
        "    text_xpath - xpath элемента с основным текстом статьи;\n",
        "    title_path - xpath элемента с основным наименованием статьи;\n",
        "    publication_date_path - xpath элемента с датой публикации.\n",
        "    \"\"\"\n",
        "    def __init__(self, text_xpath, title_path, publication_date_path):\n",
        "        self.text_xpath = text_xpath\n",
        "        self.title_path = title_path\n",
        "        self.publication_date_path = publication_date_path"
      ],
      "metadata": {
        "id": "mLpzOgkpd1E0"
      },
      "execution_count": 4,
      "outputs": []
    },
    {
      "cell_type": "code",
      "source": [
        "class VcSpider(scrapy.Spider):\n",
        "    name = \"VcSpider\"\n",
        "\n",
        "    # С этой ссылки начнется обход\n",
        "    start_urls = ['https://vc.ru/sitemap.xml']\n",
        "\n",
        "    # Эти ссылки пропустим во время обхода\n",
        "    skip_urls = [\n",
        "        'https://vc.ru/sitemap/tags.xml',\n",
        "        'https://vc.ru/sitemap/job.xml',\n",
        "        'https://vc.ru/sitemap/companies.xml',\n",
        "    ]\n",
        "\n",
        "    # Пропишем сохранение в csv\n",
        "    custom_settings = {\n",
        "        \"FEEDS\": {\n",
        "            \"items.csv\": {\n",
        "                'format': 'csv',\n",
        "                'overwrite': True\n",
        "            },\n",
        "        },\n",
        "    }\n",
        "\n",
        "    # Зададим xpath-запросы к тексту, названию и дате статьи в конфиге\n",
        "    config = Config(\n",
        "        text_xpath='//div[contains(@class, \"content--full\")]//p/text()',\n",
        "        title_path='normalize-space(//h1[contains(@class, \"content-title\")]//text())',\n",
        "        publication_date_path='//time[contains(@class, \"time\")]//@title'\n",
        "    )\n",
        "\n",
        "    # Начнем сохранять статьи с этой даты\n",
        "    begin_from = '2023-02-01'\n",
        "\n",
        "    def __init__(self, *args, **kwargs):\n",
        "        super().__init__(*args, **kwargs)\n",
        "        self.cnt = 0      \n",
        "\n",
        "    def parse(self, response):\n",
        "        \"\"\"Функция для парсинга ссылок первого уровня (в данном случае sitemap из start_urls).\n",
        "        Args:\n",
        "            response: ответ на запрос (request) к start_url.\n",
        "        \"\"\"\n",
        "        body = response.body\n",
        "\n",
        "        # Вытаскиваем ссылки и даты из sitemap по xpath\n",
        "        sitemap_urls = scrapy.Selector(text=body).xpath(\"//loc/text()\").getall()\n",
        "        sitemap_dates = scrapy.Selector(text=body).xpath(\"//lastmod/text()\").getall()\n",
        "\n",
        "        for url, dt in zip(sitemap_urls, sitemap_dates):\n",
        "            # Пропускаем ненужные ссылки\n",
        "            if url in self.skip_urls:\n",
        "                continue\n",
        "            dt = parse(dt)\n",
        "\n",
        "            if dt and dt.date() >= parse(VcSpider.begin_from).date():\n",
        "                # Если на первом уровне все ок, идем дальше и парсим ссылку второго уровня - новый request\n",
        "                yield scrapy.Request(url=url, callback=self.parse_sitemap_url) \n",
        "\n",
        "    def parse_sitemap_url(self, response):\n",
        "        \"\"\"Функция для парсинга ссылок второго уровня (по запросу из parse).\n",
        "        В данном случае ссылки вида https://vc.ru/sitemap/year-2020-02-10.xml\n",
        "        Args:\n",
        "            response: ответ на запрос (request) к sitemap-url.\n",
        "        \"\"\"\n",
        "        body = response.body\n",
        "        urls = scrapy.Selector(text=body).xpath(\"//loc/text()\").getall()\n",
        "        sitemap_dates = scrapy.Selector(text=body).xpath(\"//lastmod/text()\").getall()\n",
        "\n",
        "        for url, dt in zip(urls, sitemap_dates):\n",
        "            dt = parse(dt)\n",
        "\n",
        "            # Если уже сохранили 100 статей - заканчиваем парсинг\n",
        "            if self.cnt >= 100:\n",
        "              raise scrapy.exceptions.CloseSpider('Limit exceeded')\n",
        "\n",
        "            if dt and dt.date() >= parse(VcSpider.begin_from).date():\n",
        "                self.cnt += 1\n",
        "                # Если и тут все ок, финально парсим статью\n",
        "                yield scrapy.Request(url=url, callback=self.parse_page)\n",
        "\n",
        "    def parse_page(self, response):\n",
        "        \"\"\"Функция для парсинга отдельной html страницы.\n",
        "        Функция является генератором и возвращает отдельный элемент с данными страницы.\n",
        "        :param response: ответ на запрос (request) к url конкретной статьи.\n",
        "        \"\"\"\n",
        "        # Вытаскиваем текст, название и дату\n",
        "        pub_date_list = response.xpath(self.config.publication_date_path).extract()\n",
        "        text = ' '.join(response.xpath(self.config.text_xpath).extract())\n",
        "        title = response.xpath(self.config.title_path).extract()\n",
        "        publication_date = ' '.join(pub_date_list[0].split()[:2]) if pub_date_list else ''\n",
        "\n",
        "        loader = ItemLoader(item=Article(), response=response)\n",
        "        loader.add_value(\"title\", title)\n",
        "        loader.add_value(\"text\", text)\n",
        "        loader.add_value(\"publication_date\", publication_date)\n",
        "        yield loader.load_item()"
      ],
      "metadata": {
        "id": "q1oq4PtORptc"
      },
      "execution_count": 5,
      "outputs": []
    },
    {
      "cell_type": "markdown",
      "source": [
        "### Запуск с crochet\n",
        "\n",
        "Вообще говоря, scrapy скорее предназначен для создания парсеров в виде полноценных python-проектов, разбитых на отдельные модули и запускающиеся через shell. Spider для vc.ru реализован в jupyter notebook чисто для наглядности, поэтому с обычным запуском может возникнуть проблема - ошибка `ReactorNotRestartable`\n",
        "\n",
        "Для ее решения можно либо перезапускать среду каждый раз, либо использовать [crochet](https://github.com/itamarst/crochet), раз уж мы вообще запускаем scrapy в колабе.\n",
        "\n",
        "\n",
        "PS. Пример того, как могут выглядеть scrapy-спайдеры в виде python-скриптов можно посмотреть в проекте [newsviz](https://github.com/newsviz/Spiders)"
      ],
      "metadata": {
        "id": "bTxpbr2yhkIt"
      }
    },
    {
      "cell_type": "code",
      "source": [
        "from crochet import setup, wait_for\n",
        "setup()"
      ],
      "metadata": {
        "id": "-15AslNfhjIt"
      },
      "execution_count": 6,
      "outputs": []
    },
    {
      "cell_type": "code",
      "source": [
        "@wait_for(20)\n",
        "def run_spider():\n",
        "    crawler = CrawlerRunner()\n",
        "    return crawler.crawl(VcSpider)"
      ],
      "metadata": {
        "id": "cfNCMlkBhgd7"
      },
      "execution_count": 7,
      "outputs": []
    },
    {
      "cell_type": "code",
      "source": [
        "run_spider()"
      ],
      "metadata": {
        "colab": {
          "base_uri": "https://localhost:8080/",
          "height": 0
        },
        "id": "aTeDW_Fchgam",
        "outputId": "fc9a34f8-0c62-4551-8469-8f113ddee85a"
      },
      "execution_count": 8,
      "outputs": [
        {
          "output_type": "stream",
          "name": "stderr",
          "text": [
            "WARNING:twisted:/usr/local/lib/python3.8/dist-packages/scrapy/utils/request.py:232: scrapy.exceptions.ScrapyDeprecationWarning: '2.6' is a deprecated value for the 'REQUEST_FINGERPRINTER_IMPLEMENTATION' setting.\n",
            "\n",
            "It is also the default value. In other words, it is normal to get this warning if you have not defined a value for the 'REQUEST_FINGERPRINTER_IMPLEMENTATION' setting. This is so for backward compatibility reasons, but it will change in a future version of Scrapy.\n",
            "\n",
            "See the documentation of the 'REQUEST_FINGERPRINTER_IMPLEMENTATION' setting for information on how to handle this deprecation.\n"
          ]
        }
      ]
    },
    {
      "cell_type": "code",
      "source": [
        "pd.set_option('display.max_colwidth', 400)\n",
        "data = pd.read_csv('items.csv')\n",
        "data.head()"
      ],
      "metadata": {
        "colab": {
          "base_uri": "https://localhost:8080/",
          "height": 406
        },
        "id": "p7oGHgYv2yfP",
        "outputId": "0ccab90c-cb10-4701-ffb8-26e44f410029"
      },
      "execution_count": 9,
      "outputs": [
        {
          "output_type": "execute_result",
          "data": {
            "text/plain": [
              "      publication_date  \\\n",
              "0  13.02.2023 22:50:10   \n",
              "1  13.02.2023 22:19:01   \n",
              "2  13.02.2023 22:54:25   \n",
              "3  13.02.2023 23:20:03   \n",
              "4  13.02.2023 22:55:00   \n",
              "\n",
              "                                                                                                                                                                                                                                                                                                                                                                                                              text  \\\n",
              "0  Добро пожаловать в библиотеку генеративного искусственного интеллекта. Изучите более 500 нейросетей для создания избражений и др. контента. Список самых популярных нейросетей Нейросеть с открытым исходным кодом. Включает в себя такие инструменты как out painting, in painting, матрицу подсказок, масштабирование, текстовую инверсию, генерацию пакетов, рандомизаторы. Discord-бот для создания изоб...   \n",
              "1  С 13 по 19 февраля «Москвариум» дарит возможность устроить для своей второй половинки оригинальные свидания. В течение недели под названием «Океан любви» влюблённые получат   на покупку двух билетов в Аквариум и множество идей для романтических свиданий. Близится праздник всех влюбленных – День Святого Валентина. В этот день каждому хочется не просто вручить близкому человеку традиционную откр...   \n",
              "2  Привет всем! Сегодня рассмотрим курсы программирования в Москве, которые можно пройти абсолютно без нервов. Вы получите полную информацию о обучении и выдаче сертификата. 20 Лучших платформ с бесплатными/платными курсами программирования в Москве в 2023 году : русский : Москва и область : популярные языки — JS, Java, Kotlin, IOS, веб разработка и др. : 5/5 : бесплатные вебинары и интенсивы, ку...   \n",
              "3  Доверители, обращаясь с запросом о взыскании алиментов, часто бывают удивлены тому, что чтобы взыскать алименты не обязательно расторгать брак с матерью/отцом ребенка. Нахождение в браке никаким образом не препятствует взысканию алиментов и, более того, не влияет на размер присуждаемых выплат.  В случае, если родители не предоставляют содержание своим несовершеннолетним детям, средства на соде...   \n",
              "4                                                                                                                              Получить до 10 уроков в подарок при покупке пакета занятий:  Промокод SPRING действует на обычные пакеты уроков, подписки, калькуляторные пакеты, короткие уроки и на тариф «Премиум». Подробнее об онлайн-школе Skyeng:                                                              \n",
              "\n",
              "                                                                                                                     title  \n",
              "0                                                                   20 лучших нейросетей для создания контента в 2023 году  \n",
              "1                                 «Москвариум» дарит возможность устроить для своей второй половинки оригинальные свидания  \n",
              "2  Где обучиться программировать с нуля на Python, Javascript, Ruby и др. языках в 2023 году с выдачей сертификата или нет  \n",
              "3                                                                        Возможно ли взыскать алименты на ребенка в браке?  \n",
              "4                                       Изучайте английский выгодно в Skyeng: до 10 уроков в подарок по промокоду — SPRING  "
            ],
            "text/html": [
              "\n",
              "  <div id=\"df-0af39442-5f84-4075-b601-d4e8465be4b9\">\n",
              "    <div class=\"colab-df-container\">\n",
              "      <div>\n",
              "<style scoped>\n",
              "    .dataframe tbody tr th:only-of-type {\n",
              "        vertical-align: middle;\n",
              "    }\n",
              "\n",
              "    .dataframe tbody tr th {\n",
              "        vertical-align: top;\n",
              "    }\n",
              "\n",
              "    .dataframe thead th {\n",
              "        text-align: right;\n",
              "    }\n",
              "</style>\n",
              "<table border=\"1\" class=\"dataframe\">\n",
              "  <thead>\n",
              "    <tr style=\"text-align: right;\">\n",
              "      <th></th>\n",
              "      <th>publication_date</th>\n",
              "      <th>text</th>\n",
              "      <th>title</th>\n",
              "    </tr>\n",
              "  </thead>\n",
              "  <tbody>\n",
              "    <tr>\n",
              "      <th>0</th>\n",
              "      <td>13.02.2023 22:50:10</td>\n",
              "      <td>Добро пожаловать в библиотеку генеративного искусственного интеллекта. Изучите более 500 нейросетей для создания избражений и др. контента. Список самых популярных нейросетей Нейросеть с открытым исходным кодом. Включает в себя такие инструменты как out painting, in painting, матрицу подсказок, масштабирование, текстовую инверсию, генерацию пакетов, рандомизаторы. Discord-бот для создания изоб...</td>\n",
              "      <td>20 лучших нейросетей для создания контента в 2023 году</td>\n",
              "    </tr>\n",
              "    <tr>\n",
              "      <th>1</th>\n",
              "      <td>13.02.2023 22:19:01</td>\n",
              "      <td>С 13 по 19 февраля «Москвариум» дарит возможность устроить для своей второй половинки оригинальные свидания. В течение недели под названием «Океан любви» влюблённые получат   на покупку двух билетов в Аквариум и множество идей для романтических свиданий. Близится праздник всех влюбленных – День Святого Валентина. В этот день каждому хочется не просто вручить близкому человеку традиционную откр...</td>\n",
              "      <td>«Москвариум» дарит возможность устроить для своей второй половинки оригинальные свидания</td>\n",
              "    </tr>\n",
              "    <tr>\n",
              "      <th>2</th>\n",
              "      <td>13.02.2023 22:54:25</td>\n",
              "      <td>Привет всем! Сегодня рассмотрим курсы программирования в Москве, которые можно пройти абсолютно без нервов. Вы получите полную информацию о обучении и выдаче сертификата. 20 Лучших платформ с бесплатными/платными курсами программирования в Москве в 2023 году : русский : Москва и область : популярные языки — JS, Java, Kotlin, IOS, веб разработка и др. : 5/5 : бесплатные вебинары и интенсивы, ку...</td>\n",
              "      <td>Где обучиться программировать с нуля на Python, Javascript, Ruby и др. языках в 2023 году с выдачей сертификата или нет</td>\n",
              "    </tr>\n",
              "    <tr>\n",
              "      <th>3</th>\n",
              "      <td>13.02.2023 23:20:03</td>\n",
              "      <td>Доверители, обращаясь с запросом о взыскании алиментов, часто бывают удивлены тому, что чтобы взыскать алименты не обязательно расторгать брак с матерью/отцом ребенка. Нахождение в браке никаким образом не препятствует взысканию алиментов и, более того, не влияет на размер присуждаемых выплат.  В случае, если родители не предоставляют содержание своим несовершеннолетним детям, средства на соде...</td>\n",
              "      <td>Возможно ли взыскать алименты на ребенка в браке?</td>\n",
              "    </tr>\n",
              "    <tr>\n",
              "      <th>4</th>\n",
              "      <td>13.02.2023 22:55:00</td>\n",
              "      <td>Получить до 10 уроков в подарок при покупке пакета занятий:  Промокод SPRING действует на обычные пакеты уроков, подписки, калькуляторные пакеты, короткие уроки и на тариф «Премиум». Подробнее об онлайн-школе Skyeng:</td>\n",
              "      <td>Изучайте английский выгодно в Skyeng: до 10 уроков в подарок по промокоду — SPRING</td>\n",
              "    </tr>\n",
              "  </tbody>\n",
              "</table>\n",
              "</div>\n",
              "      <button class=\"colab-df-convert\" onclick=\"convertToInteractive('df-0af39442-5f84-4075-b601-d4e8465be4b9')\"\n",
              "              title=\"Convert this dataframe to an interactive table.\"\n",
              "              style=\"display:none;\">\n",
              "        \n",
              "  <svg xmlns=\"http://www.w3.org/2000/svg\" height=\"24px\"viewBox=\"0 0 24 24\"\n",
              "       width=\"24px\">\n",
              "    <path d=\"M0 0h24v24H0V0z\" fill=\"none\"/>\n",
              "    <path d=\"M18.56 5.44l.94 2.06.94-2.06 2.06-.94-2.06-.94-.94-2.06-.94 2.06-2.06.94zm-11 1L8.5 8.5l.94-2.06 2.06-.94-2.06-.94L8.5 2.5l-.94 2.06-2.06.94zm10 10l.94 2.06.94-2.06 2.06-.94-2.06-.94-.94-2.06-.94 2.06-2.06.94z\"/><path d=\"M17.41 7.96l-1.37-1.37c-.4-.4-.92-.59-1.43-.59-.52 0-1.04.2-1.43.59L10.3 9.45l-7.72 7.72c-.78.78-.78 2.05 0 2.83L4 21.41c.39.39.9.59 1.41.59.51 0 1.02-.2 1.41-.59l7.78-7.78 2.81-2.81c.8-.78.8-2.07 0-2.86zM5.41 20L4 18.59l7.72-7.72 1.47 1.35L5.41 20z\"/>\n",
              "  </svg>\n",
              "      </button>\n",
              "      \n",
              "  <style>\n",
              "    .colab-df-container {\n",
              "      display:flex;\n",
              "      flex-wrap:wrap;\n",
              "      gap: 12px;\n",
              "    }\n",
              "\n",
              "    .colab-df-convert {\n",
              "      background-color: #E8F0FE;\n",
              "      border: none;\n",
              "      border-radius: 50%;\n",
              "      cursor: pointer;\n",
              "      display: none;\n",
              "      fill: #1967D2;\n",
              "      height: 32px;\n",
              "      padding: 0 0 0 0;\n",
              "      width: 32px;\n",
              "    }\n",
              "\n",
              "    .colab-df-convert:hover {\n",
              "      background-color: #E2EBFA;\n",
              "      box-shadow: 0px 1px 2px rgba(60, 64, 67, 0.3), 0px 1px 3px 1px rgba(60, 64, 67, 0.15);\n",
              "      fill: #174EA6;\n",
              "    }\n",
              "\n",
              "    [theme=dark] .colab-df-convert {\n",
              "      background-color: #3B4455;\n",
              "      fill: #D2E3FC;\n",
              "    }\n",
              "\n",
              "    [theme=dark] .colab-df-convert:hover {\n",
              "      background-color: #434B5C;\n",
              "      box-shadow: 0px 1px 3px 1px rgba(0, 0, 0, 0.15);\n",
              "      filter: drop-shadow(0px 1px 2px rgba(0, 0, 0, 0.3));\n",
              "      fill: #FFFFFF;\n",
              "    }\n",
              "  </style>\n",
              "\n",
              "      <script>\n",
              "        const buttonEl =\n",
              "          document.querySelector('#df-0af39442-5f84-4075-b601-d4e8465be4b9 button.colab-df-convert');\n",
              "        buttonEl.style.display =\n",
              "          google.colab.kernel.accessAllowed ? 'block' : 'none';\n",
              "\n",
              "        async function convertToInteractive(key) {\n",
              "          const element = document.querySelector('#df-0af39442-5f84-4075-b601-d4e8465be4b9');\n",
              "          const dataTable =\n",
              "            await google.colab.kernel.invokeFunction('convertToInteractive',\n",
              "                                                     [key], {});\n",
              "          if (!dataTable) return;\n",
              "\n",
              "          const docLinkHtml = 'Like what you see? Visit the ' +\n",
              "            '<a target=\"_blank\" href=https://colab.research.google.com/notebooks/data_table.ipynb>data table notebook</a>'\n",
              "            + ' to learn more about interactive tables.';\n",
              "          element.innerHTML = '';\n",
              "          dataTable['output_type'] = 'display_data';\n",
              "          await google.colab.output.renderOutput(dataTable, element);\n",
              "          const docLink = document.createElement('div');\n",
              "          docLink.innerHTML = docLinkHtml;\n",
              "          element.appendChild(docLink);\n",
              "        }\n",
              "      </script>\n",
              "    </div>\n",
              "  </div>\n",
              "  "
            ]
          },
          "metadata": {},
          "execution_count": 9
        }
      ]
    },
    {
      "cell_type": "markdown",
      "source": [
        "В целом, конечно, Scrapy сильно сложнее и мощнее, чем представлен в этом примере, поэтому стоит ознакомиться с его документацией, как минимум с некоторыми [общепринятыми практиками](https://docs.scrapy.org/en/latest/topics/practices.html)"
      ],
      "metadata": {
        "id": "VGW2aObmz5ae"
      }
    },
    {
      "cell_type": "code",
      "source": [],
      "metadata": {
        "id": "9hK9-eurdGAU"
      },
      "execution_count": 9,
      "outputs": []
    }
  ]
}