{
 "cells": [
  {
   "cell_type": "code",
   "execution_count": 1,
   "metadata": {},
   "outputs": [],
   "source": [
    "%load_ext autoreload\n",
    "%autoreload 2\n"
   ]
  },
  {
   "cell_type": "markdown",
   "metadata": {},
   "source": [
    "# Import Libraries"
   ]
  },
  {
   "cell_type": "code",
   "execution_count": 2,
   "metadata": {
    "_cell_guid": "fd0d94af-8dcd-4258-92fc-d1c304215a9a",
    "_uuid": "d2539467b6d1fa164da8c43825cd30a124eb9c47",
    "execution": {
     "iopub.execute_input": "2022-10-22T15:12:58.844268Z",
     "iopub.status.busy": "2022-10-22T15:12:58.843942Z",
     "iopub.status.idle": "2022-10-22T15:12:59.830323Z",
     "shell.execute_reply": "2022-10-22T15:12:59.829169Z",
     "shell.execute_reply.started": "2022-10-22T15:12:58.844211Z"
    }
   },
   "outputs": [],
   "source": [
    "import os\n",
    "\n",
    "import pandas as pd\n",
    "import numpy as np\n",
    "from sklearn.linear_model import LogisticRegression\n",
    "from sklearn.feature_extraction.text import TfidfVectorizer\n",
    "from sklearn.metrics import accuracy_score\n"
   ]
  },
  {
   "cell_type": "markdown",
   "metadata": {
    "_cell_guid": "b4043cdf-f986-42bc-ad09-ea124e152507",
    "_uuid": "6b388128bf18f28c29d66377e9deb5f1ea8067f1"
   },
   "source": [
    "# Read Data"
   ]
  },
  {
   "cell_type": "code",
   "execution_count": 9,
   "metadata": {
    "_cell_guid": "7ce644b7-5332-40d7-a827-15f6897be5e8",
    "_uuid": "d1134807fc7b6c604f7fbdd42e0f27e69a834337",
    "execution": {
     "iopub.execute_input": "2022-10-22T15:13:07.032899Z",
     "iopub.status.busy": "2022-10-22T15:13:07.032543Z",
     "iopub.status.idle": "2022-10-22T15:13:07.164389Z",
     "shell.execute_reply": "2022-10-22T15:13:07.163659Z",
     "shell.execute_reply.started": "2022-10-22T15:13:07.032813Z"
    }
   },
   "outputs": [
    {
     "name": "stdout",
     "output_type": "stream",
     "text": [
      "Number of rows and columns in the train data set: (8050, 4)\n",
      "Number of rows and columns in the test data set: (2684, 3)\n"
     ]
    },
    {
     "data": {
      "text/html": [
       "<div>\n",
       "<style scoped>\n",
       "    .dataframe tbody tr th:only-of-type {\n",
       "        vertical-align: middle;\n",
       "    }\n",
       "\n",
       "    .dataframe tbody tr th {\n",
       "        vertical-align: top;\n",
       "    }\n",
       "\n",
       "    .dataframe thead th {\n",
       "        text-align: right;\n",
       "    }\n",
       "</style>\n",
       "<table border=\"1\" class=\"dataframe\">\n",
       "  <thead>\n",
       "    <tr style=\"text-align: right;\">\n",
       "      <th></th>\n",
       "      <th>movie_name</th>\n",
       "      <th>target</th>\n",
       "      <th>movie_description</th>\n",
       "      <th>id</th>\n",
       "    </tr>\n",
       "  </thead>\n",
       "  <tbody>\n",
       "    <tr>\n",
       "      <th>0</th>\n",
       "      <td>Furies</td>\n",
       "      <td>0</td>\n",
       "      <td>Three furious vigilantes unite to take down a ...</td>\n",
       "      <td>133529636342330622371894152500993949030</td>\n",
       "    </tr>\n",
       "    <tr>\n",
       "      <th>1</th>\n",
       "      <td>RRR</td>\n",
       "      <td>0</td>\n",
       "      <td>The story of freedom fighters Komaram Bheem an...</td>\n",
       "      <td>133529660110779376651195430564179049830</td>\n",
       "    </tr>\n",
       "    <tr>\n",
       "      <th>2</th>\n",
       "      <td>John Wick</td>\n",
       "      <td>0</td>\n",
       "      <td>Legendary assassin John Wick (Keanu Reeves) re...</td>\n",
       "      <td>133529680710101630359923204885606137190</td>\n",
       "    </tr>\n",
       "    <tr>\n",
       "      <th>3</th>\n",
       "      <td>John Wick: Chapter 3 -- Parabellum</td>\n",
       "      <td>0</td>\n",
       "      <td>After gunning down a member of the High Table ...</td>\n",
       "      <td>133529687048354631501070212369122164070</td>\n",
       "    </tr>\n",
       "    <tr>\n",
       "      <th>4</th>\n",
       "      <td>Top Gun: Maverick</td>\n",
       "      <td>0</td>\n",
       "      <td>After more than thirty years of service as one...</td>\n",
       "      <td>133529699724860633783364227336154217830</td>\n",
       "    </tr>\n",
       "  </tbody>\n",
       "</table>\n",
       "</div>"
      ],
      "text/plain": [
       "                           movie_name  target  \\\n",
       "0                              Furies       0   \n",
       "1                                 RRR       0   \n",
       "2                           John Wick       0   \n",
       "3  John Wick: Chapter 3 -- Parabellum       0   \n",
       "4                   Top Gun: Maverick       0   \n",
       "\n",
       "                                   movie_description  \\\n",
       "0  Three furious vigilantes unite to take down a ...   \n",
       "1  The story of freedom fighters Komaram Bheem an...   \n",
       "2  Legendary assassin John Wick (Keanu Reeves) re...   \n",
       "3  After gunning down a member of the High Table ...   \n",
       "4  After more than thirty years of service as one...   \n",
       "\n",
       "                                        id  \n",
       "0  133529636342330622371894152500993949030  \n",
       "1  133529660110779376651195430564179049830  \n",
       "2  133529680710101630359923204885606137190  \n",
       "3  133529687048354631501070212369122164070  \n",
       "4  133529699724860633783364227336154217830  "
      ]
     },
     "execution_count": 9,
     "metadata": {},
     "output_type": "execute_result"
    }
   ],
   "source": [
    "path = \"../data/\"\n",
    "train = pd.read_csv(os.path.join(path, \"train.csv\"))\n",
    "test = pd.read_csv(os.path.join(path, \"test.csv\"))\n",
    "print(\"Number of rows and columns in the train data set:\", train.shape)\n",
    "print(\"Number of rows and columns in the test data set:\", test.shape)\n",
    "train.head()\n"
   ]
  },
  {
   "cell_type": "markdown",
   "metadata": {
    "_cell_guid": "3a73e542-178e-4b3e-ad8c-87e9dc659762",
    "_uuid": "2daff7626ba426dbfa0172b6c3a4351af27cd4e9"
   },
   "source": [
    "# Text Preprocessing"
   ]
  },
  {
   "cell_type": "code",
   "execution_count": 10,
   "metadata": {
    "_cell_guid": "93502afb-68c7-4cc2-ad03-f71d2b2cbf2a",
    "_uuid": "3d1747c73d3c67c93eb4e7e81de4400276f0580c",
    "execution": {
     "iopub.execute_input": "2022-10-22T15:13:40.745269Z",
     "iopub.status.busy": "2022-10-22T15:13:40.744644Z",
     "iopub.status.idle": "2022-10-22T15:13:40.749914Z",
     "shell.execute_reply": "2022-10-22T15:13:40.748916Z",
     "shell.execute_reply.started": "2022-10-22T15:13:40.745211Z"
    }
   },
   "outputs": [],
   "source": [
    "# Init tf-idf\n",
    "vect_word = TfidfVectorizer(\n",
    "    max_features=100,\n",
    "    lowercase=True,\n",
    "    analyzer=\"word\",\n",
    "    stop_words=\"english\",\n",
    "    ngram_range=(1, 3),\n",
    "    dtype=np.float32\n",
    ")\n"
   ]
  },
  {
   "cell_type": "code",
   "execution_count": 17,
   "metadata": {
    "_cell_guid": "a72962ea-4082-4ba4-b2b5-fe7be9e0b1d7",
    "_uuid": "230a91ee6de4d0afe8fa32bbdf411e3301d949b1",
    "execution": {
     "iopub.execute_input": "2022-10-22T15:16:19.119626Z",
     "iopub.status.busy": "2022-10-22T15:16:19.119329Z",
     "iopub.status.idle": "2022-10-22T15:16:21.668140Z",
     "shell.execute_reply": "2022-10-22T15:16:21.667023Z",
     "shell.execute_reply.started": "2022-10-22T15:16:19.119587Z"
    }
   },
   "outputs": [
    {
     "name": "stdout",
     "output_type": "stream",
     "text": [
      "Unexpected exception formatting exception. Falling back to standard exception\n"
     ]
    },
    {
     "name": "stderr",
     "output_type": "stream",
     "text": [
      "Traceback (most recent call last):\n",
      "  File \"/home/nikivene/ITMO_Projects/the_first_NLP_project/.venv/lib/python3.10/site-packages/IPython/core/interactiveshell.py\", line 3460, in run_code\n",
      "    exec(code_obj, self.user_global_ns, self.user_ns)\n",
      "  File \"/tmp/ipykernel_31666/2451382420.py\", line 4, in <module>\n",
      "    X_test = vect_word.transform(test[\"movie_description\"])\n",
      "  File \"/home/nikivene/ITMO_Projects/the_first_NLP_project/.venv/lib/python3.10/site-packages/pandas/core/frame.py\", line 3424, in __getitem__\n",
      "    if self.columns.is_unique and key in self.columns:\n",
      "  File \"pandas/_libs/properties.pyx\", line 36, in pandas._libs.properties.CachedProperty.__get__\n",
      "  File \"/home/nikivene/ITMO_Projects/the_first_NLP_project/.venv/lib/python3.10/site-packages/pandas/core/indexes/base.py\", line 2388, in is_unique\n",
      "  File \"pandas/_libs/properties.pyx\", line 36, in pandas._libs.properties.CachedProperty.__get__\n",
      "  File \"/home/nikivene/ITMO_Projects/the_first_NLP_project/.venv/lib/python3.10/site-packages/pandas/core/indexes/base.py\", line 888, in _engine\n",
      "    and any unsigned integer `dtype` is treated as ``'uint64'``,\n",
      "  File \"/home/nikivene/ITMO_Projects/the_first_NLP_project/.venv/lib/python3.10/site-packages/pandas/core/indexes/base.py\", line 5160, in _get_engine_target\n",
      "    return self._get_values_for_loc(series, loc, key)\n",
      "NameError: name 'StringArray' is not defined\n",
      "\n",
      "During handling of the above exception, another exception occurred:\n",
      "\n",
      "Traceback (most recent call last):\n",
      "  File \"/home/nikivene/ITMO_Projects/the_first_NLP_project/.venv/lib/python3.10/site-packages/IPython/core/interactiveshell.py\", line 2057, in showtraceback\n",
      "    stb = self.InteractiveTB.structured_traceback(\n",
      "  File \"/home/nikivene/ITMO_Projects/the_first_NLP_project/.venv/lib/python3.10/site-packages/IPython/core/ultratb.py\", line 1288, in structured_traceback\n",
      "    return FormattedTB.structured_traceback(\n",
      "  File \"/home/nikivene/ITMO_Projects/the_first_NLP_project/.venv/lib/python3.10/site-packages/IPython/core/ultratb.py\", line 1177, in structured_traceback\n",
      "    return VerboseTB.structured_traceback(\n",
      "  File \"/home/nikivene/ITMO_Projects/the_first_NLP_project/.venv/lib/python3.10/site-packages/IPython/core/ultratb.py\", line 1030, in structured_traceback\n",
      "    formatted_exception = self.format_exception_as_a_whole(etype, evalue, etb, number_of_lines_of_context,\n",
      "  File \"/home/nikivene/ITMO_Projects/the_first_NLP_project/.venv/lib/python3.10/site-packages/IPython/core/ultratb.py\", line 960, in format_exception_as_a_whole\n",
      "    frames.append(self.format_record(record))\n",
      "  File \"/home/nikivene/ITMO_Projects/the_first_NLP_project/.venv/lib/python3.10/site-packages/IPython/core/ultratb.py\", line 870, in format_record\n",
      "    frame_info.lines, Colors, self.has_colors, lvals\n",
      "  File \"/home/nikivene/ITMO_Projects/the_first_NLP_project/.venv/lib/python3.10/site-packages/IPython/core/ultratb.py\", line 704, in lines\n",
      "    return self._sd.lines\n",
      "  File \"/home/nikivene/ITMO_Projects/the_first_NLP_project/.venv/lib/python3.10/site-packages/stack_data/utils.py\", line 144, in cached_property_wrapper\n",
      "    value = obj.__dict__[self.func.__name__] = self.func(obj)\n",
      "  File \"/home/nikivene/ITMO_Projects/the_first_NLP_project/.venv/lib/python3.10/site-packages/stack_data/core.py\", line 734, in lines\n",
      "    pieces = self.included_pieces\n",
      "  File \"/home/nikivene/ITMO_Projects/the_first_NLP_project/.venv/lib/python3.10/site-packages/stack_data/utils.py\", line 144, in cached_property_wrapper\n",
      "    value = obj.__dict__[self.func.__name__] = self.func(obj)\n",
      "  File \"/home/nikivene/ITMO_Projects/the_first_NLP_project/.venv/lib/python3.10/site-packages/stack_data/core.py\", line 681, in included_pieces\n",
      "    pos = scope_pieces.index(self.executing_piece)\n",
      "  File \"/home/nikivene/ITMO_Projects/the_first_NLP_project/.venv/lib/python3.10/site-packages/stack_data/utils.py\", line 144, in cached_property_wrapper\n",
      "    value = obj.__dict__[self.func.__name__] = self.func(obj)\n",
      "  File \"/home/nikivene/ITMO_Projects/the_first_NLP_project/.venv/lib/python3.10/site-packages/stack_data/core.py\", line 660, in executing_piece\n",
      "    return only(\n",
      "  File \"/home/nikivene/ITMO_Projects/the_first_NLP_project/.venv/lib/python3.10/site-packages/executing/executing.py\", line 190, in only\n",
      "    raise NotOneValueFound('Expected one value, found 0')\n",
      "executing.executing.NotOneValueFound: Expected one value, found 0\n"
     ]
    }
   ],
   "source": [
    "# Train tf-idf\n",
    "X_train = vect_word.fit_transform(train[\"movie_description\"])\n",
    "# Map tf-idf on test\n",
    "X_test = vect_word.transform(test[\"movie_description\"])\n",
    "\n",
    "y_train = train[\"target\"]\n"
   ]
  },
  {
   "cell_type": "markdown",
   "metadata": {
    "_cell_guid": "fab7e57c-fa64-4540-a53e-085f849d42ca",
    "_uuid": "b15c44a583628a0a72036536e8a5fdb67273a4ae"
   },
   "source": [
    "# Init Model"
   ]
  },
  {
   "cell_type": "code",
   "execution_count": 14,
   "metadata": {
    "execution": {
     "iopub.execute_input": "2022-10-22T15:16:21.880637Z",
     "iopub.status.busy": "2022-10-22T15:16:21.880056Z",
     "iopub.status.idle": "2022-10-22T15:16:21.885559Z",
     "shell.execute_reply": "2022-10-22T15:16:21.884535Z",
     "shell.execute_reply.started": "2022-10-22T15:16:21.880578Z"
    }
   },
   "outputs": [],
   "source": [
    "# Init logreg model\n",
    "logreg = LogisticRegression(\n",
    "    C=2,\n",
    "    random_state=42\n",
    ")\n"
   ]
  },
  {
   "cell_type": "markdown",
   "metadata": {},
   "source": [
    "# Train Model"
   ]
  },
  {
   "cell_type": "code",
   "execution_count": 16,
   "metadata": {
    "execution": {
     "iopub.execute_input": "2022-10-22T15:16:22.540664Z",
     "iopub.status.busy": "2022-10-22T15:16:22.540044Z",
     "iopub.status.idle": "2022-10-22T15:16:22.777918Z",
     "shell.execute_reply": "2022-10-22T15:16:22.776916Z",
     "shell.execute_reply.started": "2022-10-22T15:16:22.540310Z"
    }
   },
   "outputs": [
    {
     "ename": "NameError",
     "evalue": "name 'y_train' is not defined",
     "output_type": "error",
     "traceback": [
      "\u001b[0;31m---------------------------------------------------------------------------\u001b[0m",
      "\u001b[0;31mNameError\u001b[0m                                 Traceback (most recent call last)",
      "Cell \u001b[0;32mIn[16], line 2\u001b[0m\n\u001b[1;32m      1\u001b[0m \u001b[39m# Train logreg\u001b[39;00m\n\u001b[0;32m----> 2\u001b[0m logreg\u001b[39m.\u001b[39mfit(X_train, y_train)\n",
      "\u001b[0;31mNameError\u001b[0m: name 'y_train' is not defined"
     ]
    }
   ],
   "source": [
    "# Train logreg\n",
    "logreg.fit(X_train, y_train)\n"
   ]
  },
  {
   "cell_type": "markdown",
   "metadata": {},
   "source": [
    "# Create Predicts"
   ]
  },
  {
   "cell_type": "code",
   "execution_count": 8,
   "metadata": {
    "execution": {
     "iopub.execute_input": "2022-10-22T15:16:24.515014Z",
     "iopub.status.busy": "2022-10-22T15:16:24.514357Z",
     "iopub.status.idle": "2022-10-22T15:16:24.520003Z",
     "shell.execute_reply": "2022-10-22T15:16:24.519109Z",
     "shell.execute_reply.started": "2022-10-22T15:16:24.514620Z"
    }
   },
   "outputs": [],
   "source": [
    "# Predict probabilities\n",
    "preds_proba = logreg.predict_proba(X_test)\n",
    "# Get classes\n",
    "preds = np.argmax(preds_proba, axis=1)\n",
    "# pred_labels = le.inverse_transform(preds)\n"
   ]
  },
  {
   "cell_type": "markdown",
   "metadata": {},
   "source": [
    "# Create submission"
   ]
  },
  {
   "cell_type": "code",
   "execution_count": 9,
   "metadata": {
    "execution": {
     "iopub.execute_input": "2022-10-22T15:18:39.652561Z",
     "iopub.status.busy": "2022-10-22T15:18:39.652223Z",
     "iopub.status.idle": "2022-10-22T15:18:39.681088Z",
     "shell.execute_reply": "2022-10-22T15:18:39.680365Z",
     "shell.execute_reply.started": "2022-10-22T15:18:39.652512Z"
    }
   },
   "outputs": [
    {
     "data": {
      "text/html": [
       "<div>\n",
       "<style scoped>\n",
       "    .dataframe tbody tr th:only-of-type {\n",
       "        vertical-align: middle;\n",
       "    }\n",
       "\n",
       "    .dataframe tbody tr th {\n",
       "        vertical-align: top;\n",
       "    }\n",
       "\n",
       "    .dataframe thead th {\n",
       "        text-align: right;\n",
       "    }\n",
       "</style>\n",
       "<table border=\"1\" class=\"dataframe\">\n",
       "  <thead>\n",
       "    <tr style=\"text-align: right;\">\n",
       "      <th></th>\n",
       "      <th>id</th>\n",
       "      <th>target</th>\n",
       "    </tr>\n",
       "  </thead>\n",
       "  <tbody>\n",
       "    <tr>\n",
       "      <th>0</th>\n",
       "      <td>133529667241314002934985813983134580070</td>\n",
       "      <td>2</td>\n",
       "    </tr>\n",
       "    <tr>\n",
       "      <th>1</th>\n",
       "      <td>133529693386607632642217219852638190950</td>\n",
       "      <td>0</td>\n",
       "    </tr>\n",
       "    <tr>\n",
       "      <th>2</th>\n",
       "      <td>133529737754378640630246272237250379110</td>\n",
       "      <td>1</td>\n",
       "    </tr>\n",
       "    <tr>\n",
       "      <th>3</th>\n",
       "      <td>133529756769137644053687294687798459750</td>\n",
       "      <td>4</td>\n",
       "    </tr>\n",
       "    <tr>\n",
       "      <th>4</th>\n",
       "      <td>133529828866765532034234504812793265510</td>\n",
       "      <td>3</td>\n",
       "    </tr>\n",
       "  </tbody>\n",
       "</table>\n",
       "</div>"
      ],
      "text/plain": [
       "                                        id  target\n",
       "0  133529667241314002934985813983134580070       2\n",
       "1  133529693386607632642217219852638190950       0\n",
       "2  133529737754378640630246272237250379110       1\n",
       "3  133529756769137644053687294687798459750       4\n",
       "4  133529828866765532034234504812793265510       3"
      ]
     },
     "execution_count": 9,
     "metadata": {},
     "output_type": "execute_result"
    }
   ],
   "source": [
    "sample_submission = pd.read_csv(os.path.join(path, \"sample_submission.csv\"))\n",
    "sample_submission[\"target\"] = preds\n",
    "sample_submission.head()\n"
   ]
  },
  {
   "cell_type": "code",
   "execution_count": 10,
   "metadata": {
    "execution": {
     "iopub.execute_input": "2022-10-22T15:20:02.013423Z",
     "iopub.status.busy": "2022-10-22T15:20:02.013108Z",
     "iopub.status.idle": "2022-10-22T15:20:02.268276Z",
     "shell.execute_reply": "2022-10-22T15:20:02.266831Z",
     "shell.execute_reply.started": "2022-10-22T15:20:02.013382Z"
    }
   },
   "outputs": [],
   "source": [
    "sample_submission.to_csv(\"submission.csv\", index=False)\n"
   ]
  },
  {
   "cell_type": "code",
   "execution_count": null,
   "metadata": {},
   "outputs": [],
   "source": []
  }
 ],
 "metadata": {
  "kernelspec": {
   "display_name": "Python 3.7.9 ('venv': venv)",
   "language": "python",
   "name": "python3"
  },
  "language_info": {
   "codemirror_mode": {
    "name": "ipython",
    "version": 3
   },
   "file_extension": ".py",
   "mimetype": "text/x-python",
   "name": "python",
   "nbconvert_exporter": "python",
   "pygments_lexer": "ipython3",
   "version": "3.10.9"
  },
  "vscode": {
   "interpreter": {
    "hash": "4ce47e61e2a197e18f6178d2b52c72741babf3e522a6ab2c8e52c7be76b98a41"
   }
  }
 },
 "nbformat": 4,
 "nbformat_minor": 4
}
