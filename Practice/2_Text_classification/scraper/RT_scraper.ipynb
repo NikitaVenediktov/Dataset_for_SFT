{
 "cells": [
  {
   "cell_type": "code",
   "execution_count": 5,
   "metadata": {},
   "outputs": [],
   "source": [
    "import os\n",
    "import pandas as pd\n",
    "import rotten_tomatoes_scraper"
   ]
  },
  {
   "cell_type": "code",
   "execution_count": 4,
   "metadata": {},
   "outputs": [
    {
     "name": "stdout",
     "output_type": "stream",
     "text": [
      "Number of rows and columns in the test data set: (2684, 3)\n"
     ]
    },
    {
     "data": {
      "text/html": [
       "<div>\n",
       "<style scoped>\n",
       "    .dataframe tbody tr th:only-of-type {\n",
       "        vertical-align: middle;\n",
       "    }\n",
       "\n",
       "    .dataframe tbody tr th {\n",
       "        vertical-align: top;\n",
       "    }\n",
       "\n",
       "    .dataframe thead th {\n",
       "        text-align: right;\n",
       "    }\n",
       "</style>\n",
       "<table border=\"1\" class=\"dataframe\">\n",
       "  <thead>\n",
       "    <tr style=\"text-align: right;\">\n",
       "      <th></th>\n",
       "      <th>movie_name</th>\n",
       "      <th>movie_description</th>\n",
       "      <th>id</th>\n",
       "    </tr>\n",
       "  </thead>\n",
       "  <tbody>\n",
       "    <tr>\n",
       "      <th>0</th>\n",
       "      <td>All Quiet on the Western Front</td>\n",
       "      <td>All Quiet on the Western Front tells the gripp...</td>\n",
       "      <td>133529667241314002934985813983134580070</td>\n",
       "    </tr>\n",
       "    <tr>\n",
       "      <th>1</th>\n",
       "      <td>Black Panther: Wakanda Forever</td>\n",
       "      <td>In Marvel Studios' \"Black Panther: Wakanda For...</td>\n",
       "      <td>133529693386607632642217219852638190950</td>\n",
       "    </tr>\n",
       "    <tr>\n",
       "      <th>2</th>\n",
       "      <td>Interstellar</td>\n",
       "      <td>In Earth's future, a global crop blight and se...</td>\n",
       "      <td>133529737754378640630246272237250379110</td>\n",
       "    </tr>\n",
       "    <tr>\n",
       "      <th>3</th>\n",
       "      <td>Avengers: Endgame</td>\n",
       "      <td>Adrift in space with no food or water, Tony St...</td>\n",
       "      <td>133529756769137644053687294687798459750</td>\n",
       "    </tr>\n",
       "    <tr>\n",
       "      <th>4</th>\n",
       "      <td>Uncharted</td>\n",
       "      <td>Street-smart thief Nathan Drake (Tom Holland) ...</td>\n",
       "      <td>133529828866765532034234504812793265510</td>\n",
       "    </tr>\n",
       "  </tbody>\n",
       "</table>\n",
       "</div>"
      ],
      "text/plain": [
       "                       movie_name  \\\n",
       "0  All Quiet on the Western Front   \n",
       "1  Black Panther: Wakanda Forever   \n",
       "2                    Interstellar   \n",
       "3               Avengers: Endgame   \n",
       "4                       Uncharted   \n",
       "\n",
       "                                   movie_description  \\\n",
       "0  All Quiet on the Western Front tells the gripp...   \n",
       "1  In Marvel Studios' \"Black Panther: Wakanda For...   \n",
       "2  In Earth's future, a global crop blight and se...   \n",
       "3  Adrift in space with no food or water, Tony St...   \n",
       "4  Street-smart thief Nathan Drake (Tom Holland) ...   \n",
       "\n",
       "                                        id  \n",
       "0  133529667241314002934985813983134580070  \n",
       "1  133529693386607632642217219852638190950  \n",
       "2  133529737754378640630246272237250379110  \n",
       "3  133529756769137644053687294687798459750  \n",
       "4  133529828866765532034234504812793265510  "
      ]
     },
     "execution_count": 4,
     "metadata": {},
     "output_type": "execute_result"
    }
   ],
   "source": [
    "path = \"../data/\"\n",
    "test_data = pd.read_csv(os.path.join(path, \"test.csv\"))\n",
    "print(f\"Number of rows and columns in the test data set: {test_data.shape}\")\n",
    "test_data.head()"
   ]
  },
  {
   "cell_type": "code",
   "execution_count": 6,
   "metadata": {},
   "outputs": [
    {
     "ename": "HTTPError",
     "evalue": "404 Client Error: Not Found for url: https://www.rottentomatoes.com/api/private/v2.0/search?q=All+Quiet+on+the+Western+Front&limit=10",
     "output_type": "error",
     "traceback": [
      "\u001b[0;31m---------------------------------------------------------------------------\u001b[0m",
      "\u001b[0;31mHTTPError\u001b[0m                                 Traceback (most recent call last)",
      "Cell \u001b[0;32mIn[6], line 2\u001b[0m\n\u001b[1;32m      1\u001b[0m \u001b[39mfrom\u001b[39;00m \u001b[39mrotten_tomatoes_scraper\u001b[39;00m\u001b[39m.\u001b[39;00m\u001b[39mrt_scraper\u001b[39;00m \u001b[39mimport\u001b[39;00m MovieScraper\n\u001b[0;32m----> 2\u001b[0m movie_scraper \u001b[39m=\u001b[39m MovieScraper(movie_title\u001b[39m=\u001b[39;49m\u001b[39m'\u001b[39;49m\u001b[39mAll Quiet on the Western Front\u001b[39;49m\u001b[39m'\u001b[39;49m)\n\u001b[1;32m      3\u001b[0m movie_scraper\u001b[39m.\u001b[39mextract_metadata()\n\u001b[1;32m      5\u001b[0m \u001b[39mprint\u001b[39m(movie_scraper\u001b[39m.\u001b[39mmetadata)\n",
      "File \u001b[0;32m~/ITMO_Projects/the_first_NLP_project/.venv/lib/python3.10/site-packages/rotten_tomatoes_scraper/rt_scraper.py:39\u001b[0m, in \u001b[0;36mMovieScraper.__init__\u001b[0;34m(self, **kwargs)\u001b[0m\n\u001b[1;32m     37\u001b[0m \u001b[39mif\u001b[39;00m \u001b[39m'\u001b[39m\u001b[39mmovie_title\u001b[39m\u001b[39m'\u001b[39m \u001b[39min\u001b[39;00m kwargs\u001b[39m.\u001b[39mkeys():\n\u001b[1;32m     38\u001b[0m     \u001b[39mself\u001b[39m\u001b[39m.\u001b[39mmovie_title \u001b[39m=\u001b[39m kwargs[\u001b[39m'\u001b[39m\u001b[39mmovie_title\u001b[39m\u001b[39m'\u001b[39m]\n\u001b[0;32m---> 39\u001b[0m     \u001b[39mself\u001b[39;49m\u001b[39m.\u001b[39;49mextract_url()\n\u001b[1;32m     40\u001b[0m \u001b[39mif\u001b[39;00m \u001b[39m'\u001b[39m\u001b[39mmovie_url\u001b[39m\u001b[39m'\u001b[39m \u001b[39min\u001b[39;00m kwargs\u001b[39m.\u001b[39mkeys():\n\u001b[1;32m     41\u001b[0m     \u001b[39mself\u001b[39m\u001b[39m.\u001b[39murl \u001b[39m=\u001b[39m kwargs[\u001b[39m'\u001b[39m\u001b[39mmovie_url\u001b[39m\u001b[39m'\u001b[39m]\n",
      "File \u001b[0;32m~/ITMO_Projects/the_first_NLP_project/.venv/lib/python3.10/site-packages/rotten_tomatoes_scraper/rt_scraper.py:44\u001b[0m, in \u001b[0;36mMovieScraper.extract_url\u001b[0;34m(self)\u001b[0m\n\u001b[1;32m     43\u001b[0m \u001b[39mdef\u001b[39;00m \u001b[39mextract_url\u001b[39m(\u001b[39mself\u001b[39m):\n\u001b[0;32m---> 44\u001b[0m     search_result \u001b[39m=\u001b[39m \u001b[39mself\u001b[39;49m\u001b[39m.\u001b[39;49msearch(term\u001b[39m=\u001b[39;49m\u001b[39mself\u001b[39;49m\u001b[39m.\u001b[39;49mmovie_title)\n\u001b[1;32m     46\u001b[0m     movie_titles \u001b[39m=\u001b[39m []\n\u001b[1;32m     47\u001b[0m     \u001b[39mfor\u001b[39;00m movie \u001b[39min\u001b[39;00m search_result[\u001b[39m'\u001b[39m\u001b[39mmovies\u001b[39m\u001b[39m'\u001b[39m]:\n",
      "File \u001b[0;32m~/ITMO_Projects/the_first_NLP_project/.venv/lib/python3.10/site-packages/rotten_tomatoes_scraper/rt_scraper.py:29\u001b[0m, in \u001b[0;36mRTScraper.search\u001b[0;34m(term, limit)\u001b[0m\n\u001b[1;32m     26\u001b[0m \u001b[39m@staticmethod\u001b[39m\n\u001b[1;32m     27\u001b[0m \u001b[39mdef\u001b[39;00m \u001b[39msearch\u001b[39m(term, limit\u001b[39m=\u001b[39m\u001b[39m10\u001b[39m):\n\u001b[1;32m     28\u001b[0m     r \u001b[39m=\u001b[39m requests\u001b[39m.\u001b[39mget(url\u001b[39m=\u001b[39mRTScraper\u001b[39m.\u001b[39mSEARCH_URL, params\u001b[39m=\u001b[39m{\u001b[39m\"\u001b[39m\u001b[39mq\u001b[39m\u001b[39m\"\u001b[39m: term, \u001b[39m\"\u001b[39m\u001b[39mlimit\u001b[39m\u001b[39m\"\u001b[39m: limit})\n\u001b[0;32m---> 29\u001b[0m     r\u001b[39m.\u001b[39;49mraise_for_status()\n\u001b[1;32m     30\u001b[0m     \u001b[39mreturn\u001b[39;00m r\u001b[39m.\u001b[39mjson()\n",
      "File \u001b[0;32m~/ITMO_Projects/the_first_NLP_project/.venv/lib/python3.10/site-packages/requests/models.py:1021\u001b[0m, in \u001b[0;36mResponse.raise_for_status\u001b[0;34m(self)\u001b[0m\n\u001b[1;32m   1016\u001b[0m     http_error_msg \u001b[39m=\u001b[39m (\n\u001b[1;32m   1017\u001b[0m         \u001b[39mf\u001b[39m\u001b[39m\"\u001b[39m\u001b[39m{\u001b[39;00m\u001b[39mself\u001b[39m\u001b[39m.\u001b[39mstatus_code\u001b[39m}\u001b[39;00m\u001b[39m Server Error: \u001b[39m\u001b[39m{\u001b[39;00mreason\u001b[39m}\u001b[39;00m\u001b[39m for url: \u001b[39m\u001b[39m{\u001b[39;00m\u001b[39mself\u001b[39m\u001b[39m.\u001b[39murl\u001b[39m}\u001b[39;00m\u001b[39m\"\u001b[39m\n\u001b[1;32m   1018\u001b[0m     )\n\u001b[1;32m   1020\u001b[0m \u001b[39mif\u001b[39;00m http_error_msg:\n\u001b[0;32m-> 1021\u001b[0m     \u001b[39mraise\u001b[39;00m HTTPError(http_error_msg, response\u001b[39m=\u001b[39m\u001b[39mself\u001b[39m)\n",
      "\u001b[0;31mHTTPError\u001b[0m: 404 Client Error: Not Found for url: https://www.rottentomatoes.com/api/private/v2.0/search?q=All+Quiet+on+the+Western+Front&limit=10"
     ]
    }
   ],
   "source": [
    "from rotten_tomatoes_scraper.rt_scraper import MovieScraper\n",
    "movie_scraper = MovieScraper(movie_title='All Quiet on the Western Front')\n",
    "movie_scraper.extract_metadata()\n",
    "\n",
    "print(movie_scraper.metadata)\n",
    "# {'Score_Rotten': '81', 'Score_Audience': '74', 'Genre': ['comedy', 'drama', 'romance']}"
   ]
  },
  {
   "cell_type": "code",
   "execution_count": 10,
   "metadata": {},
   "outputs": [
    {
     "name": "stdout",
     "output_type": "stream",
     "text": [
      "['Action', 'Adventure', 'Fantasy', 'Sci-fi']\n"
     ]
    }
   ],
   "source": [
    "import rottentomatoes as rt\n",
    "\n",
    "print(rt.genres('X-Men: Apocalypse'))\n",
    "# Output: ['Action', 'Adventure']\n",
    "# Type: list[str]"
   ]
  },
  {
   "cell_type": "code",
   "execution_count": 11,
   "metadata": {},
   "outputs": [
    {
     "name": "stdout",
     "output_type": "stream",
     "text": [
      "Number of rows and columns in the test data set: (2684, 3)\n"
     ]
    },
    {
     "data": {
      "text/html": [
       "<div>\n",
       "<style scoped>\n",
       "    .dataframe tbody tr th:only-of-type {\n",
       "        vertical-align: middle;\n",
       "    }\n",
       "\n",
       "    .dataframe tbody tr th {\n",
       "        vertical-align: top;\n",
       "    }\n",
       "\n",
       "    .dataframe thead th {\n",
       "        text-align: right;\n",
       "    }\n",
       "</style>\n",
       "<table border=\"1\" class=\"dataframe\">\n",
       "  <thead>\n",
       "    <tr style=\"text-align: right;\">\n",
       "      <th></th>\n",
       "      <th>movie_name</th>\n",
       "      <th>movie_description</th>\n",
       "      <th>id</th>\n",
       "    </tr>\n",
       "  </thead>\n",
       "  <tbody>\n",
       "    <tr>\n",
       "      <th>0</th>\n",
       "      <td>All Quiet on the Western Front</td>\n",
       "      <td>All Quiet on the Western Front tells the gripp...</td>\n",
       "      <td>133529667241314002934985813983134580070</td>\n",
       "    </tr>\n",
       "    <tr>\n",
       "      <th>1</th>\n",
       "      <td>Black Panther: Wakanda Forever</td>\n",
       "      <td>In Marvel Studios' \"Black Panther: Wakanda For...</td>\n",
       "      <td>133529693386607632642217219852638190950</td>\n",
       "    </tr>\n",
       "    <tr>\n",
       "      <th>2</th>\n",
       "      <td>Interstellar</td>\n",
       "      <td>In Earth's future, a global crop blight and se...</td>\n",
       "      <td>133529737754378640630246272237250379110</td>\n",
       "    </tr>\n",
       "    <tr>\n",
       "      <th>3</th>\n",
       "      <td>Avengers: Endgame</td>\n",
       "      <td>Adrift in space with no food or water, Tony St...</td>\n",
       "      <td>133529756769137644053687294687798459750</td>\n",
       "    </tr>\n",
       "    <tr>\n",
       "      <th>4</th>\n",
       "      <td>Uncharted</td>\n",
       "      <td>Street-smart thief Nathan Drake (Tom Holland) ...</td>\n",
       "      <td>133529828866765532034234504812793265510</td>\n",
       "    </tr>\n",
       "  </tbody>\n",
       "</table>\n",
       "</div>"
      ],
      "text/plain": [
       "                       movie_name  \\\n",
       "0  All Quiet on the Western Front   \n",
       "1  Black Panther: Wakanda Forever   \n",
       "2                    Interstellar   \n",
       "3               Avengers: Endgame   \n",
       "4                       Uncharted   \n",
       "\n",
       "                                   movie_description  \\\n",
       "0  All Quiet on the Western Front tells the gripp...   \n",
       "1  In Marvel Studios' \"Black Panther: Wakanda For...   \n",
       "2  In Earth's future, a global crop blight and se...   \n",
       "3  Adrift in space with no food or water, Tony St...   \n",
       "4  Street-smart thief Nathan Drake (Tom Holland) ...   \n",
       "\n",
       "                                        id  \n",
       "0  133529667241314002934985813983134580070  \n",
       "1  133529693386607632642217219852638190950  \n",
       "2  133529737754378640630246272237250379110  \n",
       "3  133529756769137644053687294687798459750  \n",
       "4  133529828866765532034234504812793265510  "
      ]
     },
     "execution_count": 11,
     "metadata": {},
     "output_type": "execute_result"
    }
   ],
   "source": [
    "path = \"../data/\"\n",
    "test_data = pd.read_csv(os.path.join(path, \"test.csv\"))\n",
    "print(f\"Number of rows and columns in the test data set: {test_data.shape}\")\n",
    "test_data.head()"
   ]
  },
  {
   "cell_type": "code",
   "execution_count": 28,
   "metadata": {},
   "outputs": [
    {
     "data": {
      "text/html": [
       "<div>\n",
       "<style scoped>\n",
       "    .dataframe tbody tr th:only-of-type {\n",
       "        vertical-align: middle;\n",
       "    }\n",
       "\n",
       "    .dataframe tbody tr th {\n",
       "        vertical-align: top;\n",
       "    }\n",
       "\n",
       "    .dataframe thead th {\n",
       "        text-align: right;\n",
       "    }\n",
       "</style>\n",
       "<table border=\"1\" class=\"dataframe\">\n",
       "  <thead>\n",
       "    <tr style=\"text-align: right;\">\n",
       "      <th></th>\n",
       "      <th>movie_name</th>\n",
       "      <th>movie_description</th>\n",
       "      <th>id</th>\n",
       "      <th>genre</th>\n",
       "    </tr>\n",
       "  </thead>\n",
       "  <tbody>\n",
       "    <tr>\n",
       "      <th>0</th>\n",
       "      <td>All Quiet on the Western Front</td>\n",
       "      <td>All Quiet on the Western Front tells the gripp...</td>\n",
       "      <td>133529667241314002934985813983134580070</td>\n",
       "      <td>[War, History, Drama, Action]</td>\n",
       "    </tr>\n",
       "    <tr>\n",
       "      <th>1</th>\n",
       "      <td>Black Panther: Wakanda Forever</td>\n",
       "      <td>In Marvel Studios' \"Black Panther: Wakanda For...</td>\n",
       "      <td>133529693386607632642217219852638190950</td>\n",
       "      <td>[Action, Adventure, Fantasy]</td>\n",
       "    </tr>\n",
       "    <tr>\n",
       "      <th>2</th>\n",
       "      <td>Interstellar</td>\n",
       "      <td>In Earth's future, a global crop blight and se...</td>\n",
       "      <td>133529737754378640630246272237250379110</td>\n",
       "      <td>[Sci-fi, Adventure, Action]</td>\n",
       "    </tr>\n",
       "    <tr>\n",
       "      <th>3</th>\n",
       "      <td>Avengers: Endgame</td>\n",
       "      <td>Adrift in space with no food or water, Tony St...</td>\n",
       "      <td>133529756769137644053687294687798459750</td>\n",
       "      <td>[Action, Adventure, Fantasy, Sci-fi]</td>\n",
       "    </tr>\n",
       "    <tr>\n",
       "      <th>4</th>\n",
       "      <td>Uncharted</td>\n",
       "      <td>Street-smart thief Nathan Drake (Tom Holland) ...</td>\n",
       "      <td>133529828866765532034234504812793265510</td>\n",
       "      <td>[Adventure, Action]</td>\n",
       "    </tr>\n",
       "  </tbody>\n",
       "</table>\n",
       "</div>"
      ],
      "text/plain": [
       "                       movie_name  \\\n",
       "0  All Quiet on the Western Front   \n",
       "1  Black Panther: Wakanda Forever   \n",
       "2                    Interstellar   \n",
       "3               Avengers: Endgame   \n",
       "4                       Uncharted   \n",
       "\n",
       "                                   movie_description  \\\n",
       "0  All Quiet on the Western Front tells the gripp...   \n",
       "1  In Marvel Studios' \"Black Panther: Wakanda For...   \n",
       "2  In Earth's future, a global crop blight and se...   \n",
       "3  Adrift in space with no food or water, Tony St...   \n",
       "4  Street-smart thief Nathan Drake (Tom Holland) ...   \n",
       "\n",
       "                                        id  \\\n",
       "0  133529667241314002934985813983134580070   \n",
       "1  133529693386607632642217219852638190950   \n",
       "2  133529737754378640630246272237250379110   \n",
       "3  133529756769137644053687294687798459750   \n",
       "4  133529828866765532034234504812793265510   \n",
       "\n",
       "                                  genre  \n",
       "0         [War, History, Drama, Action]  \n",
       "1          [Action, Adventure, Fantasy]  \n",
       "2           [Sci-fi, Adventure, Action]  \n",
       "3  [Action, Adventure, Fantasy, Sci-fi]  \n",
       "4                   [Adventure, Action]  "
      ]
     },
     "execution_count": 28,
     "metadata": {},
     "output_type": "execute_result"
    }
   ],
   "source": [
    "def take_genre(movie_name):\n",
    "    try:\n",
    "        return rt.genres(movie_name)\n",
    "    except:\n",
    "        return \"['Biography', 'Documentary']\"\n",
    "\n",
    "test_data['genre'] = test_data['movie_name'].apply(take_genre)\n",
    "test_data.head()"
   ]
  },
  {
   "cell_type": "code",
   "execution_count": 30,
   "metadata": {},
   "outputs": [
    {
     "name": "stderr",
     "output_type": "stream",
     "text": [
      "Traceback (most recent call last):\n",
      "  File \"/home/nikivene/ITMO_Projects/the_first_NLP_project/.venv/lib/python3.10/site-packages/IPython/core/interactiveshell.py\", line 2057, in showtraceback\n",
      "    stb = self.InteractiveTB.structured_traceback(\n",
      "  File \"/home/nikivene/ITMO_Projects/the_first_NLP_project/.venv/lib/python3.10/site-packages/IPython/core/ultratb.py\", line 1288, in structured_traceback\n",
      "    return FormattedTB.structured_traceback(\n",
      "  File \"/home/nikivene/ITMO_Projects/the_first_NLP_project/.venv/lib/python3.10/site-packages/IPython/core/ultratb.py\", line 1177, in structured_traceback\n",
      "    return VerboseTB.structured_traceback(\n",
      "  File \"/home/nikivene/ITMO_Projects/the_first_NLP_project/.venv/lib/python3.10/site-packages/IPython/core/ultratb.py\", line 1030, in structured_traceback\n",
      "    formatted_exception = self.format_exception_as_a_whole(etype, evalue, etb, number_of_lines_of_context,\n",
      "  File \"/home/nikivene/ITMO_Projects/the_first_NLP_project/.venv/lib/python3.10/site-packages/IPython/core/ultratb.py\", line 935, in format_exception_as_a_whole\n",
      "    self.get_records(etb, number_of_lines_of_context, tb_offset) if etb else []\n",
      "  File \"/home/nikivene/ITMO_Projects/the_first_NLP_project/.venv/lib/python3.10/site-packages/IPython/core/ultratb.py\", line 1003, in get_records\n",
      "    lines, first = inspect.getsourcelines(etb.tb_frame)\n",
      "  File \"/home/nikivene/miniconda3/lib/python3.10/inspect.py\", line 1129, in getsourcelines\n",
      "    lines, lnum = findsource(object)\n",
      "  File \"/home/nikivene/miniconda3/lib/python3.10/inspect.py\", line 958, in findsource\n",
      "    raise OSError('could not get source code')\n",
      "OSError: could not get source code\n",
      "Exception ignored in: 'pandas._libs.index.IndexEngine._call_map_locations'\n",
      "Traceback (most recent call last):\n",
      "  File \"pandas/_libs/hashtable_class_helper.pxi\", line 5231, in pandas._libs.hashtable.PyObjectHashTable.map_locations\n",
      "TypeError: unhashable type: 'list'\n"
     ]
    },
    {
     "name": "stdout",
     "output_type": "stream",
     "text": [
      "Unexpected exception formatting exception. Falling back to standard exception\n"
     ]
    },
    {
     "data": {
      "text/plain": [
       "['Biography', 'Documentary']            254\n",
       "[Romance, Comedy]                       195\n",
       "[Horror, Mystery & thriller]            169\n",
       "[Horror]                                143\n",
       "[Comedy]                                129\n",
       "                                       ... \n",
       "[History, Drama, Adventure, Action]       1\n",
       "[Western, Adventure, Drama]               1\n",
       "[Mystery & thriller, Action, Drama]       1\n",
       "[Action, Sci-fi, Mystery & thriller]      1\n",
       "[Mystery & thriller, Drama, Lgbtq+]       1\n",
       "Name: genre, Length: 526, dtype: int64"
      ]
     },
     "execution_count": 30,
     "metadata": {},
     "output_type": "execute_result"
    }
   ],
   "source": [
    "test_data['genre'].value_counts()"
   ]
  },
  {
   "cell_type": "code",
   "execution_count": 29,
   "metadata": {},
   "outputs": [],
   "source": [
    "test_data.to_csv(\"submission_with_genre2.csv\", index=False)"
   ]
  },
  {
   "cell_type": "code",
   "execution_count": 31,
   "metadata": {},
   "outputs": [
    {
     "ename": "IndexError",
     "evalue": "list index out of range",
     "output_type": "error",
     "traceback": [
      "\u001b[0;31m---------------------------------------------------------------------------\u001b[0m",
      "\u001b[0;31mIndexError\u001b[0m                                Traceback (most recent call last)",
      "Cell \u001b[0;32mIn[31], line 38\u001b[0m\n\u001b[1;32m     22\u001b[0m         \u001b[39mreturn\u001b[39;00m \u001b[39m\"\u001b[39m\u001b[39m5\u001b[39m\u001b[39m\"\u001b[39m\n\u001b[1;32m     23\u001b[0m         \u001b[39m# if id[1] in genre_0:\u001b[39;00m\n\u001b[1;32m     24\u001b[0m         \u001b[39m#     return \"0\"\u001b[39;00m\n\u001b[1;32m     25\u001b[0m         \u001b[39m# elif id[1] in genre_1:\u001b[39;00m\n\u001b[0;32m   (...)\u001b[0m\n\u001b[1;32m     35\u001b[0m         \u001b[39m# else:\u001b[39;00m\n\u001b[1;32m     36\u001b[0m         \u001b[39m#     return \"5\"\u001b[39;00m\n\u001b[0;32m---> 38\u001b[0m test_data[\u001b[39m'\u001b[39m\u001b[39mtarget\u001b[39m\u001b[39m'\u001b[39m] \u001b[39m=\u001b[39m test_data[\u001b[39m'\u001b[39;49m\u001b[39mgenre\u001b[39;49m\u001b[39m'\u001b[39;49m]\u001b[39m.\u001b[39;49mapply(get_prod_country_rank)\n\u001b[1;32m     39\u001b[0m test_data\u001b[39m.\u001b[39mhead()\n",
      "File \u001b[0;32m~/ITMO_Projects/the_first_NLP_project/.venv/lib/python3.10/site-packages/pandas/core/series.py:4357\u001b[0m, in \u001b[0;36mSeries.apply\u001b[0;34m(self, func, convert_dtype, args, **kwargs)\u001b[0m\n\u001b[1;32m   4247\u001b[0m \u001b[39mdef\u001b[39;00m \u001b[39mapply\u001b[39m(\n\u001b[1;32m   4248\u001b[0m     \u001b[39mself\u001b[39m,\n\u001b[1;32m   4249\u001b[0m     func: AggFuncType,\n\u001b[0;32m   (...)\u001b[0m\n\u001b[1;32m   4252\u001b[0m     \u001b[39m*\u001b[39m\u001b[39m*\u001b[39mkwargs,\n\u001b[1;32m   4253\u001b[0m ) \u001b[39m-\u001b[39m\u001b[39m>\u001b[39m FrameOrSeriesUnion:\n\u001b[1;32m   4254\u001b[0m \u001b[39m    \u001b[39m\u001b[39m\"\"\"\u001b[39;00m\n\u001b[1;32m   4255\u001b[0m \u001b[39m    Invoke function on values of Series.\u001b[39;00m\n\u001b[1;32m   4256\u001b[0m \n\u001b[0;32m   (...)\u001b[0m\n\u001b[1;32m   4355\u001b[0m \u001b[39m    dtype: float64\u001b[39;00m\n\u001b[1;32m   4356\u001b[0m \u001b[39m    \"\"\"\u001b[39;00m\n\u001b[0;32m-> 4357\u001b[0m     \u001b[39mreturn\u001b[39;00m SeriesApply(\u001b[39mself\u001b[39;49m, func, convert_dtype, args, kwargs)\u001b[39m.\u001b[39;49mapply()\n",
      "File \u001b[0;32m~/ITMO_Projects/the_first_NLP_project/.venv/lib/python3.10/site-packages/pandas/core/apply.py:1043\u001b[0m, in \u001b[0;36mSeriesApply.apply\u001b[0;34m(self)\u001b[0m\n\u001b[1;32m   1039\u001b[0m \u001b[39mif\u001b[39;00m \u001b[39misinstance\u001b[39m(\u001b[39mself\u001b[39m\u001b[39m.\u001b[39mf, \u001b[39mstr\u001b[39m):\n\u001b[1;32m   1040\u001b[0m     \u001b[39m# if we are a string, try to dispatch\u001b[39;00m\n\u001b[1;32m   1041\u001b[0m     \u001b[39mreturn\u001b[39;00m \u001b[39mself\u001b[39m\u001b[39m.\u001b[39mapply_str()\n\u001b[0;32m-> 1043\u001b[0m \u001b[39mreturn\u001b[39;00m \u001b[39mself\u001b[39;49m\u001b[39m.\u001b[39;49mapply_standard()\n",
      "File \u001b[0;32m~/ITMO_Projects/the_first_NLP_project/.venv/lib/python3.10/site-packages/pandas/core/apply.py:1098\u001b[0m, in \u001b[0;36mSeriesApply.apply_standard\u001b[0;34m(self)\u001b[0m\n\u001b[1;32m   1092\u001b[0m         values \u001b[39m=\u001b[39m obj\u001b[39m.\u001b[39mastype(\u001b[39mobject\u001b[39m)\u001b[39m.\u001b[39m_values\n\u001b[1;32m   1093\u001b[0m         \u001b[39m# error: Argument 2 to \"map_infer\" has incompatible type\u001b[39;00m\n\u001b[1;32m   1094\u001b[0m         \u001b[39m# \"Union[Callable[..., Any], str, List[Union[Callable[..., Any], str]],\u001b[39;00m\n\u001b[1;32m   1095\u001b[0m         \u001b[39m# Dict[Hashable, Union[Union[Callable[..., Any], str],\u001b[39;00m\n\u001b[1;32m   1096\u001b[0m         \u001b[39m# List[Union[Callable[..., Any], str]]]]]\"; expected\u001b[39;00m\n\u001b[1;32m   1097\u001b[0m         \u001b[39m# \"Callable[[Any], Any]\"\u001b[39;00m\n\u001b[0;32m-> 1098\u001b[0m         mapped \u001b[39m=\u001b[39m lib\u001b[39m.\u001b[39;49mmap_infer(\n\u001b[1;32m   1099\u001b[0m             values,\n\u001b[1;32m   1100\u001b[0m             f,  \u001b[39m# type: ignore[arg-type]\u001b[39;49;00m\n\u001b[1;32m   1101\u001b[0m             convert\u001b[39m=\u001b[39;49m\u001b[39mself\u001b[39;49m\u001b[39m.\u001b[39;49mconvert_dtype,\n\u001b[1;32m   1102\u001b[0m         )\n\u001b[1;32m   1104\u001b[0m \u001b[39mif\u001b[39;00m \u001b[39mlen\u001b[39m(mapped) \u001b[39mand\u001b[39;00m \u001b[39misinstance\u001b[39m(mapped[\u001b[39m0\u001b[39m], ABCSeries):\n\u001b[1;32m   1105\u001b[0m     \u001b[39m# GH 25959 use pd.array instead of tolist\u001b[39;00m\n\u001b[1;32m   1106\u001b[0m     \u001b[39m# so extension arrays can be used\u001b[39;00m\n\u001b[1;32m   1107\u001b[0m     \u001b[39mreturn\u001b[39;00m obj\u001b[39m.\u001b[39m_constructor_expanddim(pd_array(mapped), index\u001b[39m=\u001b[39mobj\u001b[39m.\u001b[39mindex)\n",
      "File \u001b[0;32m~/ITMO_Projects/the_first_NLP_project/.venv/lib/python3.10/site-packages/pandas/_libs/lib.pyx:2859\u001b[0m, in \u001b[0;36mpandas._libs.lib.map_infer\u001b[0;34m()\u001b[0m\n",
      "Cell \u001b[0;32mIn[31], line 9\u001b[0m, in \u001b[0;36mget_prod_country_rank\u001b[0;34m(id)\u001b[0m\n\u001b[1;32m      8\u001b[0m \u001b[39mdef\u001b[39;00m \u001b[39mget_prod_country_rank\u001b[39m(\u001b[39mid\u001b[39m):\n\u001b[0;32m----> 9\u001b[0m     \u001b[39mif\u001b[39;00m \u001b[39mid\u001b[39;49m[\u001b[39m0\u001b[39;49m] \u001b[39min\u001b[39;00m genre_0:\n\u001b[1;32m     10\u001b[0m         \u001b[39mreturn\u001b[39;00m \u001b[39m\"\u001b[39m\u001b[39m0\u001b[39m\u001b[39m\"\u001b[39m\n\u001b[1;32m     11\u001b[0m     \u001b[39melif\u001b[39;00m \u001b[39mid\u001b[39m[\u001b[39m0\u001b[39m] \u001b[39min\u001b[39;00m genre_1:\n",
      "\u001b[0;31mIndexError\u001b[0m: list index out of range"
     ]
    }
   ],
   "source": [
    "genre_0 = ['Action']\n",
    "genre_1 = ['Adventure', 'Fantasy']\n",
    "genre_2 = ['Biography', 'Documentary', 'History']\n",
    "genre_3 = ['Comedy']\n",
    "genre_4 = ['Horror', 'Mystery & thriller']\n",
    "genre_5 = ['Romance', 'Drama']\n",
    "\n",
    "def get_prod_country_rank(id):\n",
    "    if id[0] in genre_0:\n",
    "        return \"0\"\n",
    "    elif id[0] in genre_1:\n",
    "        return \"1\"\n",
    "    elif id[0] in genre_2:\n",
    "        return \"2\"    \n",
    "    elif id[0] in genre_3:\n",
    "        return \"3\"\n",
    "    elif id[0] in genre_4:\n",
    "        return \"4\"\n",
    "    elif id[0] in genre_5:\n",
    "        return \"5\"\n",
    "    else:\n",
    "        return \"5\"\n",
    "        # if id[1] in genre_0:\n",
    "        #     return \"0\"\n",
    "        # elif id[1] in genre_1:\n",
    "        #     return \"1\"\n",
    "        # elif id[1] in genre_2:\n",
    "        #     return \"2\"    \n",
    "        # elif id[1] in genre_3:\n",
    "        #     return \"3\"\n",
    "        # elif id[1] in genre_4:\n",
    "        #     return \"4\"\n",
    "        # elif id[1] in genre_5:\n",
    "        #     return \"5\"\n",
    "        # else:\n",
    "        #     return \"5\"\n",
    "\n",
    "test_data['target'] = test_data['genre'].apply(get_prod_country_rank)\n",
    "test_data.head()"
   ]
  }
 ],
 "metadata": {
  "kernelspec": {
   "display_name": ".venv",
   "language": "python",
   "name": "python3"
  },
  "language_info": {
   "codemirror_mode": {
    "name": "ipython",
    "version": 3
   },
   "file_extension": ".py",
   "mimetype": "text/x-python",
   "name": "python",
   "nbconvert_exporter": "python",
   "pygments_lexer": "ipython3",
   "version": "3.10.9"
  },
  "orig_nbformat": 4
 },
 "nbformat": 4,
 "nbformat_minor": 2
}
