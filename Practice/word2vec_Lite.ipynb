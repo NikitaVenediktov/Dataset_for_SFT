{
 "cells": [
  {
   "attachments": {},
   "cell_type": "markdown",
   "metadata": {},
   "source": [
    "# Word2Vec model\n",
    "\n",
    "Write a program that trains Word2Vec model. Do not use print() instructions in your code, otherwise test procedure will not succeed; the message \"Wrong Answer\" indicates answer format is incorrect (print() in the code, missing words in the dictionary, etc.). The message \"Embeddings are not good enough\" means you're on the right track and you should focus on the model improvement. In this version of the assignment the checks on the embeddings are easier.\n",
    "\n",
    "You may think of the input string as being pre-processed with the following function:"
   ]
  },
  {
   "cell_type": "code",
   "execution_count": null,
   "metadata": {},
   "outputs": [],
   "source": [
    "import re\n",
    "\n",
    "import string\n",
    "\n",
    "def clean(inp: str) -> str:\n",
    "\n",
    "    inp = inp.translate(str.maketrans(string.punctuation, \" \"*len(string.punctuation)))\n",
    "\n",
    "    inp = re.sub(r'\\s+', ' ', inp.lower())\n",
    "\n",
    "    return inp"
   ]
  },
  {
   "attachments": {},
   "cell_type": "markdown",
   "metadata": {},
   "source": [
    "I.e. given the input \"Your string!\" the output will be \"your string \".\n",
    "\n",
    "Input: data (string) - cleaned documents without punctuation in one line\n",
    "Output: w2v_dict (dict: key (string) - a word from vocabulary, value (numpy array) - the word's embedding)\n",
    "\n",
    "Time limit: 25 seconds\n",
    "Memory limit: 128 MB"
   ]
  },
  {
   "cell_type": "code",
   "execution_count": null,
   "metadata": {},
   "outputs": [],
   "source": [
    "# мое решение\n",
    "\n",
    "def train(data: str):\n",
    "    \"\"\"\n",
    "    return: w2v_dict: dict\n",
    "            - key: string (word)\n",
    "            - value: np.array (embedding)\n",
    "    \"\"\"\n",
    "    \n",
    "    \n",
    "    \n",
    "    \n",
    "    \n",
    "    return {}"
   ]
  }
 ],
 "metadata": {
  "language_info": {
   "name": "python"
  },
  "orig_nbformat": 4
 },
 "nbformat": 4,
 "nbformat_minor": 2
}
