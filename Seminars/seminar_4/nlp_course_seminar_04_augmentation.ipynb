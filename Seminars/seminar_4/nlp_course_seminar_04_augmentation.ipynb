{
  "nbformat": 4,
  "nbformat_minor": 0,
  "metadata": {
    "colab": {
      "provenance": [],
      "toc_visible": true
    },
    "kernelspec": {
      "name": "python3",
      "display_name": "Python 3"
    },
    "language_info": {
      "name": "python"
    },
    "widgets": {
      "application/vnd.jupyter.widget-state+json": {
        "8dcec87c417e40e89bc5f101776155a3": {
          "model_module": "@jupyter-widgets/controls",
          "model_name": "HBoxModel",
          "model_module_version": "1.5.0",
          "state": {
            "_dom_classes": [],
            "_model_module": "@jupyter-widgets/controls",
            "_model_module_version": "1.5.0",
            "_model_name": "HBoxModel",
            "_view_count": null,
            "_view_module": "@jupyter-widgets/controls",
            "_view_module_version": "1.5.0",
            "_view_name": "HBoxView",
            "box_style": "",
            "children": [
              "IPY_MODEL_72a51d1d03ff42fa948965bab1e670b2",
              "IPY_MODEL_33037e0607fd4e4e8fc93c3a126a8a61",
              "IPY_MODEL_368b3e2b7e8344daa9ddcd5849f0240d"
            ],
            "layout": "IPY_MODEL_5689b65c7e854f8aa709983a103d948d"
          }
        },
        "72a51d1d03ff42fa948965bab1e670b2": {
          "model_module": "@jupyter-widgets/controls",
          "model_name": "HTMLModel",
          "model_module_version": "1.5.0",
          "state": {
            "_dom_classes": [],
            "_model_module": "@jupyter-widgets/controls",
            "_model_module_version": "1.5.0",
            "_model_name": "HTMLModel",
            "_view_count": null,
            "_view_module": "@jupyter-widgets/controls",
            "_view_module_version": "1.5.0",
            "_view_name": "HTMLView",
            "description": "",
            "description_tooltip": null,
            "layout": "IPY_MODEL_5a82b1b7152645859e327cef8981f805",
            "placeholder": "​",
            "style": "IPY_MODEL_870baffa14e4418d8c46cac93349bd8f",
            "value": "Downloading (…)okenizer_config.json: 100%"
          }
        },
        "33037e0607fd4e4e8fc93c3a126a8a61": {
          "model_module": "@jupyter-widgets/controls",
          "model_name": "FloatProgressModel",
          "model_module_version": "1.5.0",
          "state": {
            "_dom_classes": [],
            "_model_module": "@jupyter-widgets/controls",
            "_model_module_version": "1.5.0",
            "_model_name": "FloatProgressModel",
            "_view_count": null,
            "_view_module": "@jupyter-widgets/controls",
            "_view_module_version": "1.5.0",
            "_view_name": "ProgressView",
            "bar_style": "success",
            "description": "",
            "description_tooltip": null,
            "layout": "IPY_MODEL_6664e489fcf64ead966fcd76ffefa841",
            "max": 67,
            "min": 0,
            "orientation": "horizontal",
            "style": "IPY_MODEL_147b86f5229c44769e5d43d4ae859954",
            "value": 67
          }
        },
        "368b3e2b7e8344daa9ddcd5849f0240d": {
          "model_module": "@jupyter-widgets/controls",
          "model_name": "HTMLModel",
          "model_module_version": "1.5.0",
          "state": {
            "_dom_classes": [],
            "_model_module": "@jupyter-widgets/controls",
            "_model_module_version": "1.5.0",
            "_model_name": "HTMLModel",
            "_view_count": null,
            "_view_module": "@jupyter-widgets/controls",
            "_view_module_version": "1.5.0",
            "_view_name": "HTMLView",
            "description": "",
            "description_tooltip": null,
            "layout": "IPY_MODEL_6e24cce9063b4e02b2885ebd7331f70e",
            "placeholder": "​",
            "style": "IPY_MODEL_fe59151b00a145de95e56e059bc215dc",
            "value": " 67.0/67.0 [00:00&lt;00:00, 3.55kB/s]"
          }
        },
        "5689b65c7e854f8aa709983a103d948d": {
          "model_module": "@jupyter-widgets/base",
          "model_name": "LayoutModel",
          "model_module_version": "1.2.0",
          "state": {
            "_model_module": "@jupyter-widgets/base",
            "_model_module_version": "1.2.0",
            "_model_name": "LayoutModel",
            "_view_count": null,
            "_view_module": "@jupyter-widgets/base",
            "_view_module_version": "1.2.0",
            "_view_name": "LayoutView",
            "align_content": null,
            "align_items": null,
            "align_self": null,
            "border": null,
            "bottom": null,
            "display": null,
            "flex": null,
            "flex_flow": null,
            "grid_area": null,
            "grid_auto_columns": null,
            "grid_auto_flow": null,
            "grid_auto_rows": null,
            "grid_column": null,
            "grid_gap": null,
            "grid_row": null,
            "grid_template_areas": null,
            "grid_template_columns": null,
            "grid_template_rows": null,
            "height": null,
            "justify_content": null,
            "justify_items": null,
            "left": null,
            "margin": null,
            "max_height": null,
            "max_width": null,
            "min_height": null,
            "min_width": null,
            "object_fit": null,
            "object_position": null,
            "order": null,
            "overflow": null,
            "overflow_x": null,
            "overflow_y": null,
            "padding": null,
            "right": null,
            "top": null,
            "visibility": null,
            "width": null
          }
        },
        "5a82b1b7152645859e327cef8981f805": {
          "model_module": "@jupyter-widgets/base",
          "model_name": "LayoutModel",
          "model_module_version": "1.2.0",
          "state": {
            "_model_module": "@jupyter-widgets/base",
            "_model_module_version": "1.2.0",
            "_model_name": "LayoutModel",
            "_view_count": null,
            "_view_module": "@jupyter-widgets/base",
            "_view_module_version": "1.2.0",
            "_view_name": "LayoutView",
            "align_content": null,
            "align_items": null,
            "align_self": null,
            "border": null,
            "bottom": null,
            "display": null,
            "flex": null,
            "flex_flow": null,
            "grid_area": null,
            "grid_auto_columns": null,
            "grid_auto_flow": null,
            "grid_auto_rows": null,
            "grid_column": null,
            "grid_gap": null,
            "grid_row": null,
            "grid_template_areas": null,
            "grid_template_columns": null,
            "grid_template_rows": null,
            "height": null,
            "justify_content": null,
            "justify_items": null,
            "left": null,
            "margin": null,
            "max_height": null,
            "max_width": null,
            "min_height": null,
            "min_width": null,
            "object_fit": null,
            "object_position": null,
            "order": null,
            "overflow": null,
            "overflow_x": null,
            "overflow_y": null,
            "padding": null,
            "right": null,
            "top": null,
            "visibility": null,
            "width": null
          }
        },
        "870baffa14e4418d8c46cac93349bd8f": {
          "model_module": "@jupyter-widgets/controls",
          "model_name": "DescriptionStyleModel",
          "model_module_version": "1.5.0",
          "state": {
            "_model_module": "@jupyter-widgets/controls",
            "_model_module_version": "1.5.0",
            "_model_name": "DescriptionStyleModel",
            "_view_count": null,
            "_view_module": "@jupyter-widgets/base",
            "_view_module_version": "1.2.0",
            "_view_name": "StyleView",
            "description_width": ""
          }
        },
        "6664e489fcf64ead966fcd76ffefa841": {
          "model_module": "@jupyter-widgets/base",
          "model_name": "LayoutModel",
          "model_module_version": "1.2.0",
          "state": {
            "_model_module": "@jupyter-widgets/base",
            "_model_module_version": "1.2.0",
            "_model_name": "LayoutModel",
            "_view_count": null,
            "_view_module": "@jupyter-widgets/base",
            "_view_module_version": "1.2.0",
            "_view_name": "LayoutView",
            "align_content": null,
            "align_items": null,
            "align_self": null,
            "border": null,
            "bottom": null,
            "display": null,
            "flex": null,
            "flex_flow": null,
            "grid_area": null,
            "grid_auto_columns": null,
            "grid_auto_flow": null,
            "grid_auto_rows": null,
            "grid_column": null,
            "grid_gap": null,
            "grid_row": null,
            "grid_template_areas": null,
            "grid_template_columns": null,
            "grid_template_rows": null,
            "height": null,
            "justify_content": null,
            "justify_items": null,
            "left": null,
            "margin": null,
            "max_height": null,
            "max_width": null,
            "min_height": null,
            "min_width": null,
            "object_fit": null,
            "object_position": null,
            "order": null,
            "overflow": null,
            "overflow_x": null,
            "overflow_y": null,
            "padding": null,
            "right": null,
            "top": null,
            "visibility": null,
            "width": null
          }
        },
        "147b86f5229c44769e5d43d4ae859954": {
          "model_module": "@jupyter-widgets/controls",
          "model_name": "ProgressStyleModel",
          "model_module_version": "1.5.0",
          "state": {
            "_model_module": "@jupyter-widgets/controls",
            "_model_module_version": "1.5.0",
            "_model_name": "ProgressStyleModel",
            "_view_count": null,
            "_view_module": "@jupyter-widgets/base",
            "_view_module_version": "1.2.0",
            "_view_name": "StyleView",
            "bar_color": null,
            "description_width": ""
          }
        },
        "6e24cce9063b4e02b2885ebd7331f70e": {
          "model_module": "@jupyter-widgets/base",
          "model_name": "LayoutModel",
          "model_module_version": "1.2.0",
          "state": {
            "_model_module": "@jupyter-widgets/base",
            "_model_module_version": "1.2.0",
            "_model_name": "LayoutModel",
            "_view_count": null,
            "_view_module": "@jupyter-widgets/base",
            "_view_module_version": "1.2.0",
            "_view_name": "LayoutView",
            "align_content": null,
            "align_items": null,
            "align_self": null,
            "border": null,
            "bottom": null,
            "display": null,
            "flex": null,
            "flex_flow": null,
            "grid_area": null,
            "grid_auto_columns": null,
            "grid_auto_flow": null,
            "grid_auto_rows": null,
            "grid_column": null,
            "grid_gap": null,
            "grid_row": null,
            "grid_template_areas": null,
            "grid_template_columns": null,
            "grid_template_rows": null,
            "height": null,
            "justify_content": null,
            "justify_items": null,
            "left": null,
            "margin": null,
            "max_height": null,
            "max_width": null,
            "min_height": null,
            "min_width": null,
            "object_fit": null,
            "object_position": null,
            "order": null,
            "overflow": null,
            "overflow_x": null,
            "overflow_y": null,
            "padding": null,
            "right": null,
            "top": null,
            "visibility": null,
            "width": null
          }
        },
        "fe59151b00a145de95e56e059bc215dc": {
          "model_module": "@jupyter-widgets/controls",
          "model_name": "DescriptionStyleModel",
          "model_module_version": "1.5.0",
          "state": {
            "_model_module": "@jupyter-widgets/controls",
            "_model_module_version": "1.5.0",
            "_model_name": "DescriptionStyleModel",
            "_view_count": null,
            "_view_module": "@jupyter-widgets/base",
            "_view_module_version": "1.2.0",
            "_view_name": "StyleView",
            "description_width": ""
          }
        },
        "e83cbb94ea1e4f6c8f74eb8bd15d369f": {
          "model_module": "@jupyter-widgets/controls",
          "model_name": "HBoxModel",
          "model_module_version": "1.5.0",
          "state": {
            "_dom_classes": [],
            "_model_module": "@jupyter-widgets/controls",
            "_model_module_version": "1.5.0",
            "_model_name": "HBoxModel",
            "_view_count": null,
            "_view_module": "@jupyter-widgets/controls",
            "_view_module_version": "1.5.0",
            "_view_name": "HBoxView",
            "box_style": "",
            "children": [
              "IPY_MODEL_0d6db5d3543841d9beb991ff7a3f3624",
              "IPY_MODEL_b1cbf37dc7e940f589a91a8db4c46d97",
              "IPY_MODEL_0b1832d63e8c44eaaa9cf0367934db0e"
            ],
            "layout": "IPY_MODEL_9642cf0d40b84fcb93adf000062156b9"
          }
        },
        "0d6db5d3543841d9beb991ff7a3f3624": {
          "model_module": "@jupyter-widgets/controls",
          "model_name": "HTMLModel",
          "model_module_version": "1.5.0",
          "state": {
            "_dom_classes": [],
            "_model_module": "@jupyter-widgets/controls",
            "_model_module_version": "1.5.0",
            "_model_name": "HTMLModel",
            "_view_count": null,
            "_view_module": "@jupyter-widgets/controls",
            "_view_module_version": "1.5.0",
            "_view_name": "HTMLView",
            "description": "",
            "description_tooltip": null,
            "layout": "IPY_MODEL_f66a7fdd4a544041a4c464da84d4c487",
            "placeholder": "​",
            "style": "IPY_MODEL_1971f12facaa432994ecf66fb92d3c34",
            "value": "Downloading (…)/main/vocab-src.json: 100%"
          }
        },
        "b1cbf37dc7e940f589a91a8db4c46d97": {
          "model_module": "@jupyter-widgets/controls",
          "model_name": "FloatProgressModel",
          "model_module_version": "1.5.0",
          "state": {
            "_dom_classes": [],
            "_model_module": "@jupyter-widgets/controls",
            "_model_module_version": "1.5.0",
            "_model_name": "FloatProgressModel",
            "_view_count": null,
            "_view_module": "@jupyter-widgets/controls",
            "_view_module_version": "1.5.0",
            "_view_name": "ProgressView",
            "bar_style": "success",
            "description": "",
            "description_tooltip": null,
            "layout": "IPY_MODEL_f61f1ced98374ca29b41481a03c0ba52",
            "max": 848917,
            "min": 0,
            "orientation": "horizontal",
            "style": "IPY_MODEL_c38b5bdcda4141a996868848b8d1b747",
            "value": 848917
          }
        },
        "0b1832d63e8c44eaaa9cf0367934db0e": {
          "model_module": "@jupyter-widgets/controls",
          "model_name": "HTMLModel",
          "model_module_version": "1.5.0",
          "state": {
            "_dom_classes": [],
            "_model_module": "@jupyter-widgets/controls",
            "_model_module_version": "1.5.0",
            "_model_name": "HTMLModel",
            "_view_count": null,
            "_view_module": "@jupyter-widgets/controls",
            "_view_module_version": "1.5.0",
            "_view_name": "HTMLView",
            "description": "",
            "description_tooltip": null,
            "layout": "IPY_MODEL_ea82490bb0c5483ab94606103a9b2cdb",
            "placeholder": "​",
            "style": "IPY_MODEL_07b80171948a4890a54ed46343751463",
            "value": " 849k/849k [00:00&lt;00:00, 5.10MB/s]"
          }
        },
        "9642cf0d40b84fcb93adf000062156b9": {
          "model_module": "@jupyter-widgets/base",
          "model_name": "LayoutModel",
          "model_module_version": "1.2.0",
          "state": {
            "_model_module": "@jupyter-widgets/base",
            "_model_module_version": "1.2.0",
            "_model_name": "LayoutModel",
            "_view_count": null,
            "_view_module": "@jupyter-widgets/base",
            "_view_module_version": "1.2.0",
            "_view_name": "LayoutView",
            "align_content": null,
            "align_items": null,
            "align_self": null,
            "border": null,
            "bottom": null,
            "display": null,
            "flex": null,
            "flex_flow": null,
            "grid_area": null,
            "grid_auto_columns": null,
            "grid_auto_flow": null,
            "grid_auto_rows": null,
            "grid_column": null,
            "grid_gap": null,
            "grid_row": null,
            "grid_template_areas": null,
            "grid_template_columns": null,
            "grid_template_rows": null,
            "height": null,
            "justify_content": null,
            "justify_items": null,
            "left": null,
            "margin": null,
            "max_height": null,
            "max_width": null,
            "min_height": null,
            "min_width": null,
            "object_fit": null,
            "object_position": null,
            "order": null,
            "overflow": null,
            "overflow_x": null,
            "overflow_y": null,
            "padding": null,
            "right": null,
            "top": null,
            "visibility": null,
            "width": null
          }
        },
        "f66a7fdd4a544041a4c464da84d4c487": {
          "model_module": "@jupyter-widgets/base",
          "model_name": "LayoutModel",
          "model_module_version": "1.2.0",
          "state": {
            "_model_module": "@jupyter-widgets/base",
            "_model_module_version": "1.2.0",
            "_model_name": "LayoutModel",
            "_view_count": null,
            "_view_module": "@jupyter-widgets/base",
            "_view_module_version": "1.2.0",
            "_view_name": "LayoutView",
            "align_content": null,
            "align_items": null,
            "align_self": null,
            "border": null,
            "bottom": null,
            "display": null,
            "flex": null,
            "flex_flow": null,
            "grid_area": null,
            "grid_auto_columns": null,
            "grid_auto_flow": null,
            "grid_auto_rows": null,
            "grid_column": null,
            "grid_gap": null,
            "grid_row": null,
            "grid_template_areas": null,
            "grid_template_columns": null,
            "grid_template_rows": null,
            "height": null,
            "justify_content": null,
            "justify_items": null,
            "left": null,
            "margin": null,
            "max_height": null,
            "max_width": null,
            "min_height": null,
            "min_width": null,
            "object_fit": null,
            "object_position": null,
            "order": null,
            "overflow": null,
            "overflow_x": null,
            "overflow_y": null,
            "padding": null,
            "right": null,
            "top": null,
            "visibility": null,
            "width": null
          }
        },
        "1971f12facaa432994ecf66fb92d3c34": {
          "model_module": "@jupyter-widgets/controls",
          "model_name": "DescriptionStyleModel",
          "model_module_version": "1.5.0",
          "state": {
            "_model_module": "@jupyter-widgets/controls",
            "_model_module_version": "1.5.0",
            "_model_name": "DescriptionStyleModel",
            "_view_count": null,
            "_view_module": "@jupyter-widgets/base",
            "_view_module_version": "1.2.0",
            "_view_name": "StyleView",
            "description_width": ""
          }
        },
        "f61f1ced98374ca29b41481a03c0ba52": {
          "model_module": "@jupyter-widgets/base",
          "model_name": "LayoutModel",
          "model_module_version": "1.2.0",
          "state": {
            "_model_module": "@jupyter-widgets/base",
            "_model_module_version": "1.2.0",
            "_model_name": "LayoutModel",
            "_view_count": null,
            "_view_module": "@jupyter-widgets/base",
            "_view_module_version": "1.2.0",
            "_view_name": "LayoutView",
            "align_content": null,
            "align_items": null,
            "align_self": null,
            "border": null,
            "bottom": null,
            "display": null,
            "flex": null,
            "flex_flow": null,
            "grid_area": null,
            "grid_auto_columns": null,
            "grid_auto_flow": null,
            "grid_auto_rows": null,
            "grid_column": null,
            "grid_gap": null,
            "grid_row": null,
            "grid_template_areas": null,
            "grid_template_columns": null,
            "grid_template_rows": null,
            "height": null,
            "justify_content": null,
            "justify_items": null,
            "left": null,
            "margin": null,
            "max_height": null,
            "max_width": null,
            "min_height": null,
            "min_width": null,
            "object_fit": null,
            "object_position": null,
            "order": null,
            "overflow": null,
            "overflow_x": null,
            "overflow_y": null,
            "padding": null,
            "right": null,
            "top": null,
            "visibility": null,
            "width": null
          }
        },
        "c38b5bdcda4141a996868848b8d1b747": {
          "model_module": "@jupyter-widgets/controls",
          "model_name": "ProgressStyleModel",
          "model_module_version": "1.5.0",
          "state": {
            "_model_module": "@jupyter-widgets/controls",
            "_model_module_version": "1.5.0",
            "_model_name": "ProgressStyleModel",
            "_view_count": null,
            "_view_module": "@jupyter-widgets/base",
            "_view_module_version": "1.2.0",
            "_view_name": "StyleView",
            "bar_color": null,
            "description_width": ""
          }
        },
        "ea82490bb0c5483ab94606103a9b2cdb": {
          "model_module": "@jupyter-widgets/base",
          "model_name": "LayoutModel",
          "model_module_version": "1.2.0",
          "state": {
            "_model_module": "@jupyter-widgets/base",
            "_model_module_version": "1.2.0",
            "_model_name": "LayoutModel",
            "_view_count": null,
            "_view_module": "@jupyter-widgets/base",
            "_view_module_version": "1.2.0",
            "_view_name": "LayoutView",
            "align_content": null,
            "align_items": null,
            "align_self": null,
            "border": null,
            "bottom": null,
            "display": null,
            "flex": null,
            "flex_flow": null,
            "grid_area": null,
            "grid_auto_columns": null,
            "grid_auto_flow": null,
            "grid_auto_rows": null,
            "grid_column": null,
            "grid_gap": null,
            "grid_row": null,
            "grid_template_areas": null,
            "grid_template_columns": null,
            "grid_template_rows": null,
            "height": null,
            "justify_content": null,
            "justify_items": null,
            "left": null,
            "margin": null,
            "max_height": null,
            "max_width": null,
            "min_height": null,
            "min_width": null,
            "object_fit": null,
            "object_position": null,
            "order": null,
            "overflow": null,
            "overflow_x": null,
            "overflow_y": null,
            "padding": null,
            "right": null,
            "top": null,
            "visibility": null,
            "width": null
          }
        },
        "07b80171948a4890a54ed46343751463": {
          "model_module": "@jupyter-widgets/controls",
          "model_name": "DescriptionStyleModel",
          "model_module_version": "1.5.0",
          "state": {
            "_model_module": "@jupyter-widgets/controls",
            "_model_module_version": "1.5.0",
            "_model_name": "DescriptionStyleModel",
            "_view_count": null,
            "_view_module": "@jupyter-widgets/base",
            "_view_module_version": "1.2.0",
            "_view_name": "StyleView",
            "description_width": ""
          }
        },
        "19f0e9d74f7640209fc33f5fc2676b63": {
          "model_module": "@jupyter-widgets/controls",
          "model_name": "HBoxModel",
          "model_module_version": "1.5.0",
          "state": {
            "_dom_classes": [],
            "_model_module": "@jupyter-widgets/controls",
            "_model_module_version": "1.5.0",
            "_model_name": "HBoxModel",
            "_view_count": null,
            "_view_module": "@jupyter-widgets/controls",
            "_view_module_version": "1.5.0",
            "_view_name": "HBoxView",
            "box_style": "",
            "children": [
              "IPY_MODEL_2b47db68cf7045889a8ab9e108e0d0be",
              "IPY_MODEL_6492a20ca5254b43ba891dfa2655a659",
              "IPY_MODEL_02219e906f09438291b1bd81c4849a1c"
            ],
            "layout": "IPY_MODEL_cfbf1d0b417a444ca7850976edee1fa9"
          }
        },
        "2b47db68cf7045889a8ab9e108e0d0be": {
          "model_module": "@jupyter-widgets/controls",
          "model_name": "HTMLModel",
          "model_module_version": "1.5.0",
          "state": {
            "_dom_classes": [],
            "_model_module": "@jupyter-widgets/controls",
            "_model_module_version": "1.5.0",
            "_model_name": "HTMLModel",
            "_view_count": null,
            "_view_module": "@jupyter-widgets/controls",
            "_view_module_version": "1.5.0",
            "_view_name": "HTMLView",
            "description": "",
            "description_tooltip": null,
            "layout": "IPY_MODEL_20aa464f015144b691e174fcac1cc775",
            "placeholder": "​",
            "style": "IPY_MODEL_6995a879439742a2b8688fd3b680e8b3",
            "value": "Downloading (…)olve/main/merges.txt: 100%"
          }
        },
        "6492a20ca5254b43ba891dfa2655a659": {
          "model_module": "@jupyter-widgets/controls",
          "model_name": "FloatProgressModel",
          "model_module_version": "1.5.0",
          "state": {
            "_dom_classes": [],
            "_model_module": "@jupyter-widgets/controls",
            "_model_module_version": "1.5.0",
            "_model_name": "FloatProgressModel",
            "_view_count": null,
            "_view_module": "@jupyter-widgets/controls",
            "_view_module_version": "1.5.0",
            "_view_name": "ProgressView",
            "bar_style": "success",
            "description": "",
            "description_tooltip": null,
            "layout": "IPY_MODEL_a114abfd72ab457bb61c917ba1cb2c97",
            "max": 315003,
            "min": 0,
            "orientation": "horizontal",
            "style": "IPY_MODEL_b2550ce1e34c4e03a30a94b9da36b546",
            "value": 315003
          }
        },
        "02219e906f09438291b1bd81c4849a1c": {
          "model_module": "@jupyter-widgets/controls",
          "model_name": "HTMLModel",
          "model_module_version": "1.5.0",
          "state": {
            "_dom_classes": [],
            "_model_module": "@jupyter-widgets/controls",
            "_model_module_version": "1.5.0",
            "_model_name": "HTMLModel",
            "_view_count": null,
            "_view_module": "@jupyter-widgets/controls",
            "_view_module_version": "1.5.0",
            "_view_name": "HTMLView",
            "description": "",
            "description_tooltip": null,
            "layout": "IPY_MODEL_073f7d4b7f0648528c1b6d3d18efe035",
            "placeholder": "​",
            "style": "IPY_MODEL_d83bd5d12e724a0cb5c0ff26a9d9f0eb",
            "value": " 315k/315k [00:00&lt;00:00, 2.60MB/s]"
          }
        },
        "cfbf1d0b417a444ca7850976edee1fa9": {
          "model_module": "@jupyter-widgets/base",
          "model_name": "LayoutModel",
          "model_module_version": "1.2.0",
          "state": {
            "_model_module": "@jupyter-widgets/base",
            "_model_module_version": "1.2.0",
            "_model_name": "LayoutModel",
            "_view_count": null,
            "_view_module": "@jupyter-widgets/base",
            "_view_module_version": "1.2.0",
            "_view_name": "LayoutView",
            "align_content": null,
            "align_items": null,
            "align_self": null,
            "border": null,
            "bottom": null,
            "display": null,
            "flex": null,
            "flex_flow": null,
            "grid_area": null,
            "grid_auto_columns": null,
            "grid_auto_flow": null,
            "grid_auto_rows": null,
            "grid_column": null,
            "grid_gap": null,
            "grid_row": null,
            "grid_template_areas": null,
            "grid_template_columns": null,
            "grid_template_rows": null,
            "height": null,
            "justify_content": null,
            "justify_items": null,
            "left": null,
            "margin": null,
            "max_height": null,
            "max_width": null,
            "min_height": null,
            "min_width": null,
            "object_fit": null,
            "object_position": null,
            "order": null,
            "overflow": null,
            "overflow_x": null,
            "overflow_y": null,
            "padding": null,
            "right": null,
            "top": null,
            "visibility": null,
            "width": null
          }
        },
        "20aa464f015144b691e174fcac1cc775": {
          "model_module": "@jupyter-widgets/base",
          "model_name": "LayoutModel",
          "model_module_version": "1.2.0",
          "state": {
            "_model_module": "@jupyter-widgets/base",
            "_model_module_version": "1.2.0",
            "_model_name": "LayoutModel",
            "_view_count": null,
            "_view_module": "@jupyter-widgets/base",
            "_view_module_version": "1.2.0",
            "_view_name": "LayoutView",
            "align_content": null,
            "align_items": null,
            "align_self": null,
            "border": null,
            "bottom": null,
            "display": null,
            "flex": null,
            "flex_flow": null,
            "grid_area": null,
            "grid_auto_columns": null,
            "grid_auto_flow": null,
            "grid_auto_rows": null,
            "grid_column": null,
            "grid_gap": null,
            "grid_row": null,
            "grid_template_areas": null,
            "grid_template_columns": null,
            "grid_template_rows": null,
            "height": null,
            "justify_content": null,
            "justify_items": null,
            "left": null,
            "margin": null,
            "max_height": null,
            "max_width": null,
            "min_height": null,
            "min_width": null,
            "object_fit": null,
            "object_position": null,
            "order": null,
            "overflow": null,
            "overflow_x": null,
            "overflow_y": null,
            "padding": null,
            "right": null,
            "top": null,
            "visibility": null,
            "width": null
          }
        },
        "6995a879439742a2b8688fd3b680e8b3": {
          "model_module": "@jupyter-widgets/controls",
          "model_name": "DescriptionStyleModel",
          "model_module_version": "1.5.0",
          "state": {
            "_model_module": "@jupyter-widgets/controls",
            "_model_module_version": "1.5.0",
            "_model_name": "DescriptionStyleModel",
            "_view_count": null,
            "_view_module": "@jupyter-widgets/base",
            "_view_module_version": "1.2.0",
            "_view_name": "StyleView",
            "description_width": ""
          }
        },
        "a114abfd72ab457bb61c917ba1cb2c97": {
          "model_module": "@jupyter-widgets/base",
          "model_name": "LayoutModel",
          "model_module_version": "1.2.0",
          "state": {
            "_model_module": "@jupyter-widgets/base",
            "_model_module_version": "1.2.0",
            "_model_name": "LayoutModel",
            "_view_count": null,
            "_view_module": "@jupyter-widgets/base",
            "_view_module_version": "1.2.0",
            "_view_name": "LayoutView",
            "align_content": null,
            "align_items": null,
            "align_self": null,
            "border": null,
            "bottom": null,
            "display": null,
            "flex": null,
            "flex_flow": null,
            "grid_area": null,
            "grid_auto_columns": null,
            "grid_auto_flow": null,
            "grid_auto_rows": null,
            "grid_column": null,
            "grid_gap": null,
            "grid_row": null,
            "grid_template_areas": null,
            "grid_template_columns": null,
            "grid_template_rows": null,
            "height": null,
            "justify_content": null,
            "justify_items": null,
            "left": null,
            "margin": null,
            "max_height": null,
            "max_width": null,
            "min_height": null,
            "min_width": null,
            "object_fit": null,
            "object_position": null,
            "order": null,
            "overflow": null,
            "overflow_x": null,
            "overflow_y": null,
            "padding": null,
            "right": null,
            "top": null,
            "visibility": null,
            "width": null
          }
        },
        "b2550ce1e34c4e03a30a94b9da36b546": {
          "model_module": "@jupyter-widgets/controls",
          "model_name": "ProgressStyleModel",
          "model_module_version": "1.5.0",
          "state": {
            "_model_module": "@jupyter-widgets/controls",
            "_model_module_version": "1.5.0",
            "_model_name": "ProgressStyleModel",
            "_view_count": null,
            "_view_module": "@jupyter-widgets/base",
            "_view_module_version": "1.2.0",
            "_view_name": "StyleView",
            "bar_color": null,
            "description_width": ""
          }
        },
        "073f7d4b7f0648528c1b6d3d18efe035": {
          "model_module": "@jupyter-widgets/base",
          "model_name": "LayoutModel",
          "model_module_version": "1.2.0",
          "state": {
            "_model_module": "@jupyter-widgets/base",
            "_model_module_version": "1.2.0",
            "_model_name": "LayoutModel",
            "_view_count": null,
            "_view_module": "@jupyter-widgets/base",
            "_view_module_version": "1.2.0",
            "_view_name": "LayoutView",
            "align_content": null,
            "align_items": null,
            "align_self": null,
            "border": null,
            "bottom": null,
            "display": null,
            "flex": null,
            "flex_flow": null,
            "grid_area": null,
            "grid_auto_columns": null,
            "grid_auto_flow": null,
            "grid_auto_rows": null,
            "grid_column": null,
            "grid_gap": null,
            "grid_row": null,
            "grid_template_areas": null,
            "grid_template_columns": null,
            "grid_template_rows": null,
            "height": null,
            "justify_content": null,
            "justify_items": null,
            "left": null,
            "margin": null,
            "max_height": null,
            "max_width": null,
            "min_height": null,
            "min_width": null,
            "object_fit": null,
            "object_position": null,
            "order": null,
            "overflow": null,
            "overflow_x": null,
            "overflow_y": null,
            "padding": null,
            "right": null,
            "top": null,
            "visibility": null,
            "width": null
          }
        },
        "d83bd5d12e724a0cb5c0ff26a9d9f0eb": {
          "model_module": "@jupyter-widgets/controls",
          "model_name": "DescriptionStyleModel",
          "model_module_version": "1.5.0",
          "state": {
            "_model_module": "@jupyter-widgets/controls",
            "_model_module_version": "1.5.0",
            "_model_name": "DescriptionStyleModel",
            "_view_count": null,
            "_view_module": "@jupyter-widgets/base",
            "_view_module_version": "1.2.0",
            "_view_name": "StyleView",
            "description_width": ""
          }
        }
      }
    }
  },
  "cells": [
    {
      "cell_type": "markdown",
      "source": [
        "## Аугментация\n",
        "\n",
        "При глубоком обучении иногда можно столкнуться с ситуацией, когда набор данных имеет ограниченный размер. Но чтобы получить лучшие результаты обобщение модели, необходимо иметь больше данных, в том числе и различные их вариации. То есть необходимо увеличить размер исходного набора искусственным образом, и это можно сделать с помощью **аугментации** данных."
      ],
      "metadata": {
        "id": "x7Ty7_XfdWJc"
      }
    },
    {
      "cell_type": "markdown",
      "source": [
        "**nlpaug** - nlpaug is a library for textual augmentation in machine learning experiments. The goal is improving deep learning model performance by generating textual data. It also able to generate adversarial examples to prevent adversarial attacks.\n",
        "\n",
        "[nlpaug documentation](https://nlpaug.readthedocs.io/en/latest/index.html)"
      ],
      "metadata": {
        "id": "hdkuFAVRedda"
      }
    },
    {
      "cell_type": "code",
      "source": [
        "!pip install nlpaug"
      ],
      "metadata": {
        "id": "UeOKkCrPd87k"
      },
      "execution_count": null,
      "outputs": []
    },
    {
      "cell_type": "code",
      "source": [
        "text = 'There are many tasks in NLP from text classification to question answering but whatever you do the amount of data you have to train your model impacts the model performance heavily.'"
      ],
      "metadata": {
        "id": "fHyTGLszevA_"
      },
      "execution_count": null,
      "outputs": []
    },
    {
      "cell_type": "code",
      "source": [
        "import nlpaug.augmenter.char as nac\n",
        "import nlpaug.augmenter.word as naw\n",
        "import nlpaug.augmenter.sentence as nas"
      ],
      "metadata": {
        "id": "PBkud6eVeRST"
      },
      "execution_count": 2,
      "outputs": []
    },
    {
      "cell_type": "markdown",
      "source": [
        "### Character level augmentation"
      ],
      "metadata": {
        "id": "oFXAU_ASd9H9"
      }
    },
    {
      "cell_type": "code",
      "source": [
        "def get_augmented(input_text, augmenter):\n",
        "  augmented_text = augmenter.augment(input_text)\n",
        "  print(\"Original:\")\n",
        "  print(input_text)\n",
        "  print(\"Augmented Text:\")\n",
        "  print(augmented_text)"
      ],
      "metadata": {
        "id": "ogeij9uieyy0"
      },
      "execution_count": 8,
      "outputs": []
    },
    {
      "cell_type": "code",
      "source": [
        "get_augmented(text, nac.KeyboardAug(aug_word_p=0.2, aug_word_max=5)) # симуляция опечатки в символе, символ подбирается по расстоянию на клавиатуре"
      ],
      "metadata": {
        "colab": {
          "base_uri": "https://localhost:8080/"
        },
        "id": "wpjaXFGUd84y",
        "outputId": "185e6f5a-474c-430e-a93d-7f8fc4b82925"
      },
      "execution_count": null,
      "outputs": [
        {
          "output_type": "stream",
          "name": "stdout",
          "text": [
            "Original:\n",
            "There are many tasks in NLP from text classification to question answering but whatever you do the amount of data you have to train your model impacts the model performance heavily.\n",
            "Augmented Text:\n",
            "['There are many tasks in NLP from text classification to Wurs4ion answering but whatever you do the amount of waHa you have to train your moF$l impacts the m9dSl perfoejaBXe heavily.']\n"
          ]
        }
      ]
    },
    {
      "cell_type": "code",
      "source": [
        "get_augmented(text, nac.OcrAug(aug_word_p=0.3, aug_word_max=10)) # симуляция ошибки OCR (I == 1)"
      ],
      "metadata": {
        "colab": {
          "base_uri": "https://localhost:8080/"
        },
        "id": "bM3uQAODd80_",
        "outputId": "1a8aa4d7-914f-4b86-dd86-20566a12db7f"
      },
      "execution_count": null,
      "outputs": [
        {
          "output_type": "stream",
          "name": "stdout",
          "text": [
            "Original:\n",
            "There are many tasks in NLP from text classification to question answering but whatever you do the amount of data you have to train your model impacts the model performance heavily.\n",
            "Augmented Text:\n",
            "['There are many tasks in NLP fkum text c1a88ificatiun to question answering 6ot whatever you do the amount of data yuo have tu train your model impact8 the m0de1 pekfukmance heavi1y.']\n"
          ]
        }
      ]
    },
    {
      "cell_type": "code",
      "source": [
        "get_augmented(text, nac.RandomCharAug(aug_word_p=0.2, aug_word_max=10)) # симуляция случайной опечатки"
      ],
      "metadata": {
        "colab": {
          "base_uri": "https://localhost:8080/"
        },
        "id": "uheeksZgd8xU",
        "outputId": "77d99f04-f311-4754-e450-989e5300b8ca"
      },
      "execution_count": null,
      "outputs": [
        {
          "output_type": "stream",
          "name": "stdout",
          "text": [
            "Original:\n",
            "There are many tasks in NLP from text classification to question answering but whatever you do the amount of data you have to train your model impacts the model performance heavily.\n",
            "Augmented Text:\n",
            "['There are ma(M tasks in NLP xAom ZeBt classification to question answering but whatever you do the zmounF of data you have to ttaiu your model im@aKtZ the model prRfwr&ance heavily.']\n"
          ]
        }
      ]
    },
    {
      "cell_type": "markdown",
      "source": [
        "### Word level augmentation "
      ],
      "metadata": {
        "id": "ChABTKsEgA6z"
      }
    },
    {
      "cell_type": "markdown",
      "source": [
        "#### Замена слов по смыслу"
      ],
      "metadata": {
        "id": "6yg2ik9khgcQ"
      }
    },
    {
      "cell_type": "code",
      "source": [
        "get_augmented(text, naw.AntonymAug(aug_p=0.2)) # замена по смыслу на антонимы"
      ],
      "metadata": {
        "colab": {
          "base_uri": "https://localhost:8080/"
        },
        "id": "MJhuPN-_d8h7",
        "outputId": "a1f245db-1634-456a-83aa-a31b322807a2"
      },
      "execution_count": null,
      "outputs": [
        {
          "output_type": "stream",
          "name": "stderr",
          "text": [
            "[nltk_data] Downloading package wordnet to /root/nltk_data...\n",
            "[nltk_data] Downloading package omw-1.4 to /root/nltk_data...\n",
            "[nltk_data] Downloading package averaged_perceptron_tagger to\n",
            "[nltk_data]     /root/nltk_data...\n",
            "[nltk_data]   Unzipping taggers/averaged_perceptron_tagger.zip.\n"
          ]
        },
        {
          "output_type": "stream",
          "name": "stdout",
          "text": [
            "Original:\n",
            "There are many tasks in NLP from text classification to question answering but whatever you do the amount of data you have to train your model impacts the model performance heavily.\n",
            "Augmented Text:\n",
            "['There differ few tasks in NLP from text classification to question answering but whatever you unmake the amount of data you refuse to train your model impacts the model performance lightly.']\n"
          ]
        }
      ]
    },
    {
      "cell_type": "code",
      "source": [
        "get_augmented(text, naw.SynonymAug(aug_p=0.2)) # замена по смыслу на синонимы"
      ],
      "metadata": {
        "colab": {
          "base_uri": "https://localhost:8080/"
        },
        "id": "heFqDk9SgX5f",
        "outputId": "e35fe51c-d994-4132-96c4-42f7b8dbb33b"
      },
      "execution_count": null,
      "outputs": [
        {
          "output_type": "stream",
          "name": "stdout",
          "text": [
            "Original:\n",
            "There are many tasks in NLP from text classification to question answering but whatever you do the amount of data you have to train your model impacts the model performance heavily.\n",
            "Augmented Text:\n",
            "['There are many tasks in NLP from text categorisation to question answering merely whatever you do the sum of data you have to train your model impacts the model operation heavily.']\n"
          ]
        }
      ]
    },
    {
      "cell_type": "code",
      "source": [],
      "metadata": {
        "id": "xIOOdwqpgYDF"
      },
      "execution_count": null,
      "outputs": []
    },
    {
      "cell_type": "markdown",
      "source": [
        "#### Операции со словами"
      ],
      "metadata": {
        "id": "EYohE_aYiFJ3"
      }
    },
    {
      "cell_type": "code",
      "source": [
        "get_augmented(text, naw.SplitAug(aug_p=0.2)) # пробелы в случайных местах"
      ],
      "metadata": {
        "colab": {
          "base_uri": "https://localhost:8080/"
        },
        "id": "dZ5c2vW9gYJ5",
        "outputId": "42d9e3f3-ec92-4cf3-8d6c-913a9a0fcfb0"
      },
      "execution_count": null,
      "outputs": [
        {
          "output_type": "stream",
          "name": "stdout",
          "text": [
            "Original:\n",
            "There are many tasks in NLP from text classification to question answering but whatever you do the amount of data you have to train your model impacts the model performance heavily.\n",
            "Augmented Text:\n",
            "['There are many ta sks in NLP from text classification to question answering but whatever you do the a mount of data you ha ve to tr ain yo ur mod el impacts the model performance heav ily.']\n"
          ]
        }
      ]
    },
    {
      "cell_type": "code",
      "source": [
        "get_augmented(text, naw.RandomWordAug(action='delete', aug_p=0.2)) # убирает случайные слова. Доступные action = ‘substitute’, ‘swap’, ‘delete’ or ‘crop’."
      ],
      "metadata": {
        "colab": {
          "base_uri": "https://localhost:8080/"
        },
        "id": "EJvcy2KGiHRg",
        "outputId": "3c45c170-34c6-49c1-a256-0cc120f054a9"
      },
      "execution_count": null,
      "outputs": [
        {
          "output_type": "stream",
          "name": "stdout",
          "text": [
            "Original:\n",
            "There are many tasks in NLP from text classification to question answering but whatever you do the amount of data you have to train your model impacts the model performance heavily.\n",
            "Augmented Text:\n",
            "['There many in NLP from text classification question answering but do the amount of data you have to your model impacts model performance heavily.']\n"
          ]
        }
      ]
    },
    {
      "cell_type": "code",
      "source": [
        "get_augmented(text, naw.RandomWordAug(action='substitute', aug_p=0.2))"
      ],
      "metadata": {
        "colab": {
          "base_uri": "https://localhost:8080/"
        },
        "id": "0oW584i0igf2",
        "outputId": "3190b3a0-6015-46b9-a869-6c8dc66803a5"
      },
      "execution_count": null,
      "outputs": [
        {
          "output_type": "stream",
          "name": "stdout",
          "text": [
            "Original:\n",
            "There are many tasks in NLP from text classification to question answering but whatever you do the amount of data you have to train your model impacts the model performance heavily.\n",
            "Augmented Text:\n",
            "['_ are many tasks in _ from text classification to question answering but _ you do the amount of data you have to train _ model impacts _ _ performance _.']\n"
          ]
        }
      ]
    },
    {
      "cell_type": "markdown",
      "source": [
        "#### Back translation"
      ],
      "metadata": {
        "id": "zm_EAI5CdOcr"
      }
    },
    {
      "cell_type": "markdown",
      "source": [
        "![image.png](data:image/png;base64,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)"
      ],
      "metadata": {
        "id": "0mC9_ZiDdQxL"
      }
    },
    {
      "cell_type": "markdown",
      "source": [
        "[Доступные модели](https://huggingface.co/models?search=Helsinki-NLP&pipeline_tag=translation)"
      ],
      "metadata": {
        "id": "-NZn_fQihBSQ"
      }
    },
    {
      "cell_type": "code",
      "source": [
        "!pip install transformers"
      ],
      "metadata": {
        "id": "qWN_UHovhIz7",
        "colab": {
          "base_uri": "https://localhost:8080/"
        },
        "outputId": "12b2ba4d-45c9-4548-f8e7-b5343d44bbba"
      },
      "execution_count": 6,
      "outputs": [
        {
          "output_type": "stream",
          "name": "stdout",
          "text": [
            "Successfully installed huggingface-hub-0.13.1 tokenizers-0.13.2 transformers-4.26.1\n"
          ]
        }
      ]
    },
    {
      "cell_type": "code",
      "source": [
        "!pip install sacremoses "
      ],
      "metadata": {
        "id": "uhn-r6hHhrZm"
      },
      "execution_count": null,
      "outputs": []
    },
    {
      "cell_type": "code",
      "source": [
        "get_augmented(text, naw.BackTranslationAug(from_model_name='facebook/wmt19-en-de', to_model_name='facebook/wmt19-de-en')) # можно задать device"
      ],
      "metadata": {
        "colab": {
          "base_uri": "https://localhost:8080/",
          "height": 202,
          "referenced_widgets": [
            "8dcec87c417e40e89bc5f101776155a3",
            "72a51d1d03ff42fa948965bab1e670b2",
            "33037e0607fd4e4e8fc93c3a126a8a61",
            "368b3e2b7e8344daa9ddcd5849f0240d",
            "5689b65c7e854f8aa709983a103d948d",
            "5a82b1b7152645859e327cef8981f805",
            "870baffa14e4418d8c46cac93349bd8f",
            "6664e489fcf64ead966fcd76ffefa841",
            "147b86f5229c44769e5d43d4ae859954",
            "6e24cce9063b4e02b2885ebd7331f70e",
            "fe59151b00a145de95e56e059bc215dc",
            "e83cbb94ea1e4f6c8f74eb8bd15d369f",
            "0d6db5d3543841d9beb991ff7a3f3624",
            "b1cbf37dc7e940f589a91a8db4c46d97",
            "0b1832d63e8c44eaaa9cf0367934db0e",
            "9642cf0d40b84fcb93adf000062156b9",
            "f66a7fdd4a544041a4c464da84d4c487",
            "1971f12facaa432994ecf66fb92d3c34",
            "f61f1ced98374ca29b41481a03c0ba52",
            "c38b5bdcda4141a996868848b8d1b747",
            "ea82490bb0c5483ab94606103a9b2cdb",
            "07b80171948a4890a54ed46343751463",
            "19f0e9d74f7640209fc33f5fc2676b63",
            "2b47db68cf7045889a8ab9e108e0d0be",
            "6492a20ca5254b43ba891dfa2655a659",
            "02219e906f09438291b1bd81c4849a1c",
            "cfbf1d0b417a444ca7850976edee1fa9",
            "20aa464f015144b691e174fcac1cc775",
            "6995a879439742a2b8688fd3b680e8b3",
            "a114abfd72ab457bb61c917ba1cb2c97",
            "b2550ce1e34c4e03a30a94b9da36b546",
            "073f7d4b7f0648528c1b6d3d18efe035",
            "d83bd5d12e724a0cb5c0ff26a9d9f0eb"
          ]
        },
        "id": "p-ZHKyPdcKGH",
        "outputId": "3403a0d2-4d49-4357-f4fc-9d21df78e4fa"
      },
      "execution_count": null,
      "outputs": [
        {
          "output_type": "display_data",
          "data": {
            "text/plain": [
              "Downloading (…)okenizer_config.json:   0%|          | 0.00/67.0 [00:00<?, ?B/s]"
            ],
            "application/vnd.jupyter.widget-view+json": {
              "version_major": 2,
              "version_minor": 0,
              "model_id": "8dcec87c417e40e89bc5f101776155a3"
            }
          },
          "metadata": {}
        },
        {
          "output_type": "display_data",
          "data": {
            "text/plain": [
              "Downloading (…)/main/vocab-src.json:   0%|          | 0.00/849k [00:00<?, ?B/s]"
            ],
            "application/vnd.jupyter.widget-view+json": {
              "version_major": 2,
              "version_minor": 0,
              "model_id": "e83cbb94ea1e4f6c8f74eb8bd15d369f"
            }
          },
          "metadata": {}
        },
        {
          "output_type": "display_data",
          "data": {
            "text/plain": [
              "Downloading (…)olve/main/merges.txt:   0%|          | 0.00/315k [00:00<?, ?B/s]"
            ],
            "application/vnd.jupyter.widget-view+json": {
              "version_major": 2,
              "version_minor": 0,
              "model_id": "19f0e9d74f7640209fc33f5fc2676b63"
            }
          },
          "metadata": {}
        },
        {
          "output_type": "stream",
          "name": "stdout",
          "text": [
            "Original:\n",
            "There are many tasks in NLP from text classification to question answering but whatever you do the amount of data you have to train your model impacts the model performance heavily.\n",
            "Augmented Text:\n",
            "['There are many tasks in NLP, from text classification to answering questions, but whatever you do, the amount of data you need to train your model greatly affects the performance of the model.']\n"
          ]
        }
      ]
    },
    {
      "cell_type": "markdown",
      "source": [
        "### Sentence level augmentation"
      ],
      "metadata": {
        "id": "gmfyKhqWixw2"
      }
    },
    {
      "cell_type": "code",
      "source": [
        "get_augmented(text, nas.ContextualWordEmbsForSentenceAug(model_path='distilgpt2'))"
      ],
      "metadata": {
        "colab": {
          "base_uri": "https://localhost:8080/"
        },
        "id": "8Zg3WRLMkD0o",
        "outputId": "75f55034-3d8c-48ad-82d8-af40be5bda92"
      },
      "execution_count": null,
      "outputs": [
        {
          "output_type": "stream",
          "name": "stdout",
          "text": [
            "Original:\n",
            "There are many tasks in NLP from text classification to question answering but whatever you do the amount of data you have to train your model impacts the model performance heavily.\n",
            "Augmented Text:\n",
            "['There are many tasks in NLP from text classification to question answering but whatever you do the amount of data you have to train your model impacts the model performance heavily. is A You I The , In The D It There This G .']\n"
          ]
        }
      ]
    },
    {
      "cell_type": "markdown",
      "source": [
        "#### Abstractive Summarization"
      ],
      "metadata": {
        "id": "UINeV-4-j6JV"
      }
    },
    {
      "cell_type": "code",
      "source": [
        "article = \"\"\"\n",
        "The history of natural language processing (NLP) generally started in the 1950s, although work can be \n",
        "found from earlier periods. In 1950, Alan Turing published an article titled \"Computing Machinery and \n",
        "Intelligence\" which proposed what is now called the Turing test as a criterion of intelligence. \n",
        "The Georgetown experiment in 1954 involved fully automatic translation of more than sixty Russian \n",
        "sentences into English. The authors claimed that within three or five years, machine translation would\n",
        "be a solved problem. However, real progress was much slower, and after the ALPAC report in 1966, \n",
        "which found that ten-year-long research had failed to fulfill the expectations, funding for machine \n",
        "translation was dramatically reduced. Little further research in machine translation was conducted \n",
        "until the late 1980s when the first statistical machine translation systems were developed.\n",
        "\"\"\""
      ],
      "metadata": {
        "id": "ctxB2tWwj0Mt"
      },
      "execution_count": 3,
      "outputs": []
    },
    {
      "cell_type": "code",
      "source": [
        "get_augmented(article, nas.AbstSummAug(model_path='t5-base')) # можно задать device"
      ],
      "metadata": {
        "colab": {
          "base_uri": "https://localhost:8080/"
        },
        "id": "wEci7XKXcKJ6",
        "outputId": "d23a3a96-8d66-4de6-faa9-d4bc05f4dedc"
      },
      "execution_count": 9,
      "outputs": [
        {
          "output_type": "stream",
          "name": "stdout",
          "text": [
            "Original:\n",
            "\n",
            "The history of natural language processing (NLP) generally started in the 1950s, although work can be \n",
            "found from earlier periods. In 1950, Alan Turing published an article titled \"Computing Machinery and \n",
            "Intelligence\" which proposed what is now called the Turing test as a criterion of intelligence. \n",
            "The Georgetown experiment in 1954 involved fully automatic translation of more than sixty Russian \n",
            "sentences into English. The authors claimed that within three or five years, machine translation would\n",
            "be a solved problem. However, real progress was much slower, and after the ALPAC report in 1966, \n",
            "which found that ten-year-long research had failed to fulfill the expectations, funding for machine \n",
            "translation was dramatically reduced. Little further research in machine translation was conducted \n",
            "until the late 1980s when the first statistical machine translation systems were developed.\n",
            "\n",
            "Augmented Text:\n",
            "['the history of natural language processing (NLP) generally started in the 1950s. in 1950, Alan Turing published an article titled \"Computing Machinery and Intelligence\" in 1954, the Georgetown experiment involved fully automatic translation of more than sixty Russian sentences. real progress was much slower, and funding for machine translation was dramatically reduced.']\n"
          ]
        }
      ]
    },
    {
      "cell_type": "markdown",
      "source": [
        "### Tips\n",
        "\n",
        "- Не стоит валидироваться на аугментированных данных и вообще их переоценивать\n",
        "- При использовании k-fold валидации аугментированные и исходные данные должны быть в одном фолде\n",
        "- Универсальной для всех случаев аугментации не существует\n",
        "- Можно их миксовать\n",
        "- При этом не всегда увеличение количества данных будет влиять на качество :с"
      ],
      "metadata": {
        "id": "BtzYO4iNk70E"
      }
    },
    {
      "cell_type": "markdown",
      "source": [
        "## Что еще почитать?\n",
        "\n",
        "[Data Augmentation Using Pre-trained Transformer Models](https://arxiv.org/pdf/2003.02245.pdf)\n",
        "\n",
        "[Аугментация для текстов](https://alexanderdyakonov.wordpress.com/2020/11/09/text-augmentation/)\n"
      ],
      "metadata": {
        "id": "Z1Njo9k3nQL7"
      }
    },
    {
      "cell_type": "code",
      "source": [],
      "metadata": {
        "id": "NqWEsXS8cKOA"
      },
      "execution_count": null,
      "outputs": []
    }
  ]
}