{
  "cells": [
    {
      "cell_type": "code",
      "execution_count": 7,
      "metadata": {
        "id": "idJUdyE2y1f2"
      },
      "outputs": [
        {
          "name": "stdout",
          "output_type": "stream",
          "text": [
            "Defaulting to user installation because normal site-packages is not writeable\n",
            "Requirement already satisfied: pandas in /Users/nikitav/Library/Python/3.9/lib/python/site-packages (1.5.3)\n",
            "Requirement already satisfied: spacy in /Users/nikitav/Library/Python/3.9/lib/python/site-packages (3.5.0)\n",
            "Requirement already satisfied: scikit-learn in /Users/nikitav/Library/Python/3.9/lib/python/site-packages (1.2.1)\n",
            "Collecting matplotlib\n",
            "  Using cached matplotlib-3.7.0-cp39-cp39-macosx_11_0_arm64.whl (7.3 MB)\n",
            "Requirement already satisfied: python-dateutil>=2.8.1 in /Users/nikitav/Library/Python/3.9/lib/python/site-packages (from pandas) (2.8.2)\n",
            "Requirement already satisfied: numpy>=1.20.3 in /Users/nikitav/Library/Python/3.9/lib/python/site-packages (from pandas) (1.24.2)\n",
            "Requirement already satisfied: pytz>=2020.1 in /Users/nikitav/Library/Python/3.9/lib/python/site-packages (from pandas) (2022.7.1)\n",
            "Requirement already satisfied: typer<0.8.0,>=0.3.0 in /Users/nikitav/Library/Python/3.9/lib/python/site-packages (from spacy) (0.7.0)\n",
            "Requirement already satisfied: wasabi<1.2.0,>=0.9.1 in /Users/nikitav/Library/Python/3.9/lib/python/site-packages (from spacy) (1.1.1)\n",
            "Requirement already satisfied: pathy>=0.10.0 in /Users/nikitav/Library/Python/3.9/lib/python/site-packages (from spacy) (0.10.1)\n",
            "Requirement already satisfied: catalogue<2.1.0,>=2.0.6 in /Users/nikitav/Library/Python/3.9/lib/python/site-packages (from spacy) (2.0.8)\n",
            "Requirement already satisfied: setuptools in /Library/Developer/CommandLineTools/Library/Frameworks/Python3.framework/Versions/3.9/lib/python3.9/site-packages (from spacy) (58.0.4)\n",
            "Requirement already satisfied: tqdm<5.0.0,>=4.38.0 in /Users/nikitav/Library/Python/3.9/lib/python/site-packages (from spacy) (4.64.1)\n",
            "Requirement already satisfied: cymem<2.1.0,>=2.0.2 in /Users/nikitav/Library/Python/3.9/lib/python/site-packages (from spacy) (2.0.7)\n",
            "Requirement already satisfied: pydantic!=1.8,!=1.8.1,<1.11.0,>=1.7.4 in /Users/nikitav/Library/Python/3.9/lib/python/site-packages (from spacy) (1.10.5)\n",
            "Requirement already satisfied: jinja2 in /Users/nikitav/Library/Python/3.9/lib/python/site-packages (from spacy) (3.1.2)\n",
            "Requirement already satisfied: srsly<3.0.0,>=2.4.3 in /Users/nikitav/Library/Python/3.9/lib/python/site-packages (from spacy) (2.4.6)\n",
            "Requirement already satisfied: preshed<3.1.0,>=3.0.2 in /Users/nikitav/Library/Python/3.9/lib/python/site-packages (from spacy) (3.0.8)\n",
            "Requirement already satisfied: requests<3.0.0,>=2.13.0 in /Users/nikitav/Library/Python/3.9/lib/python/site-packages (from spacy) (2.28.2)\n",
            "Requirement already satisfied: spacy-legacy<3.1.0,>=3.0.11 in /Users/nikitav/Library/Python/3.9/lib/python/site-packages (from spacy) (3.0.12)\n",
            "Requirement already satisfied: packaging>=20.0 in /Users/nikitav/Library/Python/3.9/lib/python/site-packages (from spacy) (23.0)\n",
            "Requirement already satisfied: murmurhash<1.1.0,>=0.28.0 in /Users/nikitav/Library/Python/3.9/lib/python/site-packages (from spacy) (1.0.9)\n",
            "Requirement already satisfied: smart-open<7.0.0,>=5.2.1 in /Users/nikitav/Library/Python/3.9/lib/python/site-packages (from spacy) (6.3.0)\n",
            "Requirement already satisfied: thinc<8.2.0,>=8.1.0 in /Users/nikitav/Library/Python/3.9/lib/python/site-packages (from spacy) (8.1.8)\n",
            "Requirement already satisfied: spacy-loggers<2.0.0,>=1.0.0 in /Users/nikitav/Library/Python/3.9/lib/python/site-packages (from spacy) (1.0.4)\n",
            "Requirement already satisfied: langcodes<4.0.0,>=3.2.0 in /Users/nikitav/Library/Python/3.9/lib/python/site-packages (from spacy) (3.3.0)\n",
            "Requirement already satisfied: threadpoolctl>=2.0.0 in /Users/nikitav/Library/Python/3.9/lib/python/site-packages (from scikit-learn) (3.1.0)\n",
            "Requirement already satisfied: joblib>=1.1.1 in /Users/nikitav/Library/Python/3.9/lib/python/site-packages (from scikit-learn) (1.2.0)\n",
            "Requirement already satisfied: scipy>=1.3.2 in /Users/nikitav/Library/Python/3.9/lib/python/site-packages (from scikit-learn) (1.10.1)\n",
            "Collecting kiwisolver>=1.0.1\n",
            "  Using cached kiwisolver-1.4.4-cp39-cp39-macosx_11_0_arm64.whl (63 kB)\n",
            "Collecting importlib-resources>=3.2.0\n",
            "  Downloading importlib_resources-5.12.0-py3-none-any.whl (36 kB)\n",
            "Collecting cycler>=0.10\n",
            "  Using cached cycler-0.11.0-py3-none-any.whl (6.4 kB)\n",
            "Collecting pyparsing>=2.3.1\n",
            "  Using cached pyparsing-3.0.9-py3-none-any.whl (98 kB)\n",
            "Collecting contourpy>=1.0.1\n",
            "  Using cached contourpy-1.0.7-cp39-cp39-macosx_11_0_arm64.whl (229 kB)\n",
            "Collecting pillow>=6.2.0\n",
            "  Using cached Pillow-9.4.0-cp39-cp39-macosx_11_0_arm64.whl (3.0 MB)\n",
            "Collecting fonttools>=4.22.0\n",
            "  Using cached fonttools-4.38.0-py3-none-any.whl (965 kB)\n",
            "Requirement already satisfied: zipp>=3.1.0 in /Users/nikitav/Library/Python/3.9/lib/python/site-packages (from importlib-resources>=3.2.0->matplotlib) (3.11.0)\n",
            "Requirement already satisfied: typing-extensions>=4.2.0 in /Users/nikitav/Library/Python/3.9/lib/python/site-packages (from pydantic!=1.8,!=1.8.1,<1.11.0,>=1.7.4->spacy) (4.5.0)\n",
            "Requirement already satisfied: six>=1.5 in /Library/Developer/CommandLineTools/Library/Frameworks/Python3.framework/Versions/3.9/lib/python3.9/site-packages (from python-dateutil>=2.8.1->pandas) (1.15.0)\n",
            "Requirement already satisfied: charset-normalizer<4,>=2 in /Users/nikitav/Library/Python/3.9/lib/python/site-packages (from requests<3.0.0,>=2.13.0->spacy) (3.0.1)\n",
            "Requirement already satisfied: urllib3<1.27,>=1.21.1 in /Users/nikitav/Library/Python/3.9/lib/python/site-packages (from requests<3.0.0,>=2.13.0->spacy) (1.26.14)\n",
            "Requirement already satisfied: idna<4,>=2.5 in /Users/nikitav/Library/Python/3.9/lib/python/site-packages (from requests<3.0.0,>=2.13.0->spacy) (3.4)\n",
            "Requirement already satisfied: certifi>=2017.4.17 in /Users/nikitav/Library/Python/3.9/lib/python/site-packages (from requests<3.0.0,>=2.13.0->spacy) (2022.12.7)\n",
            "Requirement already satisfied: blis<0.8.0,>=0.7.8 in /Users/nikitav/Library/Python/3.9/lib/python/site-packages (from thinc<8.2.0,>=8.1.0->spacy) (0.7.9)\n",
            "Requirement already satisfied: confection<1.0.0,>=0.0.1 in /Users/nikitav/Library/Python/3.9/lib/python/site-packages (from thinc<8.2.0,>=8.1.0->spacy) (0.0.4)\n",
            "Requirement already satisfied: click<9.0.0,>=7.1.1 in /Users/nikitav/Library/Python/3.9/lib/python/site-packages (from typer<0.8.0,>=0.3.0->spacy) (8.1.3)\n",
            "Requirement already satisfied: MarkupSafe>=2.0 in /Users/nikitav/Library/Python/3.9/lib/python/site-packages (from jinja2->spacy) (2.1.1)\n",
            "Installing collected packages: pyparsing, pillow, kiwisolver, importlib-resources, fonttools, cycler, contourpy, matplotlib\n",
            "\u001b[33m  WARNING: The scripts fonttools, pyftmerge, pyftsubset and ttx are installed in '/Users/nikitav/Library/Python/3.9/bin' which is not on PATH.\n",
            "  Consider adding this directory to PATH or, if you prefer to suppress this warning, use --no-warn-script-location.\u001b[0m\n",
            "Successfully installed contourpy-1.0.7 cycler-0.11.0 fonttools-4.38.0 importlib-resources-5.12.0 kiwisolver-1.4.4 matplotlib-3.7.0 pillow-9.4.0 pyparsing-3.0.9\n",
            "\u001b[33mWARNING: You are using pip version 21.2.4; however, version 23.0.1 is available.\n",
            "You should consider upgrading via the '/Library/Developer/CommandLineTools/usr/bin/python3 -m pip install --upgrade pip' command.\u001b[0m\n",
            "Note: you may need to restart the kernel to use updated packages.\n"
          ]
        }
      ],
      "source": [
        "%pip install pandas spacy scikit-learn matplotlib\n",
        "import pandas as pd\n",
        "import numpy as np\n",
        "import re\n",
        "import string\n",
        "import spacy\n",
        "from sklearn.model_selection import train_test_split\n",
        "import matplotlib.pyplot as plt"
      ]
    },
    {
      "cell_type": "code",
      "execution_count": 8,
      "metadata": {
        "id": "8OxNS_SSyp14"
      },
      "outputs": [
        {
          "name": "stdout",
          "output_type": "stream",
          "text": [
            "Defaulting to user installation because normal site-packages is not writeable\n",
            "Collecting en-core-web-sm==3.5.0\n",
            "  Downloading https://github.com/explosion/spacy-models/releases/download/en_core_web_sm-3.5.0/en_core_web_sm-3.5.0-py3-none-any.whl (12.8 MB)\n",
            "\u001b[K     |████████████████████████████████| 12.8 MB 10.1 MB/s eta 0:00:01\n",
            "\u001b[?25hRequirement already satisfied: spacy<3.6.0,>=3.5.0 in /Users/nikitav/Library/Python/3.9/lib/python/site-packages (from en-core-web-sm==3.5.0) (3.5.0)\n",
            "Requirement already satisfied: srsly<3.0.0,>=2.4.3 in /Users/nikitav/Library/Python/3.9/lib/python/site-packages (from spacy<3.6.0,>=3.5.0->en-core-web-sm==3.5.0) (2.4.6)\n",
            "Requirement already satisfied: cymem<2.1.0,>=2.0.2 in /Users/nikitav/Library/Python/3.9/lib/python/site-packages (from spacy<3.6.0,>=3.5.0->en-core-web-sm==3.5.0) (2.0.7)\n",
            "Requirement already satisfied: pathy>=0.10.0 in /Users/nikitav/Library/Python/3.9/lib/python/site-packages (from spacy<3.6.0,>=3.5.0->en-core-web-sm==3.5.0) (0.10.1)\n",
            "Requirement already satisfied: spacy-legacy<3.1.0,>=3.0.11 in /Users/nikitav/Library/Python/3.9/lib/python/site-packages (from spacy<3.6.0,>=3.5.0->en-core-web-sm==3.5.0) (3.0.12)\n",
            "Requirement already satisfied: setuptools in /Library/Developer/CommandLineTools/Library/Frameworks/Python3.framework/Versions/3.9/lib/python3.9/site-packages (from spacy<3.6.0,>=3.5.0->en-core-web-sm==3.5.0) (58.0.4)\n",
            "Requirement already satisfied: numpy>=1.15.0 in /Users/nikitav/Library/Python/3.9/lib/python/site-packages (from spacy<3.6.0,>=3.5.0->en-core-web-sm==3.5.0) (1.24.2)\n",
            "Requirement already satisfied: langcodes<4.0.0,>=3.2.0 in /Users/nikitav/Library/Python/3.9/lib/python/site-packages (from spacy<3.6.0,>=3.5.0->en-core-web-sm==3.5.0) (3.3.0)\n",
            "Requirement already satisfied: typer<0.8.0,>=0.3.0 in /Users/nikitav/Library/Python/3.9/lib/python/site-packages (from spacy<3.6.0,>=3.5.0->en-core-web-sm==3.5.0) (0.7.0)\n",
            "Requirement already satisfied: requests<3.0.0,>=2.13.0 in /Users/nikitav/Library/Python/3.9/lib/python/site-packages (from spacy<3.6.0,>=3.5.0->en-core-web-sm==3.5.0) (2.28.2)\n",
            "Requirement already satisfied: tqdm<5.0.0,>=4.38.0 in /Users/nikitav/Library/Python/3.9/lib/python/site-packages (from spacy<3.6.0,>=3.5.0->en-core-web-sm==3.5.0) (4.64.1)\n",
            "Requirement already satisfied: spacy-loggers<2.0.0,>=1.0.0 in /Users/nikitav/Library/Python/3.9/lib/python/site-packages (from spacy<3.6.0,>=3.5.0->en-core-web-sm==3.5.0) (1.0.4)\n",
            "Requirement already satisfied: murmurhash<1.1.0,>=0.28.0 in /Users/nikitav/Library/Python/3.9/lib/python/site-packages (from spacy<3.6.0,>=3.5.0->en-core-web-sm==3.5.0) (1.0.9)\n",
            "Requirement already satisfied: packaging>=20.0 in /Users/nikitav/Library/Python/3.9/lib/python/site-packages (from spacy<3.6.0,>=3.5.0->en-core-web-sm==3.5.0) (23.0)\n",
            "Requirement already satisfied: wasabi<1.2.0,>=0.9.1 in /Users/nikitav/Library/Python/3.9/lib/python/site-packages (from spacy<3.6.0,>=3.5.0->en-core-web-sm==3.5.0) (1.1.1)\n",
            "Requirement already satisfied: preshed<3.1.0,>=3.0.2 in /Users/nikitav/Library/Python/3.9/lib/python/site-packages (from spacy<3.6.0,>=3.5.0->en-core-web-sm==3.5.0) (3.0.8)\n",
            "Requirement already satisfied: catalogue<2.1.0,>=2.0.6 in /Users/nikitav/Library/Python/3.9/lib/python/site-packages (from spacy<3.6.0,>=3.5.0->en-core-web-sm==3.5.0) (2.0.8)\n",
            "Requirement already satisfied: pydantic!=1.8,!=1.8.1,<1.11.0,>=1.7.4 in /Users/nikitav/Library/Python/3.9/lib/python/site-packages (from spacy<3.6.0,>=3.5.0->en-core-web-sm==3.5.0) (1.10.5)\n",
            "Requirement already satisfied: thinc<8.2.0,>=8.1.0 in /Users/nikitav/Library/Python/3.9/lib/python/site-packages (from spacy<3.6.0,>=3.5.0->en-core-web-sm==3.5.0) (8.1.8)\n",
            "Requirement already satisfied: smart-open<7.0.0,>=5.2.1 in /Users/nikitav/Library/Python/3.9/lib/python/site-packages (from spacy<3.6.0,>=3.5.0->en-core-web-sm==3.5.0) (6.3.0)\n",
            "Requirement already satisfied: jinja2 in /Users/nikitav/Library/Python/3.9/lib/python/site-packages (from spacy<3.6.0,>=3.5.0->en-core-web-sm==3.5.0) (3.1.2)\n",
            "Requirement already satisfied: typing-extensions>=4.2.0 in /Users/nikitav/Library/Python/3.9/lib/python/site-packages (from pydantic!=1.8,!=1.8.1,<1.11.0,>=1.7.4->spacy<3.6.0,>=3.5.0->en-core-web-sm==3.5.0) (4.5.0)\n",
            "Requirement already satisfied: certifi>=2017.4.17 in /Users/nikitav/Library/Python/3.9/lib/python/site-packages (from requests<3.0.0,>=2.13.0->spacy<3.6.0,>=3.5.0->en-core-web-sm==3.5.0) (2022.12.7)\n",
            "Requirement already satisfied: idna<4,>=2.5 in /Users/nikitav/Library/Python/3.9/lib/python/site-packages (from requests<3.0.0,>=2.13.0->spacy<3.6.0,>=3.5.0->en-core-web-sm==3.5.0) (3.4)\n",
            "Requirement already satisfied: urllib3<1.27,>=1.21.1 in /Users/nikitav/Library/Python/3.9/lib/python/site-packages (from requests<3.0.0,>=2.13.0->spacy<3.6.0,>=3.5.0->en-core-web-sm==3.5.0) (1.26.14)\n",
            "Requirement already satisfied: charset-normalizer<4,>=2 in /Users/nikitav/Library/Python/3.9/lib/python/site-packages (from requests<3.0.0,>=2.13.0->spacy<3.6.0,>=3.5.0->en-core-web-sm==3.5.0) (3.0.1)\n",
            "Requirement already satisfied: confection<1.0.0,>=0.0.1 in /Users/nikitav/Library/Python/3.9/lib/python/site-packages (from thinc<8.2.0,>=8.1.0->spacy<3.6.0,>=3.5.0->en-core-web-sm==3.5.0) (0.0.4)\n",
            "Requirement already satisfied: blis<0.8.0,>=0.7.8 in /Users/nikitav/Library/Python/3.9/lib/python/site-packages (from thinc<8.2.0,>=8.1.0->spacy<3.6.0,>=3.5.0->en-core-web-sm==3.5.0) (0.7.9)\n",
            "Requirement already satisfied: click<9.0.0,>=7.1.1 in /Users/nikitav/Library/Python/3.9/lib/python/site-packages (from typer<0.8.0,>=0.3.0->spacy<3.6.0,>=3.5.0->en-core-web-sm==3.5.0) (8.1.3)\n",
            "Requirement already satisfied: MarkupSafe>=2.0 in /Users/nikitav/Library/Python/3.9/lib/python/site-packages (from jinja2->spacy<3.6.0,>=3.5.0->en-core-web-sm==3.5.0) (2.1.1)\n",
            "Installing collected packages: en-core-web-sm\n",
            "Successfully installed en-core-web-sm-3.5.0\n",
            "\u001b[33mWARNING: You are using pip version 21.2.4; however, version 23.0.1 is available.\n",
            "You should consider upgrading via the '/Library/Developer/CommandLineTools/usr/bin/python3 -m pip install --upgrade pip' command.\u001b[0m\n",
            "\u001b[38;5;2m✔ Download and installation successful\u001b[0m\n",
            "You can now load the package via spacy.load('en_core_web_sm')\n"
          ]
        }
      ],
      "source": [
        "!python3 -m spacy download en_core_web_sm"
      ]
    },
    {
      "cell_type": "code",
      "execution_count": 9,
      "metadata": {
        "id": "5RX4ur65zkT_"
      },
      "outputs": [],
      "source": [
        "pd.set_option('max_colwidth', 400)"
      ]
    },
    {
      "attachments": {},
      "cell_type": "markdown",
      "metadata": {
        "id": "mSjL2MOmydAc"
      },
      "source": [
        "### Набор данных\n",
        "[\n",
        "SMS Spam Collection Dataset](https://www.kaggle.com/datasets/uciml/sms-spam-collection-dataset)\n",
        "\n",
        "The SMS Spam Collection is a set of SMS tagged messages that have been collected for SMS Spam research. It contains one set of SMS messages in English of 5,574 messages, tagged acording being **ham** (legitimate) or **spam**.\n",
        "\n",
        "Ставим задачу бинарной классификации спам и неспам"
      ]
    },
    {
      "attachments": {},
      "cell_type": "markdown",
      "metadata": {},
      "source": [
        "переименовываем столбцы для удобной работы"
      ]
    },
    {
      "cell_type": "code",
      "execution_count": 17,
      "metadata": {
        "colab": {
          "base_uri": "https://localhost:8080/",
          "height": 206
        },
        "id": "YEg_mkgJvvpt",
        "outputId": "cb87d9bf-9c4b-40b6-9a3f-fee5d881bad2"
      },
      "outputs": [
        {
          "data": {
            "text/html": [
              "<div>\n",
              "<style scoped>\n",
              "    .dataframe tbody tr th:only-of-type {\n",
              "        vertical-align: middle;\n",
              "    }\n",
              "\n",
              "    .dataframe tbody tr th {\n",
              "        vertical-align: top;\n",
              "    }\n",
              "\n",
              "    .dataframe thead th {\n",
              "        text-align: right;\n",
              "    }\n",
              "</style>\n",
              "<table border=\"1\" class=\"dataframe\">\n",
              "  <thead>\n",
              "    <tr style=\"text-align: right;\">\n",
              "      <th></th>\n",
              "      <th>label</th>\n",
              "      <th>text</th>\n",
              "    </tr>\n",
              "  </thead>\n",
              "  <tbody>\n",
              "    <tr>\n",
              "      <th>0</th>\n",
              "      <td>ham</td>\n",
              "      <td>Go until jurong point, crazy.. Available only in bugis n great world la e buffet... Cine there got amore wat...</td>\n",
              "    </tr>\n",
              "    <tr>\n",
              "      <th>1</th>\n",
              "      <td>ham</td>\n",
              "      <td>Ok lar... Joking wif u oni...</td>\n",
              "    </tr>\n",
              "    <tr>\n",
              "      <th>2</th>\n",
              "      <td>spam</td>\n",
              "      <td>Free entry in 2 a wkly comp to win FA Cup final tkts 21st May 2005. Text FA to 87121 to receive entry question(std txt rate)T&amp;C's apply 08452810075over18's</td>\n",
              "    </tr>\n",
              "    <tr>\n",
              "      <th>3</th>\n",
              "      <td>ham</td>\n",
              "      <td>U dun say so early hor... U c already then say...</td>\n",
              "    </tr>\n",
              "    <tr>\n",
              "      <th>4</th>\n",
              "      <td>ham</td>\n",
              "      <td>Nah I don't think he goes to usf, he lives around here though</td>\n",
              "    </tr>\n",
              "  </tbody>\n",
              "</table>\n",
              "</div>"
            ],
            "text/plain": [
              "  label  \\\n",
              "0   ham   \n",
              "1   ham   \n",
              "2  spam   \n",
              "3   ham   \n",
              "4   ham   \n",
              "\n",
              "                                                                                                                                                          text  \n",
              "0                                              Go until jurong point, crazy.. Available only in bugis n great world la e buffet... Cine there got amore wat...  \n",
              "1                                                                                                                                Ok lar... Joking wif u oni...  \n",
              "2  Free entry in 2 a wkly comp to win FA Cup final tkts 21st May 2005. Text FA to 87121 to receive entry question(std txt rate)T&C's apply 08452810075over18's  \n",
              "3                                                                                                            U dun say so early hor... U c already then say...  \n",
              "4                                                                                                Nah I don't think he goes to usf, he lives around here though  "
            ]
          },
          "execution_count": 17,
          "metadata": {},
          "output_type": "execute_result"
        }
      ],
      "source": [
        "data = pd.read_csv('spam_data.csv', encoding='iso-8859-1')[['v1', 'v2']].rename(columns={'v1': 'label', 'v2': 'text'})\n",
        "data.head()"
      ]
    },
    {
      "attachments": {},
      "cell_type": "markdown",
      "metadata": {},
      "source": [
        "Хэм - норм \n",
        "спам - плохо \n",
        "Датасет `не сбалансирован`! \n",
        "так как ham сильно больше чем спам"
      ]
    },
    {
      "cell_type": "code",
      "execution_count": 12,
      "metadata": {
        "colab": {
          "base_uri": "https://localhost:8080/"
        },
        "id": "ze-HO-tLvyPN",
        "outputId": "9a4034bf-6435-42c2-c565-6b183616eb23"
      },
      "outputs": [
        {
          "data": {
            "text/plain": [
              "ham     4825\n",
              "spam     747\n",
              "Name: label, dtype: int64"
            ]
          },
          "execution_count": 12,
          "metadata": {},
          "output_type": "execute_result"
        }
      ],
      "source": [
        "data['label'].value_counts()"
      ]
    },
    {
      "attachments": {},
      "cell_type": "markdown",
      "metadata": {},
      "source": [
        "кроме простой проверки количественной надо посмотреть длинну вообще сообщений слова в этих сообщениях, контент посмотреть. все это чтобы заранее понимать. мб там вообще не тот язык и некоректно работает "
      ]
    },
    {
      "attachments": {},
      "cell_type": "markdown",
      "metadata": {},
      "source": [
        "здесь мы меняем хам и спам на 1 и 0"
      ]
    },
    {
      "cell_type": "code",
      "execution_count": 18,
      "metadata": {
        "id": "7y-5WhXM-966"
      },
      "outputs": [
        {
          "data": {
            "text/html": [
              "<div>\n",
              "<style scoped>\n",
              "    .dataframe tbody tr th:only-of-type {\n",
              "        vertical-align: middle;\n",
              "    }\n",
              "\n",
              "    .dataframe tbody tr th {\n",
              "        vertical-align: top;\n",
              "    }\n",
              "\n",
              "    .dataframe thead th {\n",
              "        text-align: right;\n",
              "    }\n",
              "</style>\n",
              "<table border=\"1\" class=\"dataframe\">\n",
              "  <thead>\n",
              "    <tr style=\"text-align: right;\">\n",
              "      <th></th>\n",
              "      <th>label</th>\n",
              "      <th>text</th>\n",
              "    </tr>\n",
              "  </thead>\n",
              "  <tbody>\n",
              "    <tr>\n",
              "      <th>0</th>\n",
              "      <td>0</td>\n",
              "      <td>Go until jurong point, crazy.. Available only in bugis n great world la e buffet... Cine there got amore wat...</td>\n",
              "    </tr>\n",
              "    <tr>\n",
              "      <th>1</th>\n",
              "      <td>0</td>\n",
              "      <td>Ok lar... Joking wif u oni...</td>\n",
              "    </tr>\n",
              "    <tr>\n",
              "      <th>2</th>\n",
              "      <td>1</td>\n",
              "      <td>Free entry in 2 a wkly comp to win FA Cup final tkts 21st May 2005. Text FA to 87121 to receive entry question(std txt rate)T&amp;C's apply 08452810075over18's</td>\n",
              "    </tr>\n",
              "    <tr>\n",
              "      <th>3</th>\n",
              "      <td>0</td>\n",
              "      <td>U dun say so early hor... U c already then say...</td>\n",
              "    </tr>\n",
              "    <tr>\n",
              "      <th>4</th>\n",
              "      <td>0</td>\n",
              "      <td>Nah I don't think he goes to usf, he lives around here though</td>\n",
              "    </tr>\n",
              "  </tbody>\n",
              "</table>\n",
              "</div>"
            ],
            "text/plain": [
              "   label  \\\n",
              "0      0   \n",
              "1      0   \n",
              "2      1   \n",
              "3      0   \n",
              "4      0   \n",
              "\n",
              "                                                                                                                                                          text  \n",
              "0                                              Go until jurong point, crazy.. Available only in bugis n great world la e buffet... Cine there got amore wat...  \n",
              "1                                                                                                                                Ok lar... Joking wif u oni...  \n",
              "2  Free entry in 2 a wkly comp to win FA Cup final tkts 21st May 2005. Text FA to 87121 to receive entry question(std txt rate)T&C's apply 08452810075over18's  \n",
              "3                                                                                                            U dun say so early hor... U c already then say...  \n",
              "4                                                                                                Nah I don't think he goes to usf, he lives around here though  "
            ]
          },
          "execution_count": 18,
          "metadata": {},
          "output_type": "execute_result"
        }
      ],
      "source": [
        "data['label'] = data['label'].map({'ham': 0, 'spam': 1})\n",
        "data.head()"
      ]
    },
    {
      "cell_type": "markdown",
      "metadata": {
        "id": "IEHyPWhH3y5A"
      },
      "source": [
        "### Очистка"
      ]
    },
    {
      "cell_type": "markdown",
      "metadata": {
        "id": "9focrcgE1uQC"
      },
      "source": [
        "Стоп-слова для англиского языка в spaCy"
      ]
    },
    {
      "attachments": {},
      "cell_type": "markdown",
      "metadata": {},
      "source": [
        "проблема библиотек стоп слов, что они не специфичны \n",
        "например в книги про динозавтров, и слово динозавр является мусором и не несет нагрузку и надо его добавить в СТОП слова"
      ]
    },
    {
      "cell_type": "code",
      "execution_count": 19,
      "metadata": {
        "colab": {
          "base_uri": "https://localhost:8080/",
          "height": 157
        },
        "id": "VTUQARMYx1fS",
        "outputId": "ef682d70-9dd1-4441-db5d-a9d69dd95da7"
      },
      "outputs": [
        {
          "name": "stdout",
          "output_type": "stream",
          "text": [
            "Spacy english stopwords size: 326\n",
            "\n"
          ]
        },
        {
          "data": {
            "text/plain": [
              "\"onto just any mostly whereupon quite around whatever ours whence her further serious did ‘ll either only myself other already do top someone without although with has last fifty are them back side because herein fifteen thru though that own else until have first alone thereupon ‘s everything anything due please part can before hers there too regarding used this or ’re thence ’ll thereafter they various nothing take been below ‘d between again thus ca ‘ve ’s namely being beforehand however at sometime each ’m unless less herself whereas when all these behind above became whom some n’t were third anywhere somehow becoming than still name was and through go might very same former my indeed therefore your see by such off noone hereupon its nowhere also is well per now even really otherwise could n‘t becomes always itself had six latterly perhaps more themselves may no into whether you to nevertheless somewhere latter himself say along so thereby as everywhere yet five four few while together many seem against never full amongst after almost show hence under who since several keep be bottom 'd nor most give would cannot twenty of yourselves yourself the except one 'll she during none he beyond made anyhow on up afterwards anyway it whose across neither 's empty which whole yours but i in something front from wherever whoever sixty both then hereby those we an re seeming often doing about 're every everyone where will his twelve get via amount ‘re others another throughout me must make besides mine eight much forty once done whereby enough why among moreover for here should three him over whereafter hundred a how least us down using rather what am does formerly out meanwhile wherein eleven hereafter ’ve seemed therein two anyone ’d whenever ever become nine our sometimes within ‘m nobody 'm ten 've n't move not put their upon if call ourselves towards next whither toward beside elsewhere seems\""
            ]
          },
          "execution_count": 19,
          "metadata": {},
          "output_type": "execute_result"
        }
      ],
      "source": [
        "nlp = spacy.load(\"en_core_web_sm\")\n",
        "stopwords = nlp.Defaults.stop_words\n",
        "print(f'Spacy english stopwords size: {len(stopwords)}', end='\\n\\n')\n",
        "' '.join(stopwords)"
      ]
    },
    {
      "cell_type": "markdown",
      "metadata": {
        "id": "6q38y87s1z0Z"
      },
      "source": [
        "Атрибуты [Token](https://spacy.io/api/token#attributes)"
      ]
    },
    {
      "attachments": {},
      "cell_type": "markdown",
      "metadata": {},
      "source": [
        "Это чисто для спейси он может ! нижний регистр пунктуацию, цифры, имейл, цифры написаные прописью, пробелы"
      ]
    },
    {
      "cell_type": "code",
      "execution_count": 20,
      "metadata": {
        "colab": {
          "base_uri": "https://localhost:8080/",
          "height": 241
        },
        "id": "jbJXNs0x0ugi",
        "outputId": "463433ae-d78f-4cf2-ea78-101ff14ea943"
      },
      "outputs": [
        {
          "name": "stdout",
          "output_type": "stream",
          "text": [
            "CPU times: user 43.9 s, sys: 300 ms, total: 44.2 s\n",
            "Wall time: 44.3 s\n"
          ]
        },
        {
          "data": {
            "text/html": [
              "<div>\n",
              "<style scoped>\n",
              "    .dataframe tbody tr th:only-of-type {\n",
              "        vertical-align: middle;\n",
              "    }\n",
              "\n",
              "    .dataframe tbody tr th {\n",
              "        vertical-align: top;\n",
              "    }\n",
              "\n",
              "    .dataframe thead th {\n",
              "        text-align: right;\n",
              "    }\n",
              "</style>\n",
              "<table border=\"1\" class=\"dataframe\">\n",
              "  <thead>\n",
              "    <tr style=\"text-align: right;\">\n",
              "      <th></th>\n",
              "      <th>label</th>\n",
              "      <th>text</th>\n",
              "      <th>cleaned_text</th>\n",
              "    </tr>\n",
              "  </thead>\n",
              "  <tbody>\n",
              "    <tr>\n",
              "      <th>704</th>\n",
              "      <td>0</td>\n",
              "      <td>True dear..i sat to pray evening and felt so.so i sms'd you in some time...</td>\n",
              "      <td>true dear sit pray evening feel so.so sms'd time</td>\n",
              "    </tr>\n",
              "    <tr>\n",
              "      <th>5039</th>\n",
              "      <td>1</td>\n",
              "      <td>Natalie (20/F) is inviting you to be her friend. Reply YES-165 or NO-165 See her: www.SMS.ac/u/natalie2k9 STOP? Send STOP FRND to 62468</td>\n",
              "      <td>natalie f invite friend reply yes-165 no-165 www.sms.ac/u/natalie2k9 stop send stop frnd</td>\n",
              "    </tr>\n",
              "    <tr>\n",
              "      <th>1103</th>\n",
              "      <td>0</td>\n",
              "      <td>Aiyah sorry lor... I watch tv watch until i forgot 2 check my phone.</td>\n",
              "      <td>aiyah sorry lor watch tv watch forget check phone</td>\n",
              "    </tr>\n",
              "    <tr>\n",
              "      <th>3770</th>\n",
              "      <td>0</td>\n",
              "      <td>Hi, wlcome back, did wonder if you got eaten by a lion or something, nothing much</td>\n",
              "      <td>hi wlcome wonder got eat lion</td>\n",
              "    </tr>\n",
              "    <tr>\n",
              "      <th>283</th>\n",
              "      <td>0</td>\n",
              "      <td>Okie...</td>\n",
              "      <td>okie</td>\n",
              "    </tr>\n",
              "  </tbody>\n",
              "</table>\n",
              "</div>"
            ],
            "text/plain": [
              "      label  \\\n",
              "704       0   \n",
              "5039      1   \n",
              "1103      0   \n",
              "3770      0   \n",
              "283       0   \n",
              "\n",
              "                                                                                                                                         text  \\\n",
              "704                                                               True dear..i sat to pray evening and felt so.so i sms'd you in some time...   \n",
              "5039  Natalie (20/F) is inviting you to be her friend. Reply YES-165 or NO-165 See her: www.SMS.ac/u/natalie2k9 STOP? Send STOP FRND to 62468   \n",
              "1103                                                                     Aiyah sorry lor... I watch tv watch until i forgot 2 check my phone.   \n",
              "3770                                                        Hi, wlcome back, did wonder if you got eaten by a lion or something, nothing much   \n",
              "283                                                                                                                                   Okie...   \n",
              "\n",
              "                                                                                  cleaned_text  \n",
              "704                                           true dear sit pray evening feel so.so sms'd time  \n",
              "5039  natalie f invite friend reply yes-165 no-165 www.sms.ac/u/natalie2k9 stop send stop frnd  \n",
              "1103                                         aiyah sorry lor watch tv watch forget check phone  \n",
              "3770                                                             hi wlcome wonder got eat lion  \n",
              "283                                                                                       okie  "
            ]
          },
          "execution_count": 20,
          "metadata": {},
          "output_type": "execute_result"
        }
      ],
      "source": [
        "%%time\n",
        "\n",
        "data['cleaned_text'] = data['text'].apply(\n",
        "    lambda x: ' '.join(\n",
        "        token.lemma_.lower() for token in nlp(x) if \n",
        "        not token.is_stop \n",
        "        and not token.is_punct\n",
        "        and not token.is_digit\n",
        "        and not token.like_email\n",
        "        and not token.like_num\n",
        "        and not token.is_space\n",
        "    )\n",
        ")\n",
        "data.sample(5)"
      ]
    },
    {
      "cell_type": "code",
      "execution_count": 21,
      "metadata": {
        "colab": {
          "base_uri": "https://localhost:8080/",
          "height": 35
        },
        "id": "fLtvlgCp3MUE",
        "outputId": "591cd76a-33f6-49b7-8918-8db52eee89da"
      },
      "outputs": [
        {
          "data": {
            "text/plain": [
              "'u dun early hor u c'"
            ]
          },
          "execution_count": 21,
          "metadata": {},
          "output_type": "execute_result"
        }
      ],
      "source": [
        "data['cleaned_text'].iloc[3]"
      ]
    },
    {
      "attachments": {},
      "cell_type": "markdown",
      "metadata": {
        "id": "p8iEqN9A315p"
      },
      "source": [
        "### Bag of words\n",
        "мешок слов - способ векторизации "
      ]
    },
    {
      "cell_type": "markdown",
      "metadata": {
        "id": "RBWaprzR88ek"
      },
      "source": [
        "![image.png](data:image/png;base64,iVBORw0KGgoAAAANSUhEUgAAAe4AAABmCAIAAACC4eUAAAAgAElEQVR4nO2deVxTx/r/h+TkZAWBQCACgqyCSEVE2kLRWq3i1Spt3WipILd1q16Xqmjtaltpe2v1olL0q3WpKLihopRFr1iUEhaR1bCGTRAIBEhCknMSfn9Mm5sfat0gCXbef/jC5JyZz3lm5jnPmTOZx6S7uxsgEAgEYjhDMbQABAKBQDwryJUjEAjEsAe5cgQCgRj2IFeOQCAQwx7kyhEIBGLYgxlaAOL5pL+/HwOapz6dBBQTE5NB1AOh9quf5XTjVAUAUJtQB0UJ5InazoBVP5DB1TOAZ5f3QAZFM3LliMHn2X0TBjSgf5CH5fOqChYyWKqeVI8Bq/6LQobCoQ+KvIeV/OyC0QQLYpAZxB6PitJzUU9XyND5OONhqK/x2ctHrhyhVzAMwzD0LDg80Gdj6fqyZ6/UIHeXxzHX0JkUuXLEEIL9ifaT8srq8srq4eLNjfPGox9VGIaVV1bnFxUPdUX3k19ULO7ufZwjjaeBHmiu++WVV1bX1DcOhebnypVjGIb/iZE08N8ZDMPuibsupqZp+65cRf7444979uwxtLTH5XJ6Zn5RsbH1pezfBdm/C/Sg6qOPPlq8eLFcRQ51RVowDKtvbgkKCqqqqnqcCPeeuOvk6bP6VPgXrFmzRtdcGIbV1DeeOX9R+4m4uzcqKurkyZNDUbtx9dFnAcOwy5cvy2QyAACNRvP09LS3t2ez2SRpFM0slUoBAGw2eyiWQBgtDQ0N8+fPz8zMdHF0wDCMBQCHw8EwCgVnAFKKYZi2dXTHrR6aDFYNK4XV3e84euSKuLi4qVOnThzvoyt16CRBMbqqwIMsc/78uba2juDgYAwohkgVhmGAavLzzz9LpVIzFuNhJhqK2jkczgAlDzQFpKGhISIior6+3oxlMUR6BnB/M/2himpy/PhxXXMBAFpaWt555x2tPACAhYUFi8UCVBNAgsHtVM+PK6fRaPv378/IyBg50u7u3WYAwMKFC3fu3Glubg7NTaFQAAAajUZrPhzHqVSqWq2GH8JjVCoV/AoAoFKp4IcajQaerlKp4Ffacu4vGcdx7fHwFCaT+dlnn7W0tMTGxhrP3WWoEXf3tre3Ozg49PT03BN3AQC4I0wBAFQqrbS09Ny5c1wud/78+fDDvFu3r1+/zmazg4ODvdxdh9pEF1PTiouLWSyWh4dHUFCQGYtRU9/422+/wW9dXV1fnDihra0Nx3G5XH5P3CWVSh3t+EOnB8OwalFDZmZma2vriBEjZsyY4eXuCgAQd/devHgRHsPlckOmv1bf3EKSGgBAe3s77LQj2MxBF5NfVJyfn89gMHg8HrxwDMOyfxf09PTweLysrCwulxsSEmLDtRiilqLT6WfOXywpKZk0adLrU6doBVRXV8MDQkJCAADt7e0AALFYDD+EfWnokKvIy8kXfHx87O3tz55MeuWVV8zNzS9evOjq6lpaWqprLgDAPXFXV1cXm83WytOSl1906dKlMWPGvD3vjcHSRt2yZctglWVYaDTa6dOnHRwcUlNTP/30U1tb2x9++IHL5U6cOLG/v18gEMTFxQkEAhaLZWdnR6FQenp6Lly48H//939lZWW2traWlpZpaWlXr151c3PjcDhnz569fv26l5dXZmZmTk6ORqOJjY0Vi8XOzs7JycmHDh0yNTV1dHTUaDS3b98+cODA5cspbDbHzs5OqVQePny4o6Ojuro6Li5OJpO5u7unpaWdOXOmtbWVSqU6OjpyOByNZvBXpxoJFNAPAJCryI8//njv3r1qtebatWtHjx69dOnSvDffunkz+9y55HPnzpmamu7du9fW1nbiBN/L6Znvv/8+h8Opqqratm1bxNIoMw4bmqjfZHDmAKEqyMYtH8fGxrq4uHR2dt68eXPatGkVwsrIyMiysjK5XL57925XV9fWtvb33lvS3t5WUVFx6tSp77777pXJU5xGOQyFKvgkvnz58ubmZnt7+1u3bjGZzPE+42rqG5csWQJvMAcPHpLJpKOcRi9atKiioqKxsfH06dOxsXv4fNsJ418YLFVQD4VCqRXVp6amJiUlNTQ0zH/rTfjhocNHoqOjL1++jOP4sWO/EIQq6OWX4ImDWLWsT3HmzJkrV64UFhYCAD799NNZs+fYj+R//tU369atw3G8sLDw4MGDixYtWrVq1enTpxkMZnJy8tGjR8vKyqZMfY2B0wZL0v3ymHR8U/SW/v5+Npv91ltv+fj44Dj+7bffenh43LhxIykpqbW19c15czEMq2tsXrt27dGjR3GcDuVVVVVNnTo1PT09IyMjPT2dRqPt2rXLfYynt5fnoDTf8xOVa2EwGDQaLSwsLCcn59q1axEREdeuXXvnnXemTp3a3t6+ffv2zMzM4ODg6OjoY8eOhYaGpqSknDx58sqVK7du3UpPTw8NDaVSqdnZ2b///ntoaOiNGzcOHDgwZcqUu3fv7tq1Kzw8vLm5OTc3NyMj48qVK2KxeMaMGa+//rqtre20adPOnj0bEBBw4sQJlUrFZrO7u7vj4uIyMzMrKipaW1sBAFlZWdOmTbOysjK0kYYcFo6tX78+ODh469aPt23b5uPjAwCg0WgAgM7Ozv3798+fP59Go+Xk5ISGhsbFxU2fPv2nn35qb2+fOXNmampqxLthQ6EKw7DL6ZlHjx49fPjw3LlzAQAtLS3cEaab9uxhsVgXL16k0+mdnZ0ajWbKlClHjx759ttv/fz8FixYIJfLR48ePXTPCl1dXdnZ2bt27Vq5ciUAoLe3FwBw8uTJ7Ozs+vp6Pp+/fPnyrq4uLy+vw4cPHzp0qKur65NPPpHL5Q4ODoMuhiTJoBcnBQcHf/rpp0KhUPs5jUaTyWR79+4NCwvbtGlTQUGBXEWy8CHxIWJxZ0pKig3XIjExsbS0lMVixcbGfv311ytXrszNzZ05cyYA4D//+U9+fn5ERERmZqalpSUAYNAfUAZCNfHw8GhoaEhPTwcA3L59GwDg5OT09rw3oE3q6+sBACRJOtrxt2/fLhAINmzYcPToEUtLS/g0DwBgMpk//vhj0IuT3lq4uKSkZO4/QgZF2nPoygEAJEmampqOHj26vLxcIpF89tlnoaGhiYmJLS0tCxYsSEhIsLS0PHbs2I4dOzZs2FBVVXXs2LG2tjZ4D9AWwmazAQAMBsPZ2fm7774DAMydO9fOzu7gwYPnz5+fP39+Q0PDzz//DADYvn27iYlJdnb2zp07z549S6PRRo4cefjw4cbGRm9v76ysrE8++aSpqamhoSE+Pv7vM8Hi6jRKIpEAAFxcXOB0gUxJkKTm/fffnz9/vkalsLOzKyws7O3tzcjIcHBwsLD4Yz7x/gfSQaShocHX13fy5MkquRQAYMO16JErEhMTjx8/bsZiaBdOWFtb02g0Dodja2vr7e2tUQ3VrDQAgCRJd3f3Xbt2rV27du3atdHR0eHh4S6ODocPH/7kk09suBYalYIgCACAqanpeG8vHo9HEARUBYZmgpgkSQwoFAqF7ocEQYSHh8+ZM0ejUowZMyYp6RRBEGAIXHljY2NmZqYN1wIA4Orq2tXVVVxc7O7uHhoaqlEplEolPEzbwdzc3ODBQz6y1P0vvPDCL7/80t3dvXTp0pKSkurq6qlTp2J0mkalUKsJ3WO93F07Ozt15d0Td/X19YWFhQUHBwMAbGxsZLLHWqjzODxXK1i0YBimVCrb2tqsra0BANXV1Y6OjgAAJpPp7u4uk8lqamoAAP7+/mq12tnZ+csvv3RxcVEoFNo7J4b9zzLW1tbm5uYcDofL5Y4YMQIAQKVS4QvMe/fu8fn8qKiod999l8ViaU/x8PAAAPB4PDabDQch7H8EQfxN/Dikv79f9790qgkAQK0moA+CmJiYsNns5cuXl5eXCwQCgUDw7rvvDp0kBoPR2tra1tamXSjW1tYGAGAymRScIZFIiouLAQDQe8IXJ5AhXTFixmKsXLmyrKxs165dMTExMTExf7xd4HIpOAMAUFRUpO2cAzysHtC9drX6f0u2dUOfoUOj0bS0tLDZbPgyVjtdDu7rYHrA1dU1OzsbABAZGVlbW3fz5k0LCwug7gfU/y1neGRX0agUukNgUHgOXblarZZIJHBGOzAw0NbWdty4ccXFxX19fe3t7UVFRZaWll5eXgCAzMxMKpVaU1Ozffv22tpaBoNRVVUlFoslEkltrUg7ch5Gf3+/jY2NUqm8du1abm7uoUOHfvrpJ+i4H0hfXx+NRjO2lW1DClyuU1ZWVi1quJia1i3rG3CASqUyNzd///33L1y40NjY2N/f39LSkpqaOnSSJk2a1NLSsnfv3vyi4vLK6svpmfBpICUlRSAQbNq0qbGxEc5vjGAzcRwvLi4uLS3Nu3U779btIWo7DMPOnL+YkJCgVCpDQ0N37NhRVFTEHWHq5uZ24cIFgUCwbuPmkpISuAgKAGBqatrc3FxaWppfVHw5PXNIe1R3d/fv+YXVooYHfvsXvX2wUCqVFArFw8Pj1q1b165dO5l45ssvt2u/hY/OBQUF5ZXV2b8LHnM1+rPg5uYGAHB1dfX3feGVV4JkMpmrqysAAKj7wYPMJZPJoLzL6ZlDKuy5cuUqlSo3NzcyMjI8PHzVqlUBAQH//Oc/WSzWqlWrcnNzIyIiVq9eXVJS8tZbb7m5uS1cuDA2NjYqKioqKurw4cPW1tbu7u6NjY1r1qxZvXq1UCiE6xoVCgX8AwAgl8u1rytlMplSqYyMjGxsbIyIiNi0adPMmTPhYgOZTKaNm7Tn+vj4XL16dcOGDSKR6G/izUmSHO/t9d574V9//XV4eHhERARJkhhGoVL/COUYDAaHw6HRaOvWrbOysoqIiAgPD3/vvSVDKsnL3fXYsWPnz1+IiIhYsGBBXFwcSZKHDx/+9de0BQsW2tjYrFixAmZJxDAsPDz811/ToqKiFi5cBJ/kho6tWz9esmTJvHnzYmP3bNiwAcOwrVu3VlVVLV68WCgUfv3113fv3tWoFBiGhYaGdnV1LVmyJCIiQiAQDJ0kBoPR0NAQGRmZmZlJwRk0Gk03DOdyLYcoKh850g7+QZIkfLE0efLk119/fePGTV999dWmTRsBAHDuwt3ZacWKFf/617+ioqK++eYbqVQ6pIMLPlKPGzfO29ubgjPeeOMNAACf/8eSFTbbVGsuKMPT0zM8PHzTpk1RUVE7d+6USqVMJpPJ/GNCn06na8fCs2Py3OT2xDAsOTkZxlMAAB6PFxQUBCemMQzLycnJy8tjMpl+fn4TJ07UaDQymSwjI0MkEnG53FdeecXJyQkAkJycLBKJAgICenp6enp6Zs2aVVxcfO/evenTpxMEkZGRYW9vHxgYWFNTk52d/corrzg7OxcUFMA1Bv7+/hMnTlSpVJcvX7a3t/f39ydJ8tSpU66uroGBgZ2dnRkZGQqFIiQkxMrK6jmeZhnwm2mcxSktLZXL5e7u7trJaPh6Sq4iCYIYwWZiGNZPpVVUVMDDzM3N4UQ2GLx9kXRV4SyORCKprKwEAHh6erLpNArOqKqqUiqV3t7eEokEqgIAYHTavbbOxsZGCwsLF0cHbasNuiqcxent7a2oqAAAODg48Pl8lVwKfwIjFos9PT3lcrlCofhDFYb1yBWVlZXm5uauLo6kkhgsVQPaDjYQAIBGo7FwTNteAAClul+rZ9Cr7pb1MRgMOB3XLeuj0WhmLIZS3V9SUjJ69Ghra+uWlhYmkwnfuGo7GGzKQW+j++XpvuwVd/dqV0AOMBf4c6alvLIaAODs7MzAKOLuXu238NK0RT2j4OfHlYM/F4NDdNePg4f8AgXHcbhyHDzodyJwjfmAxea6K9C1fw8oWXvY/X8DAHSnX59L7t/+QmsirZF1f/Rx/w9AdBtuiHbdu7+uAd3g76nqYW33sPYaRL85YA+Wv+ghcNDdP7oHhEdD58ofJu9hSv6iEQex+Z4rV44wBgZ3JyOj2kBVy/Oq6qn1GLDqBzLoO8vrYX+uZ7ThczVXjjAGBjEaGtI0Ak+NcaoaFAx4aYNb9aBvj2H8jY5cOWLwGZR+P7iDZ7BKM05Vg1jUU5RjbLYdIrc7pN782Qt/wNteOo78O+IBKFV/rN55vB7yrL3ocRYi/E8S1UR3Ye8QSQJPqArDMCrlkTs0DM5we6QwtYainZl9VAs+maS/rlrP3eaReiBPqErLUPnGx192o1X+iBLoOCXlyr1rgq5nUIV4DpkyyWL2azZKlaa7l/j8PzUshuHv93KF5vM1LiNMaXSqyclLd/PLhnxN8eMgV2j+tWSUkz0Lw7DsvPbEy/eMxFYLZ9kE+VuTJClqku8+0qAfVZ7OrKi3HZTq/v7+/pWflRuDKQAAbCb1i7VuSpWGjlM+21Ul6xs2WZC0vev+rx7w2hNF5YgH8rSBzBDyhFG5nnjCqFxPPElUPpgYYbcBxqrqcXhYVI5WsCAQCMSwZ5jdkRAIBAJxP8iVIxAIxLAHuXIEAoEY9iBXjkAgEMMe5MoRCARi2POcu3JtegGEsWGc7YJUPUwAjuOP3MFfPzIMbo1HYhCdz6crh7lF4N62ly9fHlybPnXiEv1nPDFOYHOkpaVpcykYAxiGSaXSnJwcbb4xYwDmw8rJyTGgrTAMq6uri4+PT0lJMawbzcnJiY+Pv3XrljF7c625Bt3z/DXPmyvHMKypqWn9+vU4jlMolCNHjlhYWAzI3YP9yQNPH/DVgE/6+/u3bNnS1NQ04PT7C9T9hMlknjhx4tKlSwaPawwOhmG3bt2KiIh488037927ZzxjMicnZ+HChcuXL4e54gwt5w/q6uoiIyOnTZtWW1trEFUwHoqKimIwGDdu3Pj4448NstU+juM///zzgQMHzM3No6Oj09LSjHMoGdBcxtJlBwUMw0Qi0YULF7q6uvLz8ydMmFBZWclgMFJSUng83rhx4+BhHR0dAoHAxcXFxcVlwOnarxwdHeHIEYlE5eXlXl5e9vb2JElevHixsLCwvLwcZvuEZ0kkkoqKCjqd7uHhAZNdSKXS3NxcHo/n7u5uamqam5v73//+193dvaamZkgTtxs/FAolNjZ2/fr17e3thtbyB7DbnDlzJiYm5ocffjC0nP8hlUr37t27bt06S0vLQd/q7zGhUCgHDhzYvHnz7NmzCYIICgp67733PDw89NmHMQyrra3NyMjYt28fn8/39/dfvXq1n5+fubm53jQ8JhQKZe/evQYx1/MWlSuVyuTkZA8Pj/b2dplM1tjYdPz48YaGhhUrVuTl5eE4np6eHhkZKRaL16xZk5KSopOXGSssLFywYIFYLP7222+3b9/OZDLPnTu3bds2sVi8evXqc+fOqdXqoqIiGo2mTfMGAJBIJBEREaWlpenp6cuWLQMANDY2vvnmmw0NDcePH4+OjlYqlQUFBeXl5XZ2djBB+N8ZlUq1c+fOgIAAPaSFfExIkrS2tt6xY4e7u7tRJQZhMBhffPGFv78/MNzsXGdnp1Qq9fDwIAiCQqHMnj27uLiYQtG33xAKhTY2Nnw+v6+vz83Nrb29XSwWG8/Dk5bOzk6VSmUQcxmdLZ4FkiS9vb1Hjhy5YMECb2/v69evBwRM2rZtm7W1dV9fX2lpqZub27/+tTYjI93a2prH4+3cuXP+/Pngz3j8o48+OnTokLOz85w5cy5evCiRSKZPn/7qq68ymUwGg1FUVBQWFjZ+/HgbG5uwsLC+vj7w57wYjuOhoaE8Hq+2tpYgCB6Pl5SUxGQy+/r6IiMju7u7p02bdunSpaVLlxIE8XcOySEcDkc3a7sxQKfTMQzTvUMbAxiGMRgMbZ5YgwiQSCQ4jmvjXzs7u+bmZj3LoFAoarWaTqdru82IESPkcrmeZTwSDMO6uroGmKulpUVPteunGv2AYRg0HJfLBQDk5eXNmDHD0tJSrVZrNBpra+uqqioWixkTEwMAkEql1tbW2nPFYrGZmZmzszPMAb906VKJRHLq1KmcnBwcx+vq6t5++20AwJUrV5YsWaKNKEmS9PX1ffnll2fPnh0VFTV//nw6nX716tWUlBSCIKRSqZ2d3YgRI6qqqhwcHMB9maIQxoNxNo3BVcFZRK0MhUIBk9zrE41GQ6VSAQDwXwAAQRAs1gN2BzQ4pqamQMdcXV1dFhYW+qn6eZtgqaqqsrW1hQ9iVVVVY8eO1Wg0AIA7d+44Ojo2NTUtXrz44MGD+/fvj4+Pj4+Ph8E1AEAul3d0dFCpVBzHJRJJS0tLQkJCa2vroUOHYmNjR48e7efnBwAoKirSJtgGAPT393d0dKxfvz47O7u1tTU2NraiomLPnj3bt28/ePDgjBkz7OzsWCxWVlbWa6+9ZmyhKALx18CE9yqVqrGxkUKhUKnUjIwMb29vOKb0iZOTU2tra29vL4Zhvb29KpWKTqfrWcMjgeaSSqVac129etXV1VU/5nreXHlXV1dDQ0NVVZVEIikrK/Pw8AAAtLW1dXZ2Ojg4+Pj4nDhxIiUlpaCgYMOGDboLURwcHHp7exMSEgoKCj788EOBQAAA6O7uFolEhw8fPnbsGCyqpKREKBRqn3lVKtUXX3yRmJionQSXy+UymezevXspKSl79+4dM2YMAKC5ufnOnTudnZ36N4jRYoQPyMBYk2gbUBWFQpkzZ05sbGxbW1tKSkp3d7ebm5ueNZAk6eHhgeP4/v37Ozo6vv/++xkzZjg5ORn8keV+KBTKW2+9pTWXWq329PTUj07qli1b9FCNftBoNI6OjlKp9O7du25ubgRBTJ48ub+/v62tjcFgBAYGcrncF198MTU1tba2dvHixePGjYNW1mg0HA5n5syZV69eraysXLRo0dSpU11cXLq7u9PT0318fF599dXx48cDACZOnCgQCPz8/OD7UgaDMWnSpJycnMzMTF9f3yVLljg4ONja2l64cIHJZAYHB/v7+5uZmXl5eZWWlrLZbEdHR/1HNEaIiYlJf3//hAkTWCyW8Rikv7/fxMRk7NixRqVKo9FoNBoXFxcLCwv9q1Kr1ePGjTMxMdm/f397e/v3339vZWWlfx9KoVCmTZtWUFCQlJRkZ2e3ZcsW43ltrssAc8XExFhaWuqn1Z7D/cpxHIe2o1AoMJzBMEz3b+2RA3rk/V/BouALaN3TdU+EhcPDdI+BZ2k0GpIktccYYRxhKKBtjc0gOI4bYWBucFvhOC6XyxkMBjDo9D2UwWKxjLCNdDGIuZ5DV45AIBB/N563uXIEAoH4G4JcOQKBQAx7kCtHIBCIYQ9y5QgEAjHsQa4cgUAghj3IlSMQCMSwB7lyBAKBGPYgV45AIBDDHuTKEQgEYtiDXDkCgUAMe4zRlRthchBdnkjek16LkV/7YPGw3KoIxPOB/nu4sbhy3SsXiUSDnl/86cx6f3tIpVKhUPjI0uABMDnREyWBq6ure5yM78PdD3Z0dIhEIkOreABSqdRQqdceBoZhUqnUGPYdG/RR+aRgGKZUKh9ngBgQDMNIkhSJRB0dHfrMJW0UrhzmyYX5ekiSXL16dVdX1yB6K6VSmZaW9qSDAcfxnJwckUikVYJhWEVFxYoVK2g02sPOggMvLS2tv7+fRqPFxMQUFBQ8TovC5FubN2/u6+v7i2vXlv9E12I84Dj+73//e8GCBYsWLfr3v/9tJPckeM/++eefo6Ojm5ubjUQVAIDJZCYnJ3/wwQf19fWGUgWNs2fPng8++IDJZBpEAwAAx/GOjo7o6OiDBw/q00U+KTKZbPv27UuXLn3nnXcKCgr01mpG4coJgjh27Fh1dbVSqVSr1TKZzMLCoqOjQxsfQXM8MLzVfqWNoDEM6+/vl0qlOI7DT4qLiw8ePDggiQ+O4zAE054F8wdpy+zs7Pzxxx9bWloGpH9LT0/v6+tTKpXQ+Q4I4giCyMjIuH79OkwUKRQK3d3dOzs74Va34M+BAU8c0MxVVVU2NjY8Hq+jo0P7FY7jSqUSXo5u+cYQpj0pOI4nJiZWVlamp6dfu3attLQ0OTnZGIalRCJZunSpWCxubW01nqicJMlNmzbl5eX19fUZMFNHR0fHvHnzent7hUKhoTRgGHbjxo3IyEgej9fQ0GAoGY8Ex/GdO3daW1v/9ttvx48fj4iI0I0FhxTDp54gSTI+Pv748eNNTU0cDsfU1DQ/P7+mpiY+Pr69vX3ChAkMBqOwsDAmJiYpKamurs7Pz083TIbplU+fPp2bmzthwgQzM7ObN2/u2LEjOTm5tLQ0MDAwLy/v888/r6+vb2homDJlCtxGnCTJb775JjEx8b///S+fz3dwcGhvb//qq68SExOzsrLgNv+RkZFCobCsrOzll1/mcrkajQbH8e+//97GxkYmk+3evbusrCwuLi4/P3/mzJlwh3QMw86ePbt79+6Wlpa+vr6xY8eeO3euu7t7//79N2/enDx5MoPBEIlE33///bFjx4qKCseP9+VwONpzc3Jy6uvrs7OzDx48SBCEn5+fiYnJuXPn9u3bl5yc3NHR4e/vn5CQsHfv3vr6+nv37g27JHMmJiYYhk2dOpXL5TKZzJKSEktLS29vb8NeBYZhra2t48aNmzVrVnp6+tSpUw2S5OF+5HK5paXl22+/nZ+f7+vry+fzDaJKoVB4enoGBgaePHly1apVBokhKBRKU1PT0qVLKRRKbW3tjBkzjLPnkyS5e/fuFStWWFhYjBgxorCw0MXFxcHBQQ8NZ/ioHMOwDRs2cLncn3/+ef78+dnZ2VKpNDw8/OTJkxcuXCgvL6+trd2wYcOGDRuSkpI6OjrOnj0L4zjoxxcsWLBkyZLTp08HBAT8+OOPAIDS0tLo6OjExMTu7u5z584FBweHhIR89913u3fvhvcAHMePHTsGADh27NiHH36Yn59PpVIFAsHs2bMTExNDQkL27NlDo9HWrVsXHBx86dKl0aNHw+5LpVKTk5PpdHplZeWVK1fmzJmzf//+6urqnJwcbUqKsEH595kAABL0SURBVLAwX1/fH374YePGjcXFxT09PZMnT05KSgIAXL58WaFQrF69evbs2efOnXNxcYuJiYG3FgCAUqksKiqi0+lbt2797LPPNmzYoFQqZTJZQ0PDDz/8cPjw4QsXLuTk5ISHh3t7e//yyy9ffvmlkW/Afz8ws9fo0aMBAFVVVQKBwN/f3+BOkyRJJyenCRMmEARhVCblcDgvvfQSlUolCMKAzwrm5uaBgYGGfVghSfKll17i8XgG1PBIMAxrbm7mcDgwTbxarfbz8ystLdWO8aGtXQ91PEIBhpWWljo5OcHc3mVlJR988IGzszOVSnVycgIA/Pbbb2ZmZnl5eXl5eQCAO3fuaM8tKCiYMGFCcHBwX1/fvHnzXn31VZVKNW3atPLy8ry8vNbWVjMzM4Igrly5Mm/ePO08iUaj8fPz27JlS0JCwqxZs95//32CICZNmlRQUJCQkHDnzh0ej0ehUKqrq318fNRqtTYMkUgk1tbW5ubmQqFw1apV7u7uMHbu6enRXktLS0tXV9fo0aPVanV1dfW8efMCAwOpVKqLiwsAoLy8vL29vbq6uqmpSSaTFRYWapOIq1Sq/Pz8+Ph4U1NTBwcHd3d3AACO4zNmzMjIyIDiGQxGR0dHUVGRk5OTNsH08AJONCkUirVr165YscLZ2dkYvKfRzlYZiTCD327Bnz3H0CqeGL2NU8NH5RQKpbi42N3d3dTUVCKRtLV1eHp6ajQagiA6OzstLS1v3Ljxj3/8w8zMjM1mT58+/b333tPme6uoqPDw8FCr1RiG0el0KyurEydObN++XaVS0Wg0kUjk5+enUChkMpm5ubnuqAgICPjPf/7T0tIyZ84ckUgkFAojIyPb2trMzMyam5vhLeTGjRsTJ07UdmIMw4qLi318fMzNzbOzs4OCggiCkEgkBQUFfn5+2pKrqqpwHLe2tlYqlbdv34ZRJ0EQTU1NLi4uBQUFr732Go/HY7PZnp6eX3/9NfTRGIb19fURBGFtba3RaHp7ewEAdDo9JibmwIEDOI4rFAomkzl69GixWGxra/sX712NHAzDZDLZ2rVrIyIiZs2aZQx+HIEYFEiStLW1lUqlcPwCAEQikaurq35qN7wrBwA0Nzfb2dmp1eqmpiapVAofwIVCoaWlpb29vZ2dHQDgtddemzx5slqttre31zplJyenjIwMuVwukUh27dpVWFiYlJS0efPmN998k8lkdnR08Pn8+vp6KysrbV1wWmbfvn3Ozs4rV6586aWXioqKBAJBYGDgkiVLPDw8mpubx44dq1KpioqKdG8AFAqltLR0zJgxAIC7d++ampoCACQSSUdHh+5hXV1dlpaWBEHAoNvHxwcA0NHR0dDQ4OHhYW1tDQAICgqaPn06AEA3eXlVVdVLL72E4ziFQmltbX3xxRfb2trS0tK2bdv2+uuvAwAsLS2tra1rampcXV2NM0ft40AQxGeffebl5TVz5kyZTGbkC8sQiCeCxWK5urrm5+cDADo7O69cueLl5aWfZxrDP7BoNBpPT88PP1wNb18cDodGo6nV6oqKCktLSyaTGR4evnr16oyMDBzHJ02aBJ0gAEClUk2ZMuXXX3+dNWvWyJEjPTw8PDw8FixYsGbNmtGjR9NoNOhGbWxshELh999/v2PHDpVKRZIkk8lsbW1dtmwZm80mCCIoKEgsFq9Zs0YkEtFotKtXr549exYAEBQUtHnz5m+//RbOlatUqoKCgg8++EAoFI4cORKuymppaXFycoIrSaEqPp+fkZFx6tQpf39/sVhMp9MBAI2NjXfv3jU3N58+ffqvv/765ptv2tnZ8fn8gIAAeCKFQsnKyhozZgw8PiUlJSgoyNzcfPbs2REREQ4ODl1dXd7e3gAAFxeXf/1r7QsvvBAeHm4kT9+PD47jR44ciYuLmz59enZ2dl9f3xtvvBEZGWloXf/DOFPdSqVSY7jnVVdXG1oCUKvVBl/e/hdoNJoPP/xw2bJlubm5hYWFGzZs0A09hxRjSdOsVCqpVCpcR2hiYgIAgK9Z4JoHkiQlEgmHw2EwGPfbRSqV0mg0NpsN/yuTyQiC4HA4ukWpVCroJSHwMR8AQKfT4QScQqFQKBSwEHgWVIXjuPa/cLZOK0xXpK4ekiTVajWdTr//WnQF6+oZcIzutKD2YG1p2vKf1tiGBF6m7vIDo5oA1RrZqDASVcYwW/3AEWdUQH9VU1NjY2MzYF53SDEWV45AIBDPDbpP6vrBKObKEQgE4nlC/5OfyJUjEAjEsAe5cgQCgRj2IFeOQCAQwx7kyhEIBGLYg1w5AoFADHuQK0cgEIhhD3LlCAQCMexBrhyBQCCGPciVIxAIxLAHuXIEAoEY9hjRTkb3g+O4RqMx1P5/2sRATyEJwzAKhfL4m3Eb9kr1DDQOAMDYLvlJW00PGImttDIMbpwHjkojRP99yeiicqVSCffzxHF8y5YtQqFwEDdjg+mbH+dIDMOEQuFHH31EkqT2LBzH4a7oD5SkPQzDsLS0tCNHjjx+AuL169frpmZ+RvHGDDTszp07v/nmm8Ft3GcEwzCRSJSSkmI8RoZ76+/atWvnzp16y/b7QBmFhYXffPPNkSNHDLg5Iqw3JydHm3/RaIGdPDExUZ8pyI3LlTOZzISEhKysLCaT2dnZWVVVxeVyKRSKbsthGIbj+APb8v6vdD/Bcby5uTk6OlrXvhiG6SZ91v3DxsbmrbfeYrFY+fn5hw8fxnGcSqUmJSVZWFjQaLQBAnAcr62tjY6OZjKZJEkKBAIejwe37X2kcpIks7Oz4W1cVwOO47ri8/Pzf/rpJ2PIT//UYBhWV1e3ZMkSOzs7Ozu7JUuWGI83T0tLW7Zs2ZdfftnV1WUMkqAfnzdvHp/Pd3Jyevfddx95sx8iGTk5OVu2bPH19RWLxRs3boS7Q+sfiUSyY8eO5cuXnzlzRj/ZMp8OkiSTk5Pnzp27atUqbbpHPUDdsmWL3ir7azAMS01NTUhIUCgUfD6/sbGxrq5u3LhxZ8+e5XA4MN9mT0/PrVu3UlNTLS0tR4wYoXs6SZJ5eXmpqakcDsfMzAzH8Z6enqysrMLCQjabbWlpeefOnRMnTtTX15uamo4aNQr2htu3byuVSktLy56enqtXr7q4uMC+q1aru7u7R4wYUVdXFxcXBzdA5/F4CQkJAQEBV65ckcvlML0RVH7nzp2kpKTi4mIul8vj8eLi4mbNmnX9+vWmpiZtXVVVVZcvX5bL5TY2Ntq+CPPMtbW18fl8eF3w7tXR0ZGWllZRUWFlZcVgMIqKig4ePAgz2zk6OhpDrsWnAGbYeOGFF9577z1fX9+amhqlUunr62vY7OkYhtXX16empm7duvX27dtTp061sLAwuIUxDPvll1/c3NyWL18+duxYgiAKCgpefvllPdsKw7Do6OhNmzZNnz49MDBw586dvr6+dnZ2erYPjuMXLlywsrIKCQmpq6ubMWOGYfvMw8AwrKmp6eLFizExMVlZWcuWLdPbXJBx3dx6enp6enoCAwPpdHpTU1NZWZlAIJDJZAsWLAAAEASxfv36zMxMc3PzqKioxsZG3Rh227Zt58+fs7OzW7NmTVZWlkQi+fDDD9va2gAAc+fOFYlEdDodDgZra2t4t8QwLD8/XygU0mi0U6dOzZ8/Hxa4ceNGAMCBAwdaW1tZLJZIJPLw8LC0tKypqRGLxVlZWQwGY926dTU1NVoBOI6XlJSEhIRYW1uTJHnz5s1Lly7RaLRNmzbdunWLyWSmpKRs3rzZ1NT0xx9/PHXqlDa4plAoZWVllZWVpaWlMplszZo1MMmc9pJnz54tkUhYLFZdXZ2bmxuDwdB3qwweJEn+4x//CA8Ph4lMe3p6eDyewZ0mSZI8Hm/Lli08Hs/gc8FaqFRqTk5OQEAAQRAEQXh7e+fn5+szyoN0dnaqVCo+n08QhFqtDgkJ0VsKeV1UKtX06dPDwsL0b4EnAqb3/Pzzz/X/9Gz4B0ldXF1dR44cOXfu3L6+vgMHDqxYsSIsLKy3t7e4uFgoFF6/ft3S0nLFihUYhuXm5mZnZ8MsoHBuGgDw1VffwKRxBQUF5ubm8fHxMN31lStXWlpagoODORxOSEiIp6cnHLEUCsXa2rqnp6e9vT0nJyc0NJRCoSQmJi5btszJyamwsBBOmIwcOTI0NJTP5+/bt+/tt9+Ojo6m0WhFRUXFxcWenp4AAJIk3d3du7u7586d6+7unpubO2XKlOjoaBaLRRBESkoKn8+PiYk5cuQIl8tlMpkHDx7U3jYAALdv3/7nP/8ZFhYGALh582ZFRUVgYODFixeh+Li4OKlU6ujoaG1tHRYWZlTu5ikwMTEhSRK+dQAAhISEGMPlwGRSxjNLDpFKpdpcUQwGQ//yMAzr6urCcdzc3Bx+wuVyxWKxnmVAOByOcUbiA9DO2cLxq7969VnZI2lra/Pw8AAASKXS/Pz8jRs3EgQhlUo7Ozvt7e2FQmFDQ8MXX3xBEERnZ2dQUBA8i0KhCASCoKAgHMdVKpWVldXs2bMFAsGhQ4dkMhmbzb5y5epXX33V0tICAOByubphII7jvb29Fy9eXLhwYUZGRltb2/nz5+Pj4yUSCZvNZjKZlZWVHA7HysqKIAiRSBQcHAxDEqVSaWZmpi2KIIju7m6Yu7mgoGDOnDl0Ol2tVre0tIwfP76zsxMAsGfPHpheedSoUWq1GrZ3Z2dna2vrq6++ShCEQqHAcZzP59+4cePIkSMqlYrNZqtUKg6HU1FRgeO4lZWVMTi+ZwTH8dTU1Ozs7H379hk8JNdihIsiOByONqVnf3+/QV6TwC6tm4Wcy+XqXwbEeHqLEWJcrvz69evBwcEAAJIkCYKAkwlisbivr8/c3FwqlW7ZsmXSpEkAgPb2dg6Ho+1hCoWit7eXSqXiOF5RUWFvb7948eITJ05MmjSppaWlsrKSyWQWFxfb2try+Xzt3VKj0VCp1LKyEiqVFh4efuvWrXPnzk2ePNnc3DwlJWXSpEmmpqbV1dVOTk40Gq2lpaW4uHjr1q0ajQb6X3jXAQBgGHbr1i1/f38YvBQXF4eFhWk0GhqNlp2dvX37dpFIFBQUtHv3bgBAb2+vWq1ms9lwMcC9e/fa29vhA2xFRQWHwzE3N1+0aNGJEyfc3d0FAkF8fPyIESPgIwiNRjNCj/NEMJnM8+fPJyQkHD9+HD61GFqRkaJWq8ePH19aWgpHRFlZ2YQJE/QclsKpJ5VK1dDQAF/jX7p0aceOHcilGiHGNVeuVCoFAkF7e3tVVdWECRNg3CoSidzd3QEAgYGBO3bsSElJ2bdvX2xsrNapaTSa2bNn792799SpU0eOHNm+fXtfX9/IkSPz8/OvX7++du3aiRMnstnsnp4eoVAoEAh0lwGYmZklJ18IDg6m0WgsFuv06dPTp08HAFRUVDg5OcGJudLS0qqqqt7e3oaGBuis6+rqVCqVk5OTVkN/f39ZWVleXp5EIrl37x6fzwcA9PX1dXR00Ol0Dw+PkpKSQ4cOnT9/fuXKlXAGH9LZ2QmniSgUSn19PZfLZbPZcNlMSkpKdHS0l5cXi8UCAJSUlFRWVuqjGYYMDMMEAsH69esnTZqUkZFx6tSpwsJCQ4v6/zCehx6NRjNnzpwjR45cv379+vXre/fuDQ0NNYgPDQsLi4mJqaioOHTokJ2dnbOzswHjCbVarX1SMWZUKpVcrtcJFiNawUKhUNzd3dva2qysrDQajY+PD1wi0t7e7u/vz+PxXnjhBTabLRQKeTze/PnztfMbGo3G0dFx7NixFRUVFhYWK1as4PF4wcHBtbW1PT09M2fOHDduHJ/Pt7e3NzMz6+7uHjNmDDyRQqGo1Wpvb+8ZM2YAAGg02iuvvDJu3DiNRtPd3e3r62tmZmZnZ6dWq+G8h4uLC7ypKBQKR0dHV1dXrQAHBwcmk9nT0+Pk5GRqajpx4kSNRiORSBwdHceNG8fj8fz9/UtLS/v6+kJDQ93c3LQC2tvb/fz8bGxs+vv75XK5l5fXqFGjAgICioqK2Gx2cHDwxIkTLSwsbG1tGQwGhULRLpsZjlAoFJFI5O3tzWQyu7q65HI5l8s1niuiUCgcDsfNzc0YVnxqNBoulxsYGPjrr79WV1dv27bNw8ND/z5UrVa7u7uPGjXq1KlTJiYmmzdvNjc3N1RUTqFQNBoNj8dzcXEx5icDjUZDoVBcXJy9vLz09iBl0t3drZ+aHge4tlrbSLDj6v6+C/4NjxnQrQd8pfvfBxalWyOMxe6vCP4Nf4r5MElatL/Y1E22rf37YcofWOkDxT8fvwjV/m4QYmxXpP9E6X+Nbpcw7K89td3SsPYxBg2PCXx1p7fqjMuVIxAIBOIpMK65cgQCgUA8BciVIxAIxLAHuXIEAoEY9iBXjkAgEMMe5MoRCARi2INcOQKBQAx7kCtHIBCIYQ9y5QgEAjHsQa4cgUAghj3IlSMQCMSwB7lyBAKBGPb8PyWAtr4POFLAAAAAAElFTkSuQmCC)"
      ]
    },
    {
      "attachments": {},
      "cell_type": "markdown",
      "metadata": {
        "id": "5utM4wOR6wi9"
      },
      "source": [
        "#### CountVectorizer\n",
        "класс в склерн \n",
        "используются регулярные выражения\n",
        "\n",
        "- приводит к нижнему регистру\n",
        "- проводит токенизацию - `r\"(?u)\\b\\w\\w+\\b\"` (токены из 2 или более буквенно-цифровых символов, пунктуация полностью игнорируется и всегда рассматривается как разделитель токенов)\n",
        "  - `(?u)` - флаг Unicode\n",
        "  - `\\b` - граница слова\n",
        "  - `\\w` - символы, которые могут входить в состав слов, включая числа и подчёркивание\n",
        "  - `\\+` - 1 и более повторений предшествующего выражения\n",
        "- фильтрует стоп-слова"
      ]
    },
    {
      "cell_type": "code",
      "execution_count": 22,
      "metadata": {
        "id": "tilSXZGa3v6b"
      },
      "outputs": [],
      "source": [
        "from sklearn.feature_extraction.text import CountVectorizer\n",
        "from sklearn.feature_extraction._stop_words import ENGLISH_STOP_WORDS"
      ]
    },
    {
      "attachments": {},
      "cell_type": "markdown",
      "metadata": {
        "id": "a-H4VFIpCnIA"
      },
      "source": [
        "##### Стоп-слова\n",
        "\n",
        "их лучшее доопределять или переопределять"
      ]
    },
    {
      "cell_type": "code",
      "execution_count": 23,
      "metadata": {
        "colab": {
          "base_uri": "https://localhost:8080/",
          "height": 157
        },
        "id": "ksXojOY_9aLW",
        "outputId": "0c680600-343f-4009-b53c-269e7c8501c2"
      },
      "outputs": [
        {
          "name": "stdout",
          "output_type": "stream",
          "text": [
            "Sklearn english stopwords size: 318\n",
            "\n"
          ]
        },
        {
          "data": {
            "text/plain": [
              "'onto any amoungst mostly whereupon around whatever ours inc whence her sincere further serious either only myself other already do fill top someone hasnt without un although with has last fifty are them bill back side because herein fifteen thru though that own else until have first alone thereupon everything anything due eg please part cry can before hers there too this or thence thereafter they nothing take been couldnt below between again thus etc ie namely being beforehand however at sometime each less herself whereas when all these behind above became whom some were third system anywhere somehow co con becoming than still name was and through go might very same former my indeed therefore thick your see by such cant off ltd noone find hereupon its nowhere also is well detail mill per now even otherwise could becomes always itself had six latterly perhaps more themselves may no into whether you to nevertheless somewhere latter fire himself along so thereby as everywhere interest yet five four few while together many seem against never full amongst after almost show hence under who since several keep be bottom nor most give would cannot twenty of yourselves yourself the except one she during none he beyond made anyhow on up afterwards anyway it whose across neither empty which whole yours but i in something front from wherever whoever sixty both then hereby those we an re seeming often about every everyone where will his twelve get via amount others another throughout me must mine besides eight much forty once done describe whereby enough thin why among moreover for here should three him over whereafter hundred a de how least us down rather what am formerly out meanwhile wherein eleven hereafter seemed therein two anyone whenever ever become nine our sometimes within nobody ten move not put their found upon if call ourselves towards next whither toward beside elsewhere seems'"
            ]
          },
          "execution_count": 23,
          "metadata": {},
          "output_type": "execute_result"
        }
      ],
      "source": [
        "print(f'Sklearn english stopwords size: {len(ENGLISH_STOP_WORDS)}', end='\\n\\n')\n",
        "' '.join(ENGLISH_STOP_WORDS)"
      ]
    },
    {
      "cell_type": "markdown",
      "metadata": {
        "id": "5Bseo9Df-Slj"
      },
      "source": [
        "This list of English stop words is taken from the \"Glasgow Information Retrieval Group\". The original list can be found at\n",
        "http://ir.dcs.gla.ac.uk/resources/linguistic_utils/stop_words"
      ]
    },
    {
      "cell_type": "markdown",
      "metadata": {
        "id": "sCsEg8sxCrPc"
      },
      "source": [
        "##### Train/test split & fit"
      ]
    },
    {
      "attachments": {},
      "cell_type": "markdown",
      "metadata": {},
      "source": [
        "важной сделать разделение на трейн и тест перед работой \n",
        "иначе модель будет учиться по тестовой частью"
      ]
    },
    {
      "cell_type": "code",
      "execution_count": 24,
      "metadata": {
        "id": "2saSvMSF-3CL"
      },
      "outputs": [],
      "source": [
        "X_train, X_test, y_train, y_test = train_test_split(data['cleaned_text'], data['label'], random_state=2023)"
      ]
    },
    {
      "attachments": {},
      "cell_type": "markdown",
      "metadata": {},
      "source": [
        "ну типа выбираем размер мешка слов:\n",
        "\n",
        "max_df токен свречается в 70процендах документов и выже выкидываем\n",
        "\n",
        " min_df токен встречается редко и выбрасываем его "
      ]
    },
    {
      "cell_type": "code",
      "execution_count": 25,
      "metadata": {
        "id": "oMRYyc9e57VP"
      },
      "outputs": [],
      "source": [
        "vectorizer = CountVectorizer(max_df=0.7, min_df=0.003) # max_df фильтрует corpus-specific stop words\n",
        "X_train_vectorized = vectorizer.fit_transform(X_train)\n",
        "X_test_vectorized = vectorizer.transform(X_test)"
      ]
    },
    {
      "attachments": {},
      "cell_type": "markdown",
      "metadata": {
        "id": "V-vd-0k0Cvg2"
      },
      "source": [
        "##### Разреженное представление результата\n",
        "\n",
        "чтобы эффективной хванить мешок слов с кучей пустот, мы применяем разреженность и метод спарс!\n",
        "\n",
        "Поскольку в большинстве документов обычно используется очень небольшое подмножество слов, используемых в корпусе, результирующая матрица будет иметь много нулевых значений признаков (обычно более 99% из них).\n",
        "\n",
        "Чтобы оптимально хранить такую матрицу в памяти, а также ускорить алгебраические операции с матрицей/вектором, обычно используют разреженное представление, такое как реализации, доступные в пакете scipy.sparse.\n",
        "\n",
        "\n",
        "[Sparse matrices (scipy.sparse)](https://docs.scipy.org/doc/scipy/reference/sparse.html)"
      ]
    },
    {
      "cell_type": "markdown",
      "metadata": {
        "id": "s9rUR_06Dq0O"
      },
      "source": [
        "**CSR** - Compressed Sparse Row\n",
        "\n",
        "**COO** - COOrdinate format"
      ]
    },
    {
      "cell_type": "markdown",
      "metadata": {
        "id": "euTWQTZFDMeG"
      },
      "source": [
        "![image.png](data:image/png;base64,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)"
      ]
    },
    {
      "cell_type": "code",
      "execution_count": 26,
      "metadata": {
        "colab": {
          "base_uri": "https://localhost:8080/"
        },
        "id": "ffYHG6aG_nHr",
        "outputId": "11ef8cba-2153-4da5-e86a-08d9dc717204"
      },
      "outputs": [
        {
          "data": {
            "text/plain": [
              "<4179x449 sparse matrix of type '<class 'numpy.int64'>'\n",
              "\twith 18002 stored elements in Compressed Sparse Row format>"
            ]
          },
          "execution_count": 26,
          "metadata": {},
          "output_type": "execute_result"
        }
      ],
      "source": [
        "X_train_vectorized"
      ]
    },
    {
      "attachments": {},
      "cell_type": "markdown",
      "metadata": {},
      "source": [
        "слова которые вошли в словарь"
      ]
    },
    {
      "cell_type": "code",
      "execution_count": 27,
      "metadata": {
        "colab": {
          "base_uri": "https://localhost:8080/"
        },
        "id": "-c4AWtqi57aq",
        "outputId": "280111ff-0151-4565-fcd4-2aa5e6141dc4"
      },
      "outputs": [
        {
          "data": {
            "text/plain": [
              "array(['000', '10', '100', '1000', '10p', '150p', '150ppm', '2000', '50',\n",
              "       '500', '5000', 'able', 'abt', 'account', 'actually', 'add',\n",
              "       'address', 'aft', 'afternoon', 'ah', 'aight', 'alright', 'amp',\n",
              "       'answer', 'anytime', 'apply', 'ard', 'ask', 'attempt', 'await',\n",
              "       'award', 'away', 'babe', 'baby', 'bad', 'beautiful', 'bed',\n",
              "       'believe', 'big', 'birthday', 'bit', 'bonus', 'book', 'bored',\n",
              "       'box', 'boy', 'boytoy', 'break', 'bring', 'brother', 'bt', 'bus',\n",
              "       'busy', 'buy', 'call', 'camera', 'car', 'card', 'care', 'cash',\n",
              "       'cause', 'chance', 'change', 'charge', 'chat', 'check', 'chikku',\n",
              "       'choose', 'claim', 'class', 'close', 'co', 'code', 'collect',\n",
              "       'collection', 'colour', 'com', 'come', 'confirm', 'contact',\n",
              "       'cool', 'cos', 'cost', 'coz', 'crazy', 'credit', 'cs', 'cum',\n",
              "       'customer', 'da', 'dad', 'darlin', 'dat', 'date', 'day', 'de',\n",
              "       'dear', 'decide', 'decimal', 'delivery', 'den', 'detail', 'dinner',\n",
              "       'dis', 'don', 'double', 'download', 'draw', 'dream', 'drink',\n",
              "       'drive', 'drop', 'dude', 'dun', 'dunno', 'early', 'easy', 'eat',\n",
              "       'email', 'end', 'enjoy', 'enter', 'entry', 'eve', 'evening',\n",
              "       'expire', 'face', 'family', 'far', 'fast', 'feel', 'find', 'fine',\n",
              "       'finish', 'fone', 'food', 'forget', 'free', 'friday', 'friend',\n",
              "       'friendship', 'frnd', 'fuck', 'fun', 'game', 'get', 'gift', 'girl',\n",
              "       'give', 'go', 'god', 'goin', 'good', 'goodmorning', 'got', 'gr8',\n",
              "       'great', 'gt', 'guarantee', 'gud', 'guess', 'guy', 'haf', 'haha',\n",
              "       'hair', 'half', 'hand', 'happen', 'happy', 'hav', 'have', 'head',\n",
              "       'hear', 'heart', 'hello', 'help', 'hey', 'hi', 'hold', 'holiday',\n",
              "       'home', 'hope', 'hot', 'hour', 'house', 'how', 'http', 'hurt',\n",
              "       'ill', 'im', 'important', 'invite', 'it', 'job', 'join', 'jus',\n",
              "       'juz', 'keep', 'kind', 'kiss', 'know', 'land', 'landline', 'lar',\n",
              "       'late', 'later', 'leave', 'leh', 'lei', 'lesson', 'let', 'liao',\n",
              "       'life', 'like', 'line', 'little', 'live', 'll', 'log', 'lol',\n",
              "       'long', 'look', 'lor', 'lose', 'lot', 'love', 'lt', 'lucky',\n",
              "       'lunch', 'luv', 'mail', 'make', 'man', 'mate', 'maybe', 'mean',\n",
              "       'meet', 'meeting', 'message', 'min', 'mind', 'minute', 'miss',\n",
              "       'mob', 'mobile', 'mobileupd8', 'mom', 'money', 'month', 'morning',\n",
              "       'movie', 'msg', 'mum', 'music', 'national', 'need', 'net',\n",
              "       'network', 'new', 'news', 'nice', 'night', 'nite', 'no', 'noe',\n",
              "       'nokia', 'not', 'now', 'number', 'offer', 'office', 'oh', 'ok',\n",
              "       'okay', 'okie', 'online', 'open', 'operator', 'opt', 'orange',\n",
              "       'order', 'oso', 'outside', 'pa', 'pain', 'party', 'pay', 'people',\n",
              "       'person', 'phone', 'pic', 'pick', 'place', 'plan', 'play',\n",
              "       'player', 'pls', 'plus', 'plz', 'pm', 'po', 'pobox', 'point',\n",
              "       'poly', 'post', 'pound', 'price', 'princess', 'private', 'prize',\n",
              "       'probably', 'problem', 'question', 'rate', 'reach', 'read',\n",
              "       'ready', 'real', 'receive', 'remember', 'reply', 'right', 'ring',\n",
              "       'ringtone', 'rite', 'room', 'row', 'run', 'sad', 'sae', 'say',\n",
              "       'sch', 'school', 'search', 'see', 'select', 'send', 'service',\n",
              "       'set', 'sexy', 'shall', 'shit', 'shop', 'shopping', 'show', 'sir',\n",
              "       'sis', 'sister', 'sit', 'sleep', 'smile', 'sms', 'soon', 'sorry',\n",
              "       'sound', 'speak', 'special', 'spend', 'start', 'statement', 'stay',\n",
              "       'stop', 'story', 'study', 'stuff', 'sure', 'sweet', 'take', 'talk',\n",
              "       'tc', 'tell', 'test', 'text', 'thank', 'thanx', 'thing', 'think',\n",
              "       'thk', 'tho', 'til', 'till', 'time', 'tmr', 'to', 'today', 'tomo',\n",
              "       'tomorrow', 'tone', 'tonight', 'tot', 'touch', 'town', 'trip',\n",
              "       'true', 'try', 'tv', 'txt', 'uk', 'uncle', 'understand', 'update',\n",
              "       'ur', 'urgent', 'use', 'valid', 'value', 'video', 'voucher',\n",
              "       'wait', 'wake', 'walk', 'wan', 'wanna', 'want', 'wat', 'watch',\n",
              "       'way', 'week', 'weekend', 'weekly', 'well', 'wen', 'wid', 'wif',\n",
              "       'wife', 'will', 'win', 'wish', 'wk', 'won', 'wonder', 'word',\n",
              "       'work', 'world', 'worry', 'wrong', 'www', 'xmas', 'xx', 'xxx',\n",
              "       'ya', 'yeah', 'year', 'yes', 'yesterday', 'yo', 'you', 'yup', 'ìï'],\n",
              "      dtype=object)"
            ]
          },
          "execution_count": 27,
          "metadata": {},
          "output_type": "execute_result"
        }
      ],
      "source": [
        "vectorizer.get_feature_names_out()"
      ]
    },
    {
      "cell_type": "code",
      "execution_count": 24,
      "metadata": {
        "colab": {
          "base_uri": "https://localhost:8080/",
          "height": 236
        },
        "id": "t-zLLFoG6lSl",
        "outputId": "8fffa245-b305-4c77-caf3-c5d6fda9d7ba"
      },
      "outputs": [
        {
          "data": {
            "text/html": [
              "\n",
              "  <div id=\"df-0fd3e033-0e95-4686-83a8-ca4a9009a306\">\n",
              "    <div class=\"colab-df-container\">\n",
              "      <div>\n",
              "<style scoped>\n",
              "    .dataframe tbody tr th:only-of-type {\n",
              "        vertical-align: middle;\n",
              "    }\n",
              "\n",
              "    .dataframe tbody tr th {\n",
              "        vertical-align: top;\n",
              "    }\n",
              "\n",
              "    .dataframe thead th {\n",
              "        text-align: right;\n",
              "    }\n",
              "</style>\n",
              "<table border=\"1\" class=\"dataframe\">\n",
              "  <thead>\n",
              "    <tr style=\"text-align: right;\">\n",
              "      <th></th>\n",
              "      <th>000</th>\n",
              "      <th>10</th>\n",
              "      <th>100</th>\n",
              "      <th>1000</th>\n",
              "      <th>10p</th>\n",
              "      <th>150p</th>\n",
              "      <th>150ppm</th>\n",
              "      <th>2000</th>\n",
              "      <th>50</th>\n",
              "      <th>500</th>\n",
              "      <th>...</th>\n",
              "      <th>xxx</th>\n",
              "      <th>ya</th>\n",
              "      <th>yeah</th>\n",
              "      <th>year</th>\n",
              "      <th>yes</th>\n",
              "      <th>yesterday</th>\n",
              "      <th>yo</th>\n",
              "      <th>you</th>\n",
              "      <th>yup</th>\n",
              "      <th>ìï</th>\n",
              "    </tr>\n",
              "  </thead>\n",
              "  <tbody>\n",
              "    <tr>\n",
              "      <th>0</th>\n",
              "      <td>0</td>\n",
              "      <td>0</td>\n",
              "      <td>0</td>\n",
              "      <td>0</td>\n",
              "      <td>0</td>\n",
              "      <td>0</td>\n",
              "      <td>0</td>\n",
              "      <td>0</td>\n",
              "      <td>0</td>\n",
              "      <td>0</td>\n",
              "      <td>...</td>\n",
              "      <td>0</td>\n",
              "      <td>0</td>\n",
              "      <td>0</td>\n",
              "      <td>0</td>\n",
              "      <td>0</td>\n",
              "      <td>0</td>\n",
              "      <td>0</td>\n",
              "      <td>0</td>\n",
              "      <td>0</td>\n",
              "      <td>0</td>\n",
              "    </tr>\n",
              "    <tr>\n",
              "      <th>1</th>\n",
              "      <td>0</td>\n",
              "      <td>0</td>\n",
              "      <td>0</td>\n",
              "      <td>0</td>\n",
              "      <td>0</td>\n",
              "      <td>0</td>\n",
              "      <td>0</td>\n",
              "      <td>0</td>\n",
              "      <td>0</td>\n",
              "      <td>0</td>\n",
              "      <td>...</td>\n",
              "      <td>0</td>\n",
              "      <td>0</td>\n",
              "      <td>0</td>\n",
              "      <td>0</td>\n",
              "      <td>0</td>\n",
              "      <td>0</td>\n",
              "      <td>0</td>\n",
              "      <td>0</td>\n",
              "      <td>0</td>\n",
              "      <td>0</td>\n",
              "    </tr>\n",
              "    <tr>\n",
              "      <th>2</th>\n",
              "      <td>0</td>\n",
              "      <td>0</td>\n",
              "      <td>0</td>\n",
              "      <td>0</td>\n",
              "      <td>0</td>\n",
              "      <td>0</td>\n",
              "      <td>0</td>\n",
              "      <td>0</td>\n",
              "      <td>0</td>\n",
              "      <td>0</td>\n",
              "      <td>...</td>\n",
              "      <td>0</td>\n",
              "      <td>0</td>\n",
              "      <td>0</td>\n",
              "      <td>0</td>\n",
              "      <td>0</td>\n",
              "      <td>0</td>\n",
              "      <td>0</td>\n",
              "      <td>0</td>\n",
              "      <td>0</td>\n",
              "      <td>0</td>\n",
              "    </tr>\n",
              "    <tr>\n",
              "      <th>3</th>\n",
              "      <td>0</td>\n",
              "      <td>0</td>\n",
              "      <td>0</td>\n",
              "      <td>0</td>\n",
              "      <td>0</td>\n",
              "      <td>0</td>\n",
              "      <td>0</td>\n",
              "      <td>0</td>\n",
              "      <td>0</td>\n",
              "      <td>0</td>\n",
              "      <td>...</td>\n",
              "      <td>0</td>\n",
              "      <td>0</td>\n",
              "      <td>0</td>\n",
              "      <td>0</td>\n",
              "      <td>0</td>\n",
              "      <td>0</td>\n",
              "      <td>0</td>\n",
              "      <td>0</td>\n",
              "      <td>0</td>\n",
              "      <td>0</td>\n",
              "    </tr>\n",
              "    <tr>\n",
              "      <th>4</th>\n",
              "      <td>0</td>\n",
              "      <td>0</td>\n",
              "      <td>0</td>\n",
              "      <td>0</td>\n",
              "      <td>0</td>\n",
              "      <td>0</td>\n",
              "      <td>0</td>\n",
              "      <td>0</td>\n",
              "      <td>0</td>\n",
              "      <td>0</td>\n",
              "      <td>...</td>\n",
              "      <td>0</td>\n",
              "      <td>0</td>\n",
              "      <td>0</td>\n",
              "      <td>0</td>\n",
              "      <td>0</td>\n",
              "      <td>0</td>\n",
              "      <td>0</td>\n",
              "      <td>0</td>\n",
              "      <td>0</td>\n",
              "      <td>0</td>\n",
              "    </tr>\n",
              "  </tbody>\n",
              "</table>\n",
              "<p>5 rows × 452 columns</p>\n",
              "</div>\n",
              "      <button class=\"colab-df-convert\" onclick=\"convertToInteractive('df-0fd3e033-0e95-4686-83a8-ca4a9009a306')\"\n",
              "              title=\"Convert this dataframe to an interactive table.\"\n",
              "              style=\"display:none;\">\n",
              "        \n",
              "  <svg xmlns=\"http://www.w3.org/2000/svg\" height=\"24px\"viewBox=\"0 0 24 24\"\n",
              "       width=\"24px\">\n",
              "    <path d=\"M0 0h24v24H0V0z\" fill=\"none\"/>\n",
              "    <path d=\"M18.56 5.44l.94 2.06.94-2.06 2.06-.94-2.06-.94-.94-2.06-.94 2.06-2.06.94zm-11 1L8.5 8.5l.94-2.06 2.06-.94-2.06-.94L8.5 2.5l-.94 2.06-2.06.94zm10 10l.94 2.06.94-2.06 2.06-.94-2.06-.94-.94-2.06-.94 2.06-2.06.94z\"/><path d=\"M17.41 7.96l-1.37-1.37c-.4-.4-.92-.59-1.43-.59-.52 0-1.04.2-1.43.59L10.3 9.45l-7.72 7.72c-.78.78-.78 2.05 0 2.83L4 21.41c.39.39.9.59 1.41.59.51 0 1.02-.2 1.41-.59l7.78-7.78 2.81-2.81c.8-.78.8-2.07 0-2.86zM5.41 20L4 18.59l7.72-7.72 1.47 1.35L5.41 20z\"/>\n",
              "  </svg>\n",
              "      </button>\n",
              "      \n",
              "  <style>\n",
              "    .colab-df-container {\n",
              "      display:flex;\n",
              "      flex-wrap:wrap;\n",
              "      gap: 12px;\n",
              "    }\n",
              "\n",
              "    .colab-df-convert {\n",
              "      background-color: #E8F0FE;\n",
              "      border: none;\n",
              "      border-radius: 50%;\n",
              "      cursor: pointer;\n",
              "      display: none;\n",
              "      fill: #1967D2;\n",
              "      height: 32px;\n",
              "      padding: 0 0 0 0;\n",
              "      width: 32px;\n",
              "    }\n",
              "\n",
              "    .colab-df-convert:hover {\n",
              "      background-color: #E2EBFA;\n",
              "      box-shadow: 0px 1px 2px rgba(60, 64, 67, 0.3), 0px 1px 3px 1px rgba(60, 64, 67, 0.15);\n",
              "      fill: #174EA6;\n",
              "    }\n",
              "\n",
              "    [theme=dark] .colab-df-convert {\n",
              "      background-color: #3B4455;\n",
              "      fill: #D2E3FC;\n",
              "    }\n",
              "\n",
              "    [theme=dark] .colab-df-convert:hover {\n",
              "      background-color: #434B5C;\n",
              "      box-shadow: 0px 1px 3px 1px rgba(0, 0, 0, 0.15);\n",
              "      filter: drop-shadow(0px 1px 2px rgba(0, 0, 0, 0.3));\n",
              "      fill: #FFFFFF;\n",
              "    }\n",
              "  </style>\n",
              "\n",
              "      <script>\n",
              "        const buttonEl =\n",
              "          document.querySelector('#df-0fd3e033-0e95-4686-83a8-ca4a9009a306 button.colab-df-convert');\n",
              "        buttonEl.style.display =\n",
              "          google.colab.kernel.accessAllowed ? 'block' : 'none';\n",
              "\n",
              "        async function convertToInteractive(key) {\n",
              "          const element = document.querySelector('#df-0fd3e033-0e95-4686-83a8-ca4a9009a306');\n",
              "          const dataTable =\n",
              "            await google.colab.kernel.invokeFunction('convertToInteractive',\n",
              "                                                     [key], {});\n",
              "          if (!dataTable) return;\n",
              "\n",
              "          const docLinkHtml = 'Like what you see? Visit the ' +\n",
              "            '<a target=\"_blank\" href=https://colab.research.google.com/notebooks/data_table.ipynb>data table notebook</a>'\n",
              "            + ' to learn more about interactive tables.';\n",
              "          element.innerHTML = '';\n",
              "          dataTable['output_type'] = 'display_data';\n",
              "          await google.colab.output.renderOutput(dataTable, element);\n",
              "          const docLink = document.createElement('div');\n",
              "          docLink.innerHTML = docLinkHtml;\n",
              "          element.appendChild(docLink);\n",
              "        }\n",
              "      </script>\n",
              "    </div>\n",
              "  </div>\n",
              "  "
            ],
            "text/plain": [
              "   000  10  100  1000  10p  150p  150ppm  2000  50  500  ...  xxx  ya  yeah  \\\n",
              "0    0   0    0     0    0     0       0     0   0    0  ...    0   0     0   \n",
              "1    0   0    0     0    0     0       0     0   0    0  ...    0   0     0   \n",
              "2    0   0    0     0    0     0       0     0   0    0  ...    0   0     0   \n",
              "3    0   0    0     0    0     0       0     0   0    0  ...    0   0     0   \n",
              "4    0   0    0     0    0     0       0     0   0    0  ...    0   0     0   \n",
              "\n",
              "   year  yes  yesterday  yo  you  yup  ìï  \n",
              "0     0    0          0   0    0    0   0  \n",
              "1     0    0          0   0    0    0   0  \n",
              "2     0    0          0   0    0    0   0  \n",
              "3     0    0          0   0    0    0   0  \n",
              "4     0    0          0   0    0    0   0  \n",
              "\n",
              "[5 rows x 452 columns]"
            ]
          },
          "execution_count": 24,
          "metadata": {},
          "output_type": "execute_result"
        }
      ],
      "source": [
        "pd.DataFrame(X_train_vectorized.toarray(), columns=vectorizer.get_feature_names_out()).head()"
      ]
    },
    {
      "cell_type": "markdown",
      "metadata": {
        "id": "cASOAyfqH_Hi"
      },
      "source": [
        "##### Бейзлайн"
      ]
    },
    {
      "cell_type": "code",
      "execution_count": 28,
      "metadata": {
        "id": "Foar-PW-H-ao"
      },
      "outputs": [],
      "source": [
        "# константный бейзлайн\n",
        "from sklearn.dummy import DummyClassifier\n",
        "\n",
        "from sklearn.linear_model import LogisticRegression\n",
        "from sklearn.metrics import classification_report"
      ]
    },
    {
      "attachments": {},
      "cell_type": "markdown",
      "metadata": {
        "id": "Zvon7oloI5h6"
      },
      "source": [
        "Константное предсказание\n",
        "\n",
        "Настраиваем его стратегию\n",
        "\n",
        "и делаем предсказание"
      ]
    },
    {
      "cell_type": "code",
      "execution_count": 29,
      "metadata": {
        "colab": {
          "base_uri": "https://localhost:8080/"
        },
        "id": "4b30H8COH-W7",
        "outputId": "56ea7475-7461-4f5e-f6f8-bf7f42b0a00e"
      },
      "outputs": [
        {
          "name": "stdout",
          "output_type": "stream",
          "text": [
            "              precision    recall  f1-score   support\n",
            "\n",
            "           0       0.87      1.00      0.93      1207\n",
            "           1       0.00      0.00      0.00       186\n",
            "\n",
            "    accuracy                           0.87      1393\n",
            "   macro avg       0.43      0.50      0.46      1393\n",
            "weighted avg       0.75      0.87      0.80      1393\n",
            "\n"
          ]
        }
      ],
      "source": [
        "\n",
        "dummy_clf = DummyClassifier(strategy=\"most_frequent\").fit(X_train_vectorized, y_train)\n",
        "preds = dummy_clf.predict(X_test_vectorized)\n",
        "# зеро дивижн, чтобы на ноль не делить\n",
        "print(classification_report(y_test, preds, zero_division=0))"
      ]
    },
    {
      "attachments": {},
      "cell_type": "markdown",
      "metadata": {
        "id": "9AbsbPqqI7mD"
      },
      "source": [
        "Логистическая регрессия\n",
        "\n",
        "вообще круто"
      ]
    },
    {
      "cell_type": "code",
      "execution_count": 30,
      "metadata": {
        "colab": {
          "base_uri": "https://localhost:8080/"
        },
        "id": "VwB1pA5eH-UR",
        "outputId": "68a5bcec-46e7-4c63-cead-32036456c028"
      },
      "outputs": [
        {
          "name": "stdout",
          "output_type": "stream",
          "text": [
            "              precision    recall  f1-score   support\n",
            "\n",
            "           0       0.97      1.00      0.98      1207\n",
            "           1       0.97      0.82      0.89       186\n",
            "\n",
            "    accuracy                           0.97      1393\n",
            "   macro avg       0.97      0.91      0.94      1393\n",
            "weighted avg       0.97      0.97      0.97      1393\n",
            "\n"
          ]
        }
      ],
      "source": [
        "logreg = LogisticRegression().fit(X_train_vectorized, y_train)\n",
        "preds = logreg.predict(X_test_vectorized)\n",
        "print(classification_report(y_test, preds))"
      ]
    },
    {
      "attachments": {},
      "cell_type": "markdown",
      "metadata": {
        "id": "FnVncLoWH33j"
      },
      "source": [
        "##### Переопределение токенизатора, препроцессинга\n",
        "\n",
        "чтобы заранее предобработать ну типа в ручную, опять же регулярочкой "
      ]
    },
    {
      "cell_type": "code",
      "execution_count": 31,
      "metadata": {
        "id": "EX4cYXQEQGLd"
      },
      "outputs": [],
      "source": [
        "def custom_tokenize(text):\n",
        "  text = re.sub(r'[^a-zA-Z ]', '', text)\n",
        "  return text.split()"
      ]
    },
    {
      "cell_type": "code",
      "execution_count": 32,
      "metadata": {
        "id": "XYhdFB6m3v-G"
      },
      "outputs": [
        {
          "name": "stderr",
          "output_type": "stream",
          "text": [
            "/Users/nikitav/Library/Python/3.9/lib/python/site-packages/sklearn/feature_extraction/text.py:528: UserWarning: The parameter 'token_pattern' will not be used since 'tokenizer' is not None'\n",
            "  warnings.warn(\n"
          ]
        }
      ],
      "source": [
        "custom_vectorizer = CountVectorizer(\n",
        "    max_df=0.7, \n",
        "    min_df=0.003, \n",
        "    tokenizer=custom_tokenize, # аналогично можно переопределить preprocessor\n",
        ") \n",
        "X_train_vectorized = custom_vectorizer.fit_transform(X_train)\n",
        "X_test_vectorized = custom_vectorizer.transform(X_test)"
      ]
    },
    {
      "cell_type": "code",
      "execution_count": 33,
      "metadata": {
        "colab": {
          "base_uri": "https://localhost:8080/"
        },
        "id": "ZPFj54F-Qowk",
        "outputId": "536d4695-6010-434f-8110-3ef9ee6ab2cb"
      },
      "outputs": [
        {
          "data": {
            "text/plain": [
              "<4179x445 sparse matrix of type '<class 'numpy.int64'>'\n",
              "\twith 18708 stored elements in Compressed Sparse Row format>"
            ]
          },
          "execution_count": 33,
          "metadata": {},
          "output_type": "execute_result"
        }
      ],
      "source": [
        "X_train_vectorized"
      ]
    },
    {
      "cell_type": "code",
      "execution_count": 34,
      "metadata": {
        "colab": {
          "base_uri": "https://localhost:8080/",
          "height": 236
        },
        "id": "zQAaRsPtQiiO",
        "outputId": "8158b032-9f1f-4400-ced3-bf93f1ca56c4"
      },
      "outputs": [
        {
          "data": {
            "text/html": [
              "<div>\n",
              "<style scoped>\n",
              "    .dataframe tbody tr th:only-of-type {\n",
              "        vertical-align: middle;\n",
              "    }\n",
              "\n",
              "    .dataframe tbody tr th {\n",
              "        vertical-align: top;\n",
              "    }\n",
              "\n",
              "    .dataframe thead th {\n",
              "        text-align: right;\n",
              "    }\n",
              "</style>\n",
              "<table border=\"1\" class=\"dataframe\">\n",
              "  <thead>\n",
              "    <tr style=\"text-align: right;\">\n",
              "      <th></th>\n",
              "      <th>able</th>\n",
              "      <th>abt</th>\n",
              "      <th>account</th>\n",
              "      <th>actually</th>\n",
              "      <th>add</th>\n",
              "      <th>address</th>\n",
              "      <th>aft</th>\n",
              "      <th>afternoon</th>\n",
              "      <th>age</th>\n",
              "      <th>ah</th>\n",
              "      <th>...</th>\n",
              "      <th>xmas</th>\n",
              "      <th>xxx</th>\n",
              "      <th>y</th>\n",
              "      <th>ya</th>\n",
              "      <th>yeah</th>\n",
              "      <th>year</th>\n",
              "      <th>yes</th>\n",
              "      <th>yesterday</th>\n",
              "      <th>yo</th>\n",
              "      <th>yup</th>\n",
              "    </tr>\n",
              "  </thead>\n",
              "  <tbody>\n",
              "    <tr>\n",
              "      <th>0</th>\n",
              "      <td>0</td>\n",
              "      <td>0</td>\n",
              "      <td>0</td>\n",
              "      <td>0</td>\n",
              "      <td>0</td>\n",
              "      <td>0</td>\n",
              "      <td>0</td>\n",
              "      <td>0</td>\n",
              "      <td>0</td>\n",
              "      <td>0</td>\n",
              "      <td>...</td>\n",
              "      <td>0</td>\n",
              "      <td>0</td>\n",
              "      <td>0</td>\n",
              "      <td>0</td>\n",
              "      <td>0</td>\n",
              "      <td>0</td>\n",
              "      <td>0</td>\n",
              "      <td>0</td>\n",
              "      <td>0</td>\n",
              "      <td>0</td>\n",
              "    </tr>\n",
              "    <tr>\n",
              "      <th>1</th>\n",
              "      <td>0</td>\n",
              "      <td>0</td>\n",
              "      <td>0</td>\n",
              "      <td>0</td>\n",
              "      <td>0</td>\n",
              "      <td>0</td>\n",
              "      <td>0</td>\n",
              "      <td>0</td>\n",
              "      <td>0</td>\n",
              "      <td>0</td>\n",
              "      <td>...</td>\n",
              "      <td>0</td>\n",
              "      <td>0</td>\n",
              "      <td>0</td>\n",
              "      <td>0</td>\n",
              "      <td>0</td>\n",
              "      <td>0</td>\n",
              "      <td>0</td>\n",
              "      <td>0</td>\n",
              "      <td>0</td>\n",
              "      <td>0</td>\n",
              "    </tr>\n",
              "    <tr>\n",
              "      <th>2</th>\n",
              "      <td>0</td>\n",
              "      <td>0</td>\n",
              "      <td>0</td>\n",
              "      <td>0</td>\n",
              "      <td>0</td>\n",
              "      <td>0</td>\n",
              "      <td>0</td>\n",
              "      <td>0</td>\n",
              "      <td>0</td>\n",
              "      <td>0</td>\n",
              "      <td>...</td>\n",
              "      <td>0</td>\n",
              "      <td>0</td>\n",
              "      <td>0</td>\n",
              "      <td>0</td>\n",
              "      <td>0</td>\n",
              "      <td>0</td>\n",
              "      <td>0</td>\n",
              "      <td>0</td>\n",
              "      <td>0</td>\n",
              "      <td>0</td>\n",
              "    </tr>\n",
              "    <tr>\n",
              "      <th>3</th>\n",
              "      <td>0</td>\n",
              "      <td>0</td>\n",
              "      <td>0</td>\n",
              "      <td>0</td>\n",
              "      <td>0</td>\n",
              "      <td>0</td>\n",
              "      <td>0</td>\n",
              "      <td>0</td>\n",
              "      <td>0</td>\n",
              "      <td>0</td>\n",
              "      <td>...</td>\n",
              "      <td>0</td>\n",
              "      <td>0</td>\n",
              "      <td>0</td>\n",
              "      <td>0</td>\n",
              "      <td>0</td>\n",
              "      <td>0</td>\n",
              "      <td>0</td>\n",
              "      <td>0</td>\n",
              "      <td>0</td>\n",
              "      <td>0</td>\n",
              "    </tr>\n",
              "    <tr>\n",
              "      <th>4</th>\n",
              "      <td>0</td>\n",
              "      <td>0</td>\n",
              "      <td>0</td>\n",
              "      <td>0</td>\n",
              "      <td>0</td>\n",
              "      <td>0</td>\n",
              "      <td>0</td>\n",
              "      <td>0</td>\n",
              "      <td>0</td>\n",
              "      <td>0</td>\n",
              "      <td>...</td>\n",
              "      <td>0</td>\n",
              "      <td>0</td>\n",
              "      <td>0</td>\n",
              "      <td>0</td>\n",
              "      <td>0</td>\n",
              "      <td>0</td>\n",
              "      <td>0</td>\n",
              "      <td>0</td>\n",
              "      <td>0</td>\n",
              "      <td>0</td>\n",
              "    </tr>\n",
              "  </tbody>\n",
              "</table>\n",
              "<p>5 rows × 445 columns</p>\n",
              "</div>"
            ],
            "text/plain": [
              "   able  abt  account  actually  add  address  aft  afternoon  age  ah  ...  \\\n",
              "0     0    0        0         0    0        0    0          0    0   0  ...   \n",
              "1     0    0        0         0    0        0    0          0    0   0  ...   \n",
              "2     0    0        0         0    0        0    0          0    0   0  ...   \n",
              "3     0    0        0         0    0        0    0          0    0   0  ...   \n",
              "4     0    0        0         0    0        0    0          0    0   0  ...   \n",
              "\n",
              "   xmas  xxx  y  ya  yeah  year  yes  yesterday  yo  yup  \n",
              "0     0    0  0   0     0     0    0          0   0    0  \n",
              "1     0    0  0   0     0     0    0          0   0    0  \n",
              "2     0    0  0   0     0     0    0          0   0    0  \n",
              "3     0    0  0   0     0     0    0          0   0    0  \n",
              "4     0    0  0   0     0     0    0          0   0    0  \n",
              "\n",
              "[5 rows x 445 columns]"
            ]
          },
          "execution_count": 34,
          "metadata": {},
          "output_type": "execute_result"
        }
      ],
      "source": [
        "pd.DataFrame(X_train_vectorized.toarray(), columns=custom_vectorizer.get_feature_names_out()).head()"
      ]
    },
    {
      "attachments": {},
      "cell_type": "markdown",
      "metadata": {},
      "source": [
        "и даже характеристики улучшились!"
      ]
    },
    {
      "cell_type": "code",
      "execution_count": 35,
      "metadata": {
        "colab": {
          "base_uri": "https://localhost:8080/"
        },
        "id": "Afs1AzO8Qilh",
        "outputId": "20c37edc-7bca-43f7-ced8-6ba02746f316"
      },
      "outputs": [
        {
          "name": "stdout",
          "output_type": "stream",
          "text": [
            "              precision    recall  f1-score   support\n",
            "\n",
            "           0       0.97      1.00      0.99      1207\n",
            "           1       0.99      0.83      0.90       186\n",
            "\n",
            "    accuracy                           0.98      1393\n",
            "   macro avg       0.98      0.92      0.95      1393\n",
            "weighted avg       0.98      0.98      0.98      1393\n",
            "\n"
          ]
        }
      ],
      "source": [
        "logreg = LogisticRegression().fit(X_train_vectorized, y_train)\n",
        "preds = logreg.predict(X_test_vectorized)\n",
        "print(classification_report(y_test, preds))"
      ]
    },
    {
      "cell_type": "markdown",
      "metadata": {
        "id": "MuxGe9h28leU"
      },
      "source": [
        "### Tf-Idf"
      ]
    },
    {
      "attachments": {},
      "cell_type": "markdown",
      "metadata": {
        "id": "KEaWFa6OS13S"
      },
      "source": [
        "В объемном корпусе некоторые слова будут присутствовать в большом количестве документов (текстов), а значит, они несут очень мало значимой информации о фактическом содержании документа. \n",
        "\n",
        "отфильтровать ненужное \n",
        "\n",
        "попытка оценить вес слова(токен) в нашей выборке и скоректировать векторизацию\n",
        "\n",
        "Для решения этой проблемы можно использовать Tf-Idf подход\n",
        "\n",
        "Цель использования tf-idf состоит в том, чтобы уменьшить влияние токенов, которые очень часто встречаются в данном корпусе и, следовательно, эмпирически менее информативны, чем признаки, которые встречаются малой части корпуса\n",
        "\n"
      ]
    },
    {
      "cell_type": "markdown",
      "metadata": {
        "id": "iNWr1kpKTptk"
      },
      "source": [
        "![image.png](data:image/png;base64,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)"
      ]
    },
    {
      "attachments": {},
      "cell_type": "markdown",
      "metadata": {
        "id": "D9S0lPkjT4zq"
      },
      "source": [
        "Можно заметить, что **term-frequency** изменяется в диапазоне [0, 1]\n",
        "\n",
        "логарифм нужен чтобы сбалансировать тф-айдиф ( могут быть выбросы по отдельность)\n",
        "\n",
        "тогда как без логарифмирования **inverse document-frequency** - [1, N + 1]"
      ]
    },
    {
      "cell_type": "markdown",
      "metadata": {
        "id": "QfkZGBWLZUqs"
      },
      "source": [
        "#### Отличия в реализации Sklearn"
      ]
    },
    {
      "cell_type": "markdown",
      "metadata": {
        "id": "5ct08Mg7ZYGM"
      },
      "source": [
        "![image.png](data:image/png;base64,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)"
      ]
    },
    {
      "attachments": {},
      "cell_type": "markdown",
      "metadata": {
        "id": "0SESoUHxZ5ld"
      },
      "source": [
        "Также в Scikit-Learn результирующие векторы TF-IDF нормализуются по евклидовой норме, что облегчает расчет cosine similarity (косинусное расстояние - метрика для рассчета сходства/различия слов в векторной форме):\n",
        "`The cosine similarity between two vectors is their dot product when l2 norm has been applied`\n",
        "\n",
        "![image.png](data:image/png;base64,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)"
      ]
    },
    {
      "cell_type": "markdown",
      "metadata": {
        "id": "XJaVRwtdSd2T"
      },
      "source": [
        "#### TfidfTransformer vs  TfidfVectorizer"
      ]
    },
    {
      "cell_type": "code",
      "execution_count": 37,
      "metadata": {
        "id": "yi2MnmHb8lH3"
      },
      "outputs": [],
      "source": [
        "from sklearn.feature_extraction.text import TfidfTransformer,  TfidfVectorizer\n",
        "from sklearn.pipeline import Pipeline"
      ]
    },
    {
      "cell_type": "markdown",
      "metadata": {
        "id": "4m3oVHP6Yjzn"
      },
      "source": [
        "**TfidfTransformer** преобразует матрицу из CountVectorizer в tf-idf"
      ]
    },
    {
      "cell_type": "code",
      "execution_count": 38,
      "metadata": {
        "colab": {
          "base_uri": "https://localhost:8080/"
        },
        "id": "NL9gc1038lLp",
        "outputId": "944e2691-699b-4ed6-85f0-b1999c439d5f"
      },
      "outputs": [
        {
          "name": "stdout",
          "output_type": "stream",
          "text": [
            "              precision    recall  f1-score   support\n",
            "\n",
            "           0       0.96      1.00      0.98      1207\n",
            "           1       0.99      0.70      0.82       186\n",
            "\n",
            "    accuracy                           0.96      1393\n",
            "   macro avg       0.97      0.85      0.90      1393\n",
            "weighted avg       0.96      0.96      0.96      1393\n",
            "\n"
          ]
        }
      ],
      "source": [
        "pipe = Pipeline(\n",
        "    steps=[\n",
        "        ('counter', CountVectorizer()),\n",
        "        ('tfidf', TfidfTransformer()),\n",
        "        ('clf', LogisticRegression())\n",
        "    ]\n",
        ").fit(X_train, y_train)\n",
        "preds = pipe.predict(X_test)\n",
        "print(classification_report(y_test, preds))"
      ]
    },
    {
      "attachments": {},
      "cell_type": "markdown",
      "metadata": {
        "id": "DVE73Tg4YsC8"
      },
      "source": [
        "**TfidfVectorizer** работает end-to-end\n",
        "\n",
        "происходит тоже самое что и сверху"
      ]
    },
    {
      "cell_type": "code",
      "execution_count": 39,
      "metadata": {
        "colab": {
          "base_uri": "https://localhost:8080/"
        },
        "id": "mka8rIPm8lOs",
        "outputId": "c8a40c94-0b02-4831-aa79-f0646c4b840d"
      },
      "outputs": [
        {
          "name": "stdout",
          "output_type": "stream",
          "text": [
            "              precision    recall  f1-score   support\n",
            "\n",
            "           0       0.96      1.00      0.98      1207\n",
            "           1       0.99      0.70      0.82       186\n",
            "\n",
            "    accuracy                           0.96      1393\n",
            "   macro avg       0.97      0.85      0.90      1393\n",
            "weighted avg       0.96      0.96      0.96      1393\n",
            "\n"
          ]
        }
      ],
      "source": [
        "pipe = Pipeline(\n",
        "    steps=[\n",
        "        ('tfidf', TfidfVectorizer()),\n",
        "        ('clf', LogisticRegression())\n",
        "    ]\n",
        ").fit(X_train, y_train)\n",
        "preds = pipe.predict(X_test)\n",
        "print(classification_report(y_test, preds))"
      ]
    },
    {
      "cell_type": "markdown",
      "metadata": {
        "id": "zoql-_CIcSzi"
      },
      "source": [
        "#### Оптимизация гиперпараметров пайплайна целиком - HalvingGridSearchCV"
      ]
    },
    {
      "cell_type": "code",
      "execution_count": 40,
      "metadata": {
        "id": "JJtnItit8lRA"
      },
      "outputs": [],
      "source": [
        "pipe = Pipeline(\n",
        "    steps=[\n",
        "        ('counter', CountVectorizer()),\n",
        "        ('tfidf', TfidfTransformer()),\n",
        "        ('clf', LogisticRegression())\n",
        "    ]\n",
        ")"
      ]
    },
    {
      "attachments": {},
      "cell_type": "markdown",
      "metadata": {},
      "source": [
        "пробуем подобрать\n",
        "\n",
        "l1 - нормализация\n",
        "\n",
        "l2 - евклидова норма\n",
        "\n",
        "clf_C - коэфф регуляризации модели ( логрег )"
      ]
    },
    {
      "cell_type": "code",
      "execution_count": 45,
      "metadata": {
        "id": "FK3kjaUwcSK0"
      },
      "outputs": [],
      "source": [
        "parameter_grid = {\n",
        "    \"counter__max_df\": np.linspace(0.3, 0.7, 10),\n",
        "    \"counter__min_df\": [0.0, 0.001, 0.003, 0.005],\n",
        "    \"counter__ngram_range\": ((1, 1), (1, 2)),  # слова или биграммы\n",
        "    \"tfidf__norm\": (\"l1\", \"l2\"),\n",
        "    \"clf__C\": np.linspace(0.1, 1, 10),\n",
        "}"
      ]
    },
    {
      "cell_type": "code",
      "execution_count": 42,
      "metadata": {
        "id": "RVc7pT7ecSYh"
      },
      "outputs": [],
      "source": [
        "from sklearn.experimental import enable_halving_search_cv\n",
        "from sklearn.model_selection import HalvingGridSearchCV"
      ]
    },
    {
      "attachments": {},
      "cell_type": "markdown",
      "metadata": {},
      "source": [
        "`HalvingGridSearchCV` берет только подможество данных, когда как `GridSearch` берет весь набор данных"
      ]
    },
    {
      "cell_type": "code",
      "execution_count": 47,
      "metadata": {
        "id": "mrhUjgY7c-P-"
      },
      "outputs": [
        {
          "name": "stdout",
          "output_type": "stream",
          "text": [
            "n_iterations: 6\n",
            "n_required_iterations: 7\n",
            "n_possible_iterations: 6\n",
            "min_resources_: 8\n",
            "max_resources_: 4179\n",
            "aggressive_elimination: False\n",
            "factor: 3\n",
            "----------\n",
            "iter: 0\n",
            "n_candidates: 1600\n",
            "n_resources: 8\n",
            "Fitting 2 folds for each of 1600 candidates, totalling 3200 fits\n"
          ]
        },
        {
          "name": "stderr",
          "output_type": "stream",
          "text": [
            "/Users/nikitav/Library/Python/3.9/lib/python/site-packages/sklearn/model_selection/_validation.py:378: FitFailedWarning: \n",
            "1760 fits failed out of a total of 3200.\n",
            "The score on these train-test partitions for these parameters will be set to nan.\n",
            "If these failures are not expected, you can try to debug them by setting error_score='raise'.\n",
            "\n",
            "Below are more details about the failures:\n",
            "--------------------------------------------------------------------------------\n",
            "160 fits failed with the following error:\n",
            "Traceback (most recent call last):\n",
            "  File \"/Users/nikitav/Library/Python/3.9/lib/python/site-packages/sklearn/model_selection/_validation.py\", line 686, in _fit_and_score\n",
            "    estimator.fit(X_train, y_train, **fit_params)\n",
            "  File \"/Users/nikitav/Library/Python/3.9/lib/python/site-packages/sklearn/pipeline.py\", line 401, in fit\n",
            "    Xt = self._fit(X, y, **fit_params_steps)\n",
            "  File \"/Users/nikitav/Library/Python/3.9/lib/python/site-packages/sklearn/pipeline.py\", line 359, in _fit\n",
            "    X, fitted_transformer = fit_transform_one_cached(\n",
            "  File \"/Users/nikitav/Library/Python/3.9/lib/python/site-packages/joblib/memory.py\", line 349, in __call__\n",
            "    return self.func(*args, **kwargs)\n",
            "  File \"/Users/nikitav/Library/Python/3.9/lib/python/site-packages/sklearn/pipeline.py\", line 893, in _fit_transform_one\n",
            "    res = transformer.fit_transform(X, y, **fit_params)\n",
            "  File \"/Users/nikitav/Library/Python/3.9/lib/python/site-packages/sklearn/feature_extraction/text.py\", line 1400, in fit_transform\n",
            "    X, self.stop_words_ = self._limit_features(\n",
            "  File \"/Users/nikitav/Library/Python/3.9/lib/python/site-packages/sklearn/feature_extraction/text.py\", line 1252, in _limit_features\n",
            "    raise ValueError(\n",
            "ValueError: After pruning, no terms remain. Try a lower min_df or a higher max_df.\n",
            "\n",
            "--------------------------------------------------------------------------------\n",
            "1600 fits failed with the following error:\n",
            "Traceback (most recent call last):\n",
            "  File \"/Users/nikitav/Library/Python/3.9/lib/python/site-packages/sklearn/model_selection/_validation.py\", line 686, in _fit_and_score\n",
            "    estimator.fit(X_train, y_train, **fit_params)\n",
            "  File \"/Users/nikitav/Library/Python/3.9/lib/python/site-packages/sklearn/pipeline.py\", line 405, in fit\n",
            "    self._final_estimator.fit(Xt, y, **fit_params_last_step)\n",
            "  File \"/Users/nikitav/Library/Python/3.9/lib/python/site-packages/sklearn/linear_model/_logistic.py\", line 1241, in fit\n",
            "    raise ValueError(\n",
            "ValueError: This solver needs samples of at least 2 classes in the data, but the data contains only one class: 0\n",
            "\n",
            "  warnings.warn(some_fits_failed_message, FitFailedWarning)\n",
            "/Users/nikitav/Library/Python/3.9/lib/python/site-packages/sklearn/model_selection/_search.py:952: UserWarning: One or more of the test scores are non-finite: [nan nan nan ... nan nan nan]\n",
            "  warnings.warn(\n",
            "/Users/nikitav/Library/Python/3.9/lib/python/site-packages/sklearn/model_selection/_search.py:952: UserWarning: One or more of the train scores are non-finite: [nan nan nan ... nan nan nan]\n",
            "  warnings.warn(\n"
          ]
        },
        {
          "name": "stdout",
          "output_type": "stream",
          "text": [
            "----------\n",
            "iter: 1\n",
            "n_candidates: 534\n",
            "n_resources: 24\n",
            "Fitting 2 folds for each of 534 candidates, totalling 1068 fits\n"
          ]
        },
        {
          "name": "stderr",
          "output_type": "stream",
          "text": [
            "/Users/nikitav/Library/Python/3.9/lib/python/site-packages/sklearn/model_selection/_search.py:952: UserWarning: One or more of the test scores are non-finite: [  nan   nan   nan ... 0.875 0.875 0.875]\n",
            "  warnings.warn(\n",
            "/Users/nikitav/Library/Python/3.9/lib/python/site-packages/sklearn/model_selection/_search.py:952: UserWarning: One or more of the train scores are non-finite: [       nan        nan        nan ... 0.86742424 0.86742424 0.86742424]\n",
            "  warnings.warn(\n"
          ]
        },
        {
          "name": "stdout",
          "output_type": "stream",
          "text": [
            "----------\n",
            "iter: 2\n",
            "n_candidates: 178\n",
            "n_resources: 72\n",
            "Fitting 2 folds for each of 178 candidates, totalling 356 fits\n"
          ]
        },
        {
          "name": "stderr",
          "output_type": "stream",
          "text": [
            "/Users/nikitav/Library/Python/3.9/lib/python/site-packages/sklearn/model_selection/_search.py:952: UserWarning: One or more of the test scores are non-finite: [       nan        nan        nan ... 0.81706349 0.81706349 0.81706349]\n",
            "  warnings.warn(\n",
            "/Users/nikitav/Library/Python/3.9/lib/python/site-packages/sklearn/model_selection/_search.py:952: UserWarning: One or more of the train scores are non-finite: [       nan        nan        nan ... 0.81746032 0.81746032 0.81746032]\n",
            "  warnings.warn(\n"
          ]
        },
        {
          "name": "stdout",
          "output_type": "stream",
          "text": [
            "----------\n",
            "iter: 3\n",
            "n_candidates: 60\n",
            "n_resources: 216\n",
            "Fitting 2 folds for each of 60 candidates, totalling 120 fits\n"
          ]
        },
        {
          "name": "stderr",
          "output_type": "stream",
          "text": [
            "/Users/nikitav/Library/Python/3.9/lib/python/site-packages/sklearn/model_selection/_search.py:952: UserWarning: One or more of the test scores are non-finite: [       nan        nan        nan ... 0.87452406 0.87452406 0.87452406]\n",
            "  warnings.warn(\n",
            "/Users/nikitav/Library/Python/3.9/lib/python/site-packages/sklearn/model_selection/_search.py:952: UserWarning: One or more of the train scores are non-finite: [       nan        nan        nan ... 0.87898062 0.87898062 0.87898062]\n",
            "  warnings.warn(\n"
          ]
        },
        {
          "name": "stdout",
          "output_type": "stream",
          "text": [
            "----------\n",
            "iter: 4\n",
            "n_candidates: 20\n",
            "n_resources: 648\n",
            "Fitting 2 folds for each of 20 candidates, totalling 40 fits\n"
          ]
        },
        {
          "name": "stderr",
          "output_type": "stream",
          "text": [
            "/Users/nikitav/Library/Python/3.9/lib/python/site-packages/sklearn/model_selection/_search.py:952: UserWarning: One or more of the test scores are non-finite: [       nan        nan        nan ... 0.88253927 0.88253927 0.89490406]\n",
            "  warnings.warn(\n",
            "/Users/nikitav/Library/Python/3.9/lib/python/site-packages/sklearn/model_selection/_search.py:952: UserWarning: One or more of the train scores are non-finite: [       nan        nan        nan ... 0.86398731 0.86398731 0.88407293]\n",
            "  warnings.warn(\n",
            "/Users/nikitav/Library/Python/3.9/lib/python/site-packages/sklearn/model_selection/_search.py:952: UserWarning: One or more of the test scores are non-finite: [      nan       nan       nan ... 0.8667028 0.8667028 0.9511052]\n",
            "  warnings.warn(\n",
            "/Users/nikitav/Library/Python/3.9/lib/python/site-packages/sklearn/model_selection/_search.py:952: UserWarning: One or more of the train scores are non-finite: [       nan        nan        nan ... 0.8589841  0.8589841  0.94647345]\n",
            "  warnings.warn(\n"
          ]
        },
        {
          "name": "stdout",
          "output_type": "stream",
          "text": [
            "----------\n",
            "iter: 5\n",
            "n_candidates: 7\n",
            "n_resources: 1944\n",
            "Fitting 2 folds for each of 7 candidates, totalling 14 fits\n",
            "CPU times: user 4.68 s, sys: 377 ms, total: 5.06 s\n",
            "Wall time: 8.14 s\n"
          ]
        },
        {
          "data": {
            "text/html": [
              "<style>#sk-container-id-2 {color: black;background-color: white;}#sk-container-id-2 pre{padding: 0;}#sk-container-id-2 div.sk-toggleable {background-color: white;}#sk-container-id-2 label.sk-toggleable__label {cursor: pointer;display: block;width: 100%;margin-bottom: 0;padding: 0.3em;box-sizing: border-box;text-align: center;}#sk-container-id-2 label.sk-toggleable__label-arrow:before {content: \"▸\";float: left;margin-right: 0.25em;color: #696969;}#sk-container-id-2 label.sk-toggleable__label-arrow:hover:before {color: black;}#sk-container-id-2 div.sk-estimator:hover label.sk-toggleable__label-arrow:before {color: black;}#sk-container-id-2 div.sk-toggleable__content {max-height: 0;max-width: 0;overflow: hidden;text-align: left;background-color: #f0f8ff;}#sk-container-id-2 div.sk-toggleable__content pre {margin: 0.2em;color: black;border-radius: 0.25em;background-color: #f0f8ff;}#sk-container-id-2 input.sk-toggleable__control:checked~div.sk-toggleable__content {max-height: 200px;max-width: 100%;overflow: auto;}#sk-container-id-2 input.sk-toggleable__control:checked~label.sk-toggleable__label-arrow:before {content: \"▾\";}#sk-container-id-2 div.sk-estimator input.sk-toggleable__control:checked~label.sk-toggleable__label {background-color: #d4ebff;}#sk-container-id-2 div.sk-label input.sk-toggleable__control:checked~label.sk-toggleable__label {background-color: #d4ebff;}#sk-container-id-2 input.sk-hidden--visually {border: 0;clip: rect(1px 1px 1px 1px);clip: rect(1px, 1px, 1px, 1px);height: 1px;margin: -1px;overflow: hidden;padding: 0;position: absolute;width: 1px;}#sk-container-id-2 div.sk-estimator {font-family: monospace;background-color: #f0f8ff;border: 1px dotted black;border-radius: 0.25em;box-sizing: border-box;margin-bottom: 0.5em;}#sk-container-id-2 div.sk-estimator:hover {background-color: #d4ebff;}#sk-container-id-2 div.sk-parallel-item::after {content: \"\";width: 100%;border-bottom: 1px solid gray;flex-grow: 1;}#sk-container-id-2 div.sk-label:hover label.sk-toggleable__label {background-color: #d4ebff;}#sk-container-id-2 div.sk-serial::before {content: \"\";position: absolute;border-left: 1px solid gray;box-sizing: border-box;top: 0;bottom: 0;left: 50%;z-index: 0;}#sk-container-id-2 div.sk-serial {display: flex;flex-direction: column;align-items: center;background-color: white;padding-right: 0.2em;padding-left: 0.2em;position: relative;}#sk-container-id-2 div.sk-item {position: relative;z-index: 1;}#sk-container-id-2 div.sk-parallel {display: flex;align-items: stretch;justify-content: center;background-color: white;position: relative;}#sk-container-id-2 div.sk-item::before, #sk-container-id-2 div.sk-parallel-item::before {content: \"\";position: absolute;border-left: 1px solid gray;box-sizing: border-box;top: 0;bottom: 0;left: 50%;z-index: -1;}#sk-container-id-2 div.sk-parallel-item {display: flex;flex-direction: column;z-index: 1;position: relative;background-color: white;}#sk-container-id-2 div.sk-parallel-item:first-child::after {align-self: flex-end;width: 50%;}#sk-container-id-2 div.sk-parallel-item:last-child::after {align-self: flex-start;width: 50%;}#sk-container-id-2 div.sk-parallel-item:only-child::after {width: 0;}#sk-container-id-2 div.sk-dashed-wrapped {border: 1px dashed gray;margin: 0 0.4em 0.5em 0.4em;box-sizing: border-box;padding-bottom: 0.4em;background-color: white;}#sk-container-id-2 div.sk-label label {font-family: monospace;font-weight: bold;display: inline-block;line-height: 1.2em;}#sk-container-id-2 div.sk-label-container {text-align: center;}#sk-container-id-2 div.sk-container {/* jupyter's `normalize.less` sets `[hidden] { display: none; }` but bootstrap.min.css set `[hidden] { display: none !important; }` so we also need the `!important` here to be able to override the default hidden behavior on the sphinx rendered scikit-learn.org. See: https://github.com/scikit-learn/scikit-learn/issues/21755 */display: inline-block !important;position: relative;}#sk-container-id-2 div.sk-text-repr-fallback {display: none;}</style><div id=\"sk-container-id-2\" class=\"sk-top-container\"><div class=\"sk-text-repr-fallback\"><pre>HalvingGridSearchCV(cv=2,\n",
              "                    estimator=Pipeline(steps=[(&#x27;counter&#x27;, CountVectorizer()),\n",
              "                                              (&#x27;tfidf&#x27;, TfidfTransformer()),\n",
              "                                              (&#x27;clf&#x27;, LogisticRegression())]),\n",
              "                    n_jobs=-1,\n",
              "                    param_grid={&#x27;clf__C&#x27;: array([0.1, 0.2, 0.3, 0.4, 0.5, 0.6, 0.7, 0.8, 0.9, 1. ]),\n",
              "                                &#x27;counter__max_df&#x27;: array([0.3       , 0.34444444, 0.38888889, 0.43333333, 0.47777778,\n",
              "       0.52222222, 0.56666667, 0.61111111, 0.65555556, 0.7       ]),\n",
              "                                &#x27;counter__min_df&#x27;: [0.0, 0.001, 0.003, 0.005],\n",
              "                                &#x27;counter__ngram_range&#x27;: ((1, 1), (1, 2)),\n",
              "                                &#x27;tfidf__norm&#x27;: (&#x27;l1&#x27;, &#x27;l2&#x27;)},\n",
              "                    scoring=&#x27;accuracy&#x27;, verbose=1)</pre><b>In a Jupyter environment, please rerun this cell to show the HTML representation or trust the notebook. <br />On GitHub, the HTML representation is unable to render, please try loading this page with nbviewer.org.</b></div><div class=\"sk-container\" hidden><div class=\"sk-item sk-dashed-wrapped\"><div class=\"sk-label-container\"><div class=\"sk-label sk-toggleable\"><input class=\"sk-toggleable__control sk-hidden--visually\" id=\"sk-estimator-id-6\" type=\"checkbox\" ><label for=\"sk-estimator-id-6\" class=\"sk-toggleable__label sk-toggleable__label-arrow\">HalvingGridSearchCV</label><div class=\"sk-toggleable__content\"><pre>HalvingGridSearchCV(cv=2,\n",
              "                    estimator=Pipeline(steps=[(&#x27;counter&#x27;, CountVectorizer()),\n",
              "                                              (&#x27;tfidf&#x27;, TfidfTransformer()),\n",
              "                                              (&#x27;clf&#x27;, LogisticRegression())]),\n",
              "                    n_jobs=-1,\n",
              "                    param_grid={&#x27;clf__C&#x27;: array([0.1, 0.2, 0.3, 0.4, 0.5, 0.6, 0.7, 0.8, 0.9, 1. ]),\n",
              "                                &#x27;counter__max_df&#x27;: array([0.3       , 0.34444444, 0.38888889, 0.43333333, 0.47777778,\n",
              "       0.52222222, 0.56666667, 0.61111111, 0.65555556, 0.7       ]),\n",
              "                                &#x27;counter__min_df&#x27;: [0.0, 0.001, 0.003, 0.005],\n",
              "                                &#x27;counter__ngram_range&#x27;: ((1, 1), (1, 2)),\n",
              "                                &#x27;tfidf__norm&#x27;: (&#x27;l1&#x27;, &#x27;l2&#x27;)},\n",
              "                    scoring=&#x27;accuracy&#x27;, verbose=1)</pre></div></div></div><div class=\"sk-parallel\"><div class=\"sk-parallel-item\"><div class=\"sk-item\"><div class=\"sk-label-container\"><div class=\"sk-label sk-toggleable\"><input class=\"sk-toggleable__control sk-hidden--visually\" id=\"sk-estimator-id-7\" type=\"checkbox\" ><label for=\"sk-estimator-id-7\" class=\"sk-toggleable__label sk-toggleable__label-arrow\">estimator: Pipeline</label><div class=\"sk-toggleable__content\"><pre>Pipeline(steps=[(&#x27;counter&#x27;, CountVectorizer()), (&#x27;tfidf&#x27;, TfidfTransformer()),\n",
              "                (&#x27;clf&#x27;, LogisticRegression())])</pre></div></div></div><div class=\"sk-serial\"><div class=\"sk-item\"><div class=\"sk-serial\"><div class=\"sk-item\"><div class=\"sk-estimator sk-toggleable\"><input class=\"sk-toggleable__control sk-hidden--visually\" id=\"sk-estimator-id-8\" type=\"checkbox\" ><label for=\"sk-estimator-id-8\" class=\"sk-toggleable__label sk-toggleable__label-arrow\">CountVectorizer</label><div class=\"sk-toggleable__content\"><pre>CountVectorizer()</pre></div></div></div><div class=\"sk-item\"><div class=\"sk-estimator sk-toggleable\"><input class=\"sk-toggleable__control sk-hidden--visually\" id=\"sk-estimator-id-9\" type=\"checkbox\" ><label for=\"sk-estimator-id-9\" class=\"sk-toggleable__label sk-toggleable__label-arrow\">TfidfTransformer</label><div class=\"sk-toggleable__content\"><pre>TfidfTransformer()</pre></div></div></div><div class=\"sk-item\"><div class=\"sk-estimator sk-toggleable\"><input class=\"sk-toggleable__control sk-hidden--visually\" id=\"sk-estimator-id-10\" type=\"checkbox\" ><label for=\"sk-estimator-id-10\" class=\"sk-toggleable__label sk-toggleable__label-arrow\">LogisticRegression</label><div class=\"sk-toggleable__content\"><pre>LogisticRegression()</pre></div></div></div></div></div></div></div></div></div></div></div></div>"
            ],
            "text/plain": [
              "HalvingGridSearchCV(cv=2,\n",
              "                    estimator=Pipeline(steps=[('counter', CountVectorizer()),\n",
              "                                              ('tfidf', TfidfTransformer()),\n",
              "                                              ('clf', LogisticRegression())]),\n",
              "                    n_jobs=-1,\n",
              "                    param_grid={'clf__C': array([0.1, 0.2, 0.3, 0.4, 0.5, 0.6, 0.7, 0.8, 0.9, 1. ]),\n",
              "                                'counter__max_df': array([0.3       , 0.34444444, 0.38888889, 0.43333333, 0.47777778,\n",
              "       0.52222222, 0.56666667, 0.61111111, 0.65555556, 0.7       ]),\n",
              "                                'counter__min_df': [0.0, 0.001, 0.003, 0.005],\n",
              "                                'counter__ngram_range': ((1, 1), (1, 2)),\n",
              "                                'tfidf__norm': ('l1', 'l2')},\n",
              "                    scoring='accuracy', verbose=1)"
            ]
          },
          "execution_count": 47,
          "metadata": {},
          "output_type": "execute_result"
        }
      ],
      "source": [
        "%%time\n",
        "\n",
        "grid_search = HalvingGridSearchCV(\n",
        "    pipe,\n",
        "    param_grid=parameter_grid,\n",
        "    n_jobs=-1, # cpu\n",
        "    verbose=1,\n",
        "    cv=2,\n",
        "    scoring='accuracy',\n",
        ")\n",
        "grid_search.fit(X_train, y_train)"
      ]
    },
    {
      "cell_type": "code",
      "execution_count": 48,
      "metadata": {
        "id": "7PxgXNvAgVop"
      },
      "outputs": [],
      "source": [
        "plt.rcParams[\"figure.figsize\"] = (12, 8)"
      ]
    },
    {
      "cell_type": "code",
      "execution_count": 49,
      "metadata": {
        "colab": {
          "base_uri": "https://localhost:8080/",
          "height": 585
        },
        "id": "X0L0Mn91fuZA",
        "outputId": "621e4fe0-9c73-4340-e856-ddb80214fd64"
      },
      "outputs": [
        {
          "data": {
            "image/png": "[encoded data removed]",
            "text/plain": [
              "<Figure size 1200x800 with 1 Axes>"
            ]
          },
          "metadata": {},
          "output_type": "display_data"
        }
      ],
      "source": [
        "results = pd.DataFrame(grid_search.cv_results_)\n",
        "results[\"params_str\"] = results.params.apply(str)\n",
        "results.drop_duplicates(subset=(\"params_str\", \"iter\"), inplace=True)\n",
        "mean_scores = results.pivot(\n",
        "    index=\"iter\", \n",
        "    columns=\"params_str\",\n",
        "     values=\"mean_test_score\",\n",
        ")\n",
        "ax = mean_scores.plot(legend=False, alpha=0.6)\n",
        "\n",
        "labels = [\n",
        "    f\"iter={i}\\nn_samples={grid_search.n_resources_[i]}\\nn_candidates={grid_search.n_candidates_[i]}\"\n",
        "    for i in range(grid_search.n_iterations_)\n",
        "]\n",
        "\n",
        "ax.set_xticks(range(grid_search.n_iterations_))\n",
        "ax.set_xticklabels(labels, rotation=45, multialignment=\"left\")\n",
        "ax.set_title(\"Scores of candidates over iterations\")\n",
        "ax.set_ylabel(\"Mean test score\", fontsize=15)\n",
        "ax.set_xlabel(\"Iterations\", fontsize=15)\n",
        "plt.tight_layout()\n",
        "plt.grid()\n",
        "plt.show()"
      ]
    },
    {
      "cell_type": "code",
      "execution_count": 50,
      "metadata": {
        "colab": {
          "base_uri": "https://localhost:8080/"
        },
        "id": "I-m49M18gYiy",
        "outputId": "7d72a7bc-4dfa-412e-bd62-f588088a5e48"
      },
      "outputs": [
        {
          "data": {
            "text/plain": [
              "0.9511051989167334"
            ]
          },
          "execution_count": 50,
          "metadata": {},
          "output_type": "execute_result"
        }
      ],
      "source": [
        "grid_search.best_score_"
      ]
    },
    {
      "attachments": {},
      "cell_type": "markdown",
      "metadata": {},
      "source": [
        "берем лучший результат "
      ]
    },
    {
      "cell_type": "code",
      "execution_count": 51,
      "metadata": {
        "colab": {
          "base_uri": "https://localhost:8080/"
        },
        "id": "SxjcldPxgczi",
        "outputId": "8a6bfb9c-51da-4dc3-a388-99f23507f986"
      },
      "outputs": [
        {
          "name": "stdout",
          "output_type": "stream",
          "text": [
            "              precision    recall  f1-score   support\n",
            "\n",
            "           0       0.97      1.00      0.98      1207\n",
            "           1       0.99      0.77      0.87       186\n",
            "\n",
            "    accuracy                           0.97      1393\n",
            "   macro avg       0.98      0.89      0.92      1393\n",
            "weighted avg       0.97      0.97      0.97      1393\n",
            "\n"
          ]
        }
      ],
      "source": [
        "preds = grid_search.best_estimator_.predict(X_test)\n",
        "print(classification_report(y_test, preds))"
      ]
    },
    {
      "cell_type": "markdown",
      "metadata": {
        "id": "CChMlHHRfu5J"
      },
      "source": [
        "#### Визуализация & Интерпретация "
      ]
    },
    {
      "attachments": {},
      "cell_type": "markdown",
      "metadata": {
        "id": "dFD9_3cBogzo"
      },
      "source": [
        "##### Altair\n",
        "\n",
        "чтобы посмотреть все ли у нас четко получилось или нет "
      ]
    },
    {
      "cell_type": "markdown",
      "metadata": {
        "id": "uLMVpTG1oSsj"
      },
      "source": [
        "[Altair](https://https://github.com/altair-viz/altair) - declarative statistical visualization library for Python"
      ]
    },
    {
      "cell_type": "code",
      "execution_count": 58,
      "metadata": {
        "id": "Z4Av11NFjPaQ"
      },
      "outputs": [
        {
          "name": "stdout",
          "output_type": "stream",
          "text": [
            "Defaulting to user installation because normal site-packages is not writeable\n",
            "Collecting altair\n",
            "  Using cached altair-4.2.2-py3-none-any.whl (813 kB)\n",
            "Requirement already satisfied: pandas>=0.18 in /Users/nikitav/Library/Python/3.9/lib/python/site-packages (from altair) (1.5.3)\n",
            "Requirement already satisfied: numpy in /Users/nikitav/Library/Python/3.9/lib/python/site-packages (from altair) (1.24.2)\n",
            "Requirement already satisfied: jinja2 in /Users/nikitav/Library/Python/3.9/lib/python/site-packages (from altair) (3.1.2)\n",
            "Requirement already satisfied: jsonschema>=3.0 in /Users/nikitav/Library/Python/3.9/lib/python/site-packages (from altair) (4.17.3)\n",
            "Requirement already satisfied: entrypoints in /Users/nikitav/Library/Python/3.9/lib/python/site-packages (from altair) (0.4)\n",
            "Collecting toolz\n",
            "  Downloading toolz-0.12.0-py3-none-any.whl (55 kB)\n",
            "\u001b[K     |████████████████████████████████| 55 kB 1.3 MB/s eta 0:00:011\n",
            "\u001b[?25hRequirement already satisfied: pyrsistent!=0.17.0,!=0.17.1,!=0.17.2,>=0.14.0 in /Users/nikitav/Library/Python/3.9/lib/python/site-packages (from jsonschema>=3.0->altair) (0.19.3)\n",
            "Requirement already satisfied: attrs>=17.4.0 in /Users/nikitav/Library/Python/3.9/lib/python/site-packages (from jsonschema>=3.0->altair) (22.2.0)\n",
            "Requirement already satisfied: pytz>=2020.1 in /Users/nikitav/Library/Python/3.9/lib/python/site-packages (from pandas>=0.18->altair) (2022.7.1)\n",
            "Requirement already satisfied: python-dateutil>=2.8.1 in /Users/nikitav/Library/Python/3.9/lib/python/site-packages (from pandas>=0.18->altair) (2.8.2)\n",
            "Requirement already satisfied: six>=1.5 in /Library/Developer/CommandLineTools/Library/Frameworks/Python3.framework/Versions/3.9/lib/python3.9/site-packages (from python-dateutil>=2.8.1->pandas>=0.18->altair) (1.15.0)\n",
            "Requirement already satisfied: MarkupSafe>=2.0 in /Users/nikitav/Library/Python/3.9/lib/python/site-packages (from jinja2->altair) (2.1.1)\n",
            "Installing collected packages: toolz, altair\n",
            "Successfully installed altair-4.2.2 toolz-0.12.0\n",
            "\u001b[33mWARNING: You are using pip version 21.2.4; however, version 23.0.1 is available.\n",
            "You should consider upgrading via the '/Library/Developer/CommandLineTools/usr/bin/python3 -m pip install --upgrade pip' command.\u001b[0m\n",
            "Note: you may need to restart the kernel to use updated packages.\n"
          ]
        }
      ],
      "source": [
        "%pip install altair"
      ]
    },
    {
      "cell_type": "code",
      "execution_count": 53,
      "metadata": {
        "id": "H0OrIO-ijv9b"
      },
      "outputs": [
        {
          "name": "stderr",
          "output_type": "stream",
          "text": [
            "/Users/nikitav/Library/Python/3.9/lib/python/site-packages/sklearn/feature_extraction/text.py:528: UserWarning: The parameter 'token_pattern' will not be used since 'tokenizer' is not None'\n",
            "  warnings.warn(\n"
          ]
        }
      ],
      "source": [
        "tfidf = TfidfVectorizer(tokenizer=custom_tokenize, max_df=0.7, min_df=0.003, )\n",
        "transformed = tfidf.fit_transform(X_train)"
      ]
    },
    {
      "cell_type": "code",
      "execution_count": 54,
      "metadata": {
        "colab": {
          "base_uri": "https://localhost:8080/",
          "height": 206
        },
        "id": "6_P_e31hjuIT",
        "outputId": "5d294d8c-05fb-48e3-807a-ecdbe8d7a126"
      },
      "outputs": [
        {
          "data": {
            "text/html": [
              "<div>\n",
              "<style scoped>\n",
              "    .dataframe tbody tr th:only-of-type {\n",
              "        vertical-align: middle;\n",
              "    }\n",
              "\n",
              "    .dataframe tbody tr th {\n",
              "        vertical-align: top;\n",
              "    }\n",
              "\n",
              "    .dataframe thead th {\n",
              "        text-align: right;\n",
              "    }\n",
              "</style>\n",
              "<table border=\"1\" class=\"dataframe\">\n",
              "  <thead>\n",
              "    <tr style=\"text-align: right;\">\n",
              "      <th></th>\n",
              "      <th>document</th>\n",
              "      <th>term</th>\n",
              "      <th>tfidf</th>\n",
              "    </tr>\n",
              "  </thead>\n",
              "  <tbody>\n",
              "    <tr>\n",
              "      <th>284</th>\n",
              "      <td>0</td>\n",
              "      <td>place</td>\n",
              "      <td>0.884920</td>\n",
              "    </tr>\n",
              "    <tr>\n",
              "      <th>213</th>\n",
              "      <td>0</td>\n",
              "      <td>lot</td>\n",
              "      <td>0.465743</td>\n",
              "    </tr>\n",
              "    <tr>\n",
              "      <th>0</th>\n",
              "      <td>0</td>\n",
              "      <td>able</td>\n",
              "      <td>0.000000</td>\n",
              "    </tr>\n",
              "    <tr>\n",
              "      <th>1</th>\n",
              "      <td>0</td>\n",
              "      <td>abt</td>\n",
              "      <td>0.000000</td>\n",
              "    </tr>\n",
              "    <tr>\n",
              "      <th>2</th>\n",
              "      <td>0</td>\n",
              "      <td>account</td>\n",
              "      <td>0.000000</td>\n",
              "    </tr>\n",
              "  </tbody>\n",
              "</table>\n",
              "</div>"
            ],
            "text/plain": [
              "     document     term     tfidf\n",
              "284         0    place  0.884920\n",
              "213         0      lot  0.465743\n",
              "0           0     able  0.000000\n",
              "1           0      abt  0.000000\n",
              "2           0  account  0.000000"
            ]
          },
          "execution_count": 54,
          "metadata": {},
          "output_type": "execute_result"
        }
      ],
      "source": [
        "tfidf_df = pd.DataFrame(transformed.toarray(), columns=tfidf.get_feature_names_out())\n",
        "tfidf_df = tfidf_df.stack().reset_index().rename(columns={0: 'tfidf', 'level_0': 'document', 'level_1': 'term', 'level_2': 'term'})\n",
        "tfidf_df = tfidf_df.sort_values(by=['document', 'tfidf'], ascending=[True, False]).groupby(['document']).head()\n",
        "tfidf_df.head()"
      ]
    },
    {
      "cell_type": "code",
      "execution_count": 55,
      "metadata": {
        "colab": {
          "base_uri": "https://localhost:8080/",
          "height": 424
        },
        "id": "aO8d4PwOmB5-",
        "outputId": "5e45810b-ef61-41bd-eaca-998284c5c218"
      },
      "outputs": [
        {
          "data": {
            "text/html": [
              "<div>\n",
              "<style scoped>\n",
              "    .dataframe tbody tr th:only-of-type {\n",
              "        vertical-align: middle;\n",
              "    }\n",
              "\n",
              "    .dataframe tbody tr th {\n",
              "        vertical-align: top;\n",
              "    }\n",
              "\n",
              "    .dataframe thead th {\n",
              "        text-align: right;\n",
              "    }\n",
              "</style>\n",
              "<table border=\"1\" class=\"dataframe\">\n",
              "  <thead>\n",
              "    <tr style=\"text-align: right;\">\n",
              "      <th></th>\n",
              "      <th>document</th>\n",
              "      <th>term</th>\n",
              "      <th>tfidf</th>\n",
              "    </tr>\n",
              "  </thead>\n",
              "  <tbody>\n",
              "    <tr>\n",
              "      <th>940677</th>\n",
              "      <td>2113</td>\n",
              "      <td>u</td>\n",
              "      <td>1.0</td>\n",
              "    </tr>\n",
              "    <tr>\n",
              "      <th>661088</th>\n",
              "      <td>1485</td>\n",
              "      <td>ok</td>\n",
              "      <td>1.0</td>\n",
              "    </tr>\n",
              "    <tr>\n",
              "      <th>102372</th>\n",
              "      <td>230</td>\n",
              "      <td>b</td>\n",
              "      <td>1.0</td>\n",
              "    </tr>\n",
              "    <tr>\n",
              "      <th>1778160</th>\n",
              "      <td>3995</td>\n",
              "      <td>touch</td>\n",
              "      <td>1.0</td>\n",
              "    </tr>\n",
              "    <tr>\n",
              "      <th>103161</th>\n",
              "      <td>231</td>\n",
              "      <td>tell</td>\n",
              "      <td>1.0</td>\n",
              "    </tr>\n",
              "    <tr>\n",
              "      <th>...</th>\n",
              "      <td>...</td>\n",
              "      <td>...</td>\n",
              "      <td>...</td>\n",
              "    </tr>\n",
              "    <tr>\n",
              "      <th>559804</th>\n",
              "      <td>1257</td>\n",
              "      <td>yeah</td>\n",
              "      <td>1.0</td>\n",
              "    </tr>\n",
              "    <tr>\n",
              "      <th>1415357</th>\n",
              "      <td>3180</td>\n",
              "      <td>not</td>\n",
              "      <td>1.0</td>\n",
              "    </tr>\n",
              "    <tr>\n",
              "      <th>1100642</th>\n",
              "      <td>2473</td>\n",
              "      <td>happen</td>\n",
              "      <td>1.0</td>\n",
              "    </tr>\n",
              "    <tr>\n",
              "      <th>1391220</th>\n",
              "      <td>3126</td>\n",
              "      <td>guess</td>\n",
              "      <td>1.0</td>\n",
              "    </tr>\n",
              "    <tr>\n",
              "      <th>1386930</th>\n",
              "      <td>3116</td>\n",
              "      <td>ready</td>\n",
              "      <td>1.0</td>\n",
              "    </tr>\n",
              "  </tbody>\n",
              "</table>\n",
              "<p>100 rows × 3 columns</p>\n",
              "</div>"
            ],
            "text/plain": [
              "         document    term  tfidf\n",
              "940677       2113       u    1.0\n",
              "661088       1485      ok    1.0\n",
              "102372        230       b    1.0\n",
              "1778160      3995   touch    1.0\n",
              "103161        231    tell    1.0\n",
              "...           ...     ...    ...\n",
              "559804       1257    yeah    1.0\n",
              "1415357      3180     not    1.0\n",
              "1100642      2473  happen    1.0\n",
              "1391220      3126   guess    1.0\n",
              "1386930      3116   ready    1.0\n",
              "\n",
              "[100 rows x 3 columns]"
            ]
          },
          "execution_count": 55,
          "metadata": {},
          "output_type": "execute_result"
        }
      ],
      "source": [
        "tfidf_df.sort_values(by='tfidf', ascending=False).head(100)"
      ]
    },
    {
      "cell_type": "code",
      "execution_count": 56,
      "metadata": {
        "colab": {
          "base_uri": "https://localhost:8080/",
          "height": 424
        },
        "id": "--5SWLhtnUKa",
        "outputId": "7ca9aa3e-545a-4284-b916-900585d54182"
      },
      "outputs": [
        {
          "data": {
            "text/html": [
              "<div>\n",
              "<style scoped>\n",
              "    .dataframe tbody tr th:only-of-type {\n",
              "        vertical-align: middle;\n",
              "    }\n",
              "\n",
              "    .dataframe tbody tr th {\n",
              "        vertical-align: top;\n",
              "    }\n",
              "\n",
              "    .dataframe thead th {\n",
              "        text-align: right;\n",
              "    }\n",
              "</style>\n",
              "<table border=\"1\" class=\"dataframe\">\n",
              "  <thead>\n",
              "    <tr style=\"text-align: right;\">\n",
              "      <th></th>\n",
              "      <th>document</th>\n",
              "      <th>term</th>\n",
              "      <th>tfidf</th>\n",
              "    </tr>\n",
              "  </thead>\n",
              "  <tbody>\n",
              "    <tr>\n",
              "      <th>9340</th>\n",
              "      <td>20</td>\n",
              "      <td>year</td>\n",
              "      <td>0.576344</td>\n",
              "    </tr>\n",
              "    <tr>\n",
              "      <th>9058</th>\n",
              "      <td>20</td>\n",
              "      <td>happy</td>\n",
              "      <td>0.560810</td>\n",
              "    </tr>\n",
              "    <tr>\n",
              "      <th>9149</th>\n",
              "      <td>20</td>\n",
              "      <td>new</td>\n",
              "      <td>0.506715</td>\n",
              "    </tr>\n",
              "    <tr>\n",
              "      <th>9292</th>\n",
              "      <td>20</td>\n",
              "      <td>u</td>\n",
              "      <td>0.310741</td>\n",
              "    </tr>\n",
              "    <tr>\n",
              "      <th>8900</th>\n",
              "      <td>20</td>\n",
              "      <td>able</td>\n",
              "      <td>0.000000</td>\n",
              "    </tr>\n",
              "    <tr>\n",
              "      <th>...</th>\n",
              "      <td>...</td>\n",
              "      <td>...</td>\n",
              "      <td>...</td>\n",
              "    </tr>\n",
              "    <tr>\n",
              "      <th>17686</th>\n",
              "      <td>39</td>\n",
              "      <td>send</td>\n",
              "      <td>0.757523</td>\n",
              "    </tr>\n",
              "    <tr>\n",
              "      <th>17639</th>\n",
              "      <td>39</td>\n",
              "      <td>place</td>\n",
              "      <td>0.341287</td>\n",
              "    </tr>\n",
              "    <tr>\n",
              "      <th>17593</th>\n",
              "      <td>39</td>\n",
              "      <td>money</td>\n",
              "      <td>0.340000</td>\n",
              "    </tr>\n",
              "    <tr>\n",
              "      <th>17723</th>\n",
              "      <td>39</td>\n",
              "      <td>text</td>\n",
              "      <td>0.268107</td>\n",
              "    </tr>\n",
              "    <tr>\n",
              "      <th>17545</th>\n",
              "      <td>39</td>\n",
              "      <td>know</td>\n",
              "      <td>0.251883</td>\n",
              "    </tr>\n",
              "  </tbody>\n",
              "</table>\n",
              "<p>100 rows × 3 columns</p>\n",
              "</div>"
            ],
            "text/plain": [
              "       document   term     tfidf\n",
              "9340         20   year  0.576344\n",
              "9058         20  happy  0.560810\n",
              "9149         20    new  0.506715\n",
              "9292         20      u  0.310741\n",
              "8900         20   able  0.000000\n",
              "...         ...    ...       ...\n",
              "17686        39   send  0.757523\n",
              "17639        39  place  0.341287\n",
              "17593        39  money  0.340000\n",
              "17723        39   text  0.268107\n",
              "17545        39   know  0.251883\n",
              "\n",
              "[100 rows x 3 columns]"
            ]
          },
          "execution_count": 56,
          "metadata": {},
          "output_type": "execute_result"
        }
      ],
      "source": [
        "tfidf_df.iloc[100:200]"
      ]
    },
    {
      "cell_type": "code",
      "execution_count": 59,
      "metadata": {
        "id": "4YpLedc2oHvC"
      },
      "outputs": [],
      "source": [
        "import altair as alt"
      ]
    },
    {
      "cell_type": "code",
      "execution_count": 60,
      "metadata": {
        "colab": {
          "base_uri": "https://localhost:8080/",
          "height": 599
        },
        "id": "AnMPZSyLjPWg",
        "outputId": "5122b5de-46d8-4942-a5fe-92b2b04b0b97"
      },
      "outputs": [
        {
          "data": {
            "text/html": [
              "\n",
              "<div id=\"altair-viz-42e8efbfcb62486a802849cea62460b6\"></div>\n",
              "<script type=\"text/javascript\">\n",
              "  var VEGA_DEBUG = (typeof VEGA_DEBUG == \"undefined\") ? {} : VEGA_DEBUG;\n",
              "  (function(spec, embedOpt){\n",
              "    let outputDiv = document.currentScript.previousElementSibling;\n",
              "    if (outputDiv.id !== \"altair-viz-42e8efbfcb62486a802849cea62460b6\") {\n",
              "      outputDiv = document.getElementById(\"altair-viz-42e8efbfcb62486a802849cea62460b6\");\n",
              "    }\n",
              "    const paths = {\n",
              "      \"vega\": \"https://cdn.jsdelivr.net/npm//vega@5?noext\",\n",
              "      \"vega-lib\": \"https://cdn.jsdelivr.net/npm//vega-lib?noext\",\n",
              "      \"vega-lite\": \"https://cdn.jsdelivr.net/npm//vega-lite@4.17.0?noext\",\n",
              "      \"vega-embed\": \"https://cdn.jsdelivr.net/npm//vega-embed@6?noext\",\n",
              "    };\n",
              "\n",
              "    function maybeLoadScript(lib, version) {\n",
              "      var key = `${lib.replace(\"-\", \"\")}_version`;\n",
              "      return (VEGA_DEBUG[key] == version) ?\n",
              "        Promise.resolve(paths[lib]) :\n",
              "        new Promise(function(resolve, reject) {\n",
              "          var s = document.createElement('script');\n",
              "          document.getElementsByTagName(\"head\")[0].appendChild(s);\n",
              "          s.async = true;\n",
              "          s.onload = () => {\n",
              "            VEGA_DEBUG[key] = version;\n",
              "            return resolve(paths[lib]);\n",
              "          };\n",
              "          s.onerror = () => reject(`Error loading script: ${paths[lib]}`);\n",
              "          s.src = paths[lib];\n",
              "        });\n",
              "    }\n",
              "\n",
              "    function showError(err) {\n",
              "      outputDiv.innerHTML = `<div class=\"error\" style=\"color:red;\">${err}</div>`;\n",
              "      throw err;\n",
              "    }\n",
              "\n",
              "    function displayChart(vegaEmbed) {\n",
              "      vegaEmbed(outputDiv, spec, embedOpt)\n",
              "        .catch(err => showError(`Javascript Error: ${err.message}<br>This usually means there's a typo in your chart specification. See the javascript console for the full traceback.`));\n",
              "    }\n",
              "\n",
              "    if(typeof define === \"function\" && define.amd) {\n",
              "      requirejs.config({paths});\n",
              "      require([\"vega-embed\"], displayChart, err => showError(`Error loading script: ${err.message}`));\n",
              "    } else {\n",
              "      maybeLoadScript(\"vega\", \"5\")\n",
              "        .then(() => maybeLoadScript(\"vega-lite\", \"4.17.0\"))\n",
              "        .then(() => maybeLoadScript(\"vega-embed\", \"6\"))\n",
              "        .catch(showError)\n",
              "        .then(() => displayChart(vegaEmbed));\n",
              "    }\n",
              "  })({\"config\": {\"view\": {\"continuousWidth\": 400, \"continuousHeight\": 300}}, \"layer\": [{\"mark\": \"rect\", \"encoding\": {\"color\": {\"field\": \"tfidf\", \"type\": \"quantitative\"}, \"x\": {\"field\": \"rank\", \"type\": \"ordinal\"}, \"y\": {\"field\": \"document\", \"type\": \"nominal\"}}, \"transform\": [{\"window\": [{\"op\": \"rank\", \"field\": \"\", \"as\": \"rank\"}], \"groupby\": [\"document\"], \"sort\": [{\"field\": \"tfidf\", \"order\": \"descending\"}]}]}, {\"mark\": {\"type\": \"circle\", \"size\": 100}, \"encoding\": {\"color\": {\"condition\": {\"value\": \"red\", \"test\": {\"field\": \"term\", \"oneOf\": [\"free\", \"money\"]}}, \"value\": \"#FFFFFF00\"}, \"x\": {\"field\": \"rank\", \"type\": \"ordinal\"}, \"y\": {\"field\": \"document\", \"type\": \"nominal\"}}, \"transform\": [{\"window\": [{\"op\": \"rank\", \"field\": \"\", \"as\": \"rank\"}], \"groupby\": [\"document\"], \"sort\": [{\"field\": \"tfidf\", \"order\": \"descending\"}]}]}, {\"mark\": {\"type\": \"text\", \"baseline\": \"middle\"}, \"encoding\": {\"color\": {\"condition\": {\"value\": \"white\", \"test\": \"(datum.tfidf >= 0.23)\"}, \"value\": \"black\"}, \"text\": {\"field\": \"term\", \"type\": \"nominal\"}, \"x\": {\"field\": \"rank\", \"type\": \"ordinal\"}, \"y\": {\"field\": \"document\", \"type\": \"nominal\"}}, \"transform\": [{\"window\": [{\"op\": \"rank\", \"field\": \"\", \"as\": \"rank\"}], \"groupby\": [\"document\"], \"sort\": [{\"field\": \"tfidf\", \"order\": \"descending\"}]}]}], \"data\": {\"name\": \"data-fdb0f757dd77fdfef3b0210ba7d1cba2\"}, \"width\": 600, \"$schema\": \"https://vega.github.io/schema/vega-lite/v4.17.0.json\", \"datasets\": {\"data-fdb0f757dd77fdfef3b0210ba7d1cba2\": [{\"document\": 80, \"term\": \"go\", \"tfidf\": 0.44642510844145744}, {\"document\": 81, \"term\": \"txt\", \"tfidf\": 0.6582092250665534}, {\"document\": 81, \"term\": \"wife\", \"tfidf\": 0.3270633396187637}, {\"document\": 81, \"term\": \"away\", \"tfidf\": 0.30499623093054135}, {\"document\": 81, \"term\": \"real\", \"tfidf\": 0.29150881073171314}, {\"document\": 81, \"term\": \"man\", \"tfidf\": 0.27342618320200174}, {\"document\": 82, \"term\": \"far\", \"tfidf\": 0.4830874202114918}, {\"document\": 82, \"term\": \"ready\", \"tfidf\": 0.42812701325932184}, {\"document\": 82, \"term\": \"problem\", \"tfidf\": 0.41701070455397854}, {\"document\": 82, \"term\": \"end\", \"tfidf\": 0.3884613764272959}, {\"document\": 82, \"term\": \"sure\", \"tfidf\": 0.3818408343698598}, {\"document\": 83, \"term\": \"frnd\", \"tfidf\": 0.5916676580037897}, {\"document\": 83, \"term\": \"abt\", \"tfidf\": 0.4041064313381628}, {\"document\": 83, \"term\": \"u\", \"tfidf\": 0.36537006593531646}, {\"document\": 83, \"term\": \"ur\", \"tfidf\": 0.24525285461931096}, {\"document\": 83, \"term\": \"goodmorning\", \"tfidf\": 0.20992872625205472}, {\"document\": 84, \"term\": \"receive\", \"tfidf\": 0.7123925019422694}, {\"document\": 84, \"term\": \"check\", \"tfidf\": 0.7017812502314618}, {\"document\": 85, \"term\": \"not\", \"tfidf\": 1.0}, {\"document\": 86, \"term\": \"drink\", \"tfidf\": 0.5507782963227497}, {\"document\": 86, \"term\": \"night\", \"tfidf\": 0.41550617188271277}, {\"document\": 86, \"term\": \"work\", \"tfidf\": 0.39422690103854585}, {\"document\": 86, \"term\": \"need\", \"tfidf\": 0.371052554283053}, {\"document\": 86, \"term\": \"know\", \"tfidf\": 0.3416309435032052}, {\"document\": 87, \"term\": \"hello\", \"tfidf\": 0.51735226316687}, {\"document\": 87, \"term\": \"sorry\", \"tfidf\": 0.41364625224197826}, {\"document\": 87, \"term\": \"bday\", \"tfidf\": 0.2981695536506916}, {\"document\": 87, \"term\": \"long\", \"tfidf\": 0.25491252447245905}, {\"document\": 87, \"term\": \"take\", \"tfidf\": 0.24720028669494423}, {\"document\": 88, \"term\": \"meeting\", \"tfidf\": 0.8014445561122558}, {\"document\": 88, \"term\": \"later\", \"tfidf\": 0.5980690791856985}, {\"document\": 89, \"term\": \"place\", \"tfidf\": 0.6516471170422815}, {\"document\": 89, \"term\": \"da\", \"tfidf\": 0.5793960898536576}, {\"document\": 89, \"term\": \"want\", \"tfidf\": 0.48954693943765526}, {\"document\": 90, \"term\": \"national\", \"tfidf\": 0.31880912748270723}, {\"document\": 90, \"term\": \"bt\", \"tfidf\": 0.3084526650227725}, {\"document\": 90, \"term\": \"pound\", \"tfidf\": 0.3084526650227725}, {\"document\": 90, \"term\": \"easy\", \"tfidf\": 0.2979851924035644}, {\"document\": 90, \"term\": \"rate\", \"tfidf\": 0.2893646212172023}, {\"document\": 91, \"term\": \"princess\", \"tfidf\": 1.0}, {\"document\": 92, \"term\": \"dude\", \"tfidf\": 0.6118770719095026}, {\"document\": 92, \"term\": \"car\", \"tfidf\": 0.5606846800181736}, {\"document\": 92, \"term\": \"see\", \"tfidf\": 0.5578881056846182}, {\"document\": 93, \"term\": \"make\", \"tfidf\": 0.4627193497380857}, {\"document\": 93, \"term\": \"guy\", \"tfidf\": 0.4374455494870639}, {\"document\": 93, \"term\": \"to\", \"tfidf\": 0.4265525773367287}, {\"document\": 93, \"term\": \"pick\", \"tfidf\": 0.40389748910338125}, {\"document\": 93, \"term\": \"k\", \"tfidf\": 0.3907835735261445}, {\"document\": 94, \"term\": \"yes\", \"tfidf\": 0.542191487017723}, {\"document\": 94, \"term\": \"great\", \"tfidf\": 0.531665435693636}, {\"document\": 94, \"term\": \"tell\", \"tfidf\": 0.47442765592762765}, {\"document\": 94, \"term\": \"good\", \"tfidf\": 0.4452849146167237}, {\"document\": 95, \"term\": \"pa\", \"tfidf\": 0.8235918451835522}, {\"document\": 95, \"term\": \"free\", \"tfidf\": 0.5671829268826343}, {\"document\": 96, \"term\": \"add\", \"tfidf\": 0.5982407000655137}, {\"document\": 96, \"term\": \"try\", \"tfidf\": 0.43108340680809987}, {\"document\": 96, \"term\": \"work\", \"tfidf\": 0.41578835181694784}, {\"document\": 96, \"term\": \"ltgt\", \"tfidf\": 0.3801321175103984}, {\"document\": 96, \"term\": \"time\", \"tfidf\": 0.3726859011154739}, {\"document\": 97, \"term\": \"hair\", \"tfidf\": 0.579574469696669}, {\"document\": 97, \"term\": \"get\", \"tfidf\": 0.3657461758350007}, {\"document\": 97, \"term\": \"card\", \"tfidf\": 0.30050141077550296}, {\"document\": 97, \"term\": \"tot\", \"tfidf\": 0.29223779838746106}, {\"document\": 97, \"term\": \"juz\", \"tfidf\": 0.2897872348483345}, {\"document\": 98, \"term\": \"kiss\", \"tfidf\": 0.5244529716572571}, {\"document\": 98, \"term\": \"post\", \"tfidf\": 0.5165716924559788}, {\"document\": 98, \"term\": \"smile\", \"tfidf\": 0.46509419336913943}, {\"document\": 98, \"term\": \"love\", \"tfidf\": 0.3612145456678484}, {\"document\": 98, \"term\": \"know\", \"tfidf\": 0.3336378431253224}, {\"document\": 99, \"term\": \"later\", \"tfidf\": 0.5796498152696593}, {\"document\": 99, \"term\": \"office\", \"tfidf\": 0.3853931510618897}, {\"document\": 99, \"term\": \"plus\", \"tfidf\": 0.3825444389272203}, {\"document\": 99, \"term\": \"mail\", \"tfidf\": 0.37231467026460807}, {\"document\": 99, \"term\": \"yes\", \"tfidf\": 0.3042596635726672}, {\"document\": 100, \"term\": \"uncle\", \"tfidf\": 0.5917380071854917}, {\"document\": 100, \"term\": \"guy\", \"tfidf\": 0.482900084260987}, {\"document\": 100, \"term\": \"wish\", \"tfidf\": 0.4810787379152628}, {\"document\": 100, \"term\": \"great\", \"tfidf\": 0.4303683159791537}, {\"document\": 101, \"term\": \"money\", \"tfidf\": 0.6165200948279768}, {\"document\": 101, \"term\": \"number\", \"tfidf\": 0.5668347337398909}, {\"document\": 101, \"term\": \"win\", \"tfidf\": 0.5464442856315085}, {\"document\": 102, \"term\": \"g\", \"tfidf\": 0.43461729066117805}, {\"document\": 102, \"term\": \"remember\", \"tfidf\": 0.4172621097965006}, {\"document\": 102, \"term\": \"problem\", \"tfidf\": 0.3993408795477616}, {\"document\": 102, \"term\": \"place\", \"tfidf\": 0.37752882083988526}, {\"document\": 102, \"term\": \"look\", \"tfidf\": 0.3632797141007885}, {\"document\": 103, \"term\": \"go\", \"tfidf\": 0.6709194674940169}, {\"document\": 103, \"term\": \"babe\", \"tfidf\": 0.45254563154389166}, {\"document\": 103, \"term\": \"hey\", \"tfidf\": 0.4204788161251126}, {\"document\": 103, \"term\": \"new\", \"tfidf\": 0.4102037112193268}, {\"document\": 104, \"term\": \"say\", \"tfidf\": 0.6380821502910743}, {\"document\": 104, \"term\": \"statement\", \"tfidf\": 0.43658381951630715}, {\"document\": 104, \"term\": \"change\", \"tfidf\": 0.39624016657706257}, {\"document\": 104, \"term\": \"talk\", \"tfidf\": 0.3562832886705563}, {\"document\": 104, \"term\": \"lol\", \"tfidf\": 0.3439501222874418}, {\"document\": 105, \"term\": \"friday\", \"tfidf\": 0.5582118128675292}, {\"document\": 105, \"term\": \"okay\", \"tfidf\": 0.5284909748692451}, {\"document\": 105, \"term\": \"see\", \"tfidf\": 0.4818595799334468}, {\"document\": 105, \"term\": \"pick\", \"tfidf\": 0.42060457282733377}, {\"document\": 106, \"term\": \"hi\", \"tfidf\": 1.0}]}}, {\"mode\": \"vega-lite\"});\n",
              "</script>"
            ],
            "text/plain": [
              "alt.LayerChart(...)"
            ]
          },
          "execution_count": 60,
          "metadata": {},
          "output_type": "execute_result"
        }
      ],
      "source": [
        "# выделяем\n",
        "term_list = ['free', 'money']\n",
        "\n",
        "top_tfidf_df = tfidf_df[tfidf_df['tfidf'] != 0]\n",
        "\n",
        "# base for all visualizations, with rank calculation\n",
        "base = alt.Chart(top_tfidf_df.iloc[300:400]).encode(\n",
        "    x = 'rank:O',\n",
        "    y = 'document:N'\n",
        ").transform_window(\n",
        "    rank = \"rank()\",\n",
        "    sort = [alt.SortField(\"tfidf\", order=\"descending\")],\n",
        "    groupby = [\"document\"],\n",
        ")\n",
        "\n",
        "heatmap = base.mark_rect().encode(\n",
        "    color = 'tfidf:Q'\n",
        ")\n",
        "\n",
        "circle = base.mark_circle(size=100).encode(\n",
        "    color = alt.condition(\n",
        "        alt.FieldOneOfPredicate(field='term', oneOf=term_list),\n",
        "        alt.value('red'),\n",
        "        alt.value('#FFFFFF00')        \n",
        "    )\n",
        ")\n",
        "\n",
        "# text labels, white for darker heatmap colors\n",
        "text = base.mark_text(baseline='middle').encode(\n",
        "    text = 'term:N',\n",
        "    color = alt.condition(alt.datum.tfidf >= 0.23, alt.value('white'), alt.value('black'))\n",
        ")\n",
        "\n",
        "# display the three superimposed visualizations\n",
        "(heatmap + circle + text).properties(width = 600) #circle"
      ]
    },
    {
      "cell_type": "markdown",
      "metadata": {
        "id": "emvJ1tfHjIlU"
      },
      "source": [
        "##### ELI5\n",
        "\n",
        "[eli5](https://eli5.readthedocs.io/en/latest/) - Python library which allows to visualize and debug various Machine Learning models using unified API. It has built-in support for several ML frameworks and provides a way to explain black-box models."
      ]
    },
    {
      "cell_type": "code",
      "execution_count": 61,
      "metadata": {
        "id": "BVhx65ndfucu"
      },
      "outputs": [
        {
          "name": "stdout",
          "output_type": "stream",
          "text": [
            "Defaulting to user installation because normal site-packages is not writeable\n",
            "Collecting eli5\n",
            "  Downloading eli5-0.13.0.tar.gz (216 kB)\n",
            "\u001b[K     |████████████████████████████████| 216 kB 1.6 MB/s eta 0:00:01\n",
            "\u001b[?25hRequirement already satisfied: attrs>17.1.0 in /Users/nikitav/Library/Python/3.9/lib/python/site-packages (from eli5) (22.2.0)\n",
            "Requirement already satisfied: jinja2>=3.0.0 in /Users/nikitav/Library/Python/3.9/lib/python/site-packages (from eli5) (3.1.2)\n",
            "Requirement already satisfied: numpy>=1.9.0 in /Users/nikitav/Library/Python/3.9/lib/python/site-packages (from eli5) (1.24.2)\n",
            "Requirement already satisfied: scipy in /Users/nikitav/Library/Python/3.9/lib/python/site-packages (from eli5) (1.10.1)\n",
            "Requirement already satisfied: six in /Library/Developer/CommandLineTools/Library/Frameworks/Python3.framework/Versions/3.9/lib/python3.9/site-packages (from eli5) (1.15.0)\n",
            "Requirement already satisfied: scikit-learn>=0.20 in /Users/nikitav/Library/Python/3.9/lib/python/site-packages (from eli5) (1.2.1)\n",
            "Collecting graphviz\n",
            "  Downloading graphviz-0.20.1-py3-none-any.whl (47 kB)\n",
            "\u001b[K     |████████████████████████████████| 47 kB 9.4 MB/s  eta 0:00:01\n",
            "\u001b[?25hCollecting tabulate>=0.7.7\n",
            "  Downloading tabulate-0.9.0-py3-none-any.whl (35 kB)\n",
            "Requirement already satisfied: MarkupSafe>=2.0 in /Users/nikitav/Library/Python/3.9/lib/python/site-packages (from jinja2>=3.0.0->eli5) (2.1.1)\n",
            "Requirement already satisfied: joblib>=1.1.1 in /Users/nikitav/Library/Python/3.9/lib/python/site-packages (from scikit-learn>=0.20->eli5) (1.2.0)\n",
            "Requirement already satisfied: threadpoolctl>=2.0.0 in /Users/nikitav/Library/Python/3.9/lib/python/site-packages (from scikit-learn>=0.20->eli5) (3.1.0)\n",
            "Building wheels for collected packages: eli5\n",
            "  Building wheel for eli5 (setup.py) ... \u001b[?25ldone\n",
            "\u001b[?25h  Created wheel for eli5: filename=eli5-0.13.0-py2.py3-none-any.whl size=107748 sha256=c91f503c97a6e023e80b317130b81523448e4ab495f3b1239c450a6bed527144\n",
            "  Stored in directory: /Users/nikitav/Library/Caches/pip/wheels/7b/26/a5/8460416695a992a2966b41caa5338e5e7fcea98c9d032d055c\n",
            "Successfully built eli5\n",
            "Installing collected packages: tabulate, graphviz, eli5\n",
            "\u001b[33m  WARNING: The script tabulate is installed in '/Users/nikitav/Library/Python/3.9/bin' which is not on PATH.\n",
            "  Consider adding this directory to PATH or, if you prefer to suppress this warning, use --no-warn-script-location.\u001b[0m\n",
            "Successfully installed eli5-0.13.0 graphviz-0.20.1 tabulate-0.9.0\n",
            "\u001b[33mWARNING: You are using pip version 21.2.4; however, version 23.0.1 is available.\n",
            "You should consider upgrading via the '/Library/Developer/CommandLineTools/usr/bin/python3 -m pip install --upgrade pip' command.\u001b[0m\n",
            "Note: you may need to restart the kernel to use updated packages.\n"
          ]
        }
      ],
      "source": [
        "%pip install eli5"
      ]
    },
    {
      "cell_type": "code",
      "execution_count": 62,
      "metadata": {
        "id": "-0sGmOQ2fugK"
      },
      "outputs": [],
      "source": [
        "import eli5"
      ]
    },
    {
      "attachments": {},
      "cell_type": "markdown",
      "metadata": {},
      "source": [
        "Интерпретируем логистическую регрессию"
      ]
    },
    {
      "cell_type": "code",
      "execution_count": 63,
      "metadata": {
        "colab": {
          "base_uri": "https://localhost:8080/"
        },
        "id": "7qpCKQ65o-jW",
        "outputId": "041c287a-0fdd-4116-e0d7-7770378e6898"
      },
      "outputs": [
        {
          "data": {
            "text/html": [
              "<style>#sk-container-id-3 {color: black;background-color: white;}#sk-container-id-3 pre{padding: 0;}#sk-container-id-3 div.sk-toggleable {background-color: white;}#sk-container-id-3 label.sk-toggleable__label {cursor: pointer;display: block;width: 100%;margin-bottom: 0;padding: 0.3em;box-sizing: border-box;text-align: center;}#sk-container-id-3 label.sk-toggleable__label-arrow:before {content: \"▸\";float: left;margin-right: 0.25em;color: #696969;}#sk-container-id-3 label.sk-toggleable__label-arrow:hover:before {color: black;}#sk-container-id-3 div.sk-estimator:hover label.sk-toggleable__label-arrow:before {color: black;}#sk-container-id-3 div.sk-toggleable__content {max-height: 0;max-width: 0;overflow: hidden;text-align: left;background-color: #f0f8ff;}#sk-container-id-3 div.sk-toggleable__content pre {margin: 0.2em;color: black;border-radius: 0.25em;background-color: #f0f8ff;}#sk-container-id-3 input.sk-toggleable__control:checked~div.sk-toggleable__content {max-height: 200px;max-width: 100%;overflow: auto;}#sk-container-id-3 input.sk-toggleable__control:checked~label.sk-toggleable__label-arrow:before {content: \"▾\";}#sk-container-id-3 div.sk-estimator input.sk-toggleable__control:checked~label.sk-toggleable__label {background-color: #d4ebff;}#sk-container-id-3 div.sk-label input.sk-toggleable__control:checked~label.sk-toggleable__label {background-color: #d4ebff;}#sk-container-id-3 input.sk-hidden--visually {border: 0;clip: rect(1px 1px 1px 1px);clip: rect(1px, 1px, 1px, 1px);height: 1px;margin: -1px;overflow: hidden;padding: 0;position: absolute;width: 1px;}#sk-container-id-3 div.sk-estimator {font-family: monospace;background-color: #f0f8ff;border: 1px dotted black;border-radius: 0.25em;box-sizing: border-box;margin-bottom: 0.5em;}#sk-container-id-3 div.sk-estimator:hover {background-color: #d4ebff;}#sk-container-id-3 div.sk-parallel-item::after {content: \"\";width: 100%;border-bottom: 1px solid gray;flex-grow: 1;}#sk-container-id-3 div.sk-label:hover label.sk-toggleable__label {background-color: #d4ebff;}#sk-container-id-3 div.sk-serial::before {content: \"\";position: absolute;border-left: 1px solid gray;box-sizing: border-box;top: 0;bottom: 0;left: 50%;z-index: 0;}#sk-container-id-3 div.sk-serial {display: flex;flex-direction: column;align-items: center;background-color: white;padding-right: 0.2em;padding-left: 0.2em;position: relative;}#sk-container-id-3 div.sk-item {position: relative;z-index: 1;}#sk-container-id-3 div.sk-parallel {display: flex;align-items: stretch;justify-content: center;background-color: white;position: relative;}#sk-container-id-3 div.sk-item::before, #sk-container-id-3 div.sk-parallel-item::before {content: \"\";position: absolute;border-left: 1px solid gray;box-sizing: border-box;top: 0;bottom: 0;left: 50%;z-index: -1;}#sk-container-id-3 div.sk-parallel-item {display: flex;flex-direction: column;z-index: 1;position: relative;background-color: white;}#sk-container-id-3 div.sk-parallel-item:first-child::after {align-self: flex-end;width: 50%;}#sk-container-id-3 div.sk-parallel-item:last-child::after {align-self: flex-start;width: 50%;}#sk-container-id-3 div.sk-parallel-item:only-child::after {width: 0;}#sk-container-id-3 div.sk-dashed-wrapped {border: 1px dashed gray;margin: 0 0.4em 0.5em 0.4em;box-sizing: border-box;padding-bottom: 0.4em;background-color: white;}#sk-container-id-3 div.sk-label label {font-family: monospace;font-weight: bold;display: inline-block;line-height: 1.2em;}#sk-container-id-3 div.sk-label-container {text-align: center;}#sk-container-id-3 div.sk-container {/* jupyter's `normalize.less` sets `[hidden] { display: none; }` but bootstrap.min.css set `[hidden] { display: none !important; }` so we also need the `!important` here to be able to override the default hidden behavior on the sphinx rendered scikit-learn.org. See: https://github.com/scikit-learn/scikit-learn/issues/21755 */display: inline-block !important;position: relative;}#sk-container-id-3 div.sk-text-repr-fallback {display: none;}</style><div id=\"sk-container-id-3\" class=\"sk-top-container\"><div class=\"sk-text-repr-fallback\"><pre>LogisticRegression()</pre><b>In a Jupyter environment, please rerun this cell to show the HTML representation or trust the notebook. <br />On GitHub, the HTML representation is unable to render, please try loading this page with nbviewer.org.</b></div><div class=\"sk-container\" hidden><div class=\"sk-item\"><div class=\"sk-estimator sk-toggleable\"><input class=\"sk-toggleable__control sk-hidden--visually\" id=\"sk-estimator-id-11\" type=\"checkbox\" checked><label for=\"sk-estimator-id-11\" class=\"sk-toggleable__label sk-toggleable__label-arrow\">LogisticRegression</label><div class=\"sk-toggleable__content\"><pre>LogisticRegression()</pre></div></div></div></div></div>"
            ],
            "text/plain": [
              "LogisticRegression()"
            ]
          },
          "execution_count": 63,
          "metadata": {},
          "output_type": "execute_result"
        }
      ],
      "source": [
        "grid_search.best_estimator_['clf']"
      ]
    },
    {
      "cell_type": "code",
      "execution_count": 64,
      "metadata": {
        "colab": {
          "base_uri": "https://localhost:8080/",
          "height": 1000
        },
        "id": "2vVkP-Tofuil",
        "outputId": "7416fb4e-c2b8-43ac-e07d-bef0c605e29e"
      },
      "outputs": [
        {
          "data": {
            "text/html": [
              "\n",
              "    <style>\n",
              "    table.eli5-weights tr:hover {\n",
              "        filter: brightness(85%);\n",
              "    }\n",
              "</style>\n",
              "\n",
              "\n",
              "\n",
              "    \n",
              "\n",
              "    \n",
              "\n",
              "    \n",
              "\n",
              "    \n",
              "\n",
              "    \n",
              "\n",
              "    \n",
              "\n",
              "\n",
              "    \n",
              "\n",
              "    \n",
              "\n",
              "    \n",
              "\n",
              "    \n",
              "        \n",
              "\n",
              "    \n",
              "\n",
              "        \n",
              "            \n",
              "                \n",
              "                \n",
              "    \n",
              "        <p style=\"margin-bottom: 0.5em; margin-top: 0em\">\n",
              "            <b>\n",
              "    \n",
              "        y=1\n",
              "    \n",
              "</b>\n",
              "\n",
              "top features\n",
              "        </p>\n",
              "    \n",
              "    <table class=\"eli5-weights\"\n",
              "           style=\"border-collapse: collapse; border: none; margin-top: 0em; table-layout: auto; margin-bottom: 2em;\">\n",
              "        <thead>\n",
              "        <tr style=\"border: none;\">\n",
              "            \n",
              "                <th style=\"padding: 0 1em 0 0.5em; text-align: right; border: none;\" title=\"Feature weights. Note that weights do not account for feature value scales, so if feature values have different scales, features with highest weights might not be the most important.\">\n",
              "                    Weight<sup>?</sup>\n",
              "                </th>\n",
              "            \n",
              "            <th style=\"padding: 0 0.5em 0 0.5em; text-align: left; border: none;\">Feature</th>\n",
              "            \n",
              "        </tr>\n",
              "        </thead>\n",
              "        <tbody>\n",
              "        \n",
              "            <tr style=\"background-color: hsl(120, 100.00%, 80.00%); border: none;\">\n",
              "    <td style=\"padding: 0 1em 0 0.5em; text-align: right; border: none;\">\n",
              "        +4.363\n",
              "    </td>\n",
              "    <td style=\"padding: 0 0.5em 0 0.5em; text-align: left; border: none;\">\n",
              "        txt\n",
              "    </td>\n",
              "    \n",
              "</tr>\n",
              "        \n",
              "            <tr style=\"background-color: hsl(120, 100.00%, 81.67%); border: none;\">\n",
              "    <td style=\"padding: 0 1em 0 0.5em; text-align: right; border: none;\">\n",
              "        +3.853\n",
              "    </td>\n",
              "    <td style=\"padding: 0 0.5em 0 0.5em; text-align: left; border: none;\">\n",
              "        claim\n",
              "    </td>\n",
              "    \n",
              "</tr>\n",
              "        \n",
              "            <tr style=\"background-color: hsl(120, 100.00%, 82.14%); border: none;\">\n",
              "    <td style=\"padding: 0 1em 0 0.5em; text-align: right; border: none;\">\n",
              "        +3.712\n",
              "    </td>\n",
              "    <td style=\"padding: 0 0.5em 0 0.5em; text-align: left; border: none;\">\n",
              "        mobile\n",
              "    </td>\n",
              "    \n",
              "</tr>\n",
              "        \n",
              "            <tr style=\"background-color: hsl(120, 100.00%, 83.10%); border: none;\">\n",
              "    <td style=\"padding: 0 1em 0 0.5em; text-align: right; border: none;\">\n",
              "        +3.431\n",
              "    </td>\n",
              "    <td style=\"padding: 0 0.5em 0 0.5em; text-align: left; border: none;\">\n",
              "        www\n",
              "    </td>\n",
              "    \n",
              "</tr>\n",
              "        \n",
              "            <tr style=\"background-color: hsl(120, 100.00%, 83.64%); border: none;\">\n",
              "    <td style=\"padding: 0 1em 0 0.5em; text-align: right; border: none;\">\n",
              "        +3.273\n",
              "    </td>\n",
              "    <td style=\"padding: 0 0.5em 0 0.5em; text-align: left; border: none;\">\n",
              "        150p\n",
              "    </td>\n",
              "    \n",
              "</tr>\n",
              "        \n",
              "            <tr style=\"background-color: hsl(120, 100.00%, 83.85%); border: none;\">\n",
              "    <td style=\"padding: 0 1em 0 0.5em; text-align: right; border: none;\">\n",
              "        +3.214\n",
              "    </td>\n",
              "    <td style=\"padding: 0 0.5em 0 0.5em; text-align: left; border: none;\">\n",
              "        win\n",
              "    </td>\n",
              "    \n",
              "</tr>\n",
              "        \n",
              "            <tr style=\"background-color: hsl(120, 100.00%, 84.43%); border: none;\">\n",
              "    <td style=\"padding: 0 1em 0 0.5em; text-align: right; border: none;\">\n",
              "        +3.050\n",
              "    </td>\n",
              "    <td style=\"padding: 0 0.5em 0 0.5em; text-align: left; border: none;\">\n",
              "        free\n",
              "    </td>\n",
              "    \n",
              "</tr>\n",
              "        \n",
              "            <tr style=\"background-color: hsl(120, 100.00%, 84.44%); border: none;\">\n",
              "    <td style=\"padding: 0 1em 0 0.5em; text-align: right; border: none;\">\n",
              "        +3.049\n",
              "    </td>\n",
              "    <td style=\"padding: 0 0.5em 0 0.5em; text-align: left; border: none;\">\n",
              "        service\n",
              "    </td>\n",
              "    \n",
              "</tr>\n",
              "        \n",
              "            <tr style=\"background-color: hsl(120, 100.00%, 84.68%); border: none;\">\n",
              "    <td style=\"padding: 0 1em 0 0.5em; text-align: right; border: none;\">\n",
              "        +2.982\n",
              "    </td>\n",
              "    <td style=\"padding: 0 0.5em 0 0.5em; text-align: left; border: none;\">\n",
              "        stop\n",
              "    </td>\n",
              "    \n",
              "</tr>\n",
              "        \n",
              "            <tr style=\"background-color: hsl(120, 100.00%, 85.13%); border: none;\">\n",
              "    <td style=\"padding: 0 1em 0 0.5em; text-align: right; border: none;\">\n",
              "        +2.857\n",
              "    </td>\n",
              "    <td style=\"padding: 0 0.5em 0 0.5em; text-align: left; border: none;\">\n",
              "        chat\n",
              "    </td>\n",
              "    \n",
              "</tr>\n",
              "        \n",
              "            <tr style=\"background-color: hsl(120, 100.00%, 85.13%); border: none;\">\n",
              "    <td style=\"padding: 0 1em 0 0.5em; text-align: right; border: none;\">\n",
              "        +2.856\n",
              "    </td>\n",
              "    <td style=\"padding: 0 0.5em 0 0.5em; text-align: left; border: none;\">\n",
              "        50\n",
              "    </td>\n",
              "    \n",
              "</tr>\n",
              "        \n",
              "            <tr style=\"background-color: hsl(120, 100.00%, 85.19%); border: none;\">\n",
              "    <td style=\"padding: 0 1em 0 0.5em; text-align: right; border: none;\">\n",
              "        +2.841\n",
              "    </td>\n",
              "    <td style=\"padding: 0 0.5em 0 0.5em; text-align: left; border: none;\">\n",
              "        urgent\n",
              "    </td>\n",
              "    \n",
              "</tr>\n",
              "        \n",
              "            <tr style=\"background-color: hsl(120, 100.00%, 85.20%); border: none;\">\n",
              "    <td style=\"padding: 0 1em 0 0.5em; text-align: right; border: none;\">\n",
              "        +2.839\n",
              "    </td>\n",
              "    <td style=\"padding: 0 0.5em 0 0.5em; text-align: left; border: none;\">\n",
              "        reply\n",
              "    </td>\n",
              "    \n",
              "</tr>\n",
              "        \n",
              "            <tr style=\"background-color: hsl(120, 100.00%, 85.35%); border: none;\">\n",
              "    <td style=\"padding: 0 1em 0 0.5em; text-align: right; border: none;\">\n",
              "        +2.798\n",
              "    </td>\n",
              "    <td style=\"padding: 0 0.5em 0 0.5em; text-align: left; border: none;\">\n",
              "        uk\n",
              "    </td>\n",
              "    \n",
              "</tr>\n",
              "        \n",
              "            <tr style=\"background-color: hsl(120, 100.00%, 85.67%); border: none;\">\n",
              "    <td style=\"padding: 0 1em 0 0.5em; text-align: right; border: none;\">\n",
              "        +2.711\n",
              "    </td>\n",
              "    <td style=\"padding: 0 0.5em 0 0.5em; text-align: left; border: none;\">\n",
              "        award\n",
              "    </td>\n",
              "    \n",
              "</tr>\n",
              "        \n",
              "            <tr style=\"background-color: hsl(120, 100.00%, 86.00%); border: none;\">\n",
              "    <td style=\"padding: 0 1em 0 0.5em; text-align: right; border: none;\">\n",
              "        +2.622\n",
              "    </td>\n",
              "    <td style=\"padding: 0 0.5em 0 0.5em; text-align: left; border: none;\">\n",
              "        tone\n",
              "    </td>\n",
              "    \n",
              "</tr>\n",
              "        \n",
              "            <tr style=\"background-color: hsl(120, 100.00%, 86.13%); border: none;\">\n",
              "    <td style=\"padding: 0 1em 0 0.5em; text-align: right; border: none;\">\n",
              "        +2.587\n",
              "    </td>\n",
              "    <td style=\"padding: 0 0.5em 0 0.5em; text-align: left; border: none;\">\n",
              "        com\n",
              "    </td>\n",
              "    \n",
              "</tr>\n",
              "        \n",
              "            <tr style=\"background-color: hsl(120, 100.00%, 86.15%); border: none;\">\n",
              "    <td style=\"padding: 0 1em 0 0.5em; text-align: right; border: none;\">\n",
              "        +2.582\n",
              "    </td>\n",
              "    <td style=\"padding: 0 0.5em 0 0.5em; text-align: left; border: none;\">\n",
              "        prize\n",
              "    </td>\n",
              "    \n",
              "</tr>\n",
              "        \n",
              "            <tr style=\"background-color: hsl(120, 100.00%, 86.47%); border: none;\">\n",
              "    <td style=\"padding: 0 1em 0 0.5em; text-align: right; border: none;\">\n",
              "        +2.497\n",
              "    </td>\n",
              "    <td style=\"padding: 0 0.5em 0 0.5em; text-align: left; border: none;\">\n",
              "        min\n",
              "    </td>\n",
              "    \n",
              "</tr>\n",
              "        \n",
              "            <tr style=\"background-color: hsl(120, 100.00%, 86.52%); border: none;\">\n",
              "    <td style=\"padding: 0 1em 0 0.5em; text-align: right; border: none;\">\n",
              "        +2.483\n",
              "    </td>\n",
              "    <td style=\"padding: 0 0.5em 0 0.5em; text-align: left; border: none;\">\n",
              "        rate\n",
              "    </td>\n",
              "    \n",
              "</tr>\n",
              "        \n",
              "            <tr style=\"background-color: hsl(120, 100.00%, 87.16%); border: none;\">\n",
              "    <td style=\"padding: 0 1em 0 0.5em; text-align: right; border: none;\">\n",
              "        +2.316\n",
              "    </td>\n",
              "    <td style=\"padding: 0 0.5em 0 0.5em; text-align: left; border: none;\">\n",
              "        cash\n",
              "    </td>\n",
              "    \n",
              "</tr>\n",
              "        \n",
              "            <tr style=\"background-color: hsl(120, 100.00%, 87.34%); border: none;\">\n",
              "    <td style=\"padding: 0 1em 0 0.5em; text-align: right; border: none;\">\n",
              "        +2.271\n",
              "    </td>\n",
              "    <td style=\"padding: 0 0.5em 0 0.5em; text-align: left; border: none;\">\n",
              "        video\n",
              "    </td>\n",
              "    \n",
              "</tr>\n",
              "        \n",
              "            <tr style=\"background-color: hsl(120, 100.00%, 87.61%); border: none;\">\n",
              "    <td style=\"padding: 0 1em 0 0.5em; text-align: right; border: none;\">\n",
              "        +2.201\n",
              "    </td>\n",
              "    <td style=\"padding: 0 0.5em 0 0.5em; text-align: left; border: none;\">\n",
              "        text\n",
              "    </td>\n",
              "    \n",
              "</tr>\n",
              "        \n",
              "            <tr style=\"background-color: hsl(120, 100.00%, 87.62%); border: none;\">\n",
              "    <td style=\"padding: 0 1em 0 0.5em; text-align: right; border: none;\">\n",
              "        +2.198\n",
              "    </td>\n",
              "    <td style=\"padding: 0 0.5em 0 0.5em; text-align: left; border: none;\">\n",
              "        new\n",
              "    </td>\n",
              "    \n",
              "</tr>\n",
              "        \n",
              "            <tr style=\"background-color: hsl(120, 100.00%, 87.78%); border: none;\">\n",
              "    <td style=\"padding: 0 1em 0 0.5em; text-align: right; border: none;\">\n",
              "        +2.160\n",
              "    </td>\n",
              "    <td style=\"padding: 0 0.5em 0 0.5em; text-align: left; border: none;\">\n",
              "        cost\n",
              "    </td>\n",
              "    \n",
              "</tr>\n",
              "        \n",
              "            <tr style=\"background-color: hsl(120, 100.00%, 87.88%); border: none;\">\n",
              "    <td style=\"padding: 0 1em 0 0.5em; text-align: right; border: none;\">\n",
              "        +2.133\n",
              "    </td>\n",
              "    <td style=\"padding: 0 0.5em 0 0.5em; text-align: left; border: none;\">\n",
              "        account\n",
              "    </td>\n",
              "    \n",
              "</tr>\n",
              "        \n",
              "            <tr style=\"background-color: hsl(120, 100.00%, 87.90%); border: none;\">\n",
              "    <td style=\"padding: 0 1em 0 0.5em; text-align: right; border: none;\">\n",
              "        +2.129\n",
              "    </td>\n",
              "    <td style=\"padding: 0 0.5em 0 0.5em; text-align: left; border: none;\">\n",
              "        customer\n",
              "    </td>\n",
              "    \n",
              "</tr>\n",
              "        \n",
              "            <tr style=\"background-color: hsl(120, 100.00%, 88.35%); border: none;\">\n",
              "    <td style=\"padding: 0 1em 0 0.5em; text-align: right; border: none;\">\n",
              "        +2.017\n",
              "    </td>\n",
              "    <td style=\"padding: 0 0.5em 0 0.5em; text-align: left; border: none;\">\n",
              "        contact\n",
              "    </td>\n",
              "    \n",
              "</tr>\n",
              "        \n",
              "            <tr style=\"background-color: hsl(120, 100.00%, 88.35%); border: none;\">\n",
              "    <td style=\"padding: 0 1em 0 0.5em; text-align: right; border: none;\">\n",
              "        +2.016\n",
              "    </td>\n",
              "    <td style=\"padding: 0 0.5em 0 0.5em; text-align: left; border: none;\">\n",
              "        show\n",
              "    </td>\n",
              "    \n",
              "</tr>\n",
              "        \n",
              "            <tr style=\"background-color: hsl(120, 100.00%, 88.44%); border: none;\">\n",
              "    <td style=\"padding: 0 1em 0 0.5em; text-align: right; border: none;\">\n",
              "        +1.993\n",
              "    </td>\n",
              "    <td style=\"padding: 0 0.5em 0 0.5em; text-align: left; border: none;\">\n",
              "        ringtone\n",
              "    </td>\n",
              "    \n",
              "</tr>\n",
              "        \n",
              "            <tr style=\"background-color: hsl(120, 100.00%, 88.50%); border: none;\">\n",
              "    <td style=\"padding: 0 1em 0 0.5em; text-align: right; border: none;\">\n",
              "        +1.980\n",
              "    </td>\n",
              "    <td style=\"padding: 0 0.5em 0 0.5em; text-align: left; border: none;\">\n",
              "        landline\n",
              "    </td>\n",
              "    \n",
              "</tr>\n",
              "        \n",
              "            <tr style=\"background-color: hsl(120, 100.00%, 88.68%); border: none;\">\n",
              "    <td style=\"padding: 0 1em 0 0.5em; text-align: right; border: none;\">\n",
              "        +1.936\n",
              "    </td>\n",
              "    <td style=\"padding: 0 0.5em 0 0.5em; text-align: left; border: none;\">\n",
              "        camera\n",
              "    </td>\n",
              "    \n",
              "</tr>\n",
              "        \n",
              "            <tr style=\"background-color: hsl(120, 100.00%, 88.76%); border: none;\">\n",
              "    <td style=\"padding: 0 1em 0 0.5em; text-align: right; border: none;\">\n",
              "        +1.914\n",
              "    </td>\n",
              "    <td style=\"padding: 0 0.5em 0 0.5em; text-align: left; border: none;\">\n",
              "        nokia\n",
              "    </td>\n",
              "    \n",
              "</tr>\n",
              "        \n",
              "            <tr style=\"background-color: hsl(120, 100.00%, 88.90%); border: none;\">\n",
              "    <td style=\"padding: 0 1em 0 0.5em; text-align: right; border: none;\">\n",
              "        +1.881\n",
              "    </td>\n",
              "    <td style=\"padding: 0 0.5em 0 0.5em; text-align: left; border: none;\">\n",
              "        date\n",
              "    </td>\n",
              "    \n",
              "</tr>\n",
              "        \n",
              "            <tr style=\"background-color: hsl(120, 100.00%, 88.91%); border: none;\">\n",
              "    <td style=\"padding: 0 1em 0 0.5em; text-align: right; border: none;\">\n",
              "        +1.879\n",
              "    </td>\n",
              "    <td style=\"padding: 0 0.5em 0 0.5em; text-align: left; border: none;\">\n",
              "        sms\n",
              "    </td>\n",
              "    \n",
              "</tr>\n",
              "        \n",
              "            <tr style=\"background-color: hsl(120, 100.00%, 89.17%); border: none;\">\n",
              "    <td style=\"padding: 0 1em 0 0.5em; text-align: right; border: none;\">\n",
              "        +1.818\n",
              "    </td>\n",
              "    <td style=\"padding: 0 0.5em 0 0.5em; text-align: left; border: none;\">\n",
              "        co\n",
              "    </td>\n",
              "    \n",
              "</tr>\n",
              "        \n",
              "            <tr style=\"background-color: hsl(120, 100.00%, 89.31%); border: none;\">\n",
              "    <td style=\"padding: 0 1em 0 0.5em; text-align: right; border: none;\">\n",
              "        +1.783\n",
              "    </td>\n",
              "    <td style=\"padding: 0 0.5em 0 0.5em; text-align: left; border: none;\">\n",
              "        co uk\n",
              "    </td>\n",
              "    \n",
              "</tr>\n",
              "        \n",
              "            <tr style=\"background-color: hsl(120, 100.00%, 89.40%); border: none;\">\n",
              "    <td style=\"padding: 0 1em 0 0.5em; text-align: right; border: none;\">\n",
              "        +1.762\n",
              "    </td>\n",
              "    <td style=\"padding: 0 0.5em 0 0.5em; text-align: left; border: none;\">\n",
              "        mob\n",
              "    </td>\n",
              "    \n",
              "</tr>\n",
              "        \n",
              "            <tr style=\"background-color: hsl(120, 100.00%, 89.45%); border: none;\">\n",
              "    <td style=\"padding: 0 1em 0 0.5em; text-align: right; border: none;\">\n",
              "        +1.750\n",
              "    </td>\n",
              "    <td style=\"padding: 0 0.5em 0 0.5em; text-align: left; border: none;\">\n",
              "        line\n",
              "    </td>\n",
              "    \n",
              "</tr>\n",
              "        \n",
              "            <tr style=\"background-color: hsl(120, 100.00%, 89.50%); border: none;\">\n",
              "    <td style=\"padding: 0 1em 0 0.5em; text-align: right; border: none;\">\n",
              "        +1.739\n",
              "    </td>\n",
              "    <td style=\"padding: 0 0.5em 0 0.5em; text-align: left; border: none;\">\n",
              "        special\n",
              "    </td>\n",
              "    \n",
              "</tr>\n",
              "        \n",
              "            <tr style=\"background-color: hsl(120, 100.00%, 89.58%); border: none;\">\n",
              "    <td style=\"padding: 0 1em 0 0.5em; text-align: right; border: none;\">\n",
              "        +1.718\n",
              "    </td>\n",
              "    <td style=\"padding: 0 0.5em 0 0.5em; text-align: left; border: none;\">\n",
              "        help\n",
              "    </td>\n",
              "    \n",
              "</tr>\n",
              "        \n",
              "            <tr style=\"background-color: hsl(120, 100.00%, 89.67%); border: none;\">\n",
              "    <td style=\"padding: 0 1em 0 0.5em; text-align: right; border: none;\">\n",
              "        +1.698\n",
              "    </td>\n",
              "    <td style=\"padding: 0 0.5em 0 0.5em; text-align: left; border: none;\">\n",
              "        message\n",
              "    </td>\n",
              "    \n",
              "</tr>\n",
              "        \n",
              "            <tr style=\"background-color: hsl(120, 100.00%, 89.68%); border: none;\">\n",
              "    <td style=\"padding: 0 1em 0 0.5em; text-align: right; border: none;\">\n",
              "        +1.696\n",
              "    </td>\n",
              "    <td style=\"padding: 0 0.5em 0 0.5em; text-align: left; border: none;\">\n",
              "        await\n",
              "    </td>\n",
              "    \n",
              "</tr>\n",
              "        \n",
              "            <tr style=\"background-color: hsl(120, 100.00%, 89.81%); border: none;\">\n",
              "    <td style=\"padding: 0 1em 0 0.5em; text-align: right; border: none;\">\n",
              "        +1.666\n",
              "    </td>\n",
              "    <td style=\"padding: 0 0.5em 0 0.5em; text-align: left; border: none;\">\n",
              "        voucher\n",
              "    </td>\n",
              "    \n",
              "</tr>\n",
              "        \n",
              "            <tr style=\"background-color: hsl(120, 100.00%, 89.87%); border: none;\">\n",
              "    <td style=\"padding: 0 1em 0 0.5em; text-align: right; border: none;\">\n",
              "        +1.651\n",
              "    </td>\n",
              "    <td style=\"padding: 0 0.5em 0 0.5em; text-align: left; border: none;\">\n",
              "        collect\n",
              "    </td>\n",
              "    \n",
              "</tr>\n",
              "        \n",
              "            <tr style=\"background-color: hsl(120, 100.00%, 90.02%); border: none;\">\n",
              "    <td style=\"padding: 0 1em 0 0.5em; text-align: right; border: none;\">\n",
              "        +1.615\n",
              "    </td>\n",
              "    <td style=\"padding: 0 0.5em 0 0.5em; text-align: left; border: none;\">\n",
              "        holiday\n",
              "    </td>\n",
              "    \n",
              "</tr>\n",
              "        \n",
              "            <tr style=\"background-color: hsl(120, 100.00%, 90.16%); border: none;\">\n",
              "    <td style=\"padding: 0 1em 0 0.5em; text-align: right; border: none;\">\n",
              "        +1.584\n",
              "    </td>\n",
              "    <td style=\"padding: 0 0.5em 0 0.5em; text-align: left; border: none;\">\n",
              "        live\n",
              "    </td>\n",
              "    \n",
              "</tr>\n",
              "        \n",
              "            <tr style=\"background-color: hsl(120, 100.00%, 90.20%); border: none;\">\n",
              "    <td style=\"padding: 0 1em 0 0.5em; text-align: right; border: none;\">\n",
              "        +1.575\n",
              "    </td>\n",
              "    <td style=\"padding: 0 0.5em 0 0.5em; text-align: left; border: none;\">\n",
              "        box\n",
              "    </td>\n",
              "    \n",
              "</tr>\n",
              "        \n",
              "            <tr style=\"background-color: hsl(120, 100.00%, 90.29%); border: none;\">\n",
              "    <td style=\"padding: 0 1em 0 0.5em; text-align: right; border: none;\">\n",
              "        +1.555\n",
              "    </td>\n",
              "    <td style=\"padding: 0 0.5em 0 0.5em; text-align: left; border: none;\">\n",
              "        msg\n",
              "    </td>\n",
              "    \n",
              "</tr>\n",
              "        \n",
              "            <tr style=\"background-color: hsl(120, 100.00%, 90.43%); border: none;\">\n",
              "    <td style=\"padding: 0 1em 0 0.5em; text-align: right; border: none;\">\n",
              "        +1.523\n",
              "    </td>\n",
              "    <td style=\"padding: 0 0.5em 0 0.5em; text-align: left; border: none;\">\n",
              "        sexy\n",
              "    </td>\n",
              "    \n",
              "</tr>\n",
              "        \n",
              "        \n",
              "            <tr style=\"background-color: hsl(120, 100.00%, 90.43%); border: none;\">\n",
              "                <td colspan=\"2\" style=\"padding: 0 0.5em 0 0.5em; text-align: center; border: none; white-space: nowrap;\">\n",
              "                    <i>&hellip; 77 more positive &hellip;</i>\n",
              "                </td>\n",
              "            </tr>\n",
              "        \n",
              "\n",
              "        \n",
              "            <tr style=\"background-color: hsl(0, 100.00%, 91.41%); border: none;\">\n",
              "                <td colspan=\"2\" style=\"padding: 0 0.5em 0 0.5em; text-align: center; border: none; white-space: nowrap;\">\n",
              "                    <i>&hellip; 160 more negative &hellip;</i>\n",
              "                </td>\n",
              "            </tr>\n",
              "        \n",
              "        \n",
              "            <tr style=\"background-color: hsl(0, 100.00%, 91.41%); border: none;\">\n",
              "    <td style=\"padding: 0 1em 0 0.5em; text-align: right; border: none;\">\n",
              "        -1.304\n",
              "    </td>\n",
              "    <td style=\"padding: 0 0.5em 0 0.5em; text-align: left; border: none;\">\n",
              "        go\n",
              "    </td>\n",
              "    \n",
              "</tr>\n",
              "        \n",
              "            <tr style=\"background-color: hsl(0, 100.00%, 91.13%); border: none;\">\n",
              "    <td style=\"padding: 0 1em 0 0.5em; text-align: right; border: none;\">\n",
              "        -1.366\n",
              "    </td>\n",
              "    <td style=\"padding: 0 0.5em 0 0.5em; text-align: left; border: none;\">\n",
              "        lt\n",
              "    </td>\n",
              "    \n",
              "</tr>\n",
              "        \n",
              "            <tr style=\"background-color: hsl(0, 100.00%, 91.11%); border: none;\">\n",
              "    <td style=\"padding: 0 1em 0 0.5em; text-align: right; border: none;\">\n",
              "        -1.371\n",
              "    </td>\n",
              "    <td style=\"padding: 0 0.5em 0 0.5em; text-align: left; border: none;\">\n",
              "        gt\n",
              "    </td>\n",
              "    \n",
              "</tr>\n",
              "        \n",
              "            <tr style=\"background-color: hsl(0, 100.00%, 90.28%); border: none;\">\n",
              "    <td style=\"padding: 0 1em 0 0.5em; text-align: right; border: none;\">\n",
              "        -1.557\n",
              "    </td>\n",
              "    <td style=\"padding: 0 0.5em 0 0.5em; text-align: left; border: none;\">\n",
              "        ok\n",
              "    </td>\n",
              "    \n",
              "</tr>\n",
              "        \n",
              "            <tr style=\"background-color: hsl(0, 100.00%, 84.62%); border: none;\">\n",
              "    <td style=\"padding: 0 1em 0 0.5em; text-align: right; border: none;\">\n",
              "        -2.998\n",
              "    </td>\n",
              "    <td style=\"padding: 0 0.5em 0 0.5em; text-align: left; border: none;\">\n",
              "        &lt;BIAS&gt;\n",
              "    </td>\n",
              "    \n",
              "</tr>\n",
              "        \n",
              "\n",
              "        </tbody>\n",
              "    </table>\n",
              "\n",
              "            \n",
              "        \n",
              "\n",
              "        \n",
              "\n",
              "\n",
              "\n",
              "    \n",
              "\n",
              "    \n",
              "\n",
              "    \n",
              "\n",
              "    \n",
              "\n",
              "\n",
              "    \n",
              "\n",
              "    \n",
              "\n",
              "    \n",
              "\n",
              "    \n",
              "\n",
              "    \n",
              "\n",
              "    \n",
              "\n",
              "\n",
              "    \n",
              "\n",
              "    \n",
              "\n",
              "    \n",
              "\n",
              "    \n",
              "\n",
              "    \n",
              "\n",
              "    \n",
              "\n",
              "\n",
              "\n"
            ],
            "text/plain": [
              "<IPython.core.display.HTML object>"
            ]
          },
          "execution_count": 64,
          "metadata": {},
          "output_type": "execute_result"
        }
      ],
      "source": [
        "eli5.show_weights(\n",
        "    estimator=grid_search.best_estimator_['clf'], \n",
        "    feature_names= list(grid_search.best_estimator_['counter'].get_feature_names_out()),\n",
        "    top=(50, 5)\n",
        ")"
      ]
    },
    {
      "cell_type": "code",
      "execution_count": null,
      "metadata": {
        "id": "BWdUwSgSdrEx"
      },
      "outputs": [],
      "source": []
    }
  ],
  "metadata": {
    "colab": {
      "provenance": [],
      "toc_visible": true
    },
    "kernelspec": {
      "display_name": "Python 3",
      "language": "python",
      "name": "python3"
    },
    "language_info": {
      "codemirror_mode": {
        "name": "ipython",
        "version": 3
      },
      "file_extension": ".py",
      "mimetype": "text/x-python",
      "name": "python",
      "nbconvert_exporter": "python",
      "pygments_lexer": "ipython3",
      "version": "3.9.6"
    },
    "vscode": {
      "interpreter": {
        "hash": "31f2aee4e71d21fbe5cf8b01ff0e069b9275f58929596ceb00d14d90e3e16cd6"
      }
    }
  },
  "nbformat": 4,
  "nbformat_minor": 0
}
