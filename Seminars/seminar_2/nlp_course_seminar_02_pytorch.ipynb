{
  "cells": [
    {
      "cell_type": "code",
      "execution_count": 52,
      "metadata": {},
      "outputs": [
        {
          "name": "stdout",
          "output_type": "stream",
          "text": [
            "Defaulting to user installation because normal site-packages is not writeable\n",
            "Requirement already satisfied: torch in /Users/nikitav/Library/Python/3.9/lib/python/site-packages (1.13.1)\n",
            "Requirement already satisfied: typing-extensions in /Users/nikitav/Library/Python/3.9/lib/python/site-packages (from torch) (4.5.0)\n",
            "\u001b[33mWARNING: You are using pip version 21.2.4; however, version 23.0.1 is available.\n",
            "You should consider upgrading via the '/Library/Developer/CommandLineTools/usr/bin/python3 -m pip install --upgrade pip' command.\u001b[0m\n",
            "Note: you may need to restart the kernel to use updated packages.\n"
          ]
        }
      ],
      "source": [
        "%pip install torch"
      ]
    },
    {
      "cell_type": "markdown",
      "metadata": {
        "id": "YaFLTcQAHbSV"
      },
      "source": [
        "Pytorch - один из самых популярных фреймворков глубокого обучения для ML-специалистов. Фактически сегодня это еще и целая [экосистема](https://pytorch.org/ecosystem/) инструментов\n",
        "\n",
        "- [torchtext](https://pytorch.org/text/stable/index.html#torchtext) - `package consists of data processing utilities and popular datasets for natural language`\n",
        "\n",
        "\n",
        "В библиотеке есть четыре ключевых составляющих:\n",
        "\n",
        "- Развитый инструментарий для работы с тензорами. Он похож на numpy, но даёт дополнительные возможности по контролю выделяемой памяти, что важно при работе с большими моделями и данными.\n",
        "- Простое построение динамического вычислительного графа, позволяющего получать градиенты целевых функций от параметров модели.\n",
        "- Большой набор готовых слоёв для построения нейронных сетей произвольной архитектуры.\n",
        "- Возможность перенаправлять вычисления на графические процессоры GPU.\n",
        "\n"
      ]
    },
    {
      "cell_type": "code",
      "execution_count": 53,
      "metadata": {
        "id": "3EpI8IEdHbSX"
      },
      "outputs": [],
      "source": [
        "import torch"
      ]
    },
    {
      "cell_type": "markdown",
      "metadata": {
        "id": "rRx-3BmvHbSW"
      },
      "source": [
        "### Тензоры\n"
      ]
    },
    {
      "cell_type": "markdown",
      "metadata": {
        "id": "8AE-Vw8iHbSZ"
      },
      "source": [
        "Создание тензора"
      ]
    },
    {
      "cell_type": "code",
      "execution_count": 54,
      "metadata": {
        "colab": {
          "base_uri": "https://localhost:8080/"
        },
        "id": "Ed-Bg4JOHbSa",
        "outputId": "b55654b7-7051-408c-f1a4-ce35e4151233"
      },
      "outputs": [
        {
          "name": "stdout",
          "output_type": "stream",
          "text": [
            "tensor([[0., 0., 0.],\n",
            "        [0., 0., 0.],\n",
            "        [0., 0., 0.],\n",
            "        [0., 0., 0.],\n",
            "        [0., 0., 0.]])\n"
          ]
        }
      ],
      "source": [
        "x = torch.empty(5, 3)\n",
        "print(x)"
      ]
    },
    {
      "cell_type": "markdown",
      "metadata": {
        "id": "efjPGo2hHbSd"
      },
      "source": [
        "Случайная инициализация"
      ]
    },
    {
      "cell_type": "code",
      "execution_count": 55,
      "metadata": {
        "colab": {
          "base_uri": "https://localhost:8080/"
        },
        "id": "1mfaLeKTHbSe",
        "outputId": "853ec81c-e00c-4bfa-b102-e5040a4beac0"
      },
      "outputs": [
        {
          "name": "stdout",
          "output_type": "stream",
          "text": [
            "tensor([[0.5012, 0.6451, 0.4481],\n",
            "        [0.4588, 0.4716, 0.4026],\n",
            "        [0.9745, 0.1609, 0.8296],\n",
            "        [0.8880, 0.2999, 0.7059],\n",
            "        [0.8796, 0.7659, 0.9283]])\n"
          ]
        }
      ],
      "source": [
        "x = torch.rand(5, 3)\n",
        "print(x)"
      ]
    },
    {
      "cell_type": "markdown",
      "metadata": {
        "id": "sCS32yP5HbSf"
      },
      "source": [
        "Инициализация нулями"
      ]
    },
    {
      "cell_type": "code",
      "execution_count": 56,
      "metadata": {
        "colab": {
          "base_uri": "https://localhost:8080/"
        },
        "id": "jV0vu4fWHbSf",
        "outputId": "508b0b87-7d45-4c99-b371-19cdb2587c4a"
      },
      "outputs": [
        {
          "name": "stdout",
          "output_type": "stream",
          "text": [
            "tensor([[0, 0, 0],\n",
            "        [0, 0, 0],\n",
            "        [0, 0, 0],\n",
            "        [0, 0, 0],\n",
            "        [0, 0, 0]])\n"
          ]
        }
      ],
      "source": [
        "x = torch.zeros(5, 3, dtype=torch.long)\n",
        "print(x)"
      ]
    },
    {
      "cell_type": "markdown",
      "metadata": {
        "id": "cR5_fxQjHbSg"
      },
      "source": [
        "Создание непосредственно из данных"
      ]
    },
    {
      "cell_type": "code",
      "execution_count": 57,
      "metadata": {
        "colab": {
          "base_uri": "https://localhost:8080/"
        },
        "id": "_XaCGIsrHbSg",
        "outputId": "55971f5d-68fe-4915-9a97-11b6773008cd"
      },
      "outputs": [
        {
          "name": "stdout",
          "output_type": "stream",
          "text": [
            "tensor([5.5000, 3.0000])\n"
          ]
        }
      ],
      "source": [
        "x = torch.tensor([5.5, 3])\n",
        "print(x)"
      ]
    },
    {
      "cell_type": "markdown",
      "metadata": {
        "id": "enXt3O2EHbSh"
      },
      "source": [
        "Из другого тензора"
      ]
    },
    {
      "cell_type": "code",
      "execution_count": 58,
      "metadata": {
        "colab": {
          "base_uri": "https://localhost:8080/"
        },
        "id": "tfYa2XNtHbSh",
        "outputId": "19258b21-5ffa-492c-b19e-fb568ea84fba"
      },
      "outputs": [
        {
          "name": "stdout",
          "output_type": "stream",
          "text": [
            "tensor([[1., 1., 1.],\n",
            "        [1., 1., 1.],\n",
            "        [1., 1., 1.],\n",
            "        [1., 1., 1.],\n",
            "        [1., 1., 1.]], dtype=torch.float64)\n",
            "tensor([[-1.9524, -0.3546, -1.1731],\n",
            "        [-1.6073, -0.5672,  0.7092],\n",
            "        [ 0.9942, -1.2923,  0.9962],\n",
            "        [ 0.4932,  0.4025,  0.6367],\n",
            "        [-0.4609, -0.5719,  0.5344]])\n"
          ]
        }
      ],
      "source": [
        "x = x.new_ones(5, 3, dtype=torch.double)      # new_* methods take in sizes\n",
        "print(x)\n",
        "\n",
        "x = torch.randn_like(x, dtype=torch.float)    # the same size as input that is filled with random numbers from a normal distribution, override dtype!\n",
        "print(x)   "
      ]
    },
    {
      "cell_type": "markdown",
      "metadata": {
        "id": "L-oM7IO7U8X4"
      },
      "source": [
        "При преобразовании типа (если он меняется) под данные выделяется новая память"
      ]
    },
    {
      "cell_type": "code",
      "execution_count": 59,
      "metadata": {
        "id": "gBkUz2tLU8Ea"
      },
      "outputs": [],
      "source": [
        "x = torch.Tensor(5, 3)\n",
        "y = x.long()\n",
        "y = x.float()"
      ]
    },
    {
      "cell_type": "markdown",
      "metadata": {
        "id": "SNENKpeeHbSi"
      },
      "source": [
        "Размер тензора"
      ]
    },
    {
      "cell_type": "code",
      "execution_count": 60,
      "metadata": {
        "colab": {
          "base_uri": "https://localhost:8080/"
        },
        "id": "xbKtu1IjHbSi",
        "outputId": "1afcc90c-8439-434a-d3c4-ebd7c4ad1f7d"
      },
      "outputs": [
        {
          "data": {
            "text/plain": [
              "torch.Size([5, 3])"
            ]
          },
          "execution_count": 60,
          "metadata": {},
          "output_type": "execute_result"
        }
      ],
      "source": [
        "x.size()"
      ]
    },
    {
      "cell_type": "code",
      "execution_count": 61,
      "metadata": {
        "colab": {
          "base_uri": "https://localhost:8080/"
        },
        "id": "_amAGT3oMrwy",
        "outputId": "94cd7ffd-1dde-47d0-98f6-572caba5d9ea"
      },
      "outputs": [
        {
          "data": {
            "text/plain": [
              "torch.Size([5, 3])"
            ]
          },
          "execution_count": 61,
          "metadata": {},
          "output_type": "execute_result"
        }
      ],
      "source": [
        "x.shape"
      ]
    },
    {
      "cell_type": "markdown",
      "metadata": {
        "id": "MjZS-Ga0HbSi"
      },
      "source": [
        "NB! The type torch.Size is an abstraction from a mere tuple, so it supports all the tuple operations"
      ]
    },
    {
      "cell_type": "markdown",
      "metadata": {
        "id": "G1WW3Ev7HbSj"
      },
      "source": [
        "### Операции с тензорами\n"
      ]
    },
    {
      "cell_type": "code",
      "execution_count": 62,
      "metadata": {
        "colab": {
          "base_uri": "https://localhost:8080/"
        },
        "id": "6zpTGOKSHbSj",
        "outputId": "2c25dbaf-ad0f-48e8-bfc4-f00c943fd64c"
      },
      "outputs": [
        {
          "name": "stdout",
          "output_type": "stream",
          "text": [
            "tensor([[0.8317, 0.3712, 0.6714],\n",
            "        [0.5255, 0.3368, 0.0014],\n",
            "        [0.0581, 0.1498, 0.1819],\n",
            "        [0.1376, 0.6638, 0.8860],\n",
            "        [0.4147, 0.7587, 0.7928]])\n"
          ]
        }
      ],
      "source": [
        "y = torch.rand(5, 3)\n",
        "print(x + y)"
      ]
    },
    {
      "cell_type": "code",
      "execution_count": 63,
      "metadata": {
        "colab": {
          "base_uri": "https://localhost:8080/"
        },
        "id": "KDC_fsaAHbSk",
        "outputId": "9d7af01d-0ff4-46d5-9bf8-2a1e01144818"
      },
      "outputs": [
        {
          "name": "stdout",
          "output_type": "stream",
          "text": [
            "tensor([[0.8317, 0.3712, 0.6714],\n",
            "        [0.5255, 0.3368, 0.0014],\n",
            "        [0.0581, 0.1498, 0.1819],\n",
            "        [0.1376, 0.6638, 0.8860],\n",
            "        [0.4147, 0.7587, 0.7928]])\n"
          ]
        }
      ],
      "source": [
        "print(torch.add(x, y))"
      ]
    },
    {
      "cell_type": "markdown",
      "metadata": {
        "id": "RcWj30xGHbSl"
      },
      "source": [
        "Выходная переменная как параметр"
      ]
    },
    {
      "cell_type": "code",
      "execution_count": 64,
      "metadata": {
        "colab": {
          "base_uri": "https://localhost:8080/"
        },
        "id": "zcAlCBb-HbSl",
        "outputId": "928bab73-0673-4aca-d48c-5019ead9c992"
      },
      "outputs": [
        {
          "name": "stdout",
          "output_type": "stream",
          "text": [
            "tensor([[0.8317, 0.3712, 0.6714],\n",
            "        [0.5255, 0.3368, 0.0014],\n",
            "        [0.0581, 0.1498, 0.1819],\n",
            "        [0.1376, 0.6638, 0.8860],\n",
            "        [0.4147, 0.7587, 0.7928]])\n"
          ]
        }
      ],
      "source": [
        "result = torch.empty(5, 3)\n",
        "torch.add(x, y, out=result)\n",
        "print(result)"
      ]
    },
    {
      "cell_type": "markdown",
      "metadata": {
        "id": "MtQNzjG-HbSm"
      },
      "source": [
        "in-place операции - operation_ syntax, новая память не выделяется"
      ]
    },
    {
      "cell_type": "code",
      "execution_count": 65,
      "metadata": {
        "colab": {
          "base_uri": "https://localhost:8080/"
        },
        "id": "HXRpa24sHbSm",
        "outputId": "d72e922f-2c28-46da-93ac-20c30851cca6"
      },
      "outputs": [
        {
          "data": {
            "text/plain": [
              "tensor([[0.8317, 0.3712, 0.6714],\n",
              "        [0.5255, 0.3368, 0.0014],\n",
              "        [0.0581, 0.1498, 0.1819],\n",
              "        [0.1376, 0.6638, 0.8860],\n",
              "        [0.4147, 0.7587, 0.7928]])"
            ]
          },
          "execution_count": 65,
          "metadata": {},
          "output_type": "execute_result"
        }
      ],
      "source": [
        "x.add(y)"
      ]
    },
    {
      "cell_type": "code",
      "execution_count": 66,
      "metadata": {
        "colab": {
          "base_uri": "https://localhost:8080/"
        },
        "id": "OrZ1ScyaHbSn",
        "outputId": "5d4468a2-4cef-4deb-d8f8-3aa8123e870d"
      },
      "outputs": [
        {
          "data": {
            "text/plain": [
              "tensor([[0.8317, 0.3712, 0.6714],\n",
              "        [0.5255, 0.3368, 0.0014],\n",
              "        [0.0581, 0.1498, 0.1819],\n",
              "        [0.1376, 0.6638, 0.8860],\n",
              "        [0.4147, 0.7587, 0.7928]])"
            ]
          },
          "execution_count": 66,
          "metadata": {},
          "output_type": "execute_result"
        }
      ],
      "source": [
        "x.add_(y)"
      ]
    },
    {
      "cell_type": "markdown",
      "metadata": {
        "id": "W7Lj2P0UHbSo"
      },
      "source": [
        "Синтаксический сахар NumPy индексации"
      ]
    },
    {
      "cell_type": "code",
      "execution_count": 67,
      "metadata": {
        "colab": {
          "base_uri": "https://localhost:8080/"
        },
        "id": "KE5Fah0iHbSo",
        "outputId": "08816256-2251-448e-de80-4b134facb0a1"
      },
      "outputs": [
        {
          "name": "stdout",
          "output_type": "stream",
          "text": [
            "tensor([0.3712, 0.3368, 0.1498, 0.6638, 0.7587])\n"
          ]
        }
      ],
      "source": [
        "print(x[:, 1])"
      ]
    },
    {
      "cell_type": "markdown",
      "metadata": {
        "id": "lvS7Y3YgHbSo"
      },
      "source": [
        "Форма тензора (число индексов и их размерности) меняется функциями `view` и `reshape`"
      ]
    },
    {
      "cell_type": "code",
      "execution_count": 68,
      "metadata": {
        "colab": {
          "base_uri": "https://localhost:8080/"
        },
        "id": "mZF0GUhtHbSo",
        "outputId": "3cd2c7a2-9282-46f3-c64b-1c54f415af8c"
      },
      "outputs": [
        {
          "name": "stdout",
          "output_type": "stream",
          "text": [
            "torch.Size([4, 4]) torch.Size([16]) torch.Size([2, 8])\n"
          ]
        }
      ],
      "source": [
        "x = torch.randn(4, 4)\n",
        "y = x.view(16)\n",
        "z = x.view(-1, 8) # Одна из размерностей может быть равна -1 и тогда она будет посчитана автоматически\n",
        "print(x.size(), y.size(), z.size())"
      ]
    },
    {
      "cell_type": "markdown",
      "metadata": {
        "id": "Td4AN9DEW_lV"
      },
      "source": [
        "`view` - создает другое представление исходного тензора. При изменении формы `view` меняется `x.stride()`. Новый тензор всегда делит (share) с исходным тензором\n",
        "\n",
        "`reshape` не дает гарантии на шэринг данных: сначала проверяется `is_contiguous` и если результа - False, вызывается `contiguous` (создаёт новую память). После этого вызывается `view`"
      ]
    },
    {
      "cell_type": "code",
      "execution_count": 69,
      "metadata": {
        "colab": {
          "base_uri": "https://localhost:8080/"
        },
        "id": "o_lWRGR6V0A9",
        "outputId": "a9430f65-a149-48f6-f898-69d4f52b3e6d"
      },
      "outputs": [
        {
          "name": "stdout",
          "output_type": "stream",
          "text": [
            "torch.Size([4, 4]) torch.Size([16]) torch.Size([2, 8])\n"
          ]
        }
      ],
      "source": [
        "x = torch.randn(4, 4)\n",
        "y = x.reshape(16)\n",
        "z = x.reshape(-1, 8)\n",
        "print(x.size(), y.size(), z.size())"
      ]
    },
    {
      "cell_type": "markdown",
      "metadata": {
        "id": "iz551EmlHbSp"
      },
      "source": [
        "Получение значения тензора из одного элемента"
      ]
    },
    {
      "cell_type": "code",
      "execution_count": 70,
      "metadata": {
        "colab": {
          "base_uri": "https://localhost:8080/"
        },
        "id": "gsAk9MudHbSp",
        "outputId": "4a9e639c-a017-4a78-b85d-63c7d9bc69e5"
      },
      "outputs": [
        {
          "name": "stdout",
          "output_type": "stream",
          "text": [
            "tensor([0.1091])\n",
            "0.10906580090522766\n"
          ]
        }
      ],
      "source": [
        "x = torch.randn(1)\n",
        "print(x)\n",
        "print(x.item())"
      ]
    },
    {
      "cell_type": "code",
      "execution_count": 71,
      "metadata": {
        "colab": {
          "base_uri": "https://localhost:8080/"
        },
        "id": "6fY57dMyHbSp",
        "outputId": "fd1189ba-0332-4964-d92b-f0d682189398"
      },
      "outputs": [
        {
          "data": {
            "text/plain": [
              "-0.5740276575088501"
            ]
          },
          "execution_count": 71,
          "metadata": {},
          "output_type": "execute_result"
        }
      ],
      "source": [
        "y[1].item()"
      ]
    },
    {
      "cell_type": "markdown",
      "metadata": {
        "id": "sPqMWMNoHbSq"
      },
      "source": [
        "Проверка доступности GPU и создание тензора на GPU"
      ]
    },
    {
      "cell_type": "code",
      "execution_count": 72,
      "metadata": {
        "colab": {
          "base_uri": "https://localhost:8080/"
        },
        "id": "gh929KmCHbSq",
        "outputId": "e4ffba28-b1d9-44e6-f01b-9c9d873ea50e"
      },
      "outputs": [],
      "source": [
        "if torch.cuda.is_available():\n",
        "    device = torch.device(\"cuda\")          # a CUDA device object\n",
        "    y = torch.ones_like(x, device=device)  # directly create a tensor on GPU\n",
        "    x = x.to(device)                       # or just use strings ``.to(\"cuda\")``\n",
        "    z = x + y\n",
        "    print(z)\n",
        "    print(z.to(\"cpu\", torch.double))"
      ]
    },
    {
      "cell_type": "markdown",
      "metadata": {
        "id": "qClsNFnCZOLc"
      },
      "source": [
        "Чтобы не прописывать device руками"
      ]
    },
    {
      "cell_type": "code",
      "execution_count": 73,
      "metadata": {
        "colab": {
          "base_uri": "https://localhost:8080/",
          "height": 35
        },
        "id": "14cp1ImnZKEI",
        "outputId": "ce2c7128-eca5-43e5-8c11-a2b54cad32c7"
      },
      "outputs": [
        {
          "data": {
            "text/plain": [
              "'cpu'"
            ]
          },
          "execution_count": 73,
          "metadata": {},
          "output_type": "execute_result"
        }
      ],
      "source": [
        "if torch.cuda.is_available():  \n",
        "  device = \"cuda:0\" \n",
        "else:  \n",
        "  device = \"cpu\"  \n",
        "device"
      ]
    },
    {
      "cell_type": "markdown",
      "metadata": {
        "id": "bUUTF9kdYyDj"
      },
      "source": [
        "Выигрыш во времени от использования GPU"
      ]
    },
    {
      "cell_type": "code",
      "execution_count": 74,
      "metadata": {
        "colab": {
          "base_uri": "https://localhost:8080/"
        },
        "id": "LBIKZWcOYnpn",
        "outputId": "2384f9f1-74c5-4a57-e382-ca71a449f73b"
      },
      "outputs": [
        {
          "name": "stdout",
          "output_type": "stream",
          "text": [
            "CPU times: user 3.07 s, sys: 587 ms, total: 3.66 s\n",
            "Wall time: 3.74 s\n"
          ]
        }
      ],
      "source": [
        "%%time\n",
        "\n",
        "x1 = torch.eye(10000)\n",
        "y1 = torch.eye(10000)\n",
        "z1 = x1.mm(y1) "
      ]
    },
    {
      "cell_type": "code",
      "execution_count": 75,
      "metadata": {
        "colab": {
          "base_uri": "https://localhost:8080/"
        },
        "id": "-sBn0ix2YntI",
        "outputId": "666cf662-efe3-47c9-bb06-1610655e7ad0"
      },
      "outputs": [
        {
          "name": "stdout",
          "output_type": "stream",
          "text": [
            "CPU times: user 3.03 s, sys: 459 ms, total: 3.49 s\n",
            "Wall time: 3.43 s\n"
          ]
        }
      ],
      "source": [
        "%%time\n",
        "\n",
        "x1 = torch.eye(10000, device=device)\n",
        "y1 = torch.eye(10000, device=device)\n",
        "z1 = x1.mm(y1) "
      ]
    },
    {
      "cell_type": "markdown",
      "metadata": {
        "id": "9NSTCyMhHbSq"
      },
      "source": [
        "### Autograd - automatic differentiation engine\n",
        "\n",
        "[PyTorch 101, Part 1: Understanding Graphs, Automatic Differentiation and Autograd](https://blog.paperspace.com/pytorch-101-understanding-graphs-and-automatic-differentiation/)\n",
        "\n",
        "В центре большинства современных приемов машинного обучения лежит расчет градиентов. Это в особенности касается нейронных сетей, где для обновления весовых коэффициентов используется алгоритм обратного распространения\n",
        "\n",
        "Autograd предоставляет классы и функции, реализующие автоматическое дифференцирование произвольных скалярных функций. Это требует минимальных изменений в существующем коде - нужно только объявить Tensor, для которого должны вычисляться градиенты, с атрибутом `requires_grad=True`"
      ]
    },
    {
      "cell_type": "code",
      "execution_count": 76,
      "metadata": {
        "colab": {
          "base_uri": "https://localhost:8080/"
        },
        "id": "JcdJCnP5HbSr",
        "outputId": "41583da1-ba39-4e8e-fdd6-0c6df9758589"
      },
      "outputs": [
        {
          "name": "stdout",
          "output_type": "stream",
          "text": [
            "tensor([[1., 1.],\n",
            "        [1., 1.]], requires_grad=True)\n"
          ]
        }
      ],
      "source": [
        "x = torch.ones(2, 2, requires_grad=True)\n",
        "print(x)"
      ]
    },
    {
      "cell_type": "code",
      "execution_count": 77,
      "metadata": {
        "colab": {
          "base_uri": "https://localhost:8080/"
        },
        "id": "JbgJ9x8CcFJ6",
        "outputId": "dab639a5-3388-4766-df03-11f75d1d374e"
      },
      "outputs": [
        {
          "data": {
            "text/plain": [
              "True"
            ]
          },
          "execution_count": 77,
          "metadata": {},
          "output_type": "execute_result"
        }
      ],
      "source": [
        "x.grad == None"
      ]
    },
    {
      "cell_type": "code",
      "execution_count": 78,
      "metadata": {
        "colab": {
          "base_uri": "https://localhost:8080/"
        },
        "id": "b_i-OcPLb-Rv",
        "outputId": "45a7941a-de18-4be1-faed-ec73a345c678"
      },
      "outputs": [
        {
          "data": {
            "text/plain": [
              "True"
            ]
          },
          "execution_count": 78,
          "metadata": {},
          "output_type": "execute_result"
        }
      ],
      "source": [
        "x.grad_fn == None"
      ]
    },
    {
      "cell_type": "markdown",
      "metadata": {
        "id": "U0VM8aIlHbSr"
      },
      "source": [
        "После применения какой-либо операции к тензору атрибуту `grad_fn`  присваивается объект `Function`, который добавляется в граф вычислений для обратного распространения градиента.\n",
        "\n"
      ]
    },
    {
      "cell_type": "code",
      "execution_count": 79,
      "metadata": {
        "colab": {
          "base_uri": "https://localhost:8080/"
        },
        "id": "ZIcFl4AWHbSs",
        "outputId": "678ba191-3499-4ee1-949e-4c6f0e8aeb57"
      },
      "outputs": [
        {
          "name": "stdout",
          "output_type": "stream",
          "text": [
            "tensor([[3., 3.],\n",
            "        [3., 3.]], grad_fn=<AddBackward0>)\n"
          ]
        }
      ],
      "source": [
        "y = x + 2\n",
        "print(y)"
      ]
    },
    {
      "cell_type": "code",
      "execution_count": 80,
      "metadata": {
        "colab": {
          "base_uri": "https://localhost:8080/"
        },
        "id": "of4Eh18aHbSs",
        "outputId": "6fa14852-0179-4241-c354-3dd9cec8c807"
      },
      "outputs": [
        {
          "name": "stdout",
          "output_type": "stream",
          "text": [
            "tensor([[27., 27.],\n",
            "        [27., 27.]], grad_fn=<MulBackward0>) tensor(27., grad_fn=<MeanBackward0>)\n"
          ]
        }
      ],
      "source": [
        "z = y * y * 3\n",
        "out = z.mean()\n",
        "\n",
        "print(z, out)"
      ]
    },
    {
      "cell_type": "markdown",
      "metadata": {
        "id": "39gLEvmAHbSt"
      },
      "source": [
        "`.grad_fn` может менять \"на лету\""
      ]
    },
    {
      "cell_type": "code",
      "execution_count": 81,
      "metadata": {
        "colab": {
          "base_uri": "https://localhost:8080/"
        },
        "id": "va5zd2xMHbSt",
        "outputId": "1a8ed5fb-6232-4b78-d078-6ceab2bece76"
      },
      "outputs": [
        {
          "name": "stdout",
          "output_type": "stream",
          "text": [
            "False\n",
            "True\n",
            "<SumBackward0 object at 0x1264a58b0>\n"
          ]
        }
      ],
      "source": [
        "a = torch.randn(2, 2)\n",
        "a = ((a * 3) / (a - 1))\n",
        "print(a.requires_grad)\n",
        "a.requires_grad_(True)\n",
        "print(a.requires_grad)\n",
        "b = (a * a).sum()\n",
        "print(b.grad_fn)"
      ]
    },
    {
      "cell_type": "markdown",
      "metadata": {
        "id": "lZcXFmziHbSt"
      },
      "source": [
        "Метод `backward` корневого узла графа вычислений запускает процедуру вычисления градиентов в листовых (is_leaf) узлах, имеющих атрибут requires_grad. Граф дифференцируется по цепочке (chain rule)"
      ]
    },
    {
      "cell_type": "code",
      "execution_count": 82,
      "metadata": {
        "id": "yyNpdWrzHbSu"
      },
      "outputs": [],
      "source": [
        "out.backward()"
      ]
    },
    {
      "cell_type": "code",
      "execution_count": 83,
      "metadata": {
        "colab": {
          "base_uri": "https://localhost:8080/"
        },
        "id": "bSpM1ECkHbSu",
        "outputId": "10f1f901-b504-4b75-8767-87fcc6f1fb18"
      },
      "outputs": [
        {
          "name": "stdout",
          "output_type": "stream",
          "text": [
            "tensor([[4.5000, 4.5000],\n",
            "        [4.5000, 4.5000]])\n"
          ]
        }
      ],
      "source": [
        "print(x.grad)"
      ]
    },
    {
      "cell_type": "markdown",
      "metadata": {
        "id": "LpYFZQuze1u-"
      },
      "source": [
        "По умолчанию промежуточные (не листовые) узлы графа не хранят прошедшие через них градиентов."
      ]
    },
    {
      "cell_type": "code",
      "execution_count": 84,
      "metadata": {
        "colab": {
          "base_uri": "https://localhost:8080/"
        },
        "id": "AEcfJluqe1eQ",
        "outputId": "8b12e041-0fc1-4360-e170-d5e381530906"
      },
      "outputs": [
        {
          "name": "stdout",
          "output_type": "stream",
          "text": [
            "None\n"
          ]
        },
        {
          "name": "stderr",
          "output_type": "stream",
          "text": [
            "/var/folders/77/k237slcs6gv41pmr9lvp716w0000gn/T/ipykernel_94708/1324337507.py:1: UserWarning: The .grad attribute of a Tensor that is not a leaf Tensor is being accessed. Its .grad attribute won't be populated during autograd.backward(). If you indeed want the .grad field to be populated for a non-leaf Tensor, use .retain_grad() on the non-leaf Tensor. If you access the non-leaf Tensor by mistake, make sure you access the leaf Tensor instead. See github.com/pytorch/pytorch/pull/30531 for more informations. (Triggered internally at /Users/runner/work/pytorch/pytorch/pytorch/build/aten/src/ATen/core/TensorBody.h:485.)\n",
            "  print(y.grad)\n"
          ]
        }
      ],
      "source": [
        "print(y.grad)"
      ]
    },
    {
      "cell_type": "markdown",
      "metadata": {
        "id": "6KEkSd3oe7g_"
      },
      "source": [
        "Эту ситуацию можно изменить, вызвав для для конкретного узла метод retain_grad"
      ]
    },
    {
      "cell_type": "code",
      "execution_count": 85,
      "metadata": {
        "id": "19q2HQX8e7JW"
      },
      "outputs": [],
      "source": [
        "x = torch.ones(2, 2, requires_grad=True)\n",
        "y = x + 2\n",
        "y.retain_grad()\n",
        "z = y * y * 3\n",
        "out = z.mean()\n",
        "out.backward()"
      ]
    },
    {
      "cell_type": "code",
      "execution_count": 86,
      "metadata": {
        "colab": {
          "base_uri": "https://localhost:8080/"
        },
        "id": "LXSMmRATfHVO",
        "outputId": "2c9dd519-c692-4632-de6a-9fca09b0a6c7"
      },
      "outputs": [
        {
          "name": "stdout",
          "output_type": "stream",
          "text": [
            "tensor([[4.5000, 4.5000],\n",
            "        [4.5000, 4.5000]])\n"
          ]
        }
      ],
      "source": [
        "print(x.grad)"
      ]
    },
    {
      "cell_type": "code",
      "execution_count": 87,
      "metadata": {
        "colab": {
          "base_uri": "https://localhost:8080/"
        },
        "id": "S9KDgTYLfEib",
        "outputId": "8a1cabb3-d4b0-4ae5-f1d3-b1867dfc701b"
      },
      "outputs": [
        {
          "name": "stdout",
          "output_type": "stream",
          "text": [
            "tensor([[4.5000, 4.5000],\n",
            "        [4.5000, 4.5000]])\n"
          ]
        }
      ],
      "source": [
        "print(y.grad)"
      ]
    },
    {
      "cell_type": "markdown",
      "metadata": {
        "id": "CD3WUBM3HbSw"
      },
      "source": [
        "Иногда с листовыми узлами необходимо проделать действия, не меняя при этом графа. Такие действия проводят, используя контекстный менедежр `no_grad`, которое блокирует создание новых узлов графа"
      ]
    },
    {
      "cell_type": "code",
      "execution_count": 88,
      "metadata": {
        "colab": {
          "base_uri": "https://localhost:8080/"
        },
        "id": "ueu6nMZQHbSw",
        "outputId": "787f0fc8-5349-41c4-8094-d6c5f696c77d"
      },
      "outputs": [
        {
          "name": "stdout",
          "output_type": "stream",
          "text": [
            "True\n",
            "True\n",
            "False\n"
          ]
        }
      ],
      "source": [
        "print(x.requires_grad)\n",
        "print((x ** 2).requires_grad)\n",
        "\n",
        "with torch.no_grad(): # потом можно включить вручную torch.enable_grad()\n",
        "    print((x ** 2).requires_grad)"
      ]
    },
    {
      "cell_type": "markdown",
      "metadata": {
        "id": "rUPp-OS8HbSw"
      },
      "source": [
        "При помощи метода `detach` можно получит \"отсоединенный\" от графа тензор, который будет ссылаться на данные исходного узла, но не быть частью графа"
      ]
    },
    {
      "cell_type": "code",
      "execution_count": 89,
      "metadata": {
        "colab": {
          "base_uri": "https://localhost:8080/"
        },
        "id": "K3xMiiHvHbSx",
        "outputId": "ebc2981e-c2c5-42b7-ec1a-eef61b14f6bf"
      },
      "outputs": [
        {
          "name": "stdout",
          "output_type": "stream",
          "text": [
            "True\n",
            "False\n"
          ]
        }
      ],
      "source": [
        "print(x.requires_grad)\n",
        "y = x.detach()\n",
        "print(y.requires_grad)"
      ]
    },
    {
      "cell_type": "markdown",
      "metadata": {
        "id": "Z9fIoqlRHbSx"
      },
      "source": [
        "## PyTorch text classification"
      ]
    },
    {
      "cell_type": "code",
      "execution_count": 90,
      "metadata": {
        "id": "xfbRqnjUoswz"
      },
      "outputs": [
        {
          "name": "stdout",
          "output_type": "stream",
          "text": [
            "Defaulting to user installation because normal site-packages is not writeable\n",
            "Requirement already satisfied: torchdata in /Users/nikitav/Library/Python/3.9/lib/python/site-packages (0.5.1)\n",
            "Requirement already satisfied: torchtext in /Users/nikitav/Library/Python/3.9/lib/python/site-packages (0.14.1)\n",
            "Requirement already satisfied: requests in /Users/nikitav/Library/Python/3.9/lib/python/site-packages (from torchdata) (2.28.2)\n",
            "Requirement already satisfied: urllib3>=1.25 in /Users/nikitav/Library/Python/3.9/lib/python/site-packages (from torchdata) (1.26.14)\n",
            "Requirement already satisfied: portalocker>=2.0.0 in /Users/nikitav/Library/Python/3.9/lib/python/site-packages (from torchdata) (2.7.0)\n",
            "Requirement already satisfied: torch==1.13.1 in /Users/nikitav/Library/Python/3.9/lib/python/site-packages (from torchdata) (1.13.1)\n",
            "Requirement already satisfied: typing-extensions in /Users/nikitav/Library/Python/3.9/lib/python/site-packages (from torch==1.13.1->torchdata) (4.5.0)\n",
            "Requirement already satisfied: tqdm in /Users/nikitav/Library/Python/3.9/lib/python/site-packages (from torchtext) (4.64.1)\n",
            "Requirement already satisfied: numpy in /Users/nikitav/Library/Python/3.9/lib/python/site-packages (from torchtext) (1.24.2)\n",
            "Requirement already satisfied: charset-normalizer<4,>=2 in /Users/nikitav/Library/Python/3.9/lib/python/site-packages (from requests->torchdata) (3.0.1)\n",
            "Requirement already satisfied: certifi>=2017.4.17 in /Users/nikitav/Library/Python/3.9/lib/python/site-packages (from requests->torchdata) (2022.12.7)\n",
            "Requirement already satisfied: idna<4,>=2.5 in /Users/nikitav/Library/Python/3.9/lib/python/site-packages (from requests->torchdata) (3.4)\n",
            "\u001b[33mWARNING: You are using pip version 21.2.4; however, version 23.0.1 is available.\n",
            "You should consider upgrading via the '/Library/Developer/CommandLineTools/usr/bin/python3 -m pip install --upgrade pip' command.\u001b[0m\n",
            "Note: you may need to restart the kernel to use updated packages.\n"
          ]
        }
      ],
      "source": [
        "%pip install torchdata torchtext"
      ]
    },
    {
      "cell_type": "code",
      "execution_count": 91,
      "metadata": {
        "id": "Uj7jQablHbSz"
      },
      "outputs": [],
      "source": [
        "import time\n",
        "\n",
        "import torch\n",
        "from torch import nn\n",
        "from torch.nn import functional as F\n",
        "from torchtext.datasets import AG_NEWS\n",
        "from torchtext.vocab import build_vocab_from_iterator\n",
        "\n",
        "from torch.utils.data import DataLoader, Dataset\n",
        "from torch.utils.data.dataset import random_split\n",
        "\n",
        "from torchtext.data.utils import get_tokenizer\n",
        "from torchtext.data.functional import to_map_style_dataset"
      ]
    },
    {
      "cell_type": "code",
      "execution_count": 92,
      "metadata": {
        "id": "uJLZUFHfp3sp"
      },
      "outputs": [],
      "source": [
        "if torch.cuda.is_available():\n",
        "    DEVICE = torch.device(\"cuda\")\n",
        "else:\n",
        "    DEVICE = torch.device(\"cpu\")"
      ]
    },
    {
      "cell_type": "code",
      "execution_count": 93,
      "metadata": {
        "colab": {
          "base_uri": "https://localhost:8080/"
        },
        "id": "WgxDF9J3p5dQ",
        "outputId": "7f7bc511-2b02-45ba-b49d-327d29297c4f"
      },
      "outputs": [
        {
          "data": {
            "text/plain": [
              "<torch._C.Generator at 0x10611a5b0>"
            ]
          },
          "execution_count": 93,
          "metadata": {},
          "output_type": "execute_result"
        }
      ],
      "source": [
        "SEED = 1234\n",
        "torch.manual_seed(SEED)"
      ]
    },
    {
      "cell_type": "markdown",
      "metadata": {
        "id": "azvJ-OFGHbSy"
      },
      "source": [
        "#### Load Dataset"
      ]
    },
    {
      "cell_type": "markdown",
      "metadata": {
        "id": "p5i5fMVUsYlb"
      },
      "source": [
        "[torchtext.datasets](https://pytorch.org/text/stable/datasets.html)\n",
        "\n",
        "AG_NEWS is a collection of more than 1 million news articles. News articles have been gathered from more than 2000 news sources by ComeToMyHead in more than 1 year of activity. ComeToMyHead is an academic news search engine which has been running since July, 2004."
      ]
    },
    {
      "cell_type": "markdown",
      "metadata": {
        "id": "AXOG7UknqPAH"
      },
      "source": [
        "Метки:\n",
        "- 1: World\n",
        "- 2: Sports\n",
        "- 3: Business\n",
        "- 4: Sci/Tec"
      ]
    },
    {
      "cell_type": "code",
      "execution_count": 94,
      "metadata": {
        "colab": {
          "base_uri": "https://localhost:8080/"
        },
        "id": "moxe3rAQolyL",
        "outputId": "4466e6b9-c840-45ce-809d-bf1ea13d4a70"
      },
      "outputs": [
        {
          "data": {
            "text/plain": [
              "(3,\n",
              " \"Wall St. Bears Claw Back Into the Black (Reuters) Reuters - Short-sellers, Wall Street's dwindling\\\\band of ultra-cynics, are seeing green again.\")"
            ]
          },
          "execution_count": 94,
          "metadata": {},
          "output_type": "execute_result"
        }
      ],
      "source": [
        "train_iter = iter(AG_NEWS(split='train'))\n",
        "next(train_iter)"
      ]
    },
    {
      "cell_type": "markdown",
      "metadata": {
        "id": "VH06fIrdtoRQ"
      },
      "source": [
        "```\n",
        "_basic_english_normalize - basic normalization for a line of text.\n",
        "    Normalization includes\n",
        "    - lowercasing\n",
        "    - complete some basic text normalization for English words as follows:\n",
        "        add spaces before and after '\\''\n",
        "        remove '\\\"',\n",
        "        add spaces before and after '.'\n",
        "        replace '<br \\/>'with single space\n",
        "        add spaces before and after ','\n",
        "        add spaces before and after '('\n",
        "        add spaces before and after ')'\n",
        "        add spaces before and after '!'\n",
        "        add spaces before and after '?'\n",
        "        replace ';' with single space\n",
        "        replace ':' with single space\n",
        "        replace multiple spaces with single space\n",
        "        Returns a list of tokens after splitting on whitespace.\n",
        "```\n"
      ]
    },
    {
      "attachments": {},
      "cell_type": "markdown",
      "metadata": {},
      "source": [
        "используем токенизатор"
      ]
    },
    {
      "cell_type": "code",
      "execution_count": 95,
      "metadata": {
        "id": "1mzCHpiTpV7K"
      },
      "outputs": [],
      "source": [
        "tokenizer = get_tokenizer('basic_english') # spacy / _basic_english_normalize / toktok\n",
        "train_iter = AG_NEWS(split='train')\n",
        "\n",
        "def yield_tokens(data_iter):\n",
        "    for _, text in data_iter:\n",
        "        yield tokenizer(text)\n",
        "\n",
        "vocab = build_vocab_from_iterator(yield_tokens(train_iter), specials=[\"<unk>\"])\n",
        "vocab.set_default_index(vocab[\"<unk>\"])"
      ]
    },
    {
      "attachments": {},
      "cell_type": "markdown",
      "metadata": {},
      "source": [
        "адреса токенов из словаря"
      ]
    },
    {
      "cell_type": "code",
      "execution_count": 96,
      "metadata": {
        "colab": {
          "base_uri": "https://localhost:8080/"
        },
        "id": "YBMyKIUVpgTV",
        "outputId": "1d649aab-9a50-4242-9bb4-8b3ae56ed412"
      },
      "outputs": [
        {
          "data": {
            "text/plain": [
              "[3318, 42, 4009, 783, 325]"
            ]
          },
          "execution_count": 96,
          "metadata": {},
          "output_type": "execute_result"
        }
      ],
      "source": [
        "vocab(['band', 'are', 'seeing', 'green', 'again'])"
      ]
    },
    {
      "cell_type": "code",
      "execution_count": 97,
      "metadata": {
        "id": "KQ_XKdq1pgWU"
      },
      "outputs": [],
      "source": [
        "text_pipeline = lambda x: vocab(tokenizer(x))\n",
        "label_pipeline = lambda x: int(x) - 1"
      ]
    },
    {
      "cell_type": "code",
      "execution_count": 98,
      "metadata": {
        "id": "7bA12pDep2iz"
      },
      "outputs": [],
      "source": [
        "def collate_batch(batch):\n",
        "    label_list, text_list, offsets = [], [], [0]\n",
        "    for (_label, _text) in batch:\n",
        "         label_list.append(label_pipeline(_label))\n",
        "         processed_text = torch.tensor(text_pipeline(_text), dtype=torch.int64)\n",
        "         text_list.append(processed_text)\n",
        "         offsets.append(processed_text.size(0))\n",
        "    label_list = torch.tensor(label_list, dtype=torch.int64)\n",
        "    offsets = torch.tensor(offsets[:-1]).cumsum(dim=0)\n",
        "    text_list = torch.cat(text_list)\n",
        "    return label_list.to(device), text_list.to(device), offsets.to(device)"
      ]
    },
    {
      "cell_type": "markdown",
      "metadata": {
        "id": "F9Y77YSiHbS4"
      },
      "source": [
        "#### Make the dataset iterable"
      ]
    },
    {
      "cell_type": "markdown",
      "metadata": {
        "id": "-a-lsCzEkGOD"
      },
      "source": [
        "DataLoader оборачивает набор данных в итерируемый объект и поддерживает batching, sampling, shuffling. `batch_size=32` => каждую иетрацию DataLoader будет возвращать пачку из 32 объектов и меток"
      ]
    },
    {
      "cell_type": "code",
      "execution_count": 99,
      "metadata": {
        "id": "GtpnfGHRro3v"
      },
      "outputs": [],
      "source": [
        "BATCH_SIZE = 32 # количество текстов"
      ]
    },
    {
      "attachments": {},
      "cell_type": "markdown",
      "metadata": {},
      "source": [
        "DataLoader - для гибкой настройки\n"
      ]
    },
    {
      "cell_type": "code",
      "execution_count": 100,
      "metadata": {
        "id": "zdTFksHaHbS5"
      },
      "outputs": [],
      "source": [
        "train_iter, test_iter = AG_NEWS()\n",
        "train_dataset = to_map_style_dataset(train_iter) # map-style dataset is one that implements the __getitem__() and __len__() protocols\n",
        "test_dataset = to_map_style_dataset(test_iter)\n",
        "\n",
        "num_train = int(len(train_dataset) * 0.95)\n",
        "split_train_, split_valid_ = random_split(train_dataset, [num_train, len(train_dataset) - num_train])\n",
        "\n",
        "train_dataloader = DataLoader(split_train_, batch_size=BATCH_SIZE, shuffle=True, collate_fn=collate_batch)\n",
        "valid_dataloader = DataLoader(split_valid_, batch_size=BATCH_SIZE, shuffle=True, collate_fn=collate_batch)\n",
        "test_dataloader = DataLoader(test_dataset, batch_size=BATCH_SIZE, shuffle=True, collate_fn=collate_batch)"
      ]
    },
    {
      "cell_type": "code",
      "execution_count": 101,
      "metadata": {
        "colab": {
          "base_uri": "https://localhost:8080/"
        },
        "id": "rYS67nIDwTu-",
        "outputId": "fff10f53-0874-4765-d9c8-6cfe3d159187"
      },
      "outputs": [
        {
          "name": "stdout",
          "output_type": "stream",
          "text": [
            "tensor([2, 0, 3, 3, 3, 3, 1, 0, 3, 3, 2, 0, 0, 1, 1, 3, 3, 0, 1, 3, 2, 3, 1, 2,\n",
            "        2, 3, 0, 0, 3, 1, 0, 0])\n",
            "tensor([8681,   12,    9,  ...,    4, 7028,    1])\n",
            "tensor([   0,   42,   83,  125,  174,  214,  249,  289,  334,  375,  439,  472,\n",
            "         518,  564,  604,  638,  683,  709,  764,  794,  844,  866,  901,  934,\n",
            "         999, 1041, 1077, 1124, 1171, 1203, 1241, 1271])\n"
          ]
        }
      ],
      "source": [
        "for idx, (label, text, offsets) in enumerate(train_dataloader):\n",
        "  print(label)\n",
        "  print(text)\n",
        "  print(offsets)\n",
        "  break"
      ]
    },
    {
      "cell_type": "markdown",
      "metadata": {
        "id": "4U2MdUlVHbS5"
      },
      "source": [
        "#### Build the model"
      ]
    },
    {
      "cell_type": "markdown",
      "metadata": {
        "id": "Vbbz4lwJxdUY"
      },
      "source": [
        "![image.png](data:image/png;base64,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)"
      ]
    },
    {
      "cell_type": "markdown",
      "metadata": {
        "id": "c3Aaf-_Llbqx"
      },
      "source": [
        "Для создания нейронной сети в PyTorch, мы создаем класс, который наследуется от [nn.Module](https://pytorch.org/docs/stable/generated/torch.nn.Module.html). \n",
        "Определяем структуру сети в  `__init__` и определяем, как данные будут проходить по сети (forward pass)."
      ]
    },
    {
      "cell_type": "code",
      "execution_count": 102,
      "metadata": {
        "id": "pm9uMecpHbS6"
      },
      "outputs": [],
      "source": [
        "class TextClassificationModel(nn.Module):\n",
        "    def __init__(self, vocab_size, embed_dim, num_class):\n",
        "        super(TextClassificationModel, self).__init__()\n",
        "        # наш линейный слой, считаем усреднение по словарю embed_dim -размерность на выходн\n",
        "        self.embedding = nn.EmbeddingBag(vocab_size, embed_dim, sparse=True) # Computes sums or means of ‘bags’ of embeddings\n",
        "        self.fc = nn.Linear(embed_dim, num_class)\n",
        "        self.init_weights()\n",
        "\n",
        "    def init_weights(self):\n",
        "        initrange = 0.5\n",
        "        self.embedding.weight.data.uniform_(-initrange, initrange)\n",
        "        self.fc.weight.data.uniform_(-initrange, initrange)\n",
        "        self.fc.bias.data.zero_()\n",
        "\n",
        "    # прямой проход по нейронной сети\n",
        "    def forward(self, text, offsets):\n",
        "        embedded = self.embedding(text, offsets)\n",
        "        return self.fc(embedded)"
      ]
    },
    {
      "cell_type": "code",
      "execution_count": 103,
      "metadata": {
        "id": "7hLFCLJlHbS6"
      },
      "outputs": [],
      "source": [
        "num_class = len(set([label for (label, text) in train_iter]))\n",
        "vocab_size = len(vocab)\n",
        "emsize = 64\n",
        "\n",
        "EPOCHS = 10\n",
        "BATCH_SIZE = 64\n",
        "# Инициализация модели\n",
        "model = TextClassificationModel(vocab_size, emsize, num_class).to(device)"
      ]
    },
    {
      "cell_type": "markdown",
      "metadata": {
        "id": "a4ZY1i1il8RB"
      },
      "source": [
        "Для обучения модели нам нужны [loss function](https://pytorch.org/docs/stable/nn.html#loss-functions)\n",
        "и [optimizer](https://pytorch.org/docs/stable/optim.html).\n",
        "\n"
      ]
    },
    {
      "cell_type": "code",
      "execution_count": 104,
      "metadata": {
        "id": "JP1iM8GZrOkH"
      },
      "outputs": [],
      "source": [
        "criterion = torch.nn.CrossEntropyLoss()\n",
        "# Очень важно выбирать оптимизатор\n",
        "optimizer = torch.optim.SGD(model.parameters(), lr=1)"
      ]
    },
    {
      "cell_type": "markdown",
      "metadata": {
        "id": "J-epJQZRr2tc"
      },
      "source": [
        "Train/evaluate loops"
      ]
    },
    {
      "cell_type": "code",
      "execution_count": 105,
      "metadata": {
        "id": "zSFRFZeFr2Ci"
      },
      "outputs": [],
      "source": [
        "def train(dataloader):\n",
        "    model.train()\n",
        "    total_acc, total_count = 0, 0\n",
        "    log_interval = 500\n",
        "    start_time = time.time()\n",
        "\n",
        "    for idx, (label, text, offsets) in enumerate(dataloader):\n",
        "        optimizer.zero_grad() # обнуляем градиеты перед проходом\n",
        "        predicted_label = model(text, offsets)\n",
        "        loss = criterion(predicted_label, label)\n",
        "        loss.backward()\n",
        "        torch.nn.utils.clip_grad_norm_(model.parameters(), 0.1)\n",
        "        optimizer.step()\n",
        "        total_acc += (predicted_label.argmax(1) == label).sum().item()\n",
        "        total_count += label.size(0) # выводим точность в консоль\n",
        "        if idx % log_interval == 0 and idx > 0:\n",
        "            elapsed = time.time() - start_time\n",
        "            print('| epoch {:3d} | {:5d}/{:5d} batches '\n",
        "                  '| accuracy {:8.3f}'.format(epoch, idx, len(dataloader),\n",
        "                                              total_acc/total_count))\n",
        "            total_acc, total_count = 0, 0\n",
        "            start_time = time.time()\n",
        "\n",
        "def evaluate(dataloader):\n",
        "    model.eval()\n",
        "    total_acc, total_count = 0, 0\n",
        "\n",
        "    with torch.no_grad():\n",
        "        for idx, (label, text, offsets) in enumerate(dataloader):\n",
        "            predicted_label = model(text, offsets)\n",
        "            loss = criterion(predicted_label, label)\n",
        "            total_acc += (predicted_label.argmax(1) == label).sum().item()\n",
        "            total_count += label.size(0)\n",
        "    return total_acc / total_count"
      ]
    },
    {
      "cell_type": "code",
      "execution_count": 106,
      "metadata": {
        "colab": {
          "base_uri": "https://localhost:8080/"
        },
        "id": "sA6Ldj5Qq4hX",
        "outputId": "baecbcd1-eade-4d56-e576-0394a3a85a6a"
      },
      "outputs": [
        {
          "name": "stdout",
          "output_type": "stream",
          "text": [
            "| epoch   1 |   500/ 3563 batches | accuracy    0.491\n",
            "| epoch   1 |  1000/ 3563 batches | accuracy    0.716\n",
            "| epoch   1 |  1500/ 3563 batches | accuracy    0.799\n",
            "| epoch   1 |  2000/ 3563 batches | accuracy    0.829\n",
            "| epoch   1 |  2500/ 3563 batches | accuracy    0.853\n",
            "| epoch   1 |  3000/ 3563 batches | accuracy    0.864\n",
            "| epoch   1 |  3500/ 3563 batches | accuracy    0.873\n",
            "-----------------------------------------------------------\n",
            "| end of epoch   1 | time:  7.08s | valid accuracy    0.868 \n",
            "-----------------------------------------------------------\n",
            "| epoch   2 |   500/ 3563 batches | accuracy    0.882\n",
            "| epoch   2 |  1000/ 3563 batches | accuracy    0.890\n",
            "| epoch   2 |  1500/ 3563 batches | accuracy    0.890\n",
            "| epoch   2 |  2000/ 3563 batches | accuracy    0.892\n",
            "| epoch   2 |  2500/ 3563 batches | accuracy    0.892\n",
            "| epoch   2 |  3000/ 3563 batches | accuracy    0.895\n",
            "| epoch   2 |  3500/ 3563 batches | accuracy    0.899\n",
            "-----------------------------------------------------------\n",
            "| end of epoch   2 | time:  6.82s | valid accuracy    0.884 \n",
            "-----------------------------------------------------------\n",
            "| epoch   3 |   500/ 3563 batches | accuracy    0.906\n",
            "| epoch   3 |  1000/ 3563 batches | accuracy    0.906\n",
            "| epoch   3 |  1500/ 3563 batches | accuracy    0.906\n",
            "| epoch   3 |  2000/ 3563 batches | accuracy    0.904\n",
            "| epoch   3 |  2500/ 3563 batches | accuracy    0.910\n",
            "| epoch   3 |  3000/ 3563 batches | accuracy    0.908\n",
            "| epoch   3 |  3500/ 3563 batches | accuracy    0.910\n",
            "-----------------------------------------------------------\n",
            "| end of epoch   3 | time:  6.79s | valid accuracy    0.890 \n",
            "-----------------------------------------------------------\n",
            "| epoch   4 |   500/ 3563 batches | accuracy    0.914\n",
            "| epoch   4 |  1000/ 3563 batches | accuracy    0.913\n",
            "| epoch   4 |  1500/ 3563 batches | accuracy    0.916\n",
            "| epoch   4 |  2000/ 3563 batches | accuracy    0.918\n",
            "| epoch   4 |  2500/ 3563 batches | accuracy    0.918\n",
            "| epoch   4 |  3000/ 3563 batches | accuracy    0.914\n",
            "| epoch   4 |  3500/ 3563 batches | accuracy    0.919\n",
            "-----------------------------------------------------------\n",
            "| end of epoch   4 | time:  6.75s | valid accuracy    0.895 \n",
            "-----------------------------------------------------------\n",
            "| epoch   5 |   500/ 3563 batches | accuracy    0.924\n",
            "| epoch   5 |  1000/ 3563 batches | accuracy    0.926\n",
            "| epoch   5 |  1500/ 3563 batches | accuracy    0.922\n",
            "| epoch   5 |  2000/ 3563 batches | accuracy    0.922\n",
            "| epoch   5 |  2500/ 3563 batches | accuracy    0.920\n",
            "| epoch   5 |  3000/ 3563 batches | accuracy    0.921\n",
            "| epoch   5 |  3500/ 3563 batches | accuracy    0.926\n",
            "-----------------------------------------------------------\n",
            "| end of epoch   5 | time:  6.78s | valid accuracy    0.897 \n",
            "-----------------------------------------------------------\n",
            "| epoch   6 |   500/ 3563 batches | accuracy    0.931\n",
            "| epoch   6 |  1000/ 3563 batches | accuracy    0.928\n",
            "| epoch   6 |  1500/ 3563 batches | accuracy    0.930\n",
            "| epoch   6 |  2000/ 3563 batches | accuracy    0.927\n",
            "| epoch   6 |  2500/ 3563 batches | accuracy    0.927\n",
            "| epoch   6 |  3000/ 3563 batches | accuracy    0.926\n",
            "| epoch   6 |  3500/ 3563 batches | accuracy    0.924\n",
            "-----------------------------------------------------------\n",
            "| end of epoch   6 | time:  6.72s | valid accuracy    0.899 \n",
            "-----------------------------------------------------------\n",
            "| epoch   7 |   500/ 3563 batches | accuracy    0.934\n",
            "| epoch   7 |  1000/ 3563 batches | accuracy    0.932\n",
            "| epoch   7 |  1500/ 3563 batches | accuracy    0.934\n",
            "| epoch   7 |  2000/ 3563 batches | accuracy    0.932\n",
            "| epoch   7 |  2500/ 3563 batches | accuracy    0.931\n",
            "| epoch   7 |  3000/ 3563 batches | accuracy    0.931\n",
            "| epoch   7 |  3500/ 3563 batches | accuracy    0.931\n",
            "-----------------------------------------------------------\n",
            "| end of epoch   7 | time:  6.76s | valid accuracy    0.900 \n",
            "-----------------------------------------------------------\n",
            "| epoch   8 |   500/ 3563 batches | accuracy    0.942\n",
            "| epoch   8 |  1000/ 3563 batches | accuracy    0.935\n",
            "| epoch   8 |  1500/ 3563 batches | accuracy    0.937\n",
            "| epoch   8 |  2000/ 3563 batches | accuracy    0.939\n",
            "| epoch   8 |  2500/ 3563 batches | accuracy    0.933\n",
            "| epoch   8 |  3000/ 3563 batches | accuracy    0.932\n",
            "| epoch   8 |  3500/ 3563 batches | accuracy    0.935\n",
            "-----------------------------------------------------------\n",
            "| end of epoch   8 | time:  6.77s | valid accuracy    0.907 \n",
            "-----------------------------------------------------------\n",
            "| epoch   9 |   500/ 3563 batches | accuracy    0.941\n",
            "| epoch   9 |  1000/ 3563 batches | accuracy    0.943\n",
            "| epoch   9 |  1500/ 3563 batches | accuracy    0.941\n",
            "| epoch   9 |  2000/ 3563 batches | accuracy    0.940\n",
            "| epoch   9 |  2500/ 3563 batches | accuracy    0.937\n",
            "| epoch   9 |  3000/ 3563 batches | accuracy    0.934\n",
            "| epoch   9 |  3500/ 3563 batches | accuracy    0.938\n",
            "-----------------------------------------------------------\n",
            "| end of epoch   9 | time:  7.12s | valid accuracy    0.903 \n",
            "-----------------------------------------------------------\n",
            "| epoch  10 |   500/ 3563 batches | accuracy    0.943\n",
            "| epoch  10 |  1000/ 3563 batches | accuracy    0.951\n",
            "| epoch  10 |  1500/ 3563 batches | accuracy    0.947\n",
            "| epoch  10 |  2000/ 3563 batches | accuracy    0.951\n",
            "| epoch  10 |  2500/ 3563 batches | accuracy    0.950\n",
            "| epoch  10 |  3000/ 3563 batches | accuracy    0.951\n",
            "| epoch  10 |  3500/ 3563 batches | accuracy    0.950\n",
            "-----------------------------------------------------------\n",
            "| end of epoch  10 | time:  7.14s | valid accuracy    0.906 \n",
            "-----------------------------------------------------------\n"
          ]
        }
      ],
      "source": [
        "# шедулер - объеккт для гибкого вариирования скорости обучения\n",
        "scheduler = torch.optim.lr_scheduler.StepLR(optimizer, 1.0, gamma=0.1)\n",
        "total_accu = None\n",
        "\n",
        "for epoch in range(1, EPOCHS + 1):\n",
        "    epoch_start_time = time.time()\n",
        "    train(train_dataloader)\n",
        "    accu_val = evaluate(valid_dataloader)\n",
        "    if total_accu is not None and total_accu > accu_val:\n",
        "      scheduler.step()\n",
        "    else:\n",
        "       total_accu = accu_val\n",
        "    print('-' * 59)\n",
        "    print('| end of epoch {:3d} | time: {:5.2f}s | '\n",
        "          'valid accuracy {:8.3f} '.format(epoch,\n",
        "                                           time.time() - epoch_start_time,\n",
        "                                           accu_val))\n",
        "    print('-' * 59)"
      ]
    },
    {
      "cell_type": "code",
      "execution_count": 107,
      "metadata": {
        "colab": {
          "base_uri": "https://localhost:8080/"
        },
        "id": "WfWv-FdGq4eC",
        "outputId": "a4845188-3c13-425a-c5a0-b2e2a14289cc"
      },
      "outputs": [
        {
          "name": "stdout",
          "output_type": "stream",
          "text": [
            "Checking the results of test dataset.\n",
            "test accuracy    0.906\n"
          ]
        }
      ],
      "source": [
        "print('Checking the results of test dataset.')\n",
        "accu_test = evaluate(test_dataloader)\n",
        "print('test accuracy {:8.3f}'.format(accu_test))"
      ]
    }
  ],
  "metadata": {
    "accelerator": "GPU",
    "colab": {
      "provenance": [],
      "toc_visible": true
    },
    "gpuClass": "standard",
    "kernelspec": {
      "display_name": "Python 3",
      "language": "python",
      "name": "python3"
    },
    "language_info": {
      "codemirror_mode": {
        "name": "ipython",
        "version": 3
      },
      "file_extension": ".py",
      "mimetype": "text/x-python",
      "name": "python",
      "nbconvert_exporter": "python",
      "pygments_lexer": "ipython3",
      "version": "3.9.6"
    },
    "vscode": {
      "interpreter": {
        "hash": "31f2aee4e71d21fbe5cf8b01ff0e069b9275f58929596ceb00d14d90e3e16cd6"
      }
    }
  },
  "nbformat": 4,
  "nbformat_minor": 0
}
