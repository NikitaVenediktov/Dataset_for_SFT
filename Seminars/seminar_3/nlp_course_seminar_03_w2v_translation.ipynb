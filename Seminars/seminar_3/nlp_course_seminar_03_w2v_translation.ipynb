{
  "cells": [
    {
      "cell_type": "markdown",
      "source": [
        "[Exploiting Similarities among Languages for Machine Translation](https://arxiv.org/pdf/1309.4168.pdf)\n",
        "\n",
        "[Самоучитель клингонского](https://habr.com/ru/company/antiplagiat/blog/507848/)\n",
        "\n",
        "[Word vectors for 157 languages](https://fasttext.cc/docs/en/crawl-vectors.html)"
      ],
      "metadata": {
        "id": "nW8I1JMPPOk1"
      }
    },
    {
      "cell_type": "code",
      "source": [
        "from google.colab import drive\n",
        "drive.mount('/content/gdrive')"
      ],
      "metadata": {
        "colab": {
          "base_uri": "https://localhost:8080/"
        },
        "id": "dbqkCqarqzQ-",
        "outputId": "a089e74e-496b-4279-e033-ac2f4a81ab90"
      },
      "execution_count": 1,
      "outputs": [
        {
          "output_type": "stream",
          "name": "stdout",
          "text": [
            "Mounted at /content/gdrive\n"
          ]
        }
      ]
    },
    {
      "cell_type": "code",
      "source": [
        "%cd gdrive/MyDrive/embeddings"
      ],
      "metadata": {
        "colab": {
          "base_uri": "https://localhost:8080/"
        },
        "id": "UhGPrZR8q1ow",
        "outputId": "7cb9acff-cd98-4592-d6c1-1095500472ce"
      },
      "execution_count": 2,
      "outputs": [
        {
          "output_type": "stream",
          "name": "stdout",
          "text": [
            "/content/gdrive/MyDrive/embeddings\n"
          ]
        }
      ]
    },
    {
      "cell_type": "markdown",
      "metadata": {
        "id": "aS-P0IXzoP8B"
      },
      "source": [
        "## Data"
      ]
    },
    {
      "cell_type": "code",
      "execution_count": 3,
      "metadata": {
        "id": "OR-W3P0RoP8B"
      },
      "outputs": [],
      "source": [
        "import gensim\n",
        "import numpy as np\n",
        "from gensim.models import KeyedVectors"
      ]
    },
    {
      "cell_type": "markdown",
      "source": [
        "### Загрузка эмбеддингов"
      ],
      "metadata": {
        "id": "EBPwjVnZMYgm"
      }
    },
    {
      "cell_type": "code",
      "source": [
        "#!unzip cc.uk.300.vec.zip"
      ],
      "metadata": {
        "id": "HEc-PxoDrF18"
      },
      "execution_count": null,
      "outputs": []
    },
    {
      "cell_type": "code",
      "source": [
        "#!unzip cc.ru.300.vec.zip"
      ],
      "metadata": {
        "id": "4xL7B23erNKz"
      },
      "execution_count": 5,
      "outputs": []
    },
    {
      "cell_type": "code",
      "execution_count": 6,
      "metadata": {
        "id": "H8gXrIAFoP8D"
      },
      "outputs": [],
      "source": [
        "uk_emb = KeyedVectors.load_word2vec_format(\"cc.uk.300.vec\")"
      ]
    },
    {
      "cell_type": "code",
      "execution_count": 7,
      "metadata": {
        "id": "zDWsKChjoP8D"
      },
      "outputs": [],
      "source": [
        "ru_emb = KeyedVectors.load_word2vec_format(\"cc.ru.300.vec\")"
      ]
    },
    {
      "cell_type": "code",
      "execution_count": 8,
      "metadata": {
        "colab": {
          "base_uri": "https://localhost:8080/"
        },
        "id": "ZQaUppJxoP8D",
        "outputId": "67a602eb-dc04-4eef-f192-067cbe9846ba"
      },
      "outputs": [
        {
          "output_type": "execute_result",
          "data": {
            "text/plain": [
              "[('август', 1.0),\n",
              " ('июль', 0.9383153915405273),\n",
              " ('сентябрь', 0.9240028858184814),\n",
              " ('июнь', 0.9222575426101685),\n",
              " ('октябрь', 0.9095538854598999),\n",
              " ('ноябрь', 0.8930036425590515),\n",
              " ('апрель', 0.8729087114334106),\n",
              " ('декабрь', 0.8652557730674744),\n",
              " ('март', 0.8545796275138855),\n",
              " ('февраль', 0.8401416540145874)]"
            ]
          },
          "metadata": {},
          "execution_count": 8
        }
      ],
      "source": [
        "ru_emb.most_similar([ru_emb[\"август\"]], topn=10)"
      ]
    },
    {
      "cell_type": "code",
      "execution_count": 9,
      "metadata": {
        "colab": {
          "base_uri": "https://localhost:8080/"
        },
        "id": "Xn-1njbhoP8D",
        "outputId": "7be78878-f96a-419a-bdbf-43c7d8f8ffbf"
      },
      "outputs": [
        {
          "output_type": "execute_result",
          "data": {
            "text/plain": [
              "[('серпень', 0.9999999403953552),\n",
              " ('липень', 0.9096440076828003),\n",
              " ('вересень', 0.901697039604187),\n",
              " ('червень', 0.8992519378662109),\n",
              " ('жовтень', 0.8810408711433411),\n",
              " ('листопад', 0.8787633776664734),\n",
              " ('квітень', 0.8592804670333862),\n",
              " ('грудень', 0.8586863279342651),\n",
              " ('травень', 0.8408110737800598),\n",
              " ('лютий', 0.8256431818008423)]"
            ]
          },
          "metadata": {},
          "execution_count": 9
        }
      ],
      "source": [
        "uk_emb.most_similar([uk_emb[\"серпень\"]])"
      ]
    },
    {
      "cell_type": "code",
      "execution_count": 10,
      "metadata": {
        "colab": {
          "base_uri": "https://localhost:8080/"
        },
        "id": "fBm_0oJAoP8D",
        "outputId": "c02182a3-6443-4c6d-f9fd-58de4914a4e8"
      },
      "outputs": [
        {
          "output_type": "execute_result",
          "data": {
            "text/plain": [
              "[('Недопустимость', 0.24435284733772278),\n",
              " ('конструктивность', 0.23293080925941467),\n",
              " ('офор', 0.23256804049015045),\n",
              " ('deteydlya', 0.23031717538833618),\n",
              " ('пресечении', 0.22632381319999695),\n",
              " ('одностороннего', 0.22608885169029236),\n",
              " ('подход', 0.2230587601661682),\n",
              " ('иболее', 0.22003726661205292),\n",
              " ('2015Александр', 0.21872764825820923),\n",
              " ('конструктивен', 0.21796566247940063)]"
            ]
          },
          "metadata": {},
          "execution_count": 10
        }
      ],
      "source": [
        "ru_emb.most_similar([uk_emb[\"серпень\"]])"
      ]
    },
    {
      "cell_type": "markdown",
      "metadata": {
        "id": "1J9ClrB3oP8D"
      },
      "source": [
        "### Загрузка размеченных датасетов"
      ]
    },
    {
      "cell_type": "code",
      "execution_count": 11,
      "metadata": {
        "id": "YqE_fZgaoP8E"
      },
      "outputs": [],
      "source": [
        "def load_word_pairs(filename):\n",
        "    uk_ru_pairs = []\n",
        "    uk_vectors = []\n",
        "    ru_vectors = []\n",
        "    with open(filename, \"r\") as inpf:\n",
        "        for line in inpf:\n",
        "            uk, ru = line.rstrip().split(\"\\t\")\n",
        "            if uk not in uk_emb or ru not in ru_emb:\n",
        "                continue\n",
        "            uk_ru_pairs.append((uk, ru))\n",
        "            uk_vectors.append(uk_emb[uk])\n",
        "            ru_vectors.append(ru_emb[ru])\n",
        "    return uk_ru_pairs, np.array(uk_vectors), np.array(ru_vectors)"
      ]
    },
    {
      "cell_type": "code",
      "execution_count": 12,
      "metadata": {
        "id": "iag5Qq14oP8E"
      },
      "outputs": [],
      "source": [
        "uk_ru_train, X_train, Y_train = load_word_pairs(\"ukr_rus.train.txt\")"
      ]
    },
    {
      "cell_type": "code",
      "execution_count": 13,
      "metadata": {
        "id": "Qvy7ZWcuoP8E"
      },
      "outputs": [],
      "source": [
        "uk_ru_test, X_test, Y_test = load_word_pairs(\"ukr_rus.test.txt\")"
      ]
    },
    {
      "cell_type": "markdown",
      "metadata": {
        "id": "lYrHfEfSoP8E"
      },
      "source": [
        "## Маппинг эмбеддингов"
      ]
    },
    {
      "cell_type": "markdown",
      "metadata": {
        "id": "bv8iKs-BoP8E"
      },
      "source": [
        "Пусть $x_i \\in \\mathrm{R}^d$ векторное представление слова $i$ на исходном языке, и $y_i \\in \\mathrm{R}^d$ векторное представление его перевода на целевой язык. Наша цель - выучить линейную трансформацию $W$которая минимизирует Евклидово расстояние между $Wx_i$ и $y_i$ для некоторого подмножества векторов. Все это - Procrustes problem:\n",
        "\n",
        "$$W^*= \\arg\\min_W \\sum_{i=1}^n||Wx_i - y_i||_2$$\n",
        "или\n",
        "$$W^*= \\arg\\min_W ||WX - Y||_F$$\n",
        "\n",
        "где $||*||_F$ - норма Фробениуса.\n",
        "\n",
        "В греческой мифологии Прокруст был разбойником, который обитал в находящемся в Аттике Коридалле  и подстерегал путников на пути между Мегарой и Афинами. Он обманом заманивал путешественников в свой дом, укладывал их на своё ложе и тем, кому оно было коротко, отрубал ноги, а кому было длинно — вытягивал ноги по длине этого ложа.\n",
        "Мы делаем то же самое с нашим пространством :) Прокрустово ложе в данном случае — это целевое пространство для эмбеддингов."
      ]
    },
    {
      "cell_type": "markdown",
      "metadata": {
        "id": "2jOaU10ZoP8E"
      },
      "source": [
        "![embedding_mapping.png](https://github.com/yandexdataschool/nlp_course/raw/master/resources/embedding_mapping.png)"
      ]
    },
    {
      "cell_type": "markdown",
      "source": [
        "Обучим маппинг"
      ],
      "metadata": {
        "id": "cG98ZEzeNzEe"
      }
    },
    {
      "cell_type": "code",
      "execution_count": 14,
      "metadata": {
        "colab": {
          "base_uri": "https://localhost:8080/",
          "height": 75
        },
        "id": "l90bbAUwoP8F",
        "outputId": "77b4bd56-900c-49ba-8fc4-1dbb41966994"
      },
      "outputs": [
        {
          "output_type": "execute_result",
          "data": {
            "text/plain": [
              "LinearRegression(fit_intercept=False)"
            ],
            "text/html": [
              "<style>#sk-container-id-1 {color: black;background-color: white;}#sk-container-id-1 pre{padding: 0;}#sk-container-id-1 div.sk-toggleable {background-color: white;}#sk-container-id-1 label.sk-toggleable__label {cursor: pointer;display: block;width: 100%;margin-bottom: 0;padding: 0.3em;box-sizing: border-box;text-align: center;}#sk-container-id-1 label.sk-toggleable__label-arrow:before {content: \"▸\";float: left;margin-right: 0.25em;color: #696969;}#sk-container-id-1 label.sk-toggleable__label-arrow:hover:before {color: black;}#sk-container-id-1 div.sk-estimator:hover label.sk-toggleable__label-arrow:before {color: black;}#sk-container-id-1 div.sk-toggleable__content {max-height: 0;max-width: 0;overflow: hidden;text-align: left;background-color: #f0f8ff;}#sk-container-id-1 div.sk-toggleable__content pre {margin: 0.2em;color: black;border-radius: 0.25em;background-color: #f0f8ff;}#sk-container-id-1 input.sk-toggleable__control:checked~div.sk-toggleable__content {max-height: 200px;max-width: 100%;overflow: auto;}#sk-container-id-1 input.sk-toggleable__control:checked~label.sk-toggleable__label-arrow:before {content: \"▾\";}#sk-container-id-1 div.sk-estimator input.sk-toggleable__control:checked~label.sk-toggleable__label {background-color: #d4ebff;}#sk-container-id-1 div.sk-label input.sk-toggleable__control:checked~label.sk-toggleable__label {background-color: #d4ebff;}#sk-container-id-1 input.sk-hidden--visually {border: 0;clip: rect(1px 1px 1px 1px);clip: rect(1px, 1px, 1px, 1px);height: 1px;margin: -1px;overflow: hidden;padding: 0;position: absolute;width: 1px;}#sk-container-id-1 div.sk-estimator {font-family: monospace;background-color: #f0f8ff;border: 1px dotted black;border-radius: 0.25em;box-sizing: border-box;margin-bottom: 0.5em;}#sk-container-id-1 div.sk-estimator:hover {background-color: #d4ebff;}#sk-container-id-1 div.sk-parallel-item::after {content: \"\";width: 100%;border-bottom: 1px solid gray;flex-grow: 1;}#sk-container-id-1 div.sk-label:hover label.sk-toggleable__label {background-color: #d4ebff;}#sk-container-id-1 div.sk-serial::before {content: \"\";position: absolute;border-left: 1px solid gray;box-sizing: border-box;top: 0;bottom: 0;left: 50%;z-index: 0;}#sk-container-id-1 div.sk-serial {display: flex;flex-direction: column;align-items: center;background-color: white;padding-right: 0.2em;padding-left: 0.2em;position: relative;}#sk-container-id-1 div.sk-item {position: relative;z-index: 1;}#sk-container-id-1 div.sk-parallel {display: flex;align-items: stretch;justify-content: center;background-color: white;position: relative;}#sk-container-id-1 div.sk-item::before, #sk-container-id-1 div.sk-parallel-item::before {content: \"\";position: absolute;border-left: 1px solid gray;box-sizing: border-box;top: 0;bottom: 0;left: 50%;z-index: -1;}#sk-container-id-1 div.sk-parallel-item {display: flex;flex-direction: column;z-index: 1;position: relative;background-color: white;}#sk-container-id-1 div.sk-parallel-item:first-child::after {align-self: flex-end;width: 50%;}#sk-container-id-1 div.sk-parallel-item:last-child::after {align-self: flex-start;width: 50%;}#sk-container-id-1 div.sk-parallel-item:only-child::after {width: 0;}#sk-container-id-1 div.sk-dashed-wrapped {border: 1px dashed gray;margin: 0 0.4em 0.5em 0.4em;box-sizing: border-box;padding-bottom: 0.4em;background-color: white;}#sk-container-id-1 div.sk-label label {font-family: monospace;font-weight: bold;display: inline-block;line-height: 1.2em;}#sk-container-id-1 div.sk-label-container {text-align: center;}#sk-container-id-1 div.sk-container {/* jupyter's `normalize.less` sets `[hidden] { display: none; }` but bootstrap.min.css set `[hidden] { display: none !important; }` so we also need the `!important` here to be able to override the default hidden behavior on the sphinx rendered scikit-learn.org. See: https://github.com/scikit-learn/scikit-learn/issues/21755 */display: inline-block !important;position: relative;}#sk-container-id-1 div.sk-text-repr-fallback {display: none;}</style><div id=\"sk-container-id-1\" class=\"sk-top-container\"><div class=\"sk-text-repr-fallback\"><pre>LinearRegression(fit_intercept=False)</pre><b>In a Jupyter environment, please rerun this cell to show the HTML representation or trust the notebook. <br />On GitHub, the HTML representation is unable to render, please try loading this page with nbviewer.org.</b></div><div class=\"sk-container\" hidden><div class=\"sk-item\"><div class=\"sk-estimator sk-toggleable\"><input class=\"sk-toggleable__control sk-hidden--visually\" id=\"sk-estimator-id-1\" type=\"checkbox\" checked><label for=\"sk-estimator-id-1\" class=\"sk-toggleable__label sk-toggleable__label-arrow\">LinearRegression</label><div class=\"sk-toggleable__content\"><pre>LinearRegression(fit_intercept=False)</pre></div></div></div></div></div>"
            ]
          },
          "metadata": {},
          "execution_count": 14
        }
      ],
      "source": [
        "from sklearn.linear_model import LinearRegression\n",
        "\n",
        "mapping = LinearRegression(fit_intercept=False)\n",
        "mapping.fit(X_train, Y_train)"
      ]
    },
    {
      "cell_type": "markdown",
      "metadata": {
        "id": "fQRybqvRoP8F"
      },
      "source": [
        "Посмотрим, что теперь получилось"
      ]
    },
    {
      "cell_type": "code",
      "execution_count": 15,
      "metadata": {
        "colab": {
          "base_uri": "https://localhost:8080/"
        },
        "id": "wlVyihWPoP8F",
        "outputId": "69947da7-0c56-47ea-fcf7-2a79d43508f6"
      },
      "outputs": [
        {
          "output_type": "execute_result",
          "data": {
            "text/plain": [
              "[('апрель', 0.8541285991668701),\n",
              " ('июнь', 0.8411202430725098),\n",
              " ('март', 0.839699387550354),\n",
              " ('сентябрь', 0.835986852645874),\n",
              " ('февраль', 0.8329297304153442),\n",
              " ('октябрь', 0.8311846256256104),\n",
              " ('ноябрь', 0.8278924226760864),\n",
              " ('июль', 0.823452889919281),\n",
              " ('август', 0.8120500445365906),\n",
              " ('декабрь', 0.8039003610610962)]"
            ]
          },
          "metadata": {},
          "execution_count": 15
        }
      ],
      "source": [
        "august = mapping.predict(uk_emb[\"серпень\"].reshape(1, -1))\n",
        "ru_emb.most_similar(august)"
      ]
    },
    {
      "cell_type": "markdown",
      "metadata": {
        "id": "l1QJ5eH8oP8F"
      },
      "source": [
        "Метрика - precision@k"
      ]
    },
    {
      "cell_type": "code",
      "execution_count": 16,
      "metadata": {
        "id": "GouB0rsaoP8F"
      },
      "outputs": [],
      "source": [
        "def precision(pairs, mapped_vectors, topn=1):\n",
        "    assert len(pairs) == len(mapped_vectors)\n",
        "    num_matches = 0\n",
        "    for i, (_, ru) in enumerate(pairs):\n",
        "        result = ru_emb.most_similar(mapped_vectors[i, :].reshape(1, -1))\n",
        "        if ru in [item[0] for item in result[:topn]]:\n",
        "          num_matches += 1\n",
        "    precision_val = num_matches / len(pairs)\n",
        "    return precision_val\n"
      ]
    },
    {
      "cell_type": "code",
      "execution_count": 17,
      "metadata": {
        "id": "oNGxK25joP8G"
      },
      "outputs": [],
      "source": [
        "assert precision([(\"серпень\", \"август\")], august, topn=5) == 0.0\n",
        "assert precision([(\"серпень\", \"август\")], august, topn=9) == 1.0\n",
        "assert precision([(\"серпень\", \"август\")], august, topn=10) == 1.0"
      ]
    },
    {
      "cell_type": "code",
      "execution_count": 18,
      "metadata": {
        "id": "wjqkEgCBoP8G",
        "colab": {
          "base_uri": "https://localhost:8080/"
        },
        "outputId": "c8a76dfe-8f0c-45f3-b649-fb8d9f6dadf0"
      },
      "outputs": [
        {
          "output_type": "execute_result",
          "data": {
            "text/plain": [
              "0.6356589147286822"
            ]
          },
          "metadata": {},
          "execution_count": 18
        }
      ],
      "source": [
        "precision_top1 = precision(uk_ru_test, mapping.predict(X_test), 1)\n",
        "precision_top1"
      ]
    },
    {
      "cell_type": "markdown",
      "metadata": {
        "id": "iEySdS8ooP8G"
      },
      "source": [
        "## Улучшение (orthogonal Procrustean problem)"
      ]
    },
    {
      "cell_type": "markdown",
      "metadata": {
        "id": "bI7PxJuQoP8G"
      },
      "source": [
        "В оригинальной статье показано, что линейный маппинг должен быть ортогональным. \n",
        "Наложим ограничение ортогональности на $W$. Тогда\n",
        "\n",
        "$$W^*= \\arg\\min_W ||WX - Y||_F \\text{, где: } W^TW = I$$\n",
        "\n",
        "$$I \\text{- identity matrix}$$\n",
        "\n",
        "Вместо того, чтобы снова решать задачу регрессии, мы можем найти оптимальное ортогональное преобразование, используя SVD.\n",
        "$$X^TY=U\\Sigma V^T\\text{, SVD}$$\n",
        "$$W^*=UV^T$$"
      ]
    },
    {
      "cell_type": "code",
      "source": [
        "from scipy import linalg"
      ],
      "metadata": {
        "id": "V6P5M1yEvsC0"
      },
      "execution_count": 19,
      "outputs": []
    },
    {
      "cell_type": "code",
      "execution_count": 20,
      "metadata": {
        "id": "W_Wg3JeioP8G"
      },
      "outputs": [],
      "source": [
        "def learn_transform(X_train, Y_train):\n",
        "    matrix = X_train.T @ Y_train\n",
        "    U, s, V = linalg.svd(matrix, full_matrices=True)\n",
        "    W = U @ V\n",
        "    return W"
      ]
    },
    {
      "cell_type": "code",
      "execution_count": 21,
      "metadata": {
        "id": "-BT2ESSqoP8H"
      },
      "outputs": [],
      "source": [
        "W = learn_transform(X_train, Y_train)"
      ]
    },
    {
      "cell_type": "code",
      "execution_count": 22,
      "metadata": {
        "colab": {
          "base_uri": "https://localhost:8080/"
        },
        "id": "SU40lJwIoP8H",
        "outputId": "7e98d56d-3386-459f-e55c-e9ba557c4db0"
      },
      "outputs": [
        {
          "output_type": "execute_result",
          "data": {
            "text/plain": [
              "[('апрель', 0.8237907886505127),\n",
              " ('сентябрь', 0.80497145652771),\n",
              " ('март', 0.802565336227417),\n",
              " ('июнь', 0.8021843433380127),\n",
              " ('октябрь', 0.8001737594604492),\n",
              " ('ноябрь', 0.7934484481811523),\n",
              " ('февраль', 0.7914121747016907),\n",
              " ('июль', 0.7908109426498413),\n",
              " ('август', 0.7891018390655518),\n",
              " ('декабрь', 0.7686372995376587)]"
            ]
          },
          "metadata": {},
          "execution_count": 22
        }
      ],
      "source": [
        "ru_emb.most_similar([np.matmul(uk_emb[\"серпень\"], W)])"
      ]
    },
    {
      "cell_type": "code",
      "execution_count": 29,
      "metadata": {
        "id": "I5OTabHHoP8H",
        "colab": {
          "base_uri": "https://localhost:8080/"
        },
        "outputId": "cd5c9566-e7f2-4573-9be5-adb5bdab1aec"
      },
      "outputs": [
        {
          "output_type": "execute_result",
          "data": {
            "text/plain": [
              "0.6537467700258398"
            ]
          },
          "metadata": {},
          "execution_count": 29
        }
      ],
      "source": [
        "precision(uk_ru_test, np.matmul(X_test, W))"
      ]
    },
    {
      "cell_type": "markdown",
      "metadata": {
        "id": "45wmJVJKoP8H"
      },
      "source": [
        "## UK-RU Translator"
      ]
    },
    {
      "cell_type": "markdown",
      "metadata": {
        "id": "7SvJmlhzoP8H"
      },
      "source": [
        "Now we are ready to make simple word-based translator: for earch word in source language in shared embedding space we find the nearest in target language.\n"
      ]
    },
    {
      "cell_type": "code",
      "execution_count": 24,
      "metadata": {
        "id": "dTQbYR2poP8H"
      },
      "outputs": [],
      "source": [
        "with open(\"fairy_tale.txt\", \"r\") as inpf:\n",
        "    uk_sentences = [line.rstrip().lower() for line in inpf]"
      ]
    },
    {
      "cell_type": "code",
      "source": [
        "import nltk\n",
        "from nltk import word_tokenize\n",
        "nltk.download('punkt')\n",
        "\n",
        "import string"
      ],
      "metadata": {
        "colab": {
          "base_uri": "https://localhost:8080/"
        },
        "id": "NL2RzEn3xV74",
        "outputId": "990fd2b4-be57-4ac6-a8b6-03c778b796ca"
      },
      "execution_count": 25,
      "outputs": [
        {
          "output_type": "stream",
          "name": "stderr",
          "text": [
            "[nltk_data] Downloading package punkt to /root/nltk_data...\n",
            "[nltk_data]   Unzipping tokenizers/punkt.zip.\n"
          ]
        }
      ]
    },
    {
      "cell_type": "code",
      "execution_count": 26,
      "metadata": {
        "id": "qdbB7IXgoP8H"
      },
      "outputs": [],
      "source": [
        "def translate(sentence):\n",
        "    result = []\n",
        "    for word in word_tokenize(sentence):\n",
        "      if word in uk_emb.vocab:\n",
        "        predicted = ru_emb.most_similar([np.matmul(uk_emb[word], W)])[0][0]\n",
        "        result.append(predicted)\n",
        "    return ' '.join(result)"
      ]
    },
    {
      "cell_type": "code",
      "execution_count": 27,
      "metadata": {
        "id": "BjtVlpJpoP8I"
      },
      "outputs": [],
      "source": [
        "assert translate(\".\") == \".\"\n",
        "assert translate(\"1, 3\") == \"1 , 3\"\n",
        "assert translate(\"кіт зловив мишу\") == \"кот поймал мышку\""
      ]
    },
    {
      "cell_type": "code",
      "execution_count": 28,
      "metadata": {
        "colab": {
          "base_uri": "https://localhost:8080/"
        },
        "id": "aGP90ZEeoP8I",
        "outputId": "dd2ec260-d35f-4d8a-9388-6f361be8740c"
      },
      "outputs": [
        {
          "output_type": "stream",
          "name": "stdout",
          "text": [
            "src: лисичка - сестричка і вовк - панібрат\n",
            "dst: лисичка – сестричка и волк –\n",
            "\n",
            "src: як була собі лисичка та зробила хатку, та й живе. а це приходять холоди. от лисичка замерзла та й побігла в село вогню добувать, щоб витопити. прибігає до одної баби та й каже:\n",
            "dst: как была себе лисичка и сделала избушку , и и живет . а оно приходят морозы . из лисичка замерзла и и побежала во село огня , чтобы . прибегает к одной бабы и и говорит :\n",
            "\n",
            "src: — здорові були, бабусю! з неділею... позичте мені огню, я вам одслужу.\n",
            "dst: — здоровые были , бабушку ! со воскресеньем ... мне огня , мной тебе .\n",
            "\n",
            "src: — добре, — каже, — лисичко - сестричко. сідай погрійся трохи, поки я пиріжечки повибираю з печі!\n",
            "dst: — хорошо , — говорит , — – сестричка . садись немного , пока мной пирожки со печи !\n",
            "\n",
            "src: а баба макові пиріжки пекла. от баба вибирає пиріжки та на столі кладе, щоб прохололи; а лисичка підгляділа та за пиріг, та з хати... виїла мачок із середини, а туди напхала сміттячка, стулила та й біжить.\n",
            "dst: а бабка маковые пирожки ада . из бабка выбирает пирожки и по столе кладет , чтобы ; а лисичка и за пирог , и со хаты ... со середины , а туда , и и бежит .\n",
            "\n",
            "src: от біжить, а хлопці товар женуть до води.\n",
            "dst: из бежит , а парни товар гонят к воды .\n",
            "\n",
            "src: — здорові були, хлопці!\n",
            "dst: — здоровые были , парни !\n",
            "\n",
            "src: — здорова, лисичко - сестричко!\n",
            "dst: — здоровая , – сестричка !\n",
            "\n",
            "src: — проміняйте мені бичка - третячка на маковий пиріжок!\n",
            "dst: — мне бычка – по маковый пирожок !\n",
            "\n",
            "src: — добре, — кажуть.\n",
            "dst: — хорошо , — дескать .\n",
            "\n"
          ]
        }
      ],
      "source": [
        "for sentence in uk_sentences[:10]:\n",
        "    print(\"src: {}\\ndst: {}\\n\".format(sentence, translate(sentence)))"
      ]
    },
    {
      "cell_type": "code",
      "source": [],
      "metadata": {
        "id": "Nhjc_atqWvka"
      },
      "execution_count": 28,
      "outputs": []
    }
  ],
  "metadata": {
    "kernelspec": {
      "display_name": "Python 3",
      "language": "python",
      "name": "python3"
    },
    "language_info": {
      "codemirror_mode": {
        "name": "ipython",
        "version": 3
      },
      "file_extension": ".py",
      "mimetype": "text/x-python",
      "name": "python",
      "nbconvert_exporter": "python",
      "pygments_lexer": "ipython3",
      "version": "3.4.3"
    },
    "colab": {
      "provenance": [],
      "toc_visible": true
    }
  },
  "nbformat": 4,
  "nbformat_minor": 0
}