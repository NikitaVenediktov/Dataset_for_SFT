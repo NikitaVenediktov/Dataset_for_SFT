{
 "cells": [
  {
   "cell_type": "code",
   "execution_count": 1,
   "id": "8090ddba",
   "metadata": {
    "ExecuteTime": {
     "end_time": "2023-05-21T19:54:53.285650Z",
     "start_time": "2023-05-21T19:54:31.845348Z"
    },
    "scrolled": true
   },
   "outputs": [
    {
     "name": "stdout",
     "output_type": "stream",
     "text": [
      "Requirement already satisfied: transformers in /opt/conda/lib/python3.8/site-packages (4.8.1)\n",
      "Requirement already satisfied: numpy in /opt/conda/lib/python3.8/site-packages (1.19.2)\n",
      "Requirement already satisfied: pyyaml in /opt/conda/lib/python3.8/site-packages (from transformers) (5.4.1)\n",
      "Requirement already satisfied: sacremoses in /opt/conda/lib/python3.8/site-packages (from transformers) (0.0.45)\n",
      "Requirement already satisfied: requests in /opt/conda/lib/python3.8/site-packages (from transformers) (2.30.0)\n",
      "Requirement already satisfied: huggingface-hub==0.0.12 in /opt/conda/lib/python3.8/site-packages (from transformers) (0.0.12)\n",
      "Requirement already satisfied: filelock in /opt/conda/lib/python3.8/site-packages (from transformers) (3.0.12)\n",
      "Requirement already satisfied: regex!=2019.12.17 in /opt/conda/lib/python3.8/site-packages (from transformers) (2023.5.5)\n",
      "Requirement already satisfied: packaging in /opt/conda/lib/python3.8/site-packages (from transformers) (20.9)\n",
      "Requirement already satisfied: tqdm>=4.27 in /opt/conda/lib/python3.8/site-packages (from transformers) (4.65.0)\n",
      "Requirement already satisfied: tokenizers<0.11,>=0.10.1 in /opt/conda/lib/python3.8/site-packages (from transformers) (0.10.3)\n",
      "Requirement already satisfied: typing-extensions in /opt/conda/lib/python3.8/site-packages (from huggingface-hub==0.0.12->transformers) (3.7.4.3)\n",
      "Requirement already satisfied: pyparsing>=2.0.2 in /opt/conda/lib/python3.8/site-packages (from packaging->transformers) (2.4.7)\n",
      "Requirement already satisfied: certifi>=2017.4.17 in /opt/conda/lib/python3.8/site-packages (from requests->transformers) (2023.5.7)\n",
      "Requirement already satisfied: urllib3<3,>=1.21.1 in /opt/conda/lib/python3.8/site-packages (from requests->transformers) (2.0.2)\n",
      "Requirement already satisfied: charset-normalizer<4,>=2 in /opt/conda/lib/python3.8/site-packages (from requests->transformers) (3.1.0)\n",
      "Requirement already satisfied: idna<4,>=2.5 in /opt/conda/lib/python3.8/site-packages (from requests->transformers) (3.4)\n",
      "Requirement already satisfied: click in /opt/conda/lib/python3.8/site-packages (from sacremoses->transformers) (7.1.2)\n",
      "Requirement already satisfied: six in /opt/conda/lib/python3.8/site-packages (from sacremoses->transformers) (1.15.0)\n",
      "Requirement already satisfied: joblib in /opt/conda/lib/python3.8/site-packages (from sacremoses->transformers) (1.2.0)\n",
      "\u001b[33mWARNING: Running pip as the 'root' user can result in broken permissions and conflicting behaviour with the system package manager. It is recommended to use a virtual environment instead: https://pip.pypa.io/warnings/venv\u001b[0m\n"
     ]
    }
   ],
   "source": [
    "!pip install transformers numpy"
   ]
  },
  {
   "cell_type": "markdown",
   "id": "2eb76b8c",
   "metadata": {},
   "source": [
    "## [rut5-base-paraphraser](https://huggingface.co/cointegrated/rut5-base-paraphraser)"
   ]
  },
  {
   "cell_type": "code",
   "execution_count": 2,
   "id": "61a0b728",
   "metadata": {
    "ExecuteTime": {
     "end_time": "2023-05-21T19:55:22.345122Z",
     "start_time": "2023-05-21T19:54:53.292338Z"
    }
   },
   "outputs": [],
   "source": [
    "from transformers import T5ForConditionalGeneration, T5Tokenizer\n",
    "\n",
    "MODEL_NAME = 'cointegrated/rut5-base-paraphraser'\n",
    "\n",
    "model = T5ForConditionalGeneration.from_pretrained(MODEL_NAME)\n",
    "tokenizer = T5Tokenizer.from_pretrained(MODEL_NAME)\n",
    "model.cuda();\n",
    "model.eval();\n",
    "\n",
    "def paraphrase(text, beams=3, grams=3, do_sample=False):\n",
    "    x = tokenizer(text, return_tensors='pt', padding=True).to(model.device)\n",
    "    out = model.generate(**x, encoder_no_repeat_ngram_size=grams, num_beams=beams,\n",
    "                         max_length=52, min_length=40,  do_sample=do_sample,\n",
    "                         top_p=0.9)\n",
    "    return tokenizer.decode(out[0], skip_special_tokens=True)\n",
    "\n",
    "# print(paraphrase('Каждый охотник желает знать, где сидит фазан.'))\n",
    "# Все охотники хотят знать где фазан сидит."
   ]
  },
  {
   "cell_type": "code",
   "execution_count": 3,
   "id": "c5cebb39",
   "metadata": {
    "ExecuteTime": {
     "end_time": "2023-05-21T19:55:29.381075Z",
     "start_time": "2023-05-21T19:55:22.351579Z"
    },
    "scrolled": false
   },
   "outputs": [
    {
     "name": "stdout",
     "output_type": "stream",
     "text": [
      "(49988, 2)\n"
     ]
    },
    {
     "data": {
      "text/html": [
       "<div>\n",
       "<style scoped>\n",
       "    .dataframe tbody tr th:only-of-type {\n",
       "        vertical-align: middle;\n",
       "    }\n",
       "\n",
       "    .dataframe tbody tr th {\n",
       "        vertical-align: top;\n",
       "    }\n",
       "\n",
       "    .dataframe thead th {\n",
       "        text-align: right;\n",
       "    }\n",
       "</style>\n",
       "<table border=\"1\" class=\"dataframe\">\n",
       "  <thead>\n",
       "    <tr style=\"text-align: right;\">\n",
       "      <th></th>\n",
       "      <th>sumy_LSA</th>\n",
       "      <th>sumy_TextRank</th>\n",
       "    </tr>\n",
       "  </thead>\n",
       "  <tbody>\n",
       "    <tr>\n",
       "      <th>100</th>\n",
       "      <td>В столовую крупной компании на Московском шос...</td>\n",
       "      <td>В столовую крупной компании на Московском шос...</td>\n",
       "    </tr>\n",
       "    <tr>\n",
       "      <th>101</th>\n",
       "      <td>Дополнительные работы по обслуживанию иных ин...</td>\n",
       "      <td>Монтаж инженерных систем водоснабжения. Допол...</td>\n",
       "    </tr>\n",
       "    <tr>\n",
       "      <th>102</th>\n",
       "      <td>Требуются рабочие на производство. Работа на ...</td>\n",
       "      <td>Требуются рабочие на производство. с 7 до 19....</td>\n",
       "    </tr>\n",
       "    <tr>\n",
       "      <th>103</th>\n",
       "      <td>Требуются рабочие на производство. Наладчик м...</td>\n",
       "      <td>Требуются рабочие на производство. Наладчик м...</td>\n",
       "    </tr>\n",
       "    <tr>\n",
       "      <th>104</th>\n",
       "      <td>ходатайства и пр. Подача документов в различн...</td>\n",
       "      <td>ходатайства и пр. Подача документов в различн...</td>\n",
       "    </tr>\n",
       "  </tbody>\n",
       "</table>\n",
       "</div>"
      ],
      "text/plain": [
       "                                              sumy_LSA  \\\n",
       "100   В столовую крупной компании на Московском шос...   \n",
       "101   Дополнительные работы по обслуживанию иных ин...   \n",
       "102   Требуются рабочие на производство. Работа на ...   \n",
       "103   Требуются рабочие на производство. Наладчик м...   \n",
       "104   ходатайства и пр. Подача документов в различн...   \n",
       "\n",
       "                                         sumy_TextRank  \n",
       "100   В столовую крупной компании на Московском шос...  \n",
       "101   Монтаж инженерных систем водоснабжения. Допол...  \n",
       "102   Требуются рабочие на производство. с 7 до 19....  \n",
       "103   Требуются рабочие на производство. Наладчик м...  \n",
       "104   ходатайства и пр. Подача документов в различн...  "
      ]
     },
     "execution_count": 3,
     "metadata": {},
     "output_type": "execute_result"
    }
   ],
   "source": [
    "import pandas as pd\n",
    "\n",
    "df_to_abstractive_summarize = pd.read_csv('extract_summ_final.csv') \\\n",
    "                              .drop(['full_text', 'description', 'to_summarization'],axis = 1)\n",
    "\n",
    "print(df_to_abstractive_summarize.shape)\n",
    "df_to_abstractive_summarize[100:105]"
   ]
  },
  {
   "cell_type": "code",
   "execution_count": 4,
   "id": "bb168217",
   "metadata": {
    "ExecuteTime": {
     "end_time": "2023-05-21T19:55:29.723674Z",
     "start_time": "2023-05-21T19:55:29.385026Z"
    }
   },
   "outputs": [
    {
     "ename": "TypeError",
     "evalue": "object of type 'float' has no len()",
     "output_type": "error",
     "traceback": [
      "\u001b[0;31m---------------------------------------------------------------------------\u001b[0m",
      "\u001b[0;31mTypeError\u001b[0m                                 Traceback (most recent call last)",
      "\u001b[0;32m<ipython-input-4-5c34d6f32420>\u001b[0m in \u001b[0;36m<module>\u001b[0;34m\u001b[0m\n\u001b[1;32m     25\u001b[0m \u001b[0mlenght\u001b[0m \u001b[0;34m=\u001b[0m \u001b[0mdf_to_abstractive_summarize\u001b[0m\u001b[0;34m.\u001b[0m\u001b[0mshape\u001b[0m\u001b[0;34m[\u001b[0m\u001b[0;36m0\u001b[0m\u001b[0;34m]\u001b[0m\u001b[0;34m\u001b[0m\u001b[0;34m\u001b[0m\u001b[0m\n\u001b[1;32m     26\u001b[0m \u001b[0;34m\u001b[0m\u001b[0m\n\u001b[0;32m---> 27\u001b[0;31m \u001b[0mdf_200_300\u001b[0m \u001b[0;34m=\u001b[0m \u001b[0mdf_to_abstractive_summarize\u001b[0m\u001b[0;34m[\u001b[0m\u001b[0mdf_to_abstractive_summarize\u001b[0m\u001b[0;34m[\u001b[0m\u001b[0;34m'sumy_LSA'\u001b[0m\u001b[0;34m]\u001b[0m\u001b[0;34m.\u001b[0m\u001b[0mapply\u001b[0m\u001b[0;34m(\u001b[0m\u001b[0mmin_max_200_300\u001b[0m\u001b[0;34m)\u001b[0m\u001b[0;34m]\u001b[0m\u001b[0;34m.\u001b[0m\u001b[0mshape\u001b[0m\u001b[0;34m[\u001b[0m\u001b[0;36m0\u001b[0m\u001b[0;34m]\u001b[0m\u001b[0;34m\u001b[0m\u001b[0;34m\u001b[0m\u001b[0m\n\u001b[0m\u001b[1;32m     28\u001b[0m \u001b[0mdf_100_200\u001b[0m \u001b[0;34m=\u001b[0m \u001b[0mdf_to_abstractive_summarize\u001b[0m\u001b[0;34m[\u001b[0m\u001b[0mdf_to_abstractive_summarize\u001b[0m\u001b[0;34m[\u001b[0m\u001b[0;34m'sumy_LSA'\u001b[0m\u001b[0;34m]\u001b[0m\u001b[0;34m.\u001b[0m\u001b[0mapply\u001b[0m\u001b[0;34m(\u001b[0m\u001b[0mmin_max_100_200\u001b[0m\u001b[0;34m)\u001b[0m\u001b[0;34m]\u001b[0m\u001b[0;34m.\u001b[0m\u001b[0mshape\u001b[0m\u001b[0;34m[\u001b[0m\u001b[0;36m0\u001b[0m\u001b[0;34m]\u001b[0m\u001b[0;34m\u001b[0m\u001b[0;34m\u001b[0m\u001b[0m\n\u001b[1;32m     29\u001b[0m \u001b[0mdf_150_200\u001b[0m \u001b[0;34m=\u001b[0m \u001b[0mdf_to_abstractive_summarize\u001b[0m\u001b[0;34m[\u001b[0m\u001b[0mdf_to_abstractive_summarize\u001b[0m\u001b[0;34m[\u001b[0m\u001b[0;34m'sumy_LSA'\u001b[0m\u001b[0;34m]\u001b[0m\u001b[0;34m.\u001b[0m\u001b[0mapply\u001b[0m\u001b[0;34m(\u001b[0m\u001b[0mmin_max_150_200\u001b[0m\u001b[0;34m)\u001b[0m\u001b[0;34m]\u001b[0m\u001b[0;34m.\u001b[0m\u001b[0mshape\u001b[0m\u001b[0;34m[\u001b[0m\u001b[0;36m0\u001b[0m\u001b[0;34m]\u001b[0m\u001b[0;34m\u001b[0m\u001b[0;34m\u001b[0m\u001b[0m\n",
      "\u001b[0;32m/opt/conda/lib/python3.8/site-packages/pandas/core/series.py\u001b[0m in \u001b[0;36mapply\u001b[0;34m(self, func, convert_dtype, args, **kwds)\u001b[0m\n\u001b[1;32m   4136\u001b[0m             \u001b[0;32melse\u001b[0m\u001b[0;34m:\u001b[0m\u001b[0;34m\u001b[0m\u001b[0;34m\u001b[0m\u001b[0m\n\u001b[1;32m   4137\u001b[0m                 \u001b[0mvalues\u001b[0m \u001b[0;34m=\u001b[0m \u001b[0mself\u001b[0m\u001b[0;34m.\u001b[0m\u001b[0mastype\u001b[0m\u001b[0;34m(\u001b[0m\u001b[0mobject\u001b[0m\u001b[0;34m)\u001b[0m\u001b[0;34m.\u001b[0m\u001b[0m_values\u001b[0m\u001b[0;34m\u001b[0m\u001b[0;34m\u001b[0m\u001b[0m\n\u001b[0;32m-> 4138\u001b[0;31m                 \u001b[0mmapped\u001b[0m \u001b[0;34m=\u001b[0m \u001b[0mlib\u001b[0m\u001b[0;34m.\u001b[0m\u001b[0mmap_infer\u001b[0m\u001b[0;34m(\u001b[0m\u001b[0mvalues\u001b[0m\u001b[0;34m,\u001b[0m \u001b[0mf\u001b[0m\u001b[0;34m,\u001b[0m \u001b[0mconvert\u001b[0m\u001b[0;34m=\u001b[0m\u001b[0mconvert_dtype\u001b[0m\u001b[0;34m)\u001b[0m\u001b[0;34m\u001b[0m\u001b[0;34m\u001b[0m\u001b[0m\n\u001b[0m\u001b[1;32m   4139\u001b[0m \u001b[0;34m\u001b[0m\u001b[0m\n\u001b[1;32m   4140\u001b[0m         \u001b[0;32mif\u001b[0m \u001b[0mlen\u001b[0m\u001b[0;34m(\u001b[0m\u001b[0mmapped\u001b[0m\u001b[0;34m)\u001b[0m \u001b[0;32mand\u001b[0m \u001b[0misinstance\u001b[0m\u001b[0;34m(\u001b[0m\u001b[0mmapped\u001b[0m\u001b[0;34m[\u001b[0m\u001b[0;36m0\u001b[0m\u001b[0;34m]\u001b[0m\u001b[0;34m,\u001b[0m \u001b[0mSeries\u001b[0m\u001b[0;34m)\u001b[0m\u001b[0;34m:\u001b[0m\u001b[0;34m\u001b[0m\u001b[0;34m\u001b[0m\u001b[0m\n",
      "\u001b[0;32mpandas/_libs/lib.pyx\u001b[0m in \u001b[0;36mpandas._libs.lib.map_infer\u001b[0;34m()\u001b[0m\n",
      "\u001b[0;32m<ipython-input-4-5c34d6f32420>\u001b[0m in \u001b[0;36mmin_max_200_300\u001b[0;34m(input)\u001b[0m\n\u001b[1;32m      1\u001b[0m \u001b[0;32mdef\u001b[0m \u001b[0mmin_max_200_300\u001b[0m\u001b[0;34m(\u001b[0m\u001b[0minput\u001b[0m\u001b[0;34m)\u001b[0m\u001b[0;34m:\u001b[0m\u001b[0;34m\u001b[0m\u001b[0;34m\u001b[0m\u001b[0m\n\u001b[0;32m----> 2\u001b[0;31m     \u001b[0;32mif\u001b[0m \u001b[0;36m200\u001b[0m \u001b[0;34m<\u001b[0m \u001b[0mlen\u001b[0m\u001b[0;34m(\u001b[0m\u001b[0minput\u001b[0m\u001b[0;34m)\u001b[0m \u001b[0;34m<\u001b[0m \u001b[0;36m300\u001b[0m\u001b[0;34m:\u001b[0m\u001b[0;34m\u001b[0m\u001b[0;34m\u001b[0m\u001b[0m\n\u001b[0m\u001b[1;32m      3\u001b[0m         \u001b[0;32mreturn\u001b[0m \u001b[0;32mTrue\u001b[0m\u001b[0;34m\u001b[0m\u001b[0;34m\u001b[0m\u001b[0m\n\u001b[1;32m      4\u001b[0m     \u001b[0;32mreturn\u001b[0m \u001b[0;32mFalse\u001b[0m\u001b[0;34m\u001b[0m\u001b[0;34m\u001b[0m\u001b[0m\n\u001b[1;32m      5\u001b[0m \u001b[0;34m\u001b[0m\u001b[0m\n",
      "\u001b[0;31mTypeError\u001b[0m: object of type 'float' has no len()"
     ]
    }
   ],
   "source": [
    "def min_max_200_300(input):\n",
    "    if 200 < len(input) < 300:\n",
    "        return True\n",
    "    return False\n",
    "\n",
    "def min_max_150_200(input):\n",
    "    if 150 < len(input) < 200:\n",
    "        return True\n",
    "    return False\n",
    "\n",
    "def min_max_100_200(input):\n",
    "    if 100 < len(input) < 200:\n",
    "        return True\n",
    "    return False\n",
    "\n",
    "def min_max_300_400(input):\n",
    "    if 300 < len(input) < 400:\n",
    "        return True\n",
    "    return False\n",
    "def min_max_0_100(input):\n",
    "    if 0 < len(input) < 100:\n",
    "        return True\n",
    "    return False\n",
    "\n",
    "lenght = df_to_abstractive_summarize.shape[0]\n",
    "\n",
    "df_200_300 = df_to_abstractive_summarize[df_to_abstractive_summarize['sumy_LSA'].apply(min_max_200_300)].shape[0]\n",
    "df_100_200 = df_to_abstractive_summarize[df_to_abstractive_summarize['sumy_LSA'].apply(min_max_100_200)].shape[0]\n",
    "df_150_200 = df_to_abstractive_summarize[df_to_abstractive_summarize['sumy_LSA'].apply(min_max_150_200)].shape[0]\n",
    "df_300_400 = df_to_abstractive_summarize[df_to_abstractive_summarize['sumy_LSA'].apply(min_max_300_400)].shape[0]\n",
    "df_0_100 = df_to_abstractive_summarize[df_to_abstractive_summarize['sumy_LSA'].apply(min_max_0_100)].shape[0]\n",
    "print('3 предложения после экстракции')\n",
    "print('Длинна 200-300 символов:', df_200_300/lenght*100, '% процентов')\n",
    "print('Длинна 100-200 символов:', df_100_200/lenght*100, '% процентов')\n",
    "print('Длинна 150-200 символов:', df_150_200/lenght*100, '% процентов')\n",
    "print('Длинна 300-400 символов:', df_300_400/lenght*100, '% процентов')\n",
    "print('Длинна 0-100 символов:', df_0_100/lenght*100, '% процентов')"
   ]
  },
  {
   "attachments": {
    "image-2.png": {
     "image/png": "[encoded data removed]"
    },
    "image-3.png": {
     "image/png": "[encoded data removed]"
    },
    "image.png": {
     "image/png": "[encoded data removed]"
    }
   },
   "cell_type": "markdown",
   "id": "4a3dd523",
   "metadata": {},
   "source": [
    "## проверил для LSA\n",
    "![image.png](attachment:image.png)\n",
    "![image-2.png](attachment:image-2.png)\n",
    "![image-3.png](attachment:image-3.png)\n"
   ]
  },
  {
   "cell_type": "code",
   "execution_count": 16,
   "id": "f67988e9",
   "metadata": {
    "ExecuteTime": {
     "end_time": "2023-05-22T12:10:00.203170Z",
     "start_time": "2023-05-22T12:10:00.195322Z"
    }
   },
   "outputs": [],
   "source": [
    "def min_max_paraphrase(input):\n",
    "    if type(input) == str:\n",
    "        if 200 < len(input):\n",
    "            return paraphrase(input)\n",
    "            \n",
    "    return False\n",
    "\n",
    "# df_to_abstractive_summarize = df_to_abstractive_summarize[df_to_abstractive_summarize['sumy_LSA'].apply(min_max)]\n"
   ]
  },
  {
   "cell_type": "code",
   "execution_count": null,
   "id": "6760ad63",
   "metadata": {
    "ExecuteTime": {
     "start_time": "2023-05-22T12:10:02.607Z"
    },
    "scrolled": true
   },
   "outputs": [],
   "source": [
    "%%time\n",
    "resume_count = 10\n",
    "\n",
    "df_to_abstractive_summarize['rut5-base-paraphraser(LSA)'] = df_to_abstractive_summarize['sumy_LSA'].apply(min_max_paraphrase)\n",
    "df_to_abstractive_summarize['rut5-base-paraphraser(TextRank)'] = df_to_abstractive_summarize['sumy_TextRank'].apply(min_max_paraphrase)\n",
    "\n",
    "# df_to_abstractive_summarize['rut5-base-paraphraser(LexRank)'] = df_to_abstractive_summarize['sumy_LexRank'][:resume_count].apply(paraphrase)\n",
    "# df_to_abstractive_summarize['rut5-base-paraphraser(Luhn)'] = df_to_abstractive_summarize['sumy_Luhn'][:resume_count].apply(paraphrase)\n",
    "# df_to_abstractive_summarize['rut5-base-paraphraser(KLdiv)'] = df_to_abstractive_summarize['sumy_KLdiv'][:resume_count].apply(paraphrase)\n",
    "\n",
    "# df_extract_summarization['sumy_Luhn'] = df_extract_summarization['to_summarization'][:resume_count].apply(summarization_pipline_sumy_Luhn)\n",
    "# df_extract_summarization['sumy_LSA'] = df_extract_summarization['to_summarization'][:resume_count].apply(summarization_pipline_sumy_LSA)\n",
    "# df_extract_summarization['sumy_TextRank'] = df_extract_summarization['to_summarization'][:resume_count].apply(summarization_pipline_sumy_TextRank)\n",
    "# df_extract_summarization['sumy_KLdiv'] = df_extract_summarization['to_summarization'][:resume_count].apply(summarization_pipline_sumy_KLdiv)\n",
    "\n",
    "# df_to_abstractive_summarize.head()\n",
    "# df_to_abstractive_summarize[5:10]"
   ]
  },
  {
   "cell_type": "code",
   "execution_count": 9,
   "id": "9fa9cba3",
   "metadata": {
    "ExecuteTime": {
     "end_time": "2023-05-22T12:05:54.365390Z",
     "start_time": "2023-05-22T12:05:54.307670Z"
    }
   },
   "outputs": [
    {
     "data": {
      "text/html": [
       "<div>\n",
       "<style scoped>\n",
       "    .dataframe tbody tr th:only-of-type {\n",
       "        vertical-align: middle;\n",
       "    }\n",
       "\n",
       "    .dataframe tbody tr th {\n",
       "        vertical-align: top;\n",
       "    }\n",
       "\n",
       "    .dataframe thead th {\n",
       "        text-align: right;\n",
       "    }\n",
       "</style>\n",
       "<table border=\"1\" class=\"dataframe\">\n",
       "  <thead>\n",
       "    <tr style=\"text-align: right;\">\n",
       "      <th></th>\n",
       "      <th>sumy_LSA</th>\n",
       "      <th>sumy_TextRank</th>\n",
       "    </tr>\n",
       "  </thead>\n",
       "  <tbody>\n",
       "    <tr>\n",
       "      <th>0</th>\n",
       "      <td>выкладка товара. поддержание чистоты. Смена с...</td>\n",
       "      <td>выкладка товара. поддержание чистоты. Смена с...</td>\n",
       "    </tr>\n",
       "    <tr>\n",
       "      <th>1</th>\n",
       "      <td>Приемка и контроль качества сырья. участие в ...</td>\n",
       "      <td>Приемка и контроль качества сырья. участие в ...</td>\n",
       "    </tr>\n",
       "    <tr>\n",
       "      <th>2</th>\n",
       "      <td>В связи с расширением объема услуг. в агентст...</td>\n",
       "      <td>в агентство недвижимости требуется кадастровы...</td>\n",
       "    </tr>\n",
       "    <tr>\n",
       "      <th>3</th>\n",
       "      <td>Вот уже 15 лет все платья создаются в Ростове...</td>\n",
       "      <td>Выпускается 12 коллекций в год. до 80 различн...</td>\n",
       "    </tr>\n",
       "    <tr>\n",
       "      <th>4</th>\n",
       "      <td>Пошив чехлов на мягкую мебель. можно обучение...</td>\n",
       "      <td>Пошив чехлов на мягкую мебель. можно обучение...</td>\n",
       "    </tr>\n",
       "    <tr>\n",
       "      <th>...</th>\n",
       "      <td>...</td>\n",
       "      <td>...</td>\n",
       "    </tr>\n",
       "    <tr>\n",
       "      <th>49983</th>\n",
       "      <td>Возможность карьерного роста до начальника от...</td>\n",
       "      <td>приглашает на работу рекрутера. Подбор кандид...</td>\n",
       "    </tr>\n",
       "    <tr>\n",
       "      <th>49984</th>\n",
       "      <td>работа со входящими заявками. контроль и веде...</td>\n",
       "      <td>работа со входящими заявками. контроль отгруз...</td>\n",
       "    </tr>\n",
       "    <tr>\n",
       "      <th>49985</th>\n",
       "      <td>порядка поиска повреждений и проведения авари...</td>\n",
       "      <td>ВОЛС-ВЛ. измерение технических характеристик ...</td>\n",
       "    </tr>\n",
       "    <tr>\n",
       "      <th>49986</th>\n",
       "      <td>специализируется на продаже натуральных проду...</td>\n",
       "      <td>Плюсы работы у нас. Стабильность и уверенност...</td>\n",
       "    </tr>\n",
       "    <tr>\n",
       "      <th>49987</th>\n",
       "      <td>поиск и пополнение информации в базе эксель с...</td>\n",
       "      <td>поиск и пополнение информации в базе эксель с...</td>\n",
       "    </tr>\n",
       "  </tbody>\n",
       "</table>\n",
       "<p>49988 rows × 2 columns</p>\n",
       "</div>"
      ],
      "text/plain": [
       "                                                sumy_LSA  \\\n",
       "0       выкладка товара. поддержание чистоты. Смена с...   \n",
       "1       Приемка и контроль качества сырья. участие в ...   \n",
       "2       В связи с расширением объема услуг. в агентст...   \n",
       "3       Вот уже 15 лет все платья создаются в Ростове...   \n",
       "4       Пошив чехлов на мягкую мебель. можно обучение...   \n",
       "...                                                  ...   \n",
       "49983   Возможность карьерного роста до начальника от...   \n",
       "49984   работа со входящими заявками. контроль и веде...   \n",
       "49985   порядка поиска повреждений и проведения авари...   \n",
       "49986   специализируется на продаже натуральных проду...   \n",
       "49987   поиск и пополнение информации в базе эксель с...   \n",
       "\n",
       "                                           sumy_TextRank  \n",
       "0       выкладка товара. поддержание чистоты. Смена с...  \n",
       "1       Приемка и контроль качества сырья. участие в ...  \n",
       "2       в агентство недвижимости требуется кадастровы...  \n",
       "3       Выпускается 12 коллекций в год. до 80 различн...  \n",
       "4       Пошив чехлов на мягкую мебель. можно обучение...  \n",
       "...                                                  ...  \n",
       "49983   приглашает на работу рекрутера. Подбор кандид...  \n",
       "49984   работа со входящими заявками. контроль отгруз...  \n",
       "49985   ВОЛС-ВЛ. измерение технических характеристик ...  \n",
       "49986   Плюсы работы у нас. Стабильность и уверенност...  \n",
       "49987   поиск и пополнение информации в базе эксель с...  \n",
       "\n",
       "[49988 rows x 2 columns]"
      ]
     },
     "execution_count": 9,
     "metadata": {},
     "output_type": "execute_result"
    }
   ],
   "source": [
    "df_to_abstractive_summarize"
   ]
  },
  {
   "cell_type": "code",
   "execution_count": null,
   "id": "4ba152e4",
   "metadata": {
    "ExecuteTime": {
     "end_time": "2023-05-21T19:55:29.731045Z",
     "start_time": "2023-05-21T19:54:33.143Z"
    },
    "scrolled": true
   },
   "outputs": [],
   "source": [
    "# number = 41\n",
    "# print(len(df_to_abstractive_summarize['rut5-base-paraphraser(LSA)'][number]))\n",
    "# print(len(df_to_abstractive_summarize['rut5-base-paraphraser(TextRank)'][number]))"
   ]
  },
  {
   "cell_type": "code",
   "execution_count": null,
   "id": "4af279ce",
   "metadata": {
    "ExecuteTime": {
     "end_time": "2023-05-21T19:55:29.733172Z",
     "start_time": "2023-05-21T19:54:33.157Z"
    }
   },
   "outputs": [],
   "source": [
    "# df_to_abstractive_summarize[:10]"
   ]
  },
  {
   "cell_type": "markdown",
   "id": "bca29095",
   "metadata": {},
   "source": [
    "#  итог от Никиты\n",
    "\n",
    "    Лучше экстрактивно брать 3 предложения.\n",
    "    100 вакансий 5 методов  = 15 минут\n",
    "    А после абстракции лучше всего результат у TextRank, LSA "
   ]
  },
  {
   "cell_type": "code",
   "execution_count": null,
   "id": "8932aba1",
   "metadata": {
    "ExecuteTime": {
     "end_time": "2023-05-21T19:55:29.735378Z",
     "start_time": "2023-05-21T19:54:33.173Z"
    },
    "scrolled": true
   },
   "outputs": [],
   "source": [
    "# pd.set_option('display.max_colwidth', 300)\n",
    "# df_to_abstractive_summarize[['sumy_LSA','rut5-base-paraphraser(LSA)']].head()"
   ]
  },
  {
   "cell_type": "code",
   "execution_count": 7,
   "id": "e9e8a9ba",
   "metadata": {
    "ExecuteTime": {
     "end_time": "2023-05-22T09:30:05.199967Z",
     "start_time": "2023-05-22T09:30:04.083377Z"
    }
   },
   "outputs": [],
   "source": [
    "df_to_abstractive_summarize.to_csv('abstract_summarizer_final.csv', index=False)"
   ]
  },
  {
   "cell_type": "code",
   "execution_count": null,
   "id": "f1b74d88",
   "metadata": {},
   "outputs": [],
   "source": []
  }
 ],
 "metadata": {
  "kernelspec": {
   "display_name": "Python 3",
   "language": "python",
   "name": "python3"
  },
  "language_info": {
   "codemirror_mode": {
    "name": "ipython",
    "version": 3
   },
   "file_extension": ".py",
   "mimetype": "text/x-python",
   "name": "python",
   "nbconvert_exporter": "python",
   "pygments_lexer": "ipython3",
   "version": "3.8.10"
  },
  "toc": {
   "base_numbering": 1,
   "nav_menu": {},
   "number_sections": false,
   "sideBar": true,
   "skip_h1_title": false,
   "title_cell": "Table of Contents",
   "title_sidebar": "Contents",
   "toc_cell": false,
   "toc_position": {},
   "toc_section_display": true,
   "toc_window_display": false
  }
 },
 "nbformat": 4,
 "nbformat_minor": 5
}
